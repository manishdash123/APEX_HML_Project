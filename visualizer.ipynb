{
 "cells": [
  {
   "cell_type": "markdown",
   "metadata": {},
   "source": [
    "## Topological Visualizations"
   ]
  },
  {
   "cell_type": "markdown",
   "metadata": {},
   "source": [
    "### Basic 3D cube visualization"
   ]
  },
  {
   "cell_type": "code",
   "execution_count": 92,
   "metadata": {},
   "outputs": [
    {
     "data": {
      "application/vnd.plotly.v1+json": {
       "config": {
        "plotlyServerURL": "https://plot.ly"
       },
       "data": [
        {
         "marker": {
          "color": "blue",
          "size": 10
         },
         "mode": "markers",
         "type": "scatter3d",
         "x": [
          0,
          1,
          0,
          0,
          1,
          0,
          1,
          1
         ],
         "y": [
          0,
          0,
          1,
          0,
          0,
          1,
          1,
          1
         ],
         "z": [
          0,
          0,
          0,
          1,
          1,
          1,
          0,
          1
         ]
        },
        {
         "line": {
          "color": "black",
          "width": 1
         },
         "mode": "lines",
         "type": "scatter3d",
         "x": [
          0,
          1
         ],
         "y": [
          0,
          0
         ],
         "z": [
          0,
          0
         ]
        },
        {
         "anchor": "tip",
         "showscale": false,
         "sizemode": "absolute",
         "sizeref": 0.2,
         "type": "cone",
         "u": [
          1
         ],
         "v": [
          0
         ],
         "w": [
          0
         ],
         "x": [
          1
         ],
         "y": [
          0
         ],
         "z": [
          0
         ]
        },
        {
         "line": {
          "color": "black",
          "width": 1
         },
         "mode": "lines",
         "type": "scatter3d",
         "x": [
          0,
          0
         ],
         "y": [
          0,
          1
         ],
         "z": [
          0,
          0
         ]
        },
        {
         "anchor": "tip",
         "showscale": false,
         "sizemode": "absolute",
         "sizeref": 0.2,
         "type": "cone",
         "u": [
          0
         ],
         "v": [
          1
         ],
         "w": [
          0
         ],
         "x": [
          0
         ],
         "y": [
          1
         ],
         "z": [
          0
         ]
        },
        {
         "line": {
          "color": "black",
          "width": 1
         },
         "mode": "lines",
         "type": "scatter3d",
         "x": [
          0,
          0
         ],
         "y": [
          0,
          0
         ],
         "z": [
          0,
          1
         ]
        },
        {
         "anchor": "tip",
         "showscale": false,
         "sizemode": "absolute",
         "sizeref": 0.2,
         "type": "cone",
         "u": [
          0
         ],
         "v": [
          0
         ],
         "w": [
          1
         ],
         "x": [
          0
         ],
         "y": [
          0
         ],
         "z": [
          1
         ]
        },
        {
         "line": {
          "color": "black",
          "width": 1
         },
         "mode": "lines",
         "type": "scatter3d",
         "x": [
          1,
          0
         ],
         "y": [
          0,
          0
         ],
         "z": [
          0,
          0
         ]
        },
        {
         "anchor": "tip",
         "showscale": false,
         "sizemode": "absolute",
         "sizeref": 0.2,
         "type": "cone",
         "u": [
          -1
         ],
         "v": [
          0
         ],
         "w": [
          0
         ],
         "x": [
          0
         ],
         "y": [
          0
         ],
         "z": [
          0
         ]
        },
        {
         "line": {
          "color": "black",
          "width": 1
         },
         "mode": "lines",
         "type": "scatter3d",
         "x": [
          1,
          1
         ],
         "y": [
          0,
          1
         ],
         "z": [
          0,
          0
         ]
        },
        {
         "anchor": "tip",
         "showscale": false,
         "sizemode": "absolute",
         "sizeref": 0.2,
         "type": "cone",
         "u": [
          0
         ],
         "v": [
          1
         ],
         "w": [
          0
         ],
         "x": [
          1
         ],
         "y": [
          1
         ],
         "z": [
          0
         ]
        },
        {
         "line": {
          "color": "black",
          "width": 1
         },
         "mode": "lines",
         "type": "scatter3d",
         "x": [
          1,
          1
         ],
         "y": [
          0,
          0
         ],
         "z": [
          0,
          1
         ]
        },
        {
         "anchor": "tip",
         "showscale": false,
         "sizemode": "absolute",
         "sizeref": 0.2,
         "type": "cone",
         "u": [
          0
         ],
         "v": [
          0
         ],
         "w": [
          1
         ],
         "x": [
          1
         ],
         "y": [
          0
         ],
         "z": [
          1
         ]
        },
        {
         "line": {
          "color": "black",
          "width": 1
         },
         "mode": "lines",
         "type": "scatter3d",
         "x": [
          0,
          0
         ],
         "y": [
          1,
          0
         ],
         "z": [
          0,
          0
         ]
        },
        {
         "anchor": "tip",
         "showscale": false,
         "sizemode": "absolute",
         "sizeref": 0.2,
         "type": "cone",
         "u": [
          0
         ],
         "v": [
          -1
         ],
         "w": [
          0
         ],
         "x": [
          0
         ],
         "y": [
          0
         ],
         "z": [
          0
         ]
        },
        {
         "line": {
          "color": "black",
          "width": 1
         },
         "mode": "lines",
         "type": "scatter3d",
         "x": [
          0,
          1
         ],
         "y": [
          1,
          1
         ],
         "z": [
          0,
          0
         ]
        },
        {
         "anchor": "tip",
         "showscale": false,
         "sizemode": "absolute",
         "sizeref": 0.2,
         "type": "cone",
         "u": [
          1
         ],
         "v": [
          0
         ],
         "w": [
          0
         ],
         "x": [
          1
         ],
         "y": [
          1
         ],
         "z": [
          0
         ]
        },
        {
         "line": {
          "color": "black",
          "width": 1
         },
         "mode": "lines",
         "type": "scatter3d",
         "x": [
          0,
          0
         ],
         "y": [
          1,
          1
         ],
         "z": [
          0,
          1
         ]
        },
        {
         "anchor": "tip",
         "showscale": false,
         "sizemode": "absolute",
         "sizeref": 0.2,
         "type": "cone",
         "u": [
          0
         ],
         "v": [
          0
         ],
         "w": [
          1
         ],
         "x": [
          0
         ],
         "y": [
          1
         ],
         "z": [
          1
         ]
        },
        {
         "line": {
          "color": "black",
          "width": 1
         },
         "mode": "lines",
         "type": "scatter3d",
         "x": [
          0,
          0
         ],
         "y": [
          0,
          0
         ],
         "z": [
          1,
          0
         ]
        },
        {
         "anchor": "tip",
         "showscale": false,
         "sizemode": "absolute",
         "sizeref": 0.2,
         "type": "cone",
         "u": [
          0
         ],
         "v": [
          0
         ],
         "w": [
          -1
         ],
         "x": [
          0
         ],
         "y": [
          0
         ],
         "z": [
          0
         ]
        },
        {
         "line": {
          "color": "black",
          "width": 1
         },
         "mode": "lines",
         "type": "scatter3d",
         "x": [
          0,
          1
         ],
         "y": [
          0,
          0
         ],
         "z": [
          1,
          1
         ]
        },
        {
         "anchor": "tip",
         "showscale": false,
         "sizemode": "absolute",
         "sizeref": 0.2,
         "type": "cone",
         "u": [
          1
         ],
         "v": [
          0
         ],
         "w": [
          0
         ],
         "x": [
          1
         ],
         "y": [
          0
         ],
         "z": [
          1
         ]
        },
        {
         "line": {
          "color": "black",
          "width": 1
         },
         "mode": "lines",
         "type": "scatter3d",
         "x": [
          0,
          0
         ],
         "y": [
          0,
          1
         ],
         "z": [
          1,
          1
         ]
        },
        {
         "anchor": "tip",
         "showscale": false,
         "sizemode": "absolute",
         "sizeref": 0.2,
         "type": "cone",
         "u": [
          0
         ],
         "v": [
          1
         ],
         "w": [
          0
         ],
         "x": [
          0
         ],
         "y": [
          1
         ],
         "z": [
          1
         ]
        },
        {
         "line": {
          "color": "black",
          "width": 1
         },
         "mode": "lines",
         "type": "scatter3d",
         "x": [
          1,
          0
         ],
         "y": [
          0,
          0
         ],
         "z": [
          1,
          1
         ]
        },
        {
         "anchor": "tip",
         "showscale": false,
         "sizemode": "absolute",
         "sizeref": 0.2,
         "type": "cone",
         "u": [
          -1
         ],
         "v": [
          0
         ],
         "w": [
          0
         ],
         "x": [
          0
         ],
         "y": [
          0
         ],
         "z": [
          1
         ]
        },
        {
         "line": {
          "color": "black",
          "width": 1
         },
         "mode": "lines",
         "type": "scatter3d",
         "x": [
          1,
          1
         ],
         "y": [
          0,
          0
         ],
         "z": [
          1,
          0
         ]
        },
        {
         "anchor": "tip",
         "showscale": false,
         "sizemode": "absolute",
         "sizeref": 0.2,
         "type": "cone",
         "u": [
          0
         ],
         "v": [
          0
         ],
         "w": [
          -1
         ],
         "x": [
          1
         ],
         "y": [
          0
         ],
         "z": [
          0
         ]
        },
        {
         "line": {
          "color": "black",
          "width": 1
         },
         "mode": "lines",
         "type": "scatter3d",
         "x": [
          1,
          1
         ],
         "y": [
          0,
          1
         ],
         "z": [
          1,
          1
         ]
        },
        {
         "anchor": "tip",
         "showscale": false,
         "sizemode": "absolute",
         "sizeref": 0.2,
         "type": "cone",
         "u": [
          0
         ],
         "v": [
          1
         ],
         "w": [
          0
         ],
         "x": [
          1
         ],
         "y": [
          1
         ],
         "z": [
          1
         ]
        },
        {
         "line": {
          "color": "black",
          "width": 1
         },
         "mode": "lines",
         "type": "scatter3d",
         "x": [
          0,
          0
         ],
         "y": [
          1,
          0
         ],
         "z": [
          1,
          1
         ]
        },
        {
         "anchor": "tip",
         "showscale": false,
         "sizemode": "absolute",
         "sizeref": 0.2,
         "type": "cone",
         "u": [
          0
         ],
         "v": [
          -1
         ],
         "w": [
          0
         ],
         "x": [
          0
         ],
         "y": [
          0
         ],
         "z": [
          1
         ]
        },
        {
         "line": {
          "color": "black",
          "width": 1
         },
         "mode": "lines",
         "type": "scatter3d",
         "x": [
          0,
          0
         ],
         "y": [
          1,
          1
         ],
         "z": [
          1,
          0
         ]
        },
        {
         "anchor": "tip",
         "showscale": false,
         "sizemode": "absolute",
         "sizeref": 0.2,
         "type": "cone",
         "u": [
          0
         ],
         "v": [
          0
         ],
         "w": [
          -1
         ],
         "x": [
          0
         ],
         "y": [
          1
         ],
         "z": [
          0
         ]
        },
        {
         "line": {
          "color": "black",
          "width": 1
         },
         "mode": "lines",
         "type": "scatter3d",
         "x": [
          0,
          1
         ],
         "y": [
          1,
          1
         ],
         "z": [
          1,
          1
         ]
        },
        {
         "anchor": "tip",
         "showscale": false,
         "sizemode": "absolute",
         "sizeref": 0.2,
         "type": "cone",
         "u": [
          1
         ],
         "v": [
          0
         ],
         "w": [
          0
         ],
         "x": [
          1
         ],
         "y": [
          1
         ],
         "z": [
          1
         ]
        },
        {
         "line": {
          "color": "black",
          "width": 1
         },
         "mode": "lines",
         "type": "scatter3d",
         "x": [
          1,
          0
         ],
         "y": [
          1,
          1
         ],
         "z": [
          0,
          0
         ]
        },
        {
         "anchor": "tip",
         "showscale": false,
         "sizemode": "absolute",
         "sizeref": 0.2,
         "type": "cone",
         "u": [
          -1
         ],
         "v": [
          0
         ],
         "w": [
          0
         ],
         "x": [
          0
         ],
         "y": [
          1
         ],
         "z": [
          0
         ]
        },
        {
         "line": {
          "color": "black",
          "width": 1
         },
         "mode": "lines",
         "type": "scatter3d",
         "x": [
          1,
          1
         ],
         "y": [
          1,
          0
         ],
         "z": [
          0,
          0
         ]
        },
        {
         "anchor": "tip",
         "showscale": false,
         "sizemode": "absolute",
         "sizeref": 0.2,
         "type": "cone",
         "u": [
          0
         ],
         "v": [
          -1
         ],
         "w": [
          0
         ],
         "x": [
          1
         ],
         "y": [
          0
         ],
         "z": [
          0
         ]
        },
        {
         "line": {
          "color": "black",
          "width": 1
         },
         "mode": "lines",
         "type": "scatter3d",
         "x": [
          1,
          1
         ],
         "y": [
          1,
          1
         ],
         "z": [
          0,
          1
         ]
        },
        {
         "anchor": "tip",
         "showscale": false,
         "sizemode": "absolute",
         "sizeref": 0.2,
         "type": "cone",
         "u": [
          0
         ],
         "v": [
          0
         ],
         "w": [
          1
         ],
         "x": [
          1
         ],
         "y": [
          1
         ],
         "z": [
          1
         ]
        },
        {
         "line": {
          "color": "black",
          "width": 1
         },
         "mode": "lines",
         "type": "scatter3d",
         "x": [
          1,
          0
         ],
         "y": [
          1,
          1
         ],
         "z": [
          1,
          1
         ]
        },
        {
         "anchor": "tip",
         "showscale": false,
         "sizemode": "absolute",
         "sizeref": 0.2,
         "type": "cone",
         "u": [
          -1
         ],
         "v": [
          0
         ],
         "w": [
          0
         ],
         "x": [
          0
         ],
         "y": [
          1
         ],
         "z": [
          1
         ]
        },
        {
         "line": {
          "color": "black",
          "width": 1
         },
         "mode": "lines",
         "type": "scatter3d",
         "x": [
          1,
          1
         ],
         "y": [
          1,
          0
         ],
         "z": [
          1,
          1
         ]
        },
        {
         "anchor": "tip",
         "showscale": false,
         "sizemode": "absolute",
         "sizeref": 0.2,
         "type": "cone",
         "u": [
          0
         ],
         "v": [
          -1
         ],
         "w": [
          0
         ],
         "x": [
          1
         ],
         "y": [
          0
         ],
         "z": [
          1
         ]
        },
        {
         "line": {
          "color": "black",
          "width": 1
         },
         "mode": "lines",
         "type": "scatter3d",
         "x": [
          1,
          1
         ],
         "y": [
          1,
          1
         ],
         "z": [
          1,
          0
         ]
        },
        {
         "anchor": "tip",
         "showscale": false,
         "sizemode": "absolute",
         "sizeref": 0.2,
         "type": "cone",
         "u": [
          0
         ],
         "v": [
          0
         ],
         "w": [
          -1
         ],
         "x": [
          1
         ],
         "y": [
          1
         ],
         "z": [
          0
         ]
        }
       ],
       "layout": {
        "scene": {
         "aspectratio": {
          "x": 1,
          "y": 1,
          "z": 1
         },
         "xaxis": {
          "range": [
           -2,
           2
          ],
          "title": {
           "text": "X"
          }
         },
         "yaxis": {
          "range": [
           -2,
           2
          ],
          "title": {
           "text": "Y"
          }
         },
         "zaxis": {
          "range": [
           -2,
           2
          ],
          "title": {
           "text": "Z"
          }
         }
        },
        "template": {
         "data": {
          "bar": [
           {
            "error_x": {
             "color": "#2a3f5f"
            },
            "error_y": {
             "color": "#2a3f5f"
            },
            "marker": {
             "line": {
              "color": "#E5ECF6",
              "width": 0.5
             },
             "pattern": {
              "fillmode": "overlay",
              "size": 10,
              "solidity": 0.2
             }
            },
            "type": "bar"
           }
          ],
          "barpolar": [
           {
            "marker": {
             "line": {
              "color": "#E5ECF6",
              "width": 0.5
             },
             "pattern": {
              "fillmode": "overlay",
              "size": 10,
              "solidity": 0.2
             }
            },
            "type": "barpolar"
           }
          ],
          "carpet": [
           {
            "aaxis": {
             "endlinecolor": "#2a3f5f",
             "gridcolor": "white",
             "linecolor": "white",
             "minorgridcolor": "white",
             "startlinecolor": "#2a3f5f"
            },
            "baxis": {
             "endlinecolor": "#2a3f5f",
             "gridcolor": "white",
             "linecolor": "white",
             "minorgridcolor": "white",
             "startlinecolor": "#2a3f5f"
            },
            "type": "carpet"
           }
          ],
          "choropleth": [
           {
            "colorbar": {
             "outlinewidth": 0,
             "ticks": ""
            },
            "type": "choropleth"
           }
          ],
          "contour": [
           {
            "colorbar": {
             "outlinewidth": 0,
             "ticks": ""
            },
            "colorscale": [
             [
              0,
              "#0d0887"
             ],
             [
              0.1111111111111111,
              "#46039f"
             ],
             [
              0.2222222222222222,
              "#7201a8"
             ],
             [
              0.3333333333333333,
              "#9c179e"
             ],
             [
              0.4444444444444444,
              "#bd3786"
             ],
             [
              0.5555555555555556,
              "#d8576b"
             ],
             [
              0.6666666666666666,
              "#ed7953"
             ],
             [
              0.7777777777777778,
              "#fb9f3a"
             ],
             [
              0.8888888888888888,
              "#fdca26"
             ],
             [
              1,
              "#f0f921"
             ]
            ],
            "type": "contour"
           }
          ],
          "contourcarpet": [
           {
            "colorbar": {
             "outlinewidth": 0,
             "ticks": ""
            },
            "type": "contourcarpet"
           }
          ],
          "heatmap": [
           {
            "colorbar": {
             "outlinewidth": 0,
             "ticks": ""
            },
            "colorscale": [
             [
              0,
              "#0d0887"
             ],
             [
              0.1111111111111111,
              "#46039f"
             ],
             [
              0.2222222222222222,
              "#7201a8"
             ],
             [
              0.3333333333333333,
              "#9c179e"
             ],
             [
              0.4444444444444444,
              "#bd3786"
             ],
             [
              0.5555555555555556,
              "#d8576b"
             ],
             [
              0.6666666666666666,
              "#ed7953"
             ],
             [
              0.7777777777777778,
              "#fb9f3a"
             ],
             [
              0.8888888888888888,
              "#fdca26"
             ],
             [
              1,
              "#f0f921"
             ]
            ],
            "type": "heatmap"
           }
          ],
          "heatmapgl": [
           {
            "colorbar": {
             "outlinewidth": 0,
             "ticks": ""
            },
            "colorscale": [
             [
              0,
              "#0d0887"
             ],
             [
              0.1111111111111111,
              "#46039f"
             ],
             [
              0.2222222222222222,
              "#7201a8"
             ],
             [
              0.3333333333333333,
              "#9c179e"
             ],
             [
              0.4444444444444444,
              "#bd3786"
             ],
             [
              0.5555555555555556,
              "#d8576b"
             ],
             [
              0.6666666666666666,
              "#ed7953"
             ],
             [
              0.7777777777777778,
              "#fb9f3a"
             ],
             [
              0.8888888888888888,
              "#fdca26"
             ],
             [
              1,
              "#f0f921"
             ]
            ],
            "type": "heatmapgl"
           }
          ],
          "histogram": [
           {
            "marker": {
             "pattern": {
              "fillmode": "overlay",
              "size": 10,
              "solidity": 0.2
             }
            },
            "type": "histogram"
           }
          ],
          "histogram2d": [
           {
            "colorbar": {
             "outlinewidth": 0,
             "ticks": ""
            },
            "colorscale": [
             [
              0,
              "#0d0887"
             ],
             [
              0.1111111111111111,
              "#46039f"
             ],
             [
              0.2222222222222222,
              "#7201a8"
             ],
             [
              0.3333333333333333,
              "#9c179e"
             ],
             [
              0.4444444444444444,
              "#bd3786"
             ],
             [
              0.5555555555555556,
              "#d8576b"
             ],
             [
              0.6666666666666666,
              "#ed7953"
             ],
             [
              0.7777777777777778,
              "#fb9f3a"
             ],
             [
              0.8888888888888888,
              "#fdca26"
             ],
             [
              1,
              "#f0f921"
             ]
            ],
            "type": "histogram2d"
           }
          ],
          "histogram2dcontour": [
           {
            "colorbar": {
             "outlinewidth": 0,
             "ticks": ""
            },
            "colorscale": [
             [
              0,
              "#0d0887"
             ],
             [
              0.1111111111111111,
              "#46039f"
             ],
             [
              0.2222222222222222,
              "#7201a8"
             ],
             [
              0.3333333333333333,
              "#9c179e"
             ],
             [
              0.4444444444444444,
              "#bd3786"
             ],
             [
              0.5555555555555556,
              "#d8576b"
             ],
             [
              0.6666666666666666,
              "#ed7953"
             ],
             [
              0.7777777777777778,
              "#fb9f3a"
             ],
             [
              0.8888888888888888,
              "#fdca26"
             ],
             [
              1,
              "#f0f921"
             ]
            ],
            "type": "histogram2dcontour"
           }
          ],
          "mesh3d": [
           {
            "colorbar": {
             "outlinewidth": 0,
             "ticks": ""
            },
            "type": "mesh3d"
           }
          ],
          "parcoords": [
           {
            "line": {
             "colorbar": {
              "outlinewidth": 0,
              "ticks": ""
             }
            },
            "type": "parcoords"
           }
          ],
          "pie": [
           {
            "automargin": true,
            "type": "pie"
           }
          ],
          "scatter": [
           {
            "fillpattern": {
             "fillmode": "overlay",
             "size": 10,
             "solidity": 0.2
            },
            "type": "scatter"
           }
          ],
          "scatter3d": [
           {
            "line": {
             "colorbar": {
              "outlinewidth": 0,
              "ticks": ""
             }
            },
            "marker": {
             "colorbar": {
              "outlinewidth": 0,
              "ticks": ""
             }
            },
            "type": "scatter3d"
           }
          ],
          "scattercarpet": [
           {
            "marker": {
             "colorbar": {
              "outlinewidth": 0,
              "ticks": ""
             }
            },
            "type": "scattercarpet"
           }
          ],
          "scattergeo": [
           {
            "marker": {
             "colorbar": {
              "outlinewidth": 0,
              "ticks": ""
             }
            },
            "type": "scattergeo"
           }
          ],
          "scattergl": [
           {
            "marker": {
             "colorbar": {
              "outlinewidth": 0,
              "ticks": ""
             }
            },
            "type": "scattergl"
           }
          ],
          "scattermapbox": [
           {
            "marker": {
             "colorbar": {
              "outlinewidth": 0,
              "ticks": ""
             }
            },
            "type": "scattermapbox"
           }
          ],
          "scatterpolar": [
           {
            "marker": {
             "colorbar": {
              "outlinewidth": 0,
              "ticks": ""
             }
            },
            "type": "scatterpolar"
           }
          ],
          "scatterpolargl": [
           {
            "marker": {
             "colorbar": {
              "outlinewidth": 0,
              "ticks": ""
             }
            },
            "type": "scatterpolargl"
           }
          ],
          "scatterternary": [
           {
            "marker": {
             "colorbar": {
              "outlinewidth": 0,
              "ticks": ""
             }
            },
            "type": "scatterternary"
           }
          ],
          "surface": [
           {
            "colorbar": {
             "outlinewidth": 0,
             "ticks": ""
            },
            "colorscale": [
             [
              0,
              "#0d0887"
             ],
             [
              0.1111111111111111,
              "#46039f"
             ],
             [
              0.2222222222222222,
              "#7201a8"
             ],
             [
              0.3333333333333333,
              "#9c179e"
             ],
             [
              0.4444444444444444,
              "#bd3786"
             ],
             [
              0.5555555555555556,
              "#d8576b"
             ],
             [
              0.6666666666666666,
              "#ed7953"
             ],
             [
              0.7777777777777778,
              "#fb9f3a"
             ],
             [
              0.8888888888888888,
              "#fdca26"
             ],
             [
              1,
              "#f0f921"
             ]
            ],
            "type": "surface"
           }
          ],
          "table": [
           {
            "cells": {
             "fill": {
              "color": "#EBF0F8"
             },
             "line": {
              "color": "white"
             }
            },
            "header": {
             "fill": {
              "color": "#C8D4E3"
             },
             "line": {
              "color": "white"
             }
            },
            "type": "table"
           }
          ]
         },
         "layout": {
          "annotationdefaults": {
           "arrowcolor": "#2a3f5f",
           "arrowhead": 0,
           "arrowwidth": 1
          },
          "autotypenumbers": "strict",
          "coloraxis": {
           "colorbar": {
            "outlinewidth": 0,
            "ticks": ""
           }
          },
          "colorscale": {
           "diverging": [
            [
             0,
             "#8e0152"
            ],
            [
             0.1,
             "#c51b7d"
            ],
            [
             0.2,
             "#de77ae"
            ],
            [
             0.3,
             "#f1b6da"
            ],
            [
             0.4,
             "#fde0ef"
            ],
            [
             0.5,
             "#f7f7f7"
            ],
            [
             0.6,
             "#e6f5d0"
            ],
            [
             0.7,
             "#b8e186"
            ],
            [
             0.8,
             "#7fbc41"
            ],
            [
             0.9,
             "#4d9221"
            ],
            [
             1,
             "#276419"
            ]
           ],
           "sequential": [
            [
             0,
             "#0d0887"
            ],
            [
             0.1111111111111111,
             "#46039f"
            ],
            [
             0.2222222222222222,
             "#7201a8"
            ],
            [
             0.3333333333333333,
             "#9c179e"
            ],
            [
             0.4444444444444444,
             "#bd3786"
            ],
            [
             0.5555555555555556,
             "#d8576b"
            ],
            [
             0.6666666666666666,
             "#ed7953"
            ],
            [
             0.7777777777777778,
             "#fb9f3a"
            ],
            [
             0.8888888888888888,
             "#fdca26"
            ],
            [
             1,
             "#f0f921"
            ]
           ],
           "sequentialminus": [
            [
             0,
             "#0d0887"
            ],
            [
             0.1111111111111111,
             "#46039f"
            ],
            [
             0.2222222222222222,
             "#7201a8"
            ],
            [
             0.3333333333333333,
             "#9c179e"
            ],
            [
             0.4444444444444444,
             "#bd3786"
            ],
            [
             0.5555555555555556,
             "#d8576b"
            ],
            [
             0.6666666666666666,
             "#ed7953"
            ],
            [
             0.7777777777777778,
             "#fb9f3a"
            ],
            [
             0.8888888888888888,
             "#fdca26"
            ],
            [
             1,
             "#f0f921"
            ]
           ]
          },
          "colorway": [
           "#636efa",
           "#EF553B",
           "#00cc96",
           "#ab63fa",
           "#FFA15A",
           "#19d3f3",
           "#FF6692",
           "#B6E880",
           "#FF97FF",
           "#FECB52"
          ],
          "font": {
           "color": "#2a3f5f"
          },
          "geo": {
           "bgcolor": "white",
           "lakecolor": "white",
           "landcolor": "#E5ECF6",
           "showlakes": true,
           "showland": true,
           "subunitcolor": "white"
          },
          "hoverlabel": {
           "align": "left"
          },
          "hovermode": "closest",
          "mapbox": {
           "style": "light"
          },
          "paper_bgcolor": "white",
          "plot_bgcolor": "#E5ECF6",
          "polar": {
           "angularaxis": {
            "gridcolor": "white",
            "linecolor": "white",
            "ticks": ""
           },
           "bgcolor": "#E5ECF6",
           "radialaxis": {
            "gridcolor": "white",
            "linecolor": "white",
            "ticks": ""
           }
          },
          "scene": {
           "xaxis": {
            "backgroundcolor": "#E5ECF6",
            "gridcolor": "white",
            "gridwidth": 2,
            "linecolor": "white",
            "showbackground": true,
            "ticks": "",
            "zerolinecolor": "white"
           },
           "yaxis": {
            "backgroundcolor": "#E5ECF6",
            "gridcolor": "white",
            "gridwidth": 2,
            "linecolor": "white",
            "showbackground": true,
            "ticks": "",
            "zerolinecolor": "white"
           },
           "zaxis": {
            "backgroundcolor": "#E5ECF6",
            "gridcolor": "white",
            "gridwidth": 2,
            "linecolor": "white",
            "showbackground": true,
            "ticks": "",
            "zerolinecolor": "white"
           }
          },
          "shapedefaults": {
           "line": {
            "color": "#2a3f5f"
           }
          },
          "ternary": {
           "aaxis": {
            "gridcolor": "white",
            "linecolor": "white",
            "ticks": ""
           },
           "baxis": {
            "gridcolor": "white",
            "linecolor": "white",
            "ticks": ""
           },
           "bgcolor": "#E5ECF6",
           "caxis": {
            "gridcolor": "white",
            "linecolor": "white",
            "ticks": ""
           }
          },
          "title": {
           "x": 0.05
          },
          "xaxis": {
           "automargin": true,
           "gridcolor": "white",
           "linecolor": "white",
           "ticks": "",
           "title": {
            "standoff": 15
           },
           "zerolinecolor": "white",
           "zerolinewidth": 2
          },
          "yaxis": {
           "automargin": true,
           "gridcolor": "white",
           "linecolor": "white",
           "ticks": "",
           "title": {
            "standoff": 15
           },
           "zerolinecolor": "white",
           "zerolinewidth": 2
          }
         }
        }
       }
      },
      "text/html": [
       "<div>                            <div id=\"efcfb436-140c-4a81-8b37-a5d78655d9ca\" class=\"plotly-graph-div\" style=\"height:525px; width:100%;\"></div>            <script type=\"text/javascript\">                require([\"plotly\"], function(Plotly) {                    window.PLOTLYENV=window.PLOTLYENV || {};                                    if (document.getElementById(\"efcfb436-140c-4a81-8b37-a5d78655d9ca\")) {                    Plotly.newPlot(                        \"efcfb436-140c-4a81-8b37-a5d78655d9ca\",                        [{\"marker\":{\"color\":\"blue\",\"size\":10},\"mode\":\"markers\",\"x\":[0,1,0,0,1,0,1,1],\"y\":[0,0,1,0,0,1,1,1],\"z\":[0,0,0,1,1,1,0,1],\"type\":\"scatter3d\"},{\"line\":{\"color\":\"black\",\"width\":1},\"mode\":\"lines\",\"x\":[0,1],\"y\":[0,0],\"z\":[0,0],\"type\":\"scatter3d\"},{\"anchor\":\"tip\",\"showscale\":false,\"sizemode\":\"absolute\",\"sizeref\":0.2,\"u\":[1],\"v\":[0],\"w\":[0],\"x\":[1],\"y\":[0],\"z\":[0],\"type\":\"cone\"},{\"line\":{\"color\":\"black\",\"width\":1},\"mode\":\"lines\",\"x\":[0,0],\"y\":[0,1],\"z\":[0,0],\"type\":\"scatter3d\"},{\"anchor\":\"tip\",\"showscale\":false,\"sizemode\":\"absolute\",\"sizeref\":0.2,\"u\":[0],\"v\":[1],\"w\":[0],\"x\":[0],\"y\":[1],\"z\":[0],\"type\":\"cone\"},{\"line\":{\"color\":\"black\",\"width\":1},\"mode\":\"lines\",\"x\":[0,0],\"y\":[0,0],\"z\":[0,1],\"type\":\"scatter3d\"},{\"anchor\":\"tip\",\"showscale\":false,\"sizemode\":\"absolute\",\"sizeref\":0.2,\"u\":[0],\"v\":[0],\"w\":[1],\"x\":[0],\"y\":[0],\"z\":[1],\"type\":\"cone\"},{\"line\":{\"color\":\"black\",\"width\":1},\"mode\":\"lines\",\"x\":[1,0],\"y\":[0,0],\"z\":[0,0],\"type\":\"scatter3d\"},{\"anchor\":\"tip\",\"showscale\":false,\"sizemode\":\"absolute\",\"sizeref\":0.2,\"u\":[-1],\"v\":[0],\"w\":[0],\"x\":[0],\"y\":[0],\"z\":[0],\"type\":\"cone\"},{\"line\":{\"color\":\"black\",\"width\":1},\"mode\":\"lines\",\"x\":[1,1],\"y\":[0,1],\"z\":[0,0],\"type\":\"scatter3d\"},{\"anchor\":\"tip\",\"showscale\":false,\"sizemode\":\"absolute\",\"sizeref\":0.2,\"u\":[0],\"v\":[1],\"w\":[0],\"x\":[1],\"y\":[1],\"z\":[0],\"type\":\"cone\"},{\"line\":{\"color\":\"black\",\"width\":1},\"mode\":\"lines\",\"x\":[1,1],\"y\":[0,0],\"z\":[0,1],\"type\":\"scatter3d\"},{\"anchor\":\"tip\",\"showscale\":false,\"sizemode\":\"absolute\",\"sizeref\":0.2,\"u\":[0],\"v\":[0],\"w\":[1],\"x\":[1],\"y\":[0],\"z\":[1],\"type\":\"cone\"},{\"line\":{\"color\":\"black\",\"width\":1},\"mode\":\"lines\",\"x\":[0,0],\"y\":[1,0],\"z\":[0,0],\"type\":\"scatter3d\"},{\"anchor\":\"tip\",\"showscale\":false,\"sizemode\":\"absolute\",\"sizeref\":0.2,\"u\":[0],\"v\":[-1],\"w\":[0],\"x\":[0],\"y\":[0],\"z\":[0],\"type\":\"cone\"},{\"line\":{\"color\":\"black\",\"width\":1},\"mode\":\"lines\",\"x\":[0,1],\"y\":[1,1],\"z\":[0,0],\"type\":\"scatter3d\"},{\"anchor\":\"tip\",\"showscale\":false,\"sizemode\":\"absolute\",\"sizeref\":0.2,\"u\":[1],\"v\":[0],\"w\":[0],\"x\":[1],\"y\":[1],\"z\":[0],\"type\":\"cone\"},{\"line\":{\"color\":\"black\",\"width\":1},\"mode\":\"lines\",\"x\":[0,0],\"y\":[1,1],\"z\":[0,1],\"type\":\"scatter3d\"},{\"anchor\":\"tip\",\"showscale\":false,\"sizemode\":\"absolute\",\"sizeref\":0.2,\"u\":[0],\"v\":[0],\"w\":[1],\"x\":[0],\"y\":[1],\"z\":[1],\"type\":\"cone\"},{\"line\":{\"color\":\"black\",\"width\":1},\"mode\":\"lines\",\"x\":[0,0],\"y\":[0,0],\"z\":[1,0],\"type\":\"scatter3d\"},{\"anchor\":\"tip\",\"showscale\":false,\"sizemode\":\"absolute\",\"sizeref\":0.2,\"u\":[0],\"v\":[0],\"w\":[-1],\"x\":[0],\"y\":[0],\"z\":[0],\"type\":\"cone\"},{\"line\":{\"color\":\"black\",\"width\":1},\"mode\":\"lines\",\"x\":[0,1],\"y\":[0,0],\"z\":[1,1],\"type\":\"scatter3d\"},{\"anchor\":\"tip\",\"showscale\":false,\"sizemode\":\"absolute\",\"sizeref\":0.2,\"u\":[1],\"v\":[0],\"w\":[0],\"x\":[1],\"y\":[0],\"z\":[1],\"type\":\"cone\"},{\"line\":{\"color\":\"black\",\"width\":1},\"mode\":\"lines\",\"x\":[0,0],\"y\":[0,1],\"z\":[1,1],\"type\":\"scatter3d\"},{\"anchor\":\"tip\",\"showscale\":false,\"sizemode\":\"absolute\",\"sizeref\":0.2,\"u\":[0],\"v\":[1],\"w\":[0],\"x\":[0],\"y\":[1],\"z\":[1],\"type\":\"cone\"},{\"line\":{\"color\":\"black\",\"width\":1},\"mode\":\"lines\",\"x\":[1,0],\"y\":[0,0],\"z\":[1,1],\"type\":\"scatter3d\"},{\"anchor\":\"tip\",\"showscale\":false,\"sizemode\":\"absolute\",\"sizeref\":0.2,\"u\":[-1],\"v\":[0],\"w\":[0],\"x\":[0],\"y\":[0],\"z\":[1],\"type\":\"cone\"},{\"line\":{\"color\":\"black\",\"width\":1},\"mode\":\"lines\",\"x\":[1,1],\"y\":[0,0],\"z\":[1,0],\"type\":\"scatter3d\"},{\"anchor\":\"tip\",\"showscale\":false,\"sizemode\":\"absolute\",\"sizeref\":0.2,\"u\":[0],\"v\":[0],\"w\":[-1],\"x\":[1],\"y\":[0],\"z\":[0],\"type\":\"cone\"},{\"line\":{\"color\":\"black\",\"width\":1},\"mode\":\"lines\",\"x\":[1,1],\"y\":[0,1],\"z\":[1,1],\"type\":\"scatter3d\"},{\"anchor\":\"tip\",\"showscale\":false,\"sizemode\":\"absolute\",\"sizeref\":0.2,\"u\":[0],\"v\":[1],\"w\":[0],\"x\":[1],\"y\":[1],\"z\":[1],\"type\":\"cone\"},{\"line\":{\"color\":\"black\",\"width\":1},\"mode\":\"lines\",\"x\":[0,0],\"y\":[1,0],\"z\":[1,1],\"type\":\"scatter3d\"},{\"anchor\":\"tip\",\"showscale\":false,\"sizemode\":\"absolute\",\"sizeref\":0.2,\"u\":[0],\"v\":[-1],\"w\":[0],\"x\":[0],\"y\":[0],\"z\":[1],\"type\":\"cone\"},{\"line\":{\"color\":\"black\",\"width\":1},\"mode\":\"lines\",\"x\":[0,0],\"y\":[1,1],\"z\":[1,0],\"type\":\"scatter3d\"},{\"anchor\":\"tip\",\"showscale\":false,\"sizemode\":\"absolute\",\"sizeref\":0.2,\"u\":[0],\"v\":[0],\"w\":[-1],\"x\":[0],\"y\":[1],\"z\":[0],\"type\":\"cone\"},{\"line\":{\"color\":\"black\",\"width\":1},\"mode\":\"lines\",\"x\":[0,1],\"y\":[1,1],\"z\":[1,1],\"type\":\"scatter3d\"},{\"anchor\":\"tip\",\"showscale\":false,\"sizemode\":\"absolute\",\"sizeref\":0.2,\"u\":[1],\"v\":[0],\"w\":[0],\"x\":[1],\"y\":[1],\"z\":[1],\"type\":\"cone\"},{\"line\":{\"color\":\"black\",\"width\":1},\"mode\":\"lines\",\"x\":[1,0],\"y\":[1,1],\"z\":[0,0],\"type\":\"scatter3d\"},{\"anchor\":\"tip\",\"showscale\":false,\"sizemode\":\"absolute\",\"sizeref\":0.2,\"u\":[-1],\"v\":[0],\"w\":[0],\"x\":[0],\"y\":[1],\"z\":[0],\"type\":\"cone\"},{\"line\":{\"color\":\"black\",\"width\":1},\"mode\":\"lines\",\"x\":[1,1],\"y\":[1,0],\"z\":[0,0],\"type\":\"scatter3d\"},{\"anchor\":\"tip\",\"showscale\":false,\"sizemode\":\"absolute\",\"sizeref\":0.2,\"u\":[0],\"v\":[-1],\"w\":[0],\"x\":[1],\"y\":[0],\"z\":[0],\"type\":\"cone\"},{\"line\":{\"color\":\"black\",\"width\":1},\"mode\":\"lines\",\"x\":[1,1],\"y\":[1,1],\"z\":[0,1],\"type\":\"scatter3d\"},{\"anchor\":\"tip\",\"showscale\":false,\"sizemode\":\"absolute\",\"sizeref\":0.2,\"u\":[0],\"v\":[0],\"w\":[1],\"x\":[1],\"y\":[1],\"z\":[1],\"type\":\"cone\"},{\"line\":{\"color\":\"black\",\"width\":1},\"mode\":\"lines\",\"x\":[1,0],\"y\":[1,1],\"z\":[1,1],\"type\":\"scatter3d\"},{\"anchor\":\"tip\",\"showscale\":false,\"sizemode\":\"absolute\",\"sizeref\":0.2,\"u\":[-1],\"v\":[0],\"w\":[0],\"x\":[0],\"y\":[1],\"z\":[1],\"type\":\"cone\"},{\"line\":{\"color\":\"black\",\"width\":1},\"mode\":\"lines\",\"x\":[1,1],\"y\":[1,0],\"z\":[1,1],\"type\":\"scatter3d\"},{\"anchor\":\"tip\",\"showscale\":false,\"sizemode\":\"absolute\",\"sizeref\":0.2,\"u\":[0],\"v\":[-1],\"w\":[0],\"x\":[1],\"y\":[0],\"z\":[1],\"type\":\"cone\"},{\"line\":{\"color\":\"black\",\"width\":1},\"mode\":\"lines\",\"x\":[1,1],\"y\":[1,1],\"z\":[1,0],\"type\":\"scatter3d\"},{\"anchor\":\"tip\",\"showscale\":false,\"sizemode\":\"absolute\",\"sizeref\":0.2,\"u\":[0],\"v\":[0],\"w\":[-1],\"x\":[1],\"y\":[1],\"z\":[0],\"type\":\"cone\"}],                        {\"scene\":{\"aspectratio\":{\"x\":1,\"y\":1,\"z\":1},\"xaxis\":{\"range\":[-2,2],\"title\":{\"text\":\"X\"}},\"yaxis\":{\"range\":[-2,2],\"title\":{\"text\":\"Y\"}},\"zaxis\":{\"range\":[-2,2],\"title\":{\"text\":\"Z\"}}},\"template\":{\"data\":{\"histogram2dcontour\":[{\"type\":\"histogram2dcontour\",\"colorbar\":{\"outlinewidth\":0,\"ticks\":\"\"},\"colorscale\":[[0.0,\"#0d0887\"],[0.1111111111111111,\"#46039f\"],[0.2222222222222222,\"#7201a8\"],[0.3333333333333333,\"#9c179e\"],[0.4444444444444444,\"#bd3786\"],[0.5555555555555556,\"#d8576b\"],[0.6666666666666666,\"#ed7953\"],[0.7777777777777778,\"#fb9f3a\"],[0.8888888888888888,\"#fdca26\"],[1.0,\"#f0f921\"]]}],\"choropleth\":[{\"type\":\"choropleth\",\"colorbar\":{\"outlinewidth\":0,\"ticks\":\"\"}}],\"histogram2d\":[{\"type\":\"histogram2d\",\"colorbar\":{\"outlinewidth\":0,\"ticks\":\"\"},\"colorscale\":[[0.0,\"#0d0887\"],[0.1111111111111111,\"#46039f\"],[0.2222222222222222,\"#7201a8\"],[0.3333333333333333,\"#9c179e\"],[0.4444444444444444,\"#bd3786\"],[0.5555555555555556,\"#d8576b\"],[0.6666666666666666,\"#ed7953\"],[0.7777777777777778,\"#fb9f3a\"],[0.8888888888888888,\"#fdca26\"],[1.0,\"#f0f921\"]]}],\"heatmap\":[{\"type\":\"heatmap\",\"colorbar\":{\"outlinewidth\":0,\"ticks\":\"\"},\"colorscale\":[[0.0,\"#0d0887\"],[0.1111111111111111,\"#46039f\"],[0.2222222222222222,\"#7201a8\"],[0.3333333333333333,\"#9c179e\"],[0.4444444444444444,\"#bd3786\"],[0.5555555555555556,\"#d8576b\"],[0.6666666666666666,\"#ed7953\"],[0.7777777777777778,\"#fb9f3a\"],[0.8888888888888888,\"#fdca26\"],[1.0,\"#f0f921\"]]}],\"heatmapgl\":[{\"type\":\"heatmapgl\",\"colorbar\":{\"outlinewidth\":0,\"ticks\":\"\"},\"colorscale\":[[0.0,\"#0d0887\"],[0.1111111111111111,\"#46039f\"],[0.2222222222222222,\"#7201a8\"],[0.3333333333333333,\"#9c179e\"],[0.4444444444444444,\"#bd3786\"],[0.5555555555555556,\"#d8576b\"],[0.6666666666666666,\"#ed7953\"],[0.7777777777777778,\"#fb9f3a\"],[0.8888888888888888,\"#fdca26\"],[1.0,\"#f0f921\"]]}],\"contourcarpet\":[{\"type\":\"contourcarpet\",\"colorbar\":{\"outlinewidth\":0,\"ticks\":\"\"}}],\"contour\":[{\"type\":\"contour\",\"colorbar\":{\"outlinewidth\":0,\"ticks\":\"\"},\"colorscale\":[[0.0,\"#0d0887\"],[0.1111111111111111,\"#46039f\"],[0.2222222222222222,\"#7201a8\"],[0.3333333333333333,\"#9c179e\"],[0.4444444444444444,\"#bd3786\"],[0.5555555555555556,\"#d8576b\"],[0.6666666666666666,\"#ed7953\"],[0.7777777777777778,\"#fb9f3a\"],[0.8888888888888888,\"#fdca26\"],[1.0,\"#f0f921\"]]}],\"surface\":[{\"type\":\"surface\",\"colorbar\":{\"outlinewidth\":0,\"ticks\":\"\"},\"colorscale\":[[0.0,\"#0d0887\"],[0.1111111111111111,\"#46039f\"],[0.2222222222222222,\"#7201a8\"],[0.3333333333333333,\"#9c179e\"],[0.4444444444444444,\"#bd3786\"],[0.5555555555555556,\"#d8576b\"],[0.6666666666666666,\"#ed7953\"],[0.7777777777777778,\"#fb9f3a\"],[0.8888888888888888,\"#fdca26\"],[1.0,\"#f0f921\"]]}],\"mesh3d\":[{\"type\":\"mesh3d\",\"colorbar\":{\"outlinewidth\":0,\"ticks\":\"\"}}],\"scatter\":[{\"fillpattern\":{\"fillmode\":\"overlay\",\"size\":10,\"solidity\":0.2},\"type\":\"scatter\"}],\"parcoords\":[{\"type\":\"parcoords\",\"line\":{\"colorbar\":{\"outlinewidth\":0,\"ticks\":\"\"}}}],\"scatterpolargl\":[{\"type\":\"scatterpolargl\",\"marker\":{\"colorbar\":{\"outlinewidth\":0,\"ticks\":\"\"}}}],\"bar\":[{\"error_x\":{\"color\":\"#2a3f5f\"},\"error_y\":{\"color\":\"#2a3f5f\"},\"marker\":{\"line\":{\"color\":\"#E5ECF6\",\"width\":0.5},\"pattern\":{\"fillmode\":\"overlay\",\"size\":10,\"solidity\":0.2}},\"type\":\"bar\"}],\"scattergeo\":[{\"type\":\"scattergeo\",\"marker\":{\"colorbar\":{\"outlinewidth\":0,\"ticks\":\"\"}}}],\"scatterpolar\":[{\"type\":\"scatterpolar\",\"marker\":{\"colorbar\":{\"outlinewidth\":0,\"ticks\":\"\"}}}],\"histogram\":[{\"marker\":{\"pattern\":{\"fillmode\":\"overlay\",\"size\":10,\"solidity\":0.2}},\"type\":\"histogram\"}],\"scattergl\":[{\"type\":\"scattergl\",\"marker\":{\"colorbar\":{\"outlinewidth\":0,\"ticks\":\"\"}}}],\"scatter3d\":[{\"type\":\"scatter3d\",\"line\":{\"colorbar\":{\"outlinewidth\":0,\"ticks\":\"\"}},\"marker\":{\"colorbar\":{\"outlinewidth\":0,\"ticks\":\"\"}}}],\"scattermapbox\":[{\"type\":\"scattermapbox\",\"marker\":{\"colorbar\":{\"outlinewidth\":0,\"ticks\":\"\"}}}],\"scatterternary\":[{\"type\":\"scatterternary\",\"marker\":{\"colorbar\":{\"outlinewidth\":0,\"ticks\":\"\"}}}],\"scattercarpet\":[{\"type\":\"scattercarpet\",\"marker\":{\"colorbar\":{\"outlinewidth\":0,\"ticks\":\"\"}}}],\"carpet\":[{\"aaxis\":{\"endlinecolor\":\"#2a3f5f\",\"gridcolor\":\"white\",\"linecolor\":\"white\",\"minorgridcolor\":\"white\",\"startlinecolor\":\"#2a3f5f\"},\"baxis\":{\"endlinecolor\":\"#2a3f5f\",\"gridcolor\":\"white\",\"linecolor\":\"white\",\"minorgridcolor\":\"white\",\"startlinecolor\":\"#2a3f5f\"},\"type\":\"carpet\"}],\"table\":[{\"cells\":{\"fill\":{\"color\":\"#EBF0F8\"},\"line\":{\"color\":\"white\"}},\"header\":{\"fill\":{\"color\":\"#C8D4E3\"},\"line\":{\"color\":\"white\"}},\"type\":\"table\"}],\"barpolar\":[{\"marker\":{\"line\":{\"color\":\"#E5ECF6\",\"width\":0.5},\"pattern\":{\"fillmode\":\"overlay\",\"size\":10,\"solidity\":0.2}},\"type\":\"barpolar\"}],\"pie\":[{\"automargin\":true,\"type\":\"pie\"}]},\"layout\":{\"autotypenumbers\":\"strict\",\"colorway\":[\"#636efa\",\"#EF553B\",\"#00cc96\",\"#ab63fa\",\"#FFA15A\",\"#19d3f3\",\"#FF6692\",\"#B6E880\",\"#FF97FF\",\"#FECB52\"],\"font\":{\"color\":\"#2a3f5f\"},\"hovermode\":\"closest\",\"hoverlabel\":{\"align\":\"left\"},\"paper_bgcolor\":\"white\",\"plot_bgcolor\":\"#E5ECF6\",\"polar\":{\"bgcolor\":\"#E5ECF6\",\"angularaxis\":{\"gridcolor\":\"white\",\"linecolor\":\"white\",\"ticks\":\"\"},\"radialaxis\":{\"gridcolor\":\"white\",\"linecolor\":\"white\",\"ticks\":\"\"}},\"ternary\":{\"bgcolor\":\"#E5ECF6\",\"aaxis\":{\"gridcolor\":\"white\",\"linecolor\":\"white\",\"ticks\":\"\"},\"baxis\":{\"gridcolor\":\"white\",\"linecolor\":\"white\",\"ticks\":\"\"},\"caxis\":{\"gridcolor\":\"white\",\"linecolor\":\"white\",\"ticks\":\"\"}},\"coloraxis\":{\"colorbar\":{\"outlinewidth\":0,\"ticks\":\"\"}},\"colorscale\":{\"sequential\":[[0.0,\"#0d0887\"],[0.1111111111111111,\"#46039f\"],[0.2222222222222222,\"#7201a8\"],[0.3333333333333333,\"#9c179e\"],[0.4444444444444444,\"#bd3786\"],[0.5555555555555556,\"#d8576b\"],[0.6666666666666666,\"#ed7953\"],[0.7777777777777778,\"#fb9f3a\"],[0.8888888888888888,\"#fdca26\"],[1.0,\"#f0f921\"]],\"sequentialminus\":[[0.0,\"#0d0887\"],[0.1111111111111111,\"#46039f\"],[0.2222222222222222,\"#7201a8\"],[0.3333333333333333,\"#9c179e\"],[0.4444444444444444,\"#bd3786\"],[0.5555555555555556,\"#d8576b\"],[0.6666666666666666,\"#ed7953\"],[0.7777777777777778,\"#fb9f3a\"],[0.8888888888888888,\"#fdca26\"],[1.0,\"#f0f921\"]],\"diverging\":[[0,\"#8e0152\"],[0.1,\"#c51b7d\"],[0.2,\"#de77ae\"],[0.3,\"#f1b6da\"],[0.4,\"#fde0ef\"],[0.5,\"#f7f7f7\"],[0.6,\"#e6f5d0\"],[0.7,\"#b8e186\"],[0.8,\"#7fbc41\"],[0.9,\"#4d9221\"],[1,\"#276419\"]]},\"xaxis\":{\"gridcolor\":\"white\",\"linecolor\":\"white\",\"ticks\":\"\",\"title\":{\"standoff\":15},\"zerolinecolor\":\"white\",\"automargin\":true,\"zerolinewidth\":2},\"yaxis\":{\"gridcolor\":\"white\",\"linecolor\":\"white\",\"ticks\":\"\",\"title\":{\"standoff\":15},\"zerolinecolor\":\"white\",\"automargin\":true,\"zerolinewidth\":2},\"scene\":{\"xaxis\":{\"backgroundcolor\":\"#E5ECF6\",\"gridcolor\":\"white\",\"linecolor\":\"white\",\"showbackground\":true,\"ticks\":\"\",\"zerolinecolor\":\"white\",\"gridwidth\":2},\"yaxis\":{\"backgroundcolor\":\"#E5ECF6\",\"gridcolor\":\"white\",\"linecolor\":\"white\",\"showbackground\":true,\"ticks\":\"\",\"zerolinecolor\":\"white\",\"gridwidth\":2},\"zaxis\":{\"backgroundcolor\":\"#E5ECF6\",\"gridcolor\":\"white\",\"linecolor\":\"white\",\"showbackground\":true,\"ticks\":\"\",\"zerolinecolor\":\"white\",\"gridwidth\":2}},\"shapedefaults\":{\"line\":{\"color\":\"#2a3f5f\"}},\"annotationdefaults\":{\"arrowcolor\":\"#2a3f5f\",\"arrowhead\":0,\"arrowwidth\":1},\"geo\":{\"bgcolor\":\"white\",\"landcolor\":\"#E5ECF6\",\"subunitcolor\":\"white\",\"showland\":true,\"showlakes\":true,\"lakecolor\":\"white\"},\"title\":{\"x\":0.05},\"mapbox\":{\"style\":\"light\"}}}},                        {\"responsive\": true}                    ).then(function(){\n",
       "                            \n",
       "var gd = document.getElementById('efcfb436-140c-4a81-8b37-a5d78655d9ca');\n",
       "var x = new MutationObserver(function (mutations, observer) {{\n",
       "        var display = window.getComputedStyle(gd).display;\n",
       "        if (!display || display === 'none') {{\n",
       "            console.log([gd, 'removed!']);\n",
       "            Plotly.purge(gd);\n",
       "            observer.disconnect();\n",
       "        }}\n",
       "}});\n",
       "\n",
       "// Listen for the removal of the full notebook cells\n",
       "var notebookContainer = gd.closest('#notebook-container');\n",
       "if (notebookContainer) {{\n",
       "    x.observe(notebookContainer, {childList: true});\n",
       "}}\n",
       "\n",
       "// Listen for the clearing of the current output cell\n",
       "var outputEl = gd.closest('.output');\n",
       "if (outputEl) {{\n",
       "    x.observe(outputEl, {childList: true});\n",
       "}}\n",
       "\n",
       "                        })                };                });            </script>        </div>"
      ]
     },
     "metadata": {},
     "output_type": "display_data"
    }
   ],
   "source": [
    "#Import libraries\n",
    "import networkx as nx\n",
    "import plotly.graph_objects as go\n",
    "import numpy as np\n",
    "from lxml import etree\n",
    "\n",
    "#Create a directed Graph object\n",
    "G = nx.DiGraph()\n",
    "\n",
    "#Define dimensions of the Hypercube\n",
    "length, width, depth = 2,2,2\n",
    "\n",
    "for i in range(length):\n",
    "    for j in range(width):\n",
    "        for k in range(depth):\n",
    "            new_edge = (i,j,k)\n",
    "            G.add_node(new_edge)\n",
    "\n",
    "            #connect horizontally\n",
    "            if (i + 1 < length):\n",
    "                G.add_edge(new_edge, (i+1,j,k)) #send\n",
    "                G.add_edge((i+1,j,k), new_edge) #receive\n",
    "            \n",
    "            #connect vertically\n",
    "            if (j + 1 < width):\n",
    "                G.add_edge((i,j+1,k), new_edge) #send\n",
    "                G.add_edge(new_edge, (i,j+1,k)) #receive\n",
    "                \n",
    "            #connect depth wise\n",
    "            if (k + 1 < depth):\n",
    "                G.add_edge((i,j,k+1), new_edge) #send\n",
    "                G.add_edge(new_edge, (i,j,k+1)) #receive\n",
    "\n",
    "#Steps for plotting onto Plotly\n",
    "\"\"\"\n",
    "    Nodes Logic\n",
    "\"\"\"\n",
    "nodes = np.array(G.nodes())\n",
    "scatter = go.Scatter3d(\n",
    "    x=nodes[:, 0], y=nodes[:, 1], z=nodes[:, 2],\n",
    "    mode='markers',\n",
    "    marker=dict(size=10, color='blue')\n",
    ")\n",
    "\n",
    "\"\"\"\n",
    "    Edge Logic\n",
    "\"\"\"\n",
    "edges = []\n",
    "node1, node2 = None, None\n",
    "for edge in G.edges():\n",
    "    for node in enumerate(G.nodes()):\n",
    "        if (node[1] == edge[0]):\n",
    "            node1 = node[0]\n",
    "        elif (node[1] == edge[1]):\n",
    "            node2 = node[0]\n",
    "    edges.append((node1, node2))\n",
    "\n",
    "\"\"\"\n",
    "    Arrow Logic\n",
    "\"\"\"\n",
    "arrows = []\n",
    "for edge in edges:\n",
    "    start_node = nodes[edge[0]]\n",
    "    end_node = nodes[edge[1]]\n",
    "\n",
    "    # Line for the arrow shaft\n",
    "    line = go.Scatter3d(\n",
    "        x=[start_node[0], end_node[0]],\n",
    "        y=[start_node[1], end_node[1]],\n",
    "        z=[start_node[2], end_node[2]],\n",
    "        mode='lines',\n",
    "        line=dict(color='black', width=1)\n",
    "    )\n",
    "    \n",
    "    # Add an arrowhead as a cone at the end of each edge\n",
    "    arrow = go.Cone(\n",
    "        x=[end_node[0]], y=[end_node[1]], z=[end_node[2]], \n",
    "        u=[end_node[0] - start_node[0]],  \n",
    "        v=[end_node[1] - start_node[1]],  \n",
    "        w=[end_node[2] - start_node[2]],  \n",
    "        sizemode=\"absolute\",\n",
    "        sizeref=0.2,  \n",
    "        anchor=\"tip\", \n",
    "        showscale=False,\n",
    "        colorbar=None,   \n",
    "        colorscale=None\n",
    "    )\n",
    "    \n",
    "    # Add both the shaft and the arrowhead to the list\n",
    "    arrows.append(line)\n",
    "    arrows.append(arrow)\n",
    "\n",
    "# Set up the layout for 3D view\n",
    "layout = go.Layout(\n",
    "    scene=dict(\n",
    "        xaxis=dict(range=[-2, 2], title='X'),\n",
    "        yaxis=dict(range=[-2, 2], title='Y'),\n",
    "        zaxis=dict(range=[-2, 2], title='Z'),\n",
    "        aspectratio=dict(x=1, y=1, z=1)\n",
    "    )\n",
    ")\n",
    "\n",
    "# Create the figure with initial frames\n",
    "fig = go.Figure(data=[scatter] + arrows, layout=layout)\n",
    "\n",
    "fig.show()"
   ]
  },
  {
   "cell_type": "markdown",
   "metadata": {},
   "source": [
    "### Parsing the XML for representing them per timestep"
   ]
  },
  {
   "cell_type": "code",
   "execution_count": 178,
   "metadata": {},
   "outputs": [],
   "source": [
    "from lxml import etree\n",
    "import networkx as nx\n",
    "import plotly.graph_objects as go\n",
    "import numpy as np\n",
    "import dash\n",
    "from dash import dcc, html\n",
    "\n",
    "timestep_data = {}\n",
    "\n",
    "tree = etree.parse('gpu_2_link_500_bw_50_chunk_1024_chunk_coll_2.xml')\n",
    "\n",
    "root = tree.getroot()\n",
    "\n",
    "for gpu in root.findall(\"gpu\"):\n",
    "    gpu_id = gpu.get(\"id\")\n",
    "    for tb in gpu.findall(\"tb\"):\n",
    "        tb_id = tb.get(\"id\") #thread block ID\n",
    "        tb_gpuid_send = tb.get(\"send\") #send threadblock ID\n",
    "        tb_gpuid_recv = tb.get(\"recv\") #Receive threadblock ID\n",
    "        for step in tb.findall(\"step\"):\n",
    "            step_id = step.get(\"s\") #step ID number\n",
    "            pkt_type = step.get(\"type\") #send or receive packet?\n",
    "            has_dep = step.get(\"has_dep\") #has dependency? A boolean\n",
    "            depid = step.get(\"depid\") #dependent thread block ID\n",
    "            deps = step.get(\"deps\") #dependent step for the corresponding thread block\n",
    "            chunk_id = step.get(\"srcoff\") #chunk id\n",
    "\n",
    "            if step_id not in timestep_data:\n",
    "                timestep_data[step_id] = {gpu_id : {tb_id : {\"pkt_type\" : pkt_type, \"tb_gpuid_send\" : tb_gpuid_send, \"tb_gpuid_recv\" :tb_gpuid_recv, \"chunk_id\" : chunk_id}}}\n",
    "            else:\n",
    "                if gpu_id not in timestep_data[step_id]:\n",
    "                    timestep_data[step_id][gpu_id] = {tb_id : {\"pkt_type\" : pkt_type, \"tb_gpuid_send\" : tb_gpuid_send, \"tb_gpuid_recv\" :tb_gpuid_recv, \"chunk_id\" : chunk_id}}\n",
    "                else:\n",
    "                    if tb_id not in timestep_data[step_id][gpu_id]:\n",
    "                        timestep_data[step_id][gpu_id][tb_id] = {\"pkt_type\" : pkt_type, \"tb_gpuid_send\" : tb_gpuid_send, \"tb_gpuid_recv\" :tb_gpuid_recv, \"chunk_id\" : chunk_id}"
   ]
  },
  {
   "cell_type": "markdown",
   "metadata": {},
   "source": [
    "### Integrating the basic 3D topological visualization with the data extracted per timestep, outputs timestep number of hypercubes."
   ]
  },
  {
   "cell_type": "code",
   "execution_count": null,
   "metadata": {},
   "outputs": [],
   "source": [
    "#Dimensions for the topology\n",
    "length, width, depth = 3,3,3\n",
    "\n",
    "\"\"\"\n",
    "    Create a hypercube for the given topological dimensions.\n",
    "\"\"\"\n",
    "def create_hypercube():\n",
    "    G = nx.DiGraph()\n",
    "    node_number = 0\n",
    "    for k in range(depth):  # First, iterate over depth\n",
    "        for i in range(length):  # Then iterate over rows\n",
    "            for j in range(width):  # Finally, iterate over columns (within a row)\n",
    "                new_edge = (i, j, k)\n",
    "                G.add_node(new_edge, label = f\"gpu : {node_number}\")\n",
    "                node_number += 1\n",
    "                \n",
    "                # Connect horizontally (within the row)\n",
    "                if (j + 1 < width):\n",
    "                    G.add_edge(new_edge, (i, j+1, k))  # send to the right\n",
    "                    G.add_edge((i, j+1, k), new_edge)  # receive from the right\n",
    "\n",
    "            # Connect vertically (to the next row in the same depth)\n",
    "            if (i + 1 < length):\n",
    "                for j in range(width):  # For each column, connect rows\n",
    "                    G.add_edge((i, j, k), (i+1, j, k))  # send to the next row\n",
    "                    G.add_edge((i+1, j, k), (i, j, k))  # receive from the next row\n",
    "\n",
    "        # After covering all rows and columns for this depth, move to the next depth layer.\n",
    "        if (k + 1 < depth):\n",
    "            for i in range(length):\n",
    "                for j in range(width):\n",
    "                    G.add_edge((i, j, k), (i, j, k+1))  # send to the next depth\n",
    "                    G.add_edge((i, j, k+1), (i, j, k))  # receive from the next depth\n",
    "\n",
    "    return G\n",
    "\n",
    "\"\"\"\n",
    "    Iterate through each timestep, and create a hypercube per timestep.\n",
    "\"\"\"\n",
    "for timestep, time_data in timestep_data.items():\n",
    "    G = create_hypercube()\n",
    "\n",
    "    #define nodes\n",
    "    nodes = np.array(G.nodes())\n",
    "    \n",
    "    #Plot all the nodes using plotly\n",
    "    scatter = go.Scatter3d(\n",
    "        x=nodes[:, 0], y=nodes[:, 1], z=nodes[:, 2],\n",
    "        mode='markers',\n",
    "        marker=dict(size=10, color='blue'),\n",
    "        hoverinfo='text',\n",
    "        hovertext=[f\"gpu : {gpu_id}\" for gpu_id in range(length * width * depth)]\n",
    "    )\n",
    "\n",
    "    #Edge logic\n",
    "    edges = []\n",
    "    for gpu_id, gpu_data in time_data.items():\n",
    "        for tb_id, tb_data in gpu_data.items():\n",
    "            if (tb_data['pkt_type'] == 's'):\n",
    "                edges.append((int(gpu_id), int(tb_data['tb_gpuid_send']), int(tb_data['chunk_id'])))\n",
    "            elif (tb_data['pkt_type'] == 'r'):\n",
    "                edges.append((int(tb_data['tb_gpuid_recv']), int(gpu_id), int(tb_data['chunk_id'])))\n",
    "\n",
    "    arrows = []\n",
    "    for edge in edges:\n",
    "        start_node = nodes[edge[0]]\n",
    "        end_node = nodes[edge[1]]\n",
    "        chunk_id = edge[2]\n",
    "\n",
    "        # Line for the arrow shaft\n",
    "        line = go.Scatter3d(\n",
    "            x=[start_node[0], end_node[0]],\n",
    "            y=[start_node[1], end_node[1]],\n",
    "            z=[start_node[2], end_node[2]],\n",
    "            mode='lines',\n",
    "            line=dict(color='red', width=2),\n",
    "            hoverinfo='text',\n",
    "            hovertext=f\"Chunk_id : {chunk_id}\"\n",
    "        )\n",
    "        \n",
    "        # Add an arrowhead as a cone at the end of each edge\n",
    "        arrow = go.Cone(\n",
    "            x=[end_node[0]], y=[end_node[1]], z=[end_node[2]], \n",
    "            u=[end_node[0] - start_node[0]],  \n",
    "            v=[end_node[1] - start_node[1]],  \n",
    "            w=[end_node[2] - start_node[2]],  \n",
    "            sizemode=\"absolute\",\n",
    "            sizeref=0.2,  \n",
    "            anchor=\"tip\", \n",
    "            showscale=False,\n",
    "            colorbar=None,   \n",
    "            colorscale=None\n",
    "        )\n",
    "        \n",
    "        # Add both the shaft and the arrowhead to the list\n",
    "        arrows.append(line)\n",
    "        arrows.append(arrow)\n",
    "\n",
    "    # Set up the layout for 3D view\n",
    "    layout = go.Layout(\n",
    "        scene=dict(\n",
    "            xaxis=dict(range=[-3, 3], title='X'),\n",
    "            yaxis=dict(range=[-3, 3], title='Y'),\n",
    "            zaxis=dict(range=[-3, 3], title='Z'),\n",
    "            aspectratio=dict(x=1, y=1, z=1)\n",
    "        )\n",
    "    )\n",
    "\n",
    "    # Create the figure with initial frames\n",
    "    fig = go.Figure(data=[scatter] + arrows, layout=layout)\n",
    "\n",
    "    fig.show()"
   ]
  },
  {
   "cell_type": "markdown",
   "metadata": {},
   "source": [
    "### Adding Next and Previous options to display the hypercube for the respective timestep."
   ]
  },
  {
   "cell_type": "code",
   "execution_count": null,
   "metadata": {},
   "outputs": [],
   "source": [
    "import plotly.graph_objects as go\n",
    "import numpy as np\n",
    "import networkx as nx\n",
    "import ipywidgets as widgets\n",
    "from IPython.display import display, clear_output\n",
    "\n",
    "length, width, depth = 3, 3, 3\n",
    "\n",
    "# Function to create the hypercube graph\n",
    "def create_hypercube():\n",
    "    G = nx.DiGraph()\n",
    "    node_number = 0\n",
    "    for k in range(depth):  \n",
    "        for i in range(length):  \n",
    "            for j in range(width):  \n",
    "                new_edge = (i, j, k)\n",
    "                G.add_node(new_edge, label=f\"gpu : {node_number}\")\n",
    "                node_number += 1\n",
    "\n",
    "                if (j + 1 < width):\n",
    "                    G.add_edge(new_edge, (i, j + 1, k))  \n",
    "                    G.add_edge((i, j + 1, k), new_edge)  \n",
    "\n",
    "            if (i + 1 < length):\n",
    "                for j in range(width):\n",
    "                    G.add_edge((i, j, k), (i + 1, j, k))  \n",
    "                    G.add_edge((i + 1, j, k), (i, j, k))  \n",
    "\n",
    "        if (k + 1 < depth):\n",
    "            for i in range(length):\n",
    "                for j in range(width):\n",
    "                    G.add_edge((i, j, k), (i, j, k + 1))  \n",
    "                    G.add_edge((i, j, k + 1), (i, j, k))  \n",
    "\n",
    "    return G\n",
    "\n",
    "# Function to create scatter plot for nodes and edges per timestep\n",
    "def update_plot(timestep):\n",
    "    clear_output(wait=True)\n",
    "    display(prev_button, next_button)\n",
    "\n",
    "    # Initialize the graph data for timestep changes\n",
    "    G = create_hypercube()\n",
    "    nodes = np.array(G.nodes())\n",
    "\n",
    "    time_data = timestep_data[f'{timestep}']\n",
    "    \n",
    "    # Nodes scatter plot\n",
    "    scatter = go.Scatter3d(\n",
    "        x=nodes[:, 0], y=nodes[:, 1], z=nodes[:, 2],\n",
    "        mode='markers',\n",
    "        marker=dict(size=10, color='blue'),\n",
    "        hoverinfo='text',\n",
    "        hovertext=[f\"gpu : {gpu_id}\" for gpu_id in range(length * width * depth)]\n",
    "    )\n",
    "    \n",
    "    # Edges and arrows\n",
    "    edges = []\n",
    "    for gpu_id, gpu_data in time_data.items():\n",
    "        for tb_id, tb_data in gpu_data.items():\n",
    "            if (tb_data['pkt_type'] == 's'):\n",
    "                edges.append((int(gpu_id), int(tb_data['tb_gpuid_send']), int(tb_data['chunk_id'])))\n",
    "            elif (tb_data['pkt_type'] == 'r'):\n",
    "                edges.append((int(tb_data['tb_gpuid_recv']), int(gpu_id), int(tb_data['chunk_id'])))\n",
    "    \n",
    "    arrows = []\n",
    "    for edge in edges:\n",
    "        start_node = nodes[edge[0]]\n",
    "        end_node = nodes[edge[1]]\n",
    "        chunk_id = edge[2]\n",
    "\n",
    "        line = go.Scatter3d(\n",
    "            x=[start_node[0], end_node[0]],\n",
    "            y=[start_node[1], end_node[1]],\n",
    "            z=[start_node[2], end_node[2]],\n",
    "            mode='lines',\n",
    "            line=dict(color='black', width=2),\n",
    "            hoverinfo='text',\n",
    "            hovertext=f\"Chunk_id : {chunk_id}\"\n",
    "        )\n",
    "        \n",
    "        arrow = go.Cone(\n",
    "            x=[end_node[0]], y=[end_node[1]], z=[end_node[2]],\n",
    "            u=[end_node[0] - start_node[0]],\n",
    "            v=[end_node[1] - start_node[1]],\n",
    "            w=[end_node[2] - start_node[2]],\n",
    "            sizemode=\"absolute\",\n",
    "            sizeref=0.2,\n",
    "            anchor=\"tip\",\n",
    "            showscale=False,\n",
    "            colorbar=None,\n",
    "            colorscale=None\n",
    "        )\n",
    "        arrows.append(line)\n",
    "        arrows.append(arrow)\n",
    "\n",
    "    # 3D Plot Layout\n",
    "    layout = go.Layout(\n",
    "        title=f\"Time step = {timestep}\"\n",
    "    )\n",
    "\n",
    "    fig = go.Figure(data=[scatter] + arrows, layout=layout)\n",
    "    fig.show()\n",
    "\n",
    "# Timestep navigation\n",
    "current_timestep = 0\n",
    "max_timestep = len(timestep_data) - 1\n",
    "\n",
    "def on_next_button_clicked(b):\n",
    "    global current_timestep\n",
    "    if current_timestep < max_timestep:\n",
    "        current_timestep += 1\n",
    "        update_plot(current_timestep)\n",
    "\n",
    "def on_prev_button_clicked(b):\n",
    "    global current_timestep\n",
    "    if current_timestep > 0:\n",
    "        current_timestep -= 1\n",
    "        update_plot(current_timestep)\n",
    "\n",
    "# Create Next and Previous buttons\n",
    "next_button = widgets.Button(description=\"Next\")\n",
    "prev_button = widgets.Button(description=\"Previous\")\n",
    "\n",
    "# Bind button clicks to functions\n",
    "next_button.on_click(on_next_button_clicked)\n",
    "prev_button.on_click(on_prev_button_clicked)\n",
    "\n",
    "# Display buttons and initial plot\n",
    "display(prev_button, next_button)\n",
    "update_plot(current_timestep)"
   ]
  },
  {
   "cell_type": "markdown",
   "metadata": {},
   "source": [
    "### Replacing the straight line edges with curved edges"
   ]
  },
  {
   "cell_type": "code",
   "execution_count": 206,
   "metadata": {},
   "outputs": [
    {
     "data": {
      "application/vnd.jupyter.widget-view+json": {
       "model_id": "03120e4984de4fb5a95ec4941328d712",
       "version_major": 2,
       "version_minor": 0
      },
      "text/plain": [
       "Button(description='Previous', style=ButtonStyle())"
      ]
     },
     "metadata": {},
     "output_type": "display_data"
    },
    {
     "data": {
      "application/vnd.jupyter.widget-view+json": {
       "model_id": "daeaaef5ec1b44918a1f0f9e6242f9fb",
       "version_major": 2,
       "version_minor": 0
      },
      "text/plain": [
       "Button(description='Next', style=ButtonStyle())"
      ]
     },
     "metadata": {},
     "output_type": "display_data"
    },
    {
     "data": {
      "application/vnd.plotly.v1+json": {
       "config": {
        "plotlyServerURL": "https://plot.ly"
       },
       "data": [
        {
         "hoverinfo": "text",
         "hovertext": [
          "gpu : 0",
          "gpu : 1",
          "gpu : 2",
          "gpu : 3",
          "gpu : 4",
          "gpu : 5",
          "gpu : 6",
          "gpu : 7"
         ],
         "marker": {
          "color": "blue",
          "size": 12
         },
         "mode": "markers",
         "type": "scatter3d",
         "x": [
          0,
          0,
          1,
          1,
          0,
          0,
          1,
          1
         ],
         "y": [
          0,
          1,
          0,
          1,
          0,
          1,
          0,
          1
         ],
         "z": [
          0,
          0,
          0,
          0,
          1,
          1,
          1,
          1
         ]
        },
        {
         "hoverinfo": "text",
         "hovertext": "Chunk_id : 1",
         "line": {
          "color": "black",
          "width": 2
         },
         "mode": "lines",
         "type": "scatter3d",
         "x": [
          0,
          0.003998334027488546,
          0.007830070803831737,
          0.011495210329029573,
          0.014993752603082049,
          0.01832569762598917,
          0.021491045397750937,
          0.02448979591836735,
          0.027321949187838403,
          0.029987505206164097,
          0.03248646397334444,
          0.03481882548937942,
          0.036984589754269055,
          0.03898375676801333,
          0.04081632653061225,
          0.04248229904206581,
          0.04398167430237401,
          0.045314452311536864,
          0.046480633069554356,
          0.04748021657642649,
          0.04831320283215326,
          0.04897959183673469,
          0.04947938359017076,
          0.04981257809246148,
          0.04997917534360683,
          0.04997917534360683,
          0.04981257809246148,
          0.04947938359017076,
          0.0489795918367347,
          0.04831320283215327,
          0.047480216576426496,
          0.046480633069554356,
          0.045314452311536864,
          0.04398167430237401,
          0.04248229904206581,
          0.040816326530612256,
          0.038983756768013335,
          0.03698458975426906,
          0.03481882548937943,
          0.032486463973344454,
          0.02998750520616411,
          0.027321949187838413,
          0.024489795918367356,
          0.021491045397750944,
          0.01832569762598919,
          0.014993752603082064,
          0.011495210329029584,
          0.007830070803831746,
          0.0039983340274885515,
          0
         ],
         "y": [
          1,
          1,
          1,
          1,
          1,
          1,
          1,
          1,
          1,
          1,
          1,
          1,
          1,
          1,
          1,
          1,
          1,
          1,
          1,
          1,
          1,
          1,
          1,
          1,
          1,
          1,
          1,
          1,
          1,
          1,
          1,
          1,
          1,
          1,
          1,
          1,
          1,
          1,
          1,
          1,
          1,
          1,
          1,
          1,
          1,
          1,
          1,
          1,
          1,
          1
         ],
         "z": [
          0,
          0.02040816326530612,
          0.04081632653061224,
          0.061224489795918366,
          0.08163265306122448,
          0.1020408163265306,
          0.12244897959183673,
          0.14285714285714285,
          0.16326530612244897,
          0.18367346938775508,
          0.2040816326530612,
          0.22448979591836732,
          0.24489795918367346,
          0.26530612244897955,
          0.2857142857142857,
          0.3061224489795918,
          0.32653061224489793,
          0.3469387755102041,
          0.36734693877551017,
          0.3877551020408163,
          0.4081632653061224,
          0.42857142857142855,
          0.44897959183673464,
          0.4693877551020408,
          0.4897959183673469,
          0.5102040816326531,
          0.5306122448979591,
          0.5510204081632653,
          0.5714285714285714,
          0.5918367346938775,
          0.6122448979591836,
          0.6326530612244897,
          0.6530612244897959,
          0.673469387755102,
          0.6938775510204082,
          0.7142857142857142,
          0.7346938775510203,
          0.7551020408163265,
          0.7755102040816326,
          0.7959183673469387,
          0.8163265306122448,
          0.836734693877551,
          0.8571428571428571,
          0.8775510204081632,
          0.8979591836734693,
          0.9183673469387754,
          0.9387755102040816,
          0.9591836734693877,
          0.9795918367346939,
          1
         ]
        },
        {
         "anchor": "tip",
         "colorscale": [
          [
           0,
           "#440154"
          ],
          [
           0.1111111111111111,
           "#482878"
          ],
          [
           0.2222222222222222,
           "#3e4989"
          ],
          [
           0.3333333333333333,
           "#31688e"
          ],
          [
           0.4444444444444444,
           "#26828e"
          ],
          [
           0.5555555555555556,
           "#1f9e89"
          ],
          [
           0.6666666666666666,
           "#35b779"
          ],
          [
           0.7777777777777778,
           "#6ece58"
          ],
          [
           0.8888888888888888,
           "#b5de2b"
          ],
          [
           1,
           "#fde725"
          ]
         ],
         "showscale": false,
         "sizemode": "absolute",
         "sizeref": 0.1,
         "type": "cone",
         "u": [
          -0.021491045397750944
         ],
         "v": [
          0
         ],
         "w": [
          0.12244897959183676
         ],
         "x": [
          0
         ],
         "y": [
          1
         ],
         "z": [
          1
         ]
        },
        {
         "hoverinfo": "text",
         "hovertext": "Chunk_id : 6",
         "line": {
          "color": "black",
          "width": 2
         },
         "mode": "lines",
         "type": "scatter3d",
         "x": [
          1,
          1,
          1,
          1,
          1,
          1,
          1,
          1,
          1,
          1,
          1,
          1,
          1,
          1,
          1,
          1,
          1,
          1,
          1,
          1,
          1,
          1,
          1,
          1,
          1,
          1,
          1,
          1,
          1,
          1,
          1,
          1,
          1,
          1,
          1,
          1,
          1,
          1,
          1,
          1,
          1,
          1,
          1,
          1,
          1,
          1,
          1,
          1,
          1,
          1
         ],
         "y": [
          0,
          0.02040816326530612,
          0.04081632653061224,
          0.061224489795918366,
          0.08163265306122448,
          0.1020408163265306,
          0.12244897959183673,
          0.14285714285714285,
          0.16326530612244897,
          0.18367346938775508,
          0.2040816326530612,
          0.22448979591836732,
          0.24489795918367346,
          0.26530612244897955,
          0.2857142857142857,
          0.3061224489795918,
          0.32653061224489793,
          0.3469387755102041,
          0.36734693877551017,
          0.3877551020408163,
          0.4081632653061224,
          0.42857142857142855,
          0.44897959183673464,
          0.4693877551020408,
          0.4897959183673469,
          0.5102040816326531,
          0.5306122448979591,
          0.5510204081632653,
          0.5714285714285714,
          0.5918367346938775,
          0.6122448979591836,
          0.6326530612244897,
          0.6530612244897959,
          0.673469387755102,
          0.6938775510204082,
          0.7142857142857142,
          0.7346938775510203,
          0.7551020408163265,
          0.7755102040816326,
          0.7959183673469387,
          0.8163265306122448,
          0.836734693877551,
          0.8571428571428571,
          0.8775510204081632,
          0.8979591836734693,
          0.9183673469387754,
          0.9387755102040816,
          0.9591836734693877,
          0.9795918367346939,
          1
         ],
         "z": [
          1,
          1.0039983340274885,
          1.0078300708038317,
          1.0114952103290296,
          1.0149937526030821,
          1.0183256976259891,
          1.021491045397751,
          1.0244897959183674,
          1.0273219491878385,
          1.0299875052061642,
          1.0324864639733444,
          1.0348188254893795,
          1.036984589754269,
          1.0389837567680134,
          1.0408163265306123,
          1.042482299042066,
          1.043981674302374,
          1.045314452311537,
          1.0464806330695544,
          1.0474802165764265,
          1.0483132028321533,
          1.0489795918367348,
          1.0494793835901708,
          1.0498125780924614,
          1.049979175343607,
          1.049979175343607,
          1.0498125780924614,
          1.0494793835901708,
          1.0489795918367348,
          1.0483132028321533,
          1.0474802165764265,
          1.0464806330695544,
          1.045314452311537,
          1.043981674302374,
          1.042482299042066,
          1.0408163265306123,
          1.0389837567680134,
          1.036984589754269,
          1.0348188254893795,
          1.0324864639733444,
          1.0299875052061642,
          1.0273219491878385,
          1.0244897959183674,
          1.021491045397751,
          1.0183256976259891,
          1.0149937526030821,
          1.0114952103290296,
          1.0078300708038317,
          1.0039983340274885,
          1
         ]
        },
        {
         "anchor": "tip",
         "colorscale": [
          [
           0,
           "#440154"
          ],
          [
           0.1111111111111111,
           "#482878"
          ],
          [
           0.2222222222222222,
           "#3e4989"
          ],
          [
           0.3333333333333333,
           "#31688e"
          ],
          [
           0.4444444444444444,
           "#26828e"
          ],
          [
           0.5555555555555556,
           "#1f9e89"
          ],
          [
           0.6666666666666666,
           "#35b779"
          ],
          [
           0.7777777777777778,
           "#6ece58"
          ],
          [
           0.8888888888888888,
           "#b5de2b"
          ],
          [
           1,
           "#fde725"
          ]
         ],
         "showscale": false,
         "sizemode": "absolute",
         "sizeref": 0.1,
         "type": "cone",
         "u": [
          0
         ],
         "v": [
          0.12244897959183676
         ],
         "w": [
          -0.02149104539775104
         ],
         "x": [
          1
         ],
         "y": [
          1
         ],
         "z": [
          1
         ]
        },
        {
         "hoverinfo": "text",
         "hovertext": "Chunk_id : 13",
         "line": {
          "color": "black",
          "width": 2
         },
         "mode": "lines",
         "type": "scatter3d",
         "x": [
          1,
          1,
          1,
          1,
          1,
          1,
          1,
          1,
          1,
          1,
          1,
          1,
          1,
          1,
          1,
          1,
          1,
          1,
          1,
          1,
          1,
          1,
          1,
          1,
          1,
          1,
          1,
          1,
          1,
          1,
          1,
          1,
          1,
          1,
          1,
          1,
          1,
          1,
          1,
          1,
          1,
          1,
          1,
          1,
          1,
          1,
          1,
          1,
          1,
          1
         ],
         "y": [
          1,
          0.9795918367346939,
          0.9591836734693877,
          0.9387755102040817,
          0.9183673469387755,
          0.8979591836734694,
          0.8775510204081632,
          0.8571428571428572,
          0.8367346938775511,
          0.8163265306122449,
          0.7959183673469388,
          0.7755102040816326,
          0.7551020408163265,
          0.7346938775510204,
          0.7142857142857143,
          0.6938775510204083,
          0.6734693877551021,
          0.653061224489796,
          0.6326530612244898,
          0.6122448979591837,
          0.5918367346938775,
          0.5714285714285714,
          0.5510204081632654,
          0.5306122448979592,
          0.5102040816326531,
          0.4897959183673469,
          0.4693877551020409,
          0.44897959183673475,
          0.4285714285714286,
          0.40816326530612246,
          0.3877551020408164,
          0.3673469387755103,
          0.34693877551020413,
          0.326530612244898,
          0.30612244897959184,
          0.2857142857142858,
          0.26530612244897966,
          0.24489795918367352,
          0.22448979591836737,
          0.20408163265306134,
          0.1836734693877552,
          0.16326530612244905,
          0.1428571428571429,
          0.12244897959183676,
          0.10204081632653073,
          0.08163265306122458,
          0.061224489795918435,
          0.04081632653061229,
          0.020408163265306145,
          0
         ],
         "z": [
          1,
          0.9960016659725115,
          0.9921699291961683,
          0.9885047896709704,
          0.9850062473969179,
          0.9816743023740108,
          0.9785089546022491,
          0.9755102040816326,
          0.9726780508121615,
          0.9700124947938359,
          0.9675135360266556,
          0.9651811745106206,
          0.9630154102457309,
          0.9610162432319866,
          0.9591836734693877,
          0.9575177009579342,
          0.9560183256976259,
          0.9546855476884631,
          0.9535193669304456,
          0.9525197834235735,
          0.9516867971678467,
          0.9510204081632653,
          0.9505206164098292,
          0.9501874219075385,
          0.9500208246563931,
          0.9500208246563931,
          0.9501874219075385,
          0.9505206164098292,
          0.9510204081632653,
          0.9516867971678467,
          0.9525197834235735,
          0.9535193669304456,
          0.9546855476884631,
          0.9560183256976259,
          0.9575177009579342,
          0.9591836734693877,
          0.9610162432319866,
          0.9630154102457309,
          0.9651811745106206,
          0.9675135360266556,
          0.9700124947938359,
          0.9726780508121615,
          0.9755102040816326,
          0.9785089546022491,
          0.9816743023740108,
          0.9850062473969179,
          0.9885047896709704,
          0.9921699291961682,
          0.9960016659725115,
          1
         ]
        },
        {
         "anchor": "tip",
         "colorscale": [
          [
           0,
           "#440154"
          ],
          [
           0.1111111111111111,
           "#482878"
          ],
          [
           0.2222222222222222,
           "#3e4989"
          ],
          [
           0.3333333333333333,
           "#31688e"
          ],
          [
           0.4444444444444444,
           "#26828e"
          ],
          [
           0.5555555555555556,
           "#1f9e89"
          ],
          [
           0.6666666666666666,
           "#35b779"
          ],
          [
           0.7777777777777778,
           "#6ece58"
          ],
          [
           0.8888888888888888,
           "#b5de2b"
          ],
          [
           1,
           "#fde725"
          ]
         ],
         "showscale": false,
         "sizemode": "absolute",
         "sizeref": 0.1,
         "type": "cone",
         "u": [
          0
         ],
         "v": [
          -0.12244897959183676
         ],
         "w": [
          0.02149104539775093
         ],
         "x": [
          1
         ],
         "y": [
          0
         ],
         "z": [
          1
         ]
        },
        {
         "hoverinfo": "text",
         "hovertext": "Chunk_id : 14",
         "line": {
          "color": "black",
          "width": 2
         },
         "mode": "lines",
         "type": "scatter3d",
         "x": [
          1,
          0.9795918367346939,
          0.9591836734693877,
          0.9387755102040817,
          0.9183673469387755,
          0.8979591836734694,
          0.8775510204081632,
          0.8571428571428572,
          0.8367346938775511,
          0.8163265306122449,
          0.7959183673469388,
          0.7755102040816326,
          0.7551020408163265,
          0.7346938775510204,
          0.7142857142857143,
          0.6938775510204083,
          0.6734693877551021,
          0.653061224489796,
          0.6326530612244898,
          0.6122448979591837,
          0.5918367346938775,
          0.5714285714285714,
          0.5510204081632654,
          0.5306122448979592,
          0.5102040816326531,
          0.4897959183673469,
          0.4693877551020409,
          0.44897959183673475,
          0.4285714285714286,
          0.40816326530612246,
          0.3877551020408164,
          0.3673469387755103,
          0.34693877551020413,
          0.326530612244898,
          0.30612244897959184,
          0.2857142857142858,
          0.26530612244897966,
          0.24489795918367352,
          0.22448979591836737,
          0.20408163265306134,
          0.1836734693877552,
          0.16326530612244905,
          0.1428571428571429,
          0.12244897959183676,
          0.10204081632653073,
          0.08163265306122458,
          0.061224489795918435,
          0.04081632653061229,
          0.020408163265306145,
          0
         ],
         "y": [
          1,
          1,
          1,
          1,
          1,
          1,
          1,
          1,
          1,
          1,
          1,
          1,
          1,
          1,
          1,
          1,
          1,
          1,
          1,
          1,
          1,
          1,
          1,
          1,
          1,
          1,
          1,
          1,
          1,
          1,
          1,
          1,
          1,
          1,
          1,
          1,
          1,
          1,
          1,
          1,
          1,
          1,
          1,
          1,
          1,
          1,
          1,
          1,
          1,
          1
         ],
         "z": [
          1,
          1.0039983340274885,
          1.0078300708038317,
          1.0114952103290296,
          1.0149937526030821,
          1.0183256976259891,
          1.021491045397751,
          1.0244897959183674,
          1.0273219491878385,
          1.0299875052061642,
          1.0324864639733444,
          1.0348188254893795,
          1.036984589754269,
          1.0389837567680134,
          1.0408163265306123,
          1.042482299042066,
          1.043981674302374,
          1.045314452311537,
          1.0464806330695544,
          1.0474802165764265,
          1.0483132028321533,
          1.0489795918367348,
          1.0494793835901708,
          1.0498125780924614,
          1.049979175343607,
          1.049979175343607,
          1.0498125780924614,
          1.0494793835901708,
          1.0489795918367348,
          1.0483132028321533,
          1.0474802165764265,
          1.0464806330695544,
          1.045314452311537,
          1.043981674302374,
          1.042482299042066,
          1.0408163265306123,
          1.0389837567680134,
          1.036984589754269,
          1.0348188254893795,
          1.0324864639733444,
          1.0299875052061642,
          1.0273219491878385,
          1.0244897959183674,
          1.021491045397751,
          1.0183256976259891,
          1.0149937526030821,
          1.0114952103290296,
          1.0078300708038317,
          1.0039983340274885,
          1
         ]
        },
        {
         "anchor": "tip",
         "colorscale": [
          [
           0,
           "#440154"
          ],
          [
           0.1111111111111111,
           "#482878"
          ],
          [
           0.2222222222222222,
           "#3e4989"
          ],
          [
           0.3333333333333333,
           "#31688e"
          ],
          [
           0.4444444444444444,
           "#26828e"
          ],
          [
           0.5555555555555556,
           "#1f9e89"
          ],
          [
           0.6666666666666666,
           "#35b779"
          ],
          [
           0.7777777777777778,
           "#6ece58"
          ],
          [
           0.8888888888888888,
           "#b5de2b"
          ],
          [
           1,
           "#fde725"
          ]
         ],
         "showscale": false,
         "sizemode": "absolute",
         "sizeref": 0.1,
         "type": "cone",
         "u": [
          -0.12244897959183676
         ],
         "v": [
          0
         ],
         "w": [
          -0.02149104539775104
         ],
         "x": [
          0
         ],
         "y": [
          1
         ],
         "z": [
          1
         ]
        },
        {
         "hoverinfo": "text",
         "hovertext": "Chunk_id : 1",
         "line": {
          "color": "black",
          "width": 2
         },
         "mode": "lines",
         "type": "scatter3d",
         "x": [
          0,
          0,
          0,
          0,
          0,
          0,
          0,
          0,
          0,
          0,
          0,
          0,
          0,
          0,
          0,
          0,
          0,
          0,
          0,
          0,
          0,
          0,
          0,
          0,
          0,
          0,
          0,
          0,
          0,
          0,
          0,
          0,
          0,
          0,
          0,
          0,
          0,
          0,
          0,
          0,
          0,
          0,
          0,
          0,
          0,
          0,
          0,
          0,
          0,
          0
         ],
         "y": [
          1,
          0.9795918367346939,
          0.9591836734693877,
          0.9387755102040817,
          0.9183673469387755,
          0.8979591836734694,
          0.8775510204081632,
          0.8571428571428572,
          0.8367346938775511,
          0.8163265306122449,
          0.7959183673469388,
          0.7755102040816326,
          0.7551020408163265,
          0.7346938775510204,
          0.7142857142857143,
          0.6938775510204083,
          0.6734693877551021,
          0.653061224489796,
          0.6326530612244898,
          0.6122448979591837,
          0.5918367346938775,
          0.5714285714285714,
          0.5510204081632654,
          0.5306122448979592,
          0.5102040816326531,
          0.4897959183673469,
          0.4693877551020409,
          0.44897959183673475,
          0.4285714285714286,
          0.40816326530612246,
          0.3877551020408164,
          0.3673469387755103,
          0.34693877551020413,
          0.326530612244898,
          0.30612244897959184,
          0.2857142857142858,
          0.26530612244897966,
          0.24489795918367352,
          0.22448979591836737,
          0.20408163265306134,
          0.1836734693877552,
          0.16326530612244905,
          0.1428571428571429,
          0.12244897959183676,
          0.10204081632653073,
          0.08163265306122458,
          0.061224489795918435,
          0.04081632653061229,
          0.020408163265306145,
          0
         ],
         "z": [
          0,
          0.003998334027488546,
          0.007830070803831737,
          0.011495210329029573,
          0.014993752603082049,
          0.01832569762598917,
          0.021491045397750937,
          0.02448979591836735,
          0.027321949187838403,
          0.029987505206164097,
          0.03248646397334444,
          0.03481882548937942,
          0.036984589754269055,
          0.03898375676801333,
          0.04081632653061225,
          0.04248229904206581,
          0.04398167430237401,
          0.045314452311536864,
          0.046480633069554356,
          0.04748021657642649,
          0.04831320283215326,
          0.04897959183673469,
          0.04947938359017076,
          0.04981257809246148,
          0.04997917534360683,
          0.04997917534360683,
          0.04981257809246148,
          0.04947938359017076,
          0.0489795918367347,
          0.04831320283215327,
          0.047480216576426496,
          0.046480633069554356,
          0.045314452311536864,
          0.04398167430237401,
          0.04248229904206581,
          0.040816326530612256,
          0.038983756768013335,
          0.03698458975426906,
          0.03481882548937943,
          0.032486463973344454,
          0.02998750520616411,
          0.027321949187838413,
          0.024489795918367356,
          0.021491045397750944,
          0.01832569762598919,
          0.014993752603082064,
          0.011495210329029584,
          0.007830070803831746,
          0.0039983340274885515,
          0
         ]
        },
        {
         "anchor": "tip",
         "colorscale": [
          [
           0,
           "#440154"
          ],
          [
           0.1111111111111111,
           "#482878"
          ],
          [
           0.2222222222222222,
           "#3e4989"
          ],
          [
           0.3333333333333333,
           "#31688e"
          ],
          [
           0.4444444444444444,
           "#26828e"
          ],
          [
           0.5555555555555556,
           "#1f9e89"
          ],
          [
           0.6666666666666666,
           "#35b779"
          ],
          [
           0.7777777777777778,
           "#6ece58"
          ],
          [
           0.8888888888888888,
           "#b5de2b"
          ],
          [
           1,
           "#fde725"
          ]
         ],
         "showscale": false,
         "sizemode": "absolute",
         "sizeref": 0.1,
         "type": "cone",
         "u": [
          0
         ],
         "v": [
          -0.12244897959183676
         ],
         "w": [
          -0.021491045397750944
         ],
         "x": [
          0
         ],
         "y": [
          0
         ],
         "z": [
          0
         ]
        },
        {
         "hoverinfo": "text",
         "hovertext": "Chunk_id : 12",
         "line": {
          "color": "black",
          "width": 2
         },
         "mode": "lines",
         "type": "scatter3d",
         "x": [
          0,
          0.02040816326530612,
          0.04081632653061224,
          0.061224489795918366,
          0.08163265306122448,
          0.1020408163265306,
          0.12244897959183673,
          0.14285714285714285,
          0.16326530612244897,
          0.18367346938775508,
          0.2040816326530612,
          0.22448979591836732,
          0.24489795918367346,
          0.26530612244897955,
          0.2857142857142857,
          0.3061224489795918,
          0.32653061224489793,
          0.3469387755102041,
          0.36734693877551017,
          0.3877551020408163,
          0.4081632653061224,
          0.42857142857142855,
          0.44897959183673464,
          0.4693877551020408,
          0.4897959183673469,
          0.5102040816326531,
          0.5306122448979591,
          0.5510204081632653,
          0.5714285714285714,
          0.5918367346938775,
          0.6122448979591836,
          0.6326530612244897,
          0.6530612244897959,
          0.673469387755102,
          0.6938775510204082,
          0.7142857142857142,
          0.7346938775510203,
          0.7551020408163265,
          0.7755102040816326,
          0.7959183673469387,
          0.8163265306122448,
          0.836734693877551,
          0.8571428571428571,
          0.8775510204081632,
          0.8979591836734693,
          0.9183673469387754,
          0.9387755102040816,
          0.9591836734693877,
          0.9795918367346939,
          1
         ],
         "y": [
          1,
          1,
          1,
          1,
          1,
          1,
          1,
          1,
          1,
          1,
          1,
          1,
          1,
          1,
          1,
          1,
          1,
          1,
          1,
          1,
          1,
          1,
          1,
          1,
          1,
          1,
          1,
          1,
          1,
          1,
          1,
          1,
          1,
          1,
          1,
          1,
          1,
          1,
          1,
          1,
          1,
          1,
          1,
          1,
          1,
          1,
          1,
          1,
          1,
          1
         ],
         "z": [
          1,
          0.9960016659725115,
          0.9921699291961683,
          0.9885047896709704,
          0.9850062473969179,
          0.9816743023740108,
          0.9785089546022491,
          0.9755102040816326,
          0.9726780508121615,
          0.9700124947938359,
          0.9675135360266556,
          0.9651811745106206,
          0.9630154102457309,
          0.9610162432319866,
          0.9591836734693877,
          0.9575177009579342,
          0.9560183256976259,
          0.9546855476884631,
          0.9535193669304456,
          0.9525197834235735,
          0.9516867971678467,
          0.9510204081632653,
          0.9505206164098292,
          0.9501874219075385,
          0.9500208246563931,
          0.9500208246563931,
          0.9501874219075385,
          0.9505206164098292,
          0.9510204081632653,
          0.9516867971678467,
          0.9525197834235735,
          0.9535193669304456,
          0.9546855476884631,
          0.9560183256976259,
          0.9575177009579342,
          0.9591836734693877,
          0.9610162432319866,
          0.9630154102457309,
          0.9651811745106206,
          0.9675135360266556,
          0.9700124947938359,
          0.9726780508121615,
          0.9755102040816326,
          0.9785089546022491,
          0.9816743023740108,
          0.9850062473969179,
          0.9885047896709704,
          0.9921699291961682,
          0.9960016659725115,
          1
         ]
        },
        {
         "anchor": "tip",
         "colorscale": [
          [
           0,
           "#440154"
          ],
          [
           0.1111111111111111,
           "#482878"
          ],
          [
           0.2222222222222222,
           "#3e4989"
          ],
          [
           0.3333333333333333,
           "#31688e"
          ],
          [
           0.4444444444444444,
           "#26828e"
          ],
          [
           0.5555555555555556,
           "#1f9e89"
          ],
          [
           0.6666666666666666,
           "#35b779"
          ],
          [
           0.7777777777777778,
           "#6ece58"
          ],
          [
           0.8888888888888888,
           "#b5de2b"
          ],
          [
           1,
           "#fde725"
          ]
         ],
         "showscale": false,
         "sizemode": "absolute",
         "sizeref": 0.1,
         "type": "cone",
         "u": [
          0.12244897959183676
         ],
         "v": [
          0
         ],
         "w": [
          0.02149104539775093
         ],
         "x": [
          1
         ],
         "y": [
          1
         ],
         "z": [
          1
         ]
        },
        {
         "hoverinfo": "text",
         "hovertext": "Chunk_id : 12",
         "line": {
          "color": "black",
          "width": 2
         },
         "mode": "lines",
         "type": "scatter3d",
         "x": [
          1,
          1.0039983340274885,
          1.0078300708038317,
          1.0114952103290296,
          1.0149937526030821,
          1.0183256976259891,
          1.021491045397751,
          1.0244897959183674,
          1.0273219491878385,
          1.0299875052061642,
          1.0324864639733444,
          1.0348188254893795,
          1.036984589754269,
          1.0389837567680134,
          1.0408163265306123,
          1.042482299042066,
          1.043981674302374,
          1.045314452311537,
          1.0464806330695544,
          1.0474802165764265,
          1.0483132028321533,
          1.0489795918367348,
          1.0494793835901708,
          1.0498125780924614,
          1.049979175343607,
          1.049979175343607,
          1.0498125780924614,
          1.0494793835901708,
          1.0489795918367348,
          1.0483132028321533,
          1.0474802165764265,
          1.0464806330695544,
          1.045314452311537,
          1.043981674302374,
          1.042482299042066,
          1.0408163265306123,
          1.0389837567680134,
          1.036984589754269,
          1.0348188254893795,
          1.0324864639733444,
          1.0299875052061642,
          1.0273219491878385,
          1.0244897959183674,
          1.021491045397751,
          1.0183256976259891,
          1.0149937526030821,
          1.0114952103290296,
          1.0078300708038317,
          1.0039983340274885,
          1
         ],
         "y": [
          0,
          0,
          0,
          0,
          0,
          0,
          0,
          0,
          0,
          0,
          0,
          0,
          0,
          0,
          0,
          0,
          0,
          0,
          0,
          0,
          0,
          0,
          0,
          0,
          0,
          0,
          0,
          0,
          0,
          0,
          0,
          0,
          0,
          0,
          0,
          0,
          0,
          0,
          0,
          0,
          0,
          0,
          0,
          0,
          0,
          0,
          0,
          0,
          0,
          0
         ],
         "z": [
          1,
          0.9795918367346939,
          0.9591836734693877,
          0.9387755102040817,
          0.9183673469387755,
          0.8979591836734694,
          0.8775510204081632,
          0.8571428571428572,
          0.8367346938775511,
          0.8163265306122449,
          0.7959183673469388,
          0.7755102040816326,
          0.7551020408163265,
          0.7346938775510204,
          0.7142857142857143,
          0.6938775510204083,
          0.6734693877551021,
          0.653061224489796,
          0.6326530612244898,
          0.6122448979591837,
          0.5918367346938775,
          0.5714285714285714,
          0.5510204081632654,
          0.5306122448979592,
          0.5102040816326531,
          0.4897959183673469,
          0.4693877551020409,
          0.44897959183673475,
          0.4285714285714286,
          0.40816326530612246,
          0.3877551020408164,
          0.3673469387755103,
          0.34693877551020413,
          0.326530612244898,
          0.30612244897959184,
          0.2857142857142858,
          0.26530612244897966,
          0.24489795918367352,
          0.22448979591836737,
          0.20408163265306134,
          0.1836734693877552,
          0.16326530612244905,
          0.1428571428571429,
          0.12244897959183676,
          0.10204081632653073,
          0.08163265306122458,
          0.061224489795918435,
          0.04081632653061229,
          0.020408163265306145,
          0
         ]
        },
        {
         "anchor": "tip",
         "colorscale": [
          [
           0,
           "#440154"
          ],
          [
           0.1111111111111111,
           "#482878"
          ],
          [
           0.2222222222222222,
           "#3e4989"
          ],
          [
           0.3333333333333333,
           "#31688e"
          ],
          [
           0.4444444444444444,
           "#26828e"
          ],
          [
           0.5555555555555556,
           "#1f9e89"
          ],
          [
           0.6666666666666666,
           "#35b779"
          ],
          [
           0.7777777777777778,
           "#6ece58"
          ],
          [
           0.8888888888888888,
           "#b5de2b"
          ],
          [
           1,
           "#fde725"
          ]
         ],
         "showscale": false,
         "sizemode": "absolute",
         "sizeref": 0.1,
         "type": "cone",
         "u": [
          -0.02149104539775104
         ],
         "v": [
          0
         ],
         "w": [
          -0.12244897959183676
         ],
         "x": [
          1
         ],
         "y": [
          0
         ],
         "z": [
          0
         ]
        },
        {
         "hoverinfo": "text",
         "hovertext": "Chunk_id : 1",
         "line": {
          "color": "black",
          "width": 2
         },
         "mode": "lines",
         "type": "scatter3d",
         "x": [
          0,
          0.003998334027488546,
          0.007830070803831737,
          0.011495210329029573,
          0.014993752603082049,
          0.01832569762598917,
          0.021491045397750937,
          0.02448979591836735,
          0.027321949187838403,
          0.029987505206164097,
          0.03248646397334444,
          0.03481882548937942,
          0.036984589754269055,
          0.03898375676801333,
          0.04081632653061225,
          0.04248229904206581,
          0.04398167430237401,
          0.045314452311536864,
          0.046480633069554356,
          0.04748021657642649,
          0.04831320283215326,
          0.04897959183673469,
          0.04947938359017076,
          0.04981257809246148,
          0.04997917534360683,
          0.04997917534360683,
          0.04981257809246148,
          0.04947938359017076,
          0.0489795918367347,
          0.04831320283215327,
          0.047480216576426496,
          0.046480633069554356,
          0.045314452311536864,
          0.04398167430237401,
          0.04248229904206581,
          0.040816326530612256,
          0.038983756768013335,
          0.03698458975426906,
          0.03481882548937943,
          0.032486463973344454,
          0.02998750520616411,
          0.027321949187838413,
          0.024489795918367356,
          0.021491045397750944,
          0.01832569762598919,
          0.014993752603082064,
          0.011495210329029584,
          0.007830070803831746,
          0.0039983340274885515,
          0
         ],
         "y": [
          0,
          0,
          0,
          0,
          0,
          0,
          0,
          0,
          0,
          0,
          0,
          0,
          0,
          0,
          0,
          0,
          0,
          0,
          0,
          0,
          0,
          0,
          0,
          0,
          0,
          0,
          0,
          0,
          0,
          0,
          0,
          0,
          0,
          0,
          0,
          0,
          0,
          0,
          0,
          0,
          0,
          0,
          0,
          0,
          0,
          0,
          0,
          0,
          0,
          0
         ],
         "z": [
          0,
          0.02040816326530612,
          0.04081632653061224,
          0.061224489795918366,
          0.08163265306122448,
          0.1020408163265306,
          0.12244897959183673,
          0.14285714285714285,
          0.16326530612244897,
          0.18367346938775508,
          0.2040816326530612,
          0.22448979591836732,
          0.24489795918367346,
          0.26530612244897955,
          0.2857142857142857,
          0.3061224489795918,
          0.32653061224489793,
          0.3469387755102041,
          0.36734693877551017,
          0.3877551020408163,
          0.4081632653061224,
          0.42857142857142855,
          0.44897959183673464,
          0.4693877551020408,
          0.4897959183673469,
          0.5102040816326531,
          0.5306122448979591,
          0.5510204081632653,
          0.5714285714285714,
          0.5918367346938775,
          0.6122448979591836,
          0.6326530612244897,
          0.6530612244897959,
          0.673469387755102,
          0.6938775510204082,
          0.7142857142857142,
          0.7346938775510203,
          0.7551020408163265,
          0.7755102040816326,
          0.7959183673469387,
          0.8163265306122448,
          0.836734693877551,
          0.8571428571428571,
          0.8775510204081632,
          0.8979591836734693,
          0.9183673469387754,
          0.9387755102040816,
          0.9591836734693877,
          0.9795918367346939,
          1
         ]
        },
        {
         "anchor": "tip",
         "colorscale": [
          [
           0,
           "#440154"
          ],
          [
           0.1111111111111111,
           "#482878"
          ],
          [
           0.2222222222222222,
           "#3e4989"
          ],
          [
           0.3333333333333333,
           "#31688e"
          ],
          [
           0.4444444444444444,
           "#26828e"
          ],
          [
           0.5555555555555556,
           "#1f9e89"
          ],
          [
           0.6666666666666666,
           "#35b779"
          ],
          [
           0.7777777777777778,
           "#6ece58"
          ],
          [
           0.8888888888888888,
           "#b5de2b"
          ],
          [
           1,
           "#fde725"
          ]
         ],
         "showscale": false,
         "sizemode": "absolute",
         "sizeref": 0.1,
         "type": "cone",
         "u": [
          -0.021491045397750944
         ],
         "v": [
          0
         ],
         "w": [
          0.12244897959183676
         ],
         "x": [
          0
         ],
         "y": [
          0
         ],
         "z": [
          1
         ]
        },
        {
         "hoverinfo": "text",
         "hovertext": "Chunk_id : 6",
         "line": {
          "color": "black",
          "width": 2
         },
         "mode": "lines",
         "type": "scatter3d",
         "x": [
          1,
          1,
          1,
          1,
          1,
          1,
          1,
          1,
          1,
          1,
          1,
          1,
          1,
          1,
          1,
          1,
          1,
          1,
          1,
          1,
          1,
          1,
          1,
          1,
          1,
          1,
          1,
          1,
          1,
          1,
          1,
          1,
          1,
          1,
          1,
          1,
          1,
          1,
          1,
          1,
          1,
          1,
          1,
          1,
          1,
          1,
          1,
          1,
          1,
          1
         ],
         "y": [
          0,
          0.02040816326530612,
          0.04081632653061224,
          0.061224489795918366,
          0.08163265306122448,
          0.1020408163265306,
          0.12244897959183673,
          0.14285714285714285,
          0.16326530612244897,
          0.18367346938775508,
          0.2040816326530612,
          0.22448979591836732,
          0.24489795918367346,
          0.26530612244897955,
          0.2857142857142857,
          0.3061224489795918,
          0.32653061224489793,
          0.3469387755102041,
          0.36734693877551017,
          0.3877551020408163,
          0.4081632653061224,
          0.42857142857142855,
          0.44897959183673464,
          0.4693877551020408,
          0.4897959183673469,
          0.5102040816326531,
          0.5306122448979591,
          0.5510204081632653,
          0.5714285714285714,
          0.5918367346938775,
          0.6122448979591836,
          0.6326530612244897,
          0.6530612244897959,
          0.673469387755102,
          0.6938775510204082,
          0.7142857142857142,
          0.7346938775510203,
          0.7551020408163265,
          0.7755102040816326,
          0.7959183673469387,
          0.8163265306122448,
          0.836734693877551,
          0.8571428571428571,
          0.8775510204081632,
          0.8979591836734693,
          0.9183673469387754,
          0.9387755102040816,
          0.9591836734693877,
          0.9795918367346939,
          1
         ],
         "z": [
          0,
          0.003998334027488546,
          0.007830070803831737,
          0.011495210329029573,
          0.014993752603082049,
          0.01832569762598917,
          0.021491045397750937,
          0.02448979591836735,
          0.027321949187838403,
          0.029987505206164097,
          0.03248646397334444,
          0.03481882548937942,
          0.036984589754269055,
          0.03898375676801333,
          0.04081632653061225,
          0.04248229904206581,
          0.04398167430237401,
          0.045314452311536864,
          0.046480633069554356,
          0.04748021657642649,
          0.04831320283215326,
          0.04897959183673469,
          0.04947938359017076,
          0.04981257809246148,
          0.04997917534360683,
          0.04997917534360683,
          0.04981257809246148,
          0.04947938359017076,
          0.0489795918367347,
          0.04831320283215327,
          0.047480216576426496,
          0.046480633069554356,
          0.045314452311536864,
          0.04398167430237401,
          0.04248229904206581,
          0.040816326530612256,
          0.038983756768013335,
          0.03698458975426906,
          0.03481882548937943,
          0.032486463973344454,
          0.02998750520616411,
          0.027321949187838413,
          0.024489795918367356,
          0.021491045397750944,
          0.01832569762598919,
          0.014993752603082064,
          0.011495210329029584,
          0.007830070803831746,
          0.0039983340274885515,
          0
         ]
        },
        {
         "anchor": "tip",
         "colorscale": [
          [
           0,
           "#440154"
          ],
          [
           0.1111111111111111,
           "#482878"
          ],
          [
           0.2222222222222222,
           "#3e4989"
          ],
          [
           0.3333333333333333,
           "#31688e"
          ],
          [
           0.4444444444444444,
           "#26828e"
          ],
          [
           0.5555555555555556,
           "#1f9e89"
          ],
          [
           0.6666666666666666,
           "#35b779"
          ],
          [
           0.7777777777777778,
           "#6ece58"
          ],
          [
           0.8888888888888888,
           "#b5de2b"
          ],
          [
           1,
           "#fde725"
          ]
         ],
         "showscale": false,
         "sizemode": "absolute",
         "sizeref": 0.1,
         "type": "cone",
         "u": [
          0
         ],
         "v": [
          0.12244897959183676
         ],
         "w": [
          -0.021491045397750944
         ],
         "x": [
          1
         ],
         "y": [
          1
         ],
         "z": [
          0
         ]
        },
        {
         "hoverinfo": "text",
         "hovertext": "Chunk_id : 7",
         "line": {
          "color": "black",
          "width": 2
         },
         "mode": "lines",
         "type": "scatter3d",
         "x": [
          1,
          1.0039983340274885,
          1.0078300708038317,
          1.0114952103290296,
          1.0149937526030821,
          1.0183256976259891,
          1.021491045397751,
          1.0244897959183674,
          1.0273219491878385,
          1.0299875052061642,
          1.0324864639733444,
          1.0348188254893795,
          1.036984589754269,
          1.0389837567680134,
          1.0408163265306123,
          1.042482299042066,
          1.043981674302374,
          1.045314452311537,
          1.0464806330695544,
          1.0474802165764265,
          1.0483132028321533,
          1.0489795918367348,
          1.0494793835901708,
          1.0498125780924614,
          1.049979175343607,
          1.049979175343607,
          1.0498125780924614,
          1.0494793835901708,
          1.0489795918367348,
          1.0483132028321533,
          1.0474802165764265,
          1.0464806330695544,
          1.045314452311537,
          1.043981674302374,
          1.042482299042066,
          1.0408163265306123,
          1.0389837567680134,
          1.036984589754269,
          1.0348188254893795,
          1.0324864639733444,
          1.0299875052061642,
          1.0273219491878385,
          1.0244897959183674,
          1.021491045397751,
          1.0183256976259891,
          1.0149937526030821,
          1.0114952103290296,
          1.0078300708038317,
          1.0039983340274885,
          1
         ],
         "y": [
          1,
          1,
          1,
          1,
          1,
          1,
          1,
          1,
          1,
          1,
          1,
          1,
          1,
          1,
          1,
          1,
          1,
          1,
          1,
          1,
          1,
          1,
          1,
          1,
          1,
          1,
          1,
          1,
          1,
          1,
          1,
          1,
          1,
          1,
          1,
          1,
          1,
          1,
          1,
          1,
          1,
          1,
          1,
          1,
          1,
          1,
          1,
          1,
          1,
          1
         ],
         "z": [
          1,
          0.9795918367346939,
          0.9591836734693877,
          0.9387755102040817,
          0.9183673469387755,
          0.8979591836734694,
          0.8775510204081632,
          0.8571428571428572,
          0.8367346938775511,
          0.8163265306122449,
          0.7959183673469388,
          0.7755102040816326,
          0.7551020408163265,
          0.7346938775510204,
          0.7142857142857143,
          0.6938775510204083,
          0.6734693877551021,
          0.653061224489796,
          0.6326530612244898,
          0.6122448979591837,
          0.5918367346938775,
          0.5714285714285714,
          0.5510204081632654,
          0.5306122448979592,
          0.5102040816326531,
          0.4897959183673469,
          0.4693877551020409,
          0.44897959183673475,
          0.4285714285714286,
          0.40816326530612246,
          0.3877551020408164,
          0.3673469387755103,
          0.34693877551020413,
          0.326530612244898,
          0.30612244897959184,
          0.2857142857142858,
          0.26530612244897966,
          0.24489795918367352,
          0.22448979591836737,
          0.20408163265306134,
          0.1836734693877552,
          0.16326530612244905,
          0.1428571428571429,
          0.12244897959183676,
          0.10204081632653073,
          0.08163265306122458,
          0.061224489795918435,
          0.04081632653061229,
          0.020408163265306145,
          0
         ]
        },
        {
         "anchor": "tip",
         "colorscale": [
          [
           0,
           "#440154"
          ],
          [
           0.1111111111111111,
           "#482878"
          ],
          [
           0.2222222222222222,
           "#3e4989"
          ],
          [
           0.3333333333333333,
           "#31688e"
          ],
          [
           0.4444444444444444,
           "#26828e"
          ],
          [
           0.5555555555555556,
           "#1f9e89"
          ],
          [
           0.6666666666666666,
           "#35b779"
          ],
          [
           0.7777777777777778,
           "#6ece58"
          ],
          [
           0.8888888888888888,
           "#b5de2b"
          ],
          [
           1,
           "#fde725"
          ]
         ],
         "showscale": false,
         "sizemode": "absolute",
         "sizeref": 0.1,
         "type": "cone",
         "u": [
          -0.02149104539775104
         ],
         "v": [
          0
         ],
         "w": [
          -0.12244897959183676
         ],
         "x": [
          1
         ],
         "y": [
          1
         ],
         "z": [
          0
         ]
        },
        {
         "hoverinfo": "text",
         "hovertext": "Chunk_id : 13",
         "line": {
          "color": "black",
          "width": 2
         },
         "mode": "lines",
         "type": "scatter3d",
         "x": [
          0,
          0,
          0,
          0,
          0,
          0,
          0,
          0,
          0,
          0,
          0,
          0,
          0,
          0,
          0,
          0,
          0,
          0,
          0,
          0,
          0,
          0,
          0,
          0,
          0,
          0,
          0,
          0,
          0,
          0,
          0,
          0,
          0,
          0,
          0,
          0,
          0,
          0,
          0,
          0,
          0,
          0,
          0,
          0,
          0,
          0,
          0,
          0,
          0,
          0
         ],
         "y": [
          1,
          0.9795918367346939,
          0.9591836734693877,
          0.9387755102040817,
          0.9183673469387755,
          0.8979591836734694,
          0.8775510204081632,
          0.8571428571428572,
          0.8367346938775511,
          0.8163265306122449,
          0.7959183673469388,
          0.7755102040816326,
          0.7551020408163265,
          0.7346938775510204,
          0.7142857142857143,
          0.6938775510204083,
          0.6734693877551021,
          0.653061224489796,
          0.6326530612244898,
          0.6122448979591837,
          0.5918367346938775,
          0.5714285714285714,
          0.5510204081632654,
          0.5306122448979592,
          0.5102040816326531,
          0.4897959183673469,
          0.4693877551020409,
          0.44897959183673475,
          0.4285714285714286,
          0.40816326530612246,
          0.3877551020408164,
          0.3673469387755103,
          0.34693877551020413,
          0.326530612244898,
          0.30612244897959184,
          0.2857142857142858,
          0.26530612244897966,
          0.24489795918367352,
          0.22448979591836737,
          0.20408163265306134,
          0.1836734693877552,
          0.16326530612244905,
          0.1428571428571429,
          0.12244897959183676,
          0.10204081632653073,
          0.08163265306122458,
          0.061224489795918435,
          0.04081632653061229,
          0.020408163265306145,
          0
         ],
         "z": [
          1,
          1.0039983340274885,
          1.0078300708038317,
          1.0114952103290296,
          1.0149937526030821,
          1.0183256976259891,
          1.021491045397751,
          1.0244897959183674,
          1.0273219491878385,
          1.0299875052061642,
          1.0324864639733444,
          1.0348188254893795,
          1.036984589754269,
          1.0389837567680134,
          1.0408163265306123,
          1.042482299042066,
          1.043981674302374,
          1.045314452311537,
          1.0464806330695544,
          1.0474802165764265,
          1.0483132028321533,
          1.0489795918367348,
          1.0494793835901708,
          1.0498125780924614,
          1.049979175343607,
          1.049979175343607,
          1.0498125780924614,
          1.0494793835901708,
          1.0489795918367348,
          1.0483132028321533,
          1.0474802165764265,
          1.0464806330695544,
          1.045314452311537,
          1.043981674302374,
          1.042482299042066,
          1.0408163265306123,
          1.0389837567680134,
          1.036984589754269,
          1.0348188254893795,
          1.0324864639733444,
          1.0299875052061642,
          1.0273219491878385,
          1.0244897959183674,
          1.021491045397751,
          1.0183256976259891,
          1.0149937526030821,
          1.0114952103290296,
          1.0078300708038317,
          1.0039983340274885,
          1
         ]
        },
        {
         "anchor": "tip",
         "colorscale": [
          [
           0,
           "#440154"
          ],
          [
           0.1111111111111111,
           "#482878"
          ],
          [
           0.2222222222222222,
           "#3e4989"
          ],
          [
           0.3333333333333333,
           "#31688e"
          ],
          [
           0.4444444444444444,
           "#26828e"
          ],
          [
           0.5555555555555556,
           "#1f9e89"
          ],
          [
           0.6666666666666666,
           "#35b779"
          ],
          [
           0.7777777777777778,
           "#6ece58"
          ],
          [
           0.8888888888888888,
           "#b5de2b"
          ],
          [
           1,
           "#fde725"
          ]
         ],
         "showscale": false,
         "sizemode": "absolute",
         "sizeref": 0.1,
         "type": "cone",
         "u": [
          0
         ],
         "v": [
          -0.12244897959183676
         ],
         "w": [
          -0.02149104539775104
         ],
         "x": [
          0
         ],
         "y": [
          0
         ],
         "z": [
          1
         ]
        },
        {
         "hoverinfo": "text",
         "hovertext": "Chunk_id : 2",
         "line": {
          "color": "black",
          "width": 2
         },
         "mode": "lines",
         "type": "scatter3d",
         "x": [
          0,
          0,
          0,
          0,
          0,
          0,
          0,
          0,
          0,
          0,
          0,
          0,
          0,
          0,
          0,
          0,
          0,
          0,
          0,
          0,
          0,
          0,
          0,
          0,
          0,
          0,
          0,
          0,
          0,
          0,
          0,
          0,
          0,
          0,
          0,
          0,
          0,
          0,
          0,
          0,
          0,
          0,
          0,
          0,
          0,
          0,
          0,
          0,
          0,
          0
         ],
         "y": [
          0,
          0.02040816326530612,
          0.04081632653061224,
          0.061224489795918366,
          0.08163265306122448,
          0.1020408163265306,
          0.12244897959183673,
          0.14285714285714285,
          0.16326530612244897,
          0.18367346938775508,
          0.2040816326530612,
          0.22448979591836732,
          0.24489795918367346,
          0.26530612244897955,
          0.2857142857142857,
          0.3061224489795918,
          0.32653061224489793,
          0.3469387755102041,
          0.36734693877551017,
          0.3877551020408163,
          0.4081632653061224,
          0.42857142857142855,
          0.44897959183673464,
          0.4693877551020408,
          0.4897959183673469,
          0.5102040816326531,
          0.5306122448979591,
          0.5510204081632653,
          0.5714285714285714,
          0.5918367346938775,
          0.6122448979591836,
          0.6326530612244897,
          0.6530612244897959,
          0.673469387755102,
          0.6938775510204082,
          0.7142857142857142,
          0.7346938775510203,
          0.7551020408163265,
          0.7755102040816326,
          0.7959183673469387,
          0.8163265306122448,
          0.836734693877551,
          0.8571428571428571,
          0.8775510204081632,
          0.8979591836734693,
          0.9183673469387754,
          0.9387755102040816,
          0.9591836734693877,
          0.9795918367346939,
          1
         ],
         "z": [
          0,
          -0.003998334027488546,
          -0.007830070803831737,
          -0.011495210329029573,
          -0.014993752603082049,
          -0.01832569762598917,
          -0.021491045397750937,
          -0.02448979591836735,
          -0.027321949187838403,
          -0.029987505206164097,
          -0.03248646397334444,
          -0.03481882548937942,
          -0.036984589754269055,
          -0.03898375676801333,
          -0.04081632653061225,
          -0.04248229904206581,
          -0.04398167430237401,
          -0.045314452311536864,
          -0.046480633069554356,
          -0.04748021657642649,
          -0.04831320283215326,
          -0.04897959183673469,
          -0.04947938359017076,
          -0.04981257809246148,
          -0.04997917534360683,
          -0.04997917534360683,
          -0.04981257809246148,
          -0.04947938359017076,
          -0.0489795918367347,
          -0.04831320283215327,
          -0.047480216576426496,
          -0.046480633069554356,
          -0.045314452311536864,
          -0.04398167430237401,
          -0.04248229904206581,
          -0.040816326530612256,
          -0.038983756768013335,
          -0.03698458975426906,
          -0.03481882548937943,
          -0.032486463973344454,
          -0.02998750520616411,
          -0.027321949187838413,
          -0.024489795918367356,
          -0.021491045397750944,
          -0.01832569762598919,
          -0.014993752603082064,
          -0.011495210329029584,
          -0.007830070803831746,
          -0.0039983340274885515,
          0
         ]
        },
        {
         "anchor": "tip",
         "colorscale": [
          [
           0,
           "#440154"
          ],
          [
           0.1111111111111111,
           "#482878"
          ],
          [
           0.2222222222222222,
           "#3e4989"
          ],
          [
           0.3333333333333333,
           "#31688e"
          ],
          [
           0.4444444444444444,
           "#26828e"
          ],
          [
           0.5555555555555556,
           "#1f9e89"
          ],
          [
           0.6666666666666666,
           "#35b779"
          ],
          [
           0.7777777777777778,
           "#6ece58"
          ],
          [
           0.8888888888888888,
           "#b5de2b"
          ],
          [
           1,
           "#fde725"
          ]
         ],
         "showscale": false,
         "sizemode": "absolute",
         "sizeref": 0.1,
         "type": "cone",
         "u": [
          0
         ],
         "v": [
          0.12244897959183676
         ],
         "w": [
          0.021491045397750944
         ],
         "x": [
          0
         ],
         "y": [
          1
         ],
         "z": [
          0
         ]
        },
        {
         "hoverinfo": "text",
         "hovertext": "Chunk_id : 11",
         "line": {
          "color": "black",
          "width": 2
         },
         "mode": "lines",
         "type": "scatter3d",
         "x": [
          1,
          0.9960016659725115,
          0.9921699291961683,
          0.9885047896709704,
          0.9850062473969179,
          0.9816743023740108,
          0.9785089546022491,
          0.9755102040816326,
          0.9726780508121615,
          0.9700124947938359,
          0.9675135360266556,
          0.9651811745106206,
          0.9630154102457309,
          0.9610162432319866,
          0.9591836734693877,
          0.9575177009579342,
          0.9560183256976259,
          0.9546855476884631,
          0.9535193669304456,
          0.9525197834235735,
          0.9516867971678467,
          0.9510204081632653,
          0.9505206164098292,
          0.9501874219075385,
          0.9500208246563931,
          0.9500208246563931,
          0.9501874219075385,
          0.9505206164098292,
          0.9510204081632653,
          0.9516867971678467,
          0.9525197834235735,
          0.9535193669304456,
          0.9546855476884631,
          0.9560183256976259,
          0.9575177009579342,
          0.9591836734693877,
          0.9610162432319866,
          0.9630154102457309,
          0.9651811745106206,
          0.9675135360266556,
          0.9700124947938359,
          0.9726780508121615,
          0.9755102040816326,
          0.9785089546022491,
          0.9816743023740108,
          0.9850062473969179,
          0.9885047896709704,
          0.9921699291961682,
          0.9960016659725115,
          1
         ],
         "y": [
          1,
          1,
          1,
          1,
          1,
          1,
          1,
          1,
          1,
          1,
          1,
          1,
          1,
          1,
          1,
          1,
          1,
          1,
          1,
          1,
          1,
          1,
          1,
          1,
          1,
          1,
          1,
          1,
          1,
          1,
          1,
          1,
          1,
          1,
          1,
          1,
          1,
          1,
          1,
          1,
          1,
          1,
          1,
          1,
          1,
          1,
          1,
          1,
          1,
          1
         ],
         "z": [
          0,
          0.02040816326530612,
          0.04081632653061224,
          0.061224489795918366,
          0.08163265306122448,
          0.1020408163265306,
          0.12244897959183673,
          0.14285714285714285,
          0.16326530612244897,
          0.18367346938775508,
          0.2040816326530612,
          0.22448979591836732,
          0.24489795918367346,
          0.26530612244897955,
          0.2857142857142857,
          0.3061224489795918,
          0.32653061224489793,
          0.3469387755102041,
          0.36734693877551017,
          0.3877551020408163,
          0.4081632653061224,
          0.42857142857142855,
          0.44897959183673464,
          0.4693877551020408,
          0.4897959183673469,
          0.5102040816326531,
          0.5306122448979591,
          0.5510204081632653,
          0.5714285714285714,
          0.5918367346938775,
          0.6122448979591836,
          0.6326530612244897,
          0.6530612244897959,
          0.673469387755102,
          0.6938775510204082,
          0.7142857142857142,
          0.7346938775510203,
          0.7551020408163265,
          0.7755102040816326,
          0.7959183673469387,
          0.8163265306122448,
          0.836734693877551,
          0.8571428571428571,
          0.8775510204081632,
          0.8979591836734693,
          0.9183673469387754,
          0.9387755102040816,
          0.9591836734693877,
          0.9795918367346939,
          1
         ]
        },
        {
         "anchor": "tip",
         "colorscale": [
          [
           0,
           "#440154"
          ],
          [
           0.1111111111111111,
           "#482878"
          ],
          [
           0.2222222222222222,
           "#3e4989"
          ],
          [
           0.3333333333333333,
           "#31688e"
          ],
          [
           0.4444444444444444,
           "#26828e"
          ],
          [
           0.5555555555555556,
           "#1f9e89"
          ],
          [
           0.6666666666666666,
           "#35b779"
          ],
          [
           0.7777777777777778,
           "#6ece58"
          ],
          [
           0.8888888888888888,
           "#b5de2b"
          ],
          [
           1,
           "#fde725"
          ]
         ],
         "showscale": false,
         "sizemode": "absolute",
         "sizeref": 0.1,
         "type": "cone",
         "u": [
          0.02149104539775093
         ],
         "v": [
          0
         ],
         "w": [
          0.12244897959183676
         ],
         "x": [
          1
         ],
         "y": [
          1
         ],
         "z": [
          1
         ]
        },
        {
         "hoverinfo": "text",
         "hovertext": "Chunk_id : 3",
         "line": {
          "color": "black",
          "width": 2
         },
         "mode": "lines",
         "type": "scatter3d",
         "x": [
          1,
          1,
          1,
          1,
          1,
          1,
          1,
          1,
          1,
          1,
          1,
          1,
          1,
          1,
          1,
          1,
          1,
          1,
          1,
          1,
          1,
          1,
          1,
          1,
          1,
          1,
          1,
          1,
          1,
          1,
          1,
          1,
          1,
          1,
          1,
          1,
          1,
          1,
          1,
          1,
          1,
          1,
          1,
          1,
          1,
          1,
          1,
          1,
          1,
          1
         ],
         "y": [
          1,
          0.9795918367346939,
          0.9591836734693877,
          0.9387755102040817,
          0.9183673469387755,
          0.8979591836734694,
          0.8775510204081632,
          0.8571428571428572,
          0.8367346938775511,
          0.8163265306122449,
          0.7959183673469388,
          0.7755102040816326,
          0.7551020408163265,
          0.7346938775510204,
          0.7142857142857143,
          0.6938775510204083,
          0.6734693877551021,
          0.653061224489796,
          0.6326530612244898,
          0.6122448979591837,
          0.5918367346938775,
          0.5714285714285714,
          0.5510204081632654,
          0.5306122448979592,
          0.5102040816326531,
          0.4897959183673469,
          0.4693877551020409,
          0.44897959183673475,
          0.4285714285714286,
          0.40816326530612246,
          0.3877551020408164,
          0.3673469387755103,
          0.34693877551020413,
          0.326530612244898,
          0.30612244897959184,
          0.2857142857142858,
          0.26530612244897966,
          0.24489795918367352,
          0.22448979591836737,
          0.20408163265306134,
          0.1836734693877552,
          0.16326530612244905,
          0.1428571428571429,
          0.12244897959183676,
          0.10204081632653073,
          0.08163265306122458,
          0.061224489795918435,
          0.04081632653061229,
          0.020408163265306145,
          0
         ],
         "z": [
          0,
          -0.003998334027488546,
          -0.007830070803831737,
          -0.011495210329029573,
          -0.014993752603082049,
          -0.01832569762598917,
          -0.021491045397750937,
          -0.02448979591836735,
          -0.027321949187838403,
          -0.029987505206164097,
          -0.03248646397334444,
          -0.03481882548937942,
          -0.036984589754269055,
          -0.03898375676801333,
          -0.04081632653061225,
          -0.04248229904206581,
          -0.04398167430237401,
          -0.045314452311536864,
          -0.046480633069554356,
          -0.04748021657642649,
          -0.04831320283215326,
          -0.04897959183673469,
          -0.04947938359017076,
          -0.04981257809246148,
          -0.04997917534360683,
          -0.04997917534360683,
          -0.04981257809246148,
          -0.04947938359017076,
          -0.0489795918367347,
          -0.04831320283215327,
          -0.047480216576426496,
          -0.046480633069554356,
          -0.045314452311536864,
          -0.04398167430237401,
          -0.04248229904206581,
          -0.040816326530612256,
          -0.038983756768013335,
          -0.03698458975426906,
          -0.03481882548937943,
          -0.032486463973344454,
          -0.02998750520616411,
          -0.027321949187838413,
          -0.024489795918367356,
          -0.021491045397750944,
          -0.01832569762598919,
          -0.014993752603082064,
          -0.011495210329029584,
          -0.007830070803831746,
          -0.0039983340274885515,
          0
         ]
        },
        {
         "anchor": "tip",
         "colorscale": [
          [
           0,
           "#440154"
          ],
          [
           0.1111111111111111,
           "#482878"
          ],
          [
           0.2222222222222222,
           "#3e4989"
          ],
          [
           0.3333333333333333,
           "#31688e"
          ],
          [
           0.4444444444444444,
           "#26828e"
          ],
          [
           0.5555555555555556,
           "#1f9e89"
          ],
          [
           0.6666666666666666,
           "#35b779"
          ],
          [
           0.7777777777777778,
           "#6ece58"
          ],
          [
           0.8888888888888888,
           "#b5de2b"
          ],
          [
           1,
           "#fde725"
          ]
         ],
         "showscale": false,
         "sizemode": "absolute",
         "sizeref": 0.1,
         "type": "cone",
         "u": [
          0
         ],
         "v": [
          -0.12244897959183676
         ],
         "w": [
          0.021491045397750944
         ],
         "x": [
          1
         ],
         "y": [
          0
         ],
         "z": [
          0
         ]
        },
        {
         "hoverinfo": "text",
         "hovertext": "Chunk_id : 10",
         "line": {
          "color": "black",
          "width": 2
         },
         "mode": "lines",
         "type": "scatter3d",
         "x": [
          1,
          0.9960016659725115,
          0.9921699291961683,
          0.9885047896709704,
          0.9850062473969179,
          0.9816743023740108,
          0.9785089546022491,
          0.9755102040816326,
          0.9726780508121615,
          0.9700124947938359,
          0.9675135360266556,
          0.9651811745106206,
          0.9630154102457309,
          0.9610162432319866,
          0.9591836734693877,
          0.9575177009579342,
          0.9560183256976259,
          0.9546855476884631,
          0.9535193669304456,
          0.9525197834235735,
          0.9516867971678467,
          0.9510204081632653,
          0.9505206164098292,
          0.9501874219075385,
          0.9500208246563931,
          0.9500208246563931,
          0.9501874219075385,
          0.9505206164098292,
          0.9510204081632653,
          0.9516867971678467,
          0.9525197834235735,
          0.9535193669304456,
          0.9546855476884631,
          0.9560183256976259,
          0.9575177009579342,
          0.9591836734693877,
          0.9610162432319866,
          0.9630154102457309,
          0.9651811745106206,
          0.9675135360266556,
          0.9700124947938359,
          0.9726780508121615,
          0.9755102040816326,
          0.9785089546022491,
          0.9816743023740108,
          0.9850062473969179,
          0.9885047896709704,
          0.9921699291961682,
          0.9960016659725115,
          1
         ],
         "y": [
          0,
          0,
          0,
          0,
          0,
          0,
          0,
          0,
          0,
          0,
          0,
          0,
          0,
          0,
          0,
          0,
          0,
          0,
          0,
          0,
          0,
          0,
          0,
          0,
          0,
          0,
          0,
          0,
          0,
          0,
          0,
          0,
          0,
          0,
          0,
          0,
          0,
          0,
          0,
          0,
          0,
          0,
          0,
          0,
          0,
          0,
          0,
          0,
          0,
          0
         ],
         "z": [
          0,
          0.02040816326530612,
          0.04081632653061224,
          0.061224489795918366,
          0.08163265306122448,
          0.1020408163265306,
          0.12244897959183673,
          0.14285714285714285,
          0.16326530612244897,
          0.18367346938775508,
          0.2040816326530612,
          0.22448979591836732,
          0.24489795918367346,
          0.26530612244897955,
          0.2857142857142857,
          0.3061224489795918,
          0.32653061224489793,
          0.3469387755102041,
          0.36734693877551017,
          0.3877551020408163,
          0.4081632653061224,
          0.42857142857142855,
          0.44897959183673464,
          0.4693877551020408,
          0.4897959183673469,
          0.5102040816326531,
          0.5306122448979591,
          0.5510204081632653,
          0.5714285714285714,
          0.5918367346938775,
          0.6122448979591836,
          0.6326530612244897,
          0.6530612244897959,
          0.673469387755102,
          0.6938775510204082,
          0.7142857142857142,
          0.7346938775510203,
          0.7551020408163265,
          0.7755102040816326,
          0.7959183673469387,
          0.8163265306122448,
          0.836734693877551,
          0.8571428571428571,
          0.8775510204081632,
          0.8979591836734693,
          0.9183673469387754,
          0.9387755102040816,
          0.9591836734693877,
          0.9795918367346939,
          1
         ]
        },
        {
         "anchor": "tip",
         "colorscale": [
          [
           0,
           "#440154"
          ],
          [
           0.1111111111111111,
           "#482878"
          ],
          [
           0.2222222222222222,
           "#3e4989"
          ],
          [
           0.3333333333333333,
           "#31688e"
          ],
          [
           0.4444444444444444,
           "#26828e"
          ],
          [
           0.5555555555555556,
           "#1f9e89"
          ],
          [
           0.6666666666666666,
           "#35b779"
          ],
          [
           0.7777777777777778,
           "#6ece58"
          ],
          [
           0.8888888888888888,
           "#b5de2b"
          ],
          [
           1,
           "#fde725"
          ]
         ],
         "showscale": false,
         "sizemode": "absolute",
         "sizeref": 0.1,
         "type": "cone",
         "u": [
          0.02149104539775093
         ],
         "v": [
          0
         ],
         "w": [
          0.12244897959183676
         ],
         "x": [
          1
         ],
         "y": [
          0
         ],
         "z": [
          1
         ]
        },
        {
         "hoverinfo": "text",
         "hovertext": "Chunk_id : 2",
         "line": {
          "color": "black",
          "width": 2
         },
         "mode": "lines",
         "type": "scatter3d",
         "x": [
          1,
          0.9795918367346939,
          0.9591836734693877,
          0.9387755102040817,
          0.9183673469387755,
          0.8979591836734694,
          0.8775510204081632,
          0.8571428571428572,
          0.8367346938775511,
          0.8163265306122449,
          0.7959183673469388,
          0.7755102040816326,
          0.7551020408163265,
          0.7346938775510204,
          0.7142857142857143,
          0.6938775510204083,
          0.6734693877551021,
          0.653061224489796,
          0.6326530612244898,
          0.6122448979591837,
          0.5918367346938775,
          0.5714285714285714,
          0.5510204081632654,
          0.5306122448979592,
          0.5102040816326531,
          0.4897959183673469,
          0.4693877551020409,
          0.44897959183673475,
          0.4285714285714286,
          0.40816326530612246,
          0.3877551020408164,
          0.3673469387755103,
          0.34693877551020413,
          0.326530612244898,
          0.30612244897959184,
          0.2857142857142858,
          0.26530612244897966,
          0.24489795918367352,
          0.22448979591836737,
          0.20408163265306134,
          0.1836734693877552,
          0.16326530612244905,
          0.1428571428571429,
          0.12244897959183676,
          0.10204081632653073,
          0.08163265306122458,
          0.061224489795918435,
          0.04081632653061229,
          0.020408163265306145,
          0
         ],
         "y": [
          0,
          0,
          0,
          0,
          0,
          0,
          0,
          0,
          0,
          0,
          0,
          0,
          0,
          0,
          0,
          0,
          0,
          0,
          0,
          0,
          0,
          0,
          0,
          0,
          0,
          0,
          0,
          0,
          0,
          0,
          0,
          0,
          0,
          0,
          0,
          0,
          0,
          0,
          0,
          0,
          0,
          0,
          0,
          0,
          0,
          0,
          0,
          0,
          0,
          0
         ],
         "z": [
          1,
          1.0039983340274885,
          1.0078300708038317,
          1.0114952103290296,
          1.0149937526030821,
          1.0183256976259891,
          1.021491045397751,
          1.0244897959183674,
          1.0273219491878385,
          1.0299875052061642,
          1.0324864639733444,
          1.0348188254893795,
          1.036984589754269,
          1.0389837567680134,
          1.0408163265306123,
          1.042482299042066,
          1.043981674302374,
          1.045314452311537,
          1.0464806330695544,
          1.0474802165764265,
          1.0483132028321533,
          1.0489795918367348,
          1.0494793835901708,
          1.0498125780924614,
          1.049979175343607,
          1.049979175343607,
          1.0498125780924614,
          1.0494793835901708,
          1.0489795918367348,
          1.0483132028321533,
          1.0474802165764265,
          1.0464806330695544,
          1.045314452311537,
          1.043981674302374,
          1.042482299042066,
          1.0408163265306123,
          1.0389837567680134,
          1.036984589754269,
          1.0348188254893795,
          1.0324864639733444,
          1.0299875052061642,
          1.0273219491878385,
          1.0244897959183674,
          1.021491045397751,
          1.0183256976259891,
          1.0149937526030821,
          1.0114952103290296,
          1.0078300708038317,
          1.0039983340274885,
          1
         ]
        },
        {
         "anchor": "tip",
         "colorscale": [
          [
           0,
           "#440154"
          ],
          [
           0.1111111111111111,
           "#482878"
          ],
          [
           0.2222222222222222,
           "#3e4989"
          ],
          [
           0.3333333333333333,
           "#31688e"
          ],
          [
           0.4444444444444444,
           "#26828e"
          ],
          [
           0.5555555555555556,
           "#1f9e89"
          ],
          [
           0.6666666666666666,
           "#35b779"
          ],
          [
           0.7777777777777778,
           "#6ece58"
          ],
          [
           0.8888888888888888,
           "#b5de2b"
          ],
          [
           1,
           "#fde725"
          ]
         ],
         "showscale": false,
         "sizemode": "absolute",
         "sizeref": 0.1,
         "type": "cone",
         "u": [
          -0.12244897959183676
         ],
         "v": [
          0
         ],
         "w": [
          -0.02149104539775104
         ],
         "x": [
          0
         ],
         "y": [
          0
         ],
         "z": [
          1
         ]
        },
        {
         "hoverinfo": "text",
         "hovertext": "Chunk_id : 7",
         "line": {
          "color": "black",
          "width": 2
         },
         "mode": "lines",
         "type": "scatter3d",
         "x": [
          0,
          -0.003998334027488546,
          -0.007830070803831737,
          -0.011495210329029573,
          -0.014993752603082049,
          -0.01832569762598917,
          -0.021491045397750937,
          -0.02448979591836735,
          -0.027321949187838403,
          -0.029987505206164097,
          -0.03248646397334444,
          -0.03481882548937942,
          -0.036984589754269055,
          -0.03898375676801333,
          -0.04081632653061225,
          -0.04248229904206581,
          -0.04398167430237401,
          -0.045314452311536864,
          -0.046480633069554356,
          -0.04748021657642649,
          -0.04831320283215326,
          -0.04897959183673469,
          -0.04947938359017076,
          -0.04981257809246148,
          -0.04997917534360683,
          -0.04997917534360683,
          -0.04981257809246148,
          -0.04947938359017076,
          -0.0489795918367347,
          -0.04831320283215327,
          -0.047480216576426496,
          -0.046480633069554356,
          -0.045314452311536864,
          -0.04398167430237401,
          -0.04248229904206581,
          -0.040816326530612256,
          -0.038983756768013335,
          -0.03698458975426906,
          -0.03481882548937943,
          -0.032486463973344454,
          -0.02998750520616411,
          -0.027321949187838413,
          -0.024489795918367356,
          -0.021491045397750944,
          -0.01832569762598919,
          -0.014993752603082064,
          -0.011495210329029584,
          -0.007830070803831746,
          -0.0039983340274885515,
          0
         ],
         "y": [
          1,
          1,
          1,
          1,
          1,
          1,
          1,
          1,
          1,
          1,
          1,
          1,
          1,
          1,
          1,
          1,
          1,
          1,
          1,
          1,
          1,
          1,
          1,
          1,
          1,
          1,
          1,
          1,
          1,
          1,
          1,
          1,
          1,
          1,
          1,
          1,
          1,
          1,
          1,
          1,
          1,
          1,
          1,
          1,
          1,
          1,
          1,
          1,
          1,
          1
         ],
         "z": [
          1,
          0.9795918367346939,
          0.9591836734693877,
          0.9387755102040817,
          0.9183673469387755,
          0.8979591836734694,
          0.8775510204081632,
          0.8571428571428572,
          0.8367346938775511,
          0.8163265306122449,
          0.7959183673469388,
          0.7755102040816326,
          0.7551020408163265,
          0.7346938775510204,
          0.7142857142857143,
          0.6938775510204083,
          0.6734693877551021,
          0.653061224489796,
          0.6326530612244898,
          0.6122448979591837,
          0.5918367346938775,
          0.5714285714285714,
          0.5510204081632654,
          0.5306122448979592,
          0.5102040816326531,
          0.4897959183673469,
          0.4693877551020409,
          0.44897959183673475,
          0.4285714285714286,
          0.40816326530612246,
          0.3877551020408164,
          0.3673469387755103,
          0.34693877551020413,
          0.326530612244898,
          0.30612244897959184,
          0.2857142857142858,
          0.26530612244897966,
          0.24489795918367352,
          0.22448979591836737,
          0.20408163265306134,
          0.1836734693877552,
          0.16326530612244905,
          0.1428571428571429,
          0.12244897959183676,
          0.10204081632653073,
          0.08163265306122458,
          0.061224489795918435,
          0.04081632653061229,
          0.020408163265306145,
          0
         ]
        },
        {
         "anchor": "tip",
         "colorscale": [
          [
           0,
           "#440154"
          ],
          [
           0.1111111111111111,
           "#482878"
          ],
          [
           0.2222222222222222,
           "#3e4989"
          ],
          [
           0.3333333333333333,
           "#31688e"
          ],
          [
           0.4444444444444444,
           "#26828e"
          ],
          [
           0.5555555555555556,
           "#1f9e89"
          ],
          [
           0.6666666666666666,
           "#35b779"
          ],
          [
           0.7777777777777778,
           "#6ece58"
          ],
          [
           0.8888888888888888,
           "#b5de2b"
          ],
          [
           1,
           "#fde725"
          ]
         ],
         "showscale": false,
         "sizemode": "absolute",
         "sizeref": 0.1,
         "type": "cone",
         "u": [
          0.021491045397750944
         ],
         "v": [
          0
         ],
         "w": [
          -0.12244897959183676
         ],
         "x": [
          0
         ],
         "y": [
          1
         ],
         "z": [
          0
         ]
        },
        {
         "hoverinfo": "text",
         "hovertext": "Chunk_id : 5",
         "line": {
          "color": "black",
          "width": 2
         },
         "mode": "lines",
         "type": "scatter3d",
         "x": [
          0,
          -0.003998334027488546,
          -0.007830070803831737,
          -0.011495210329029573,
          -0.014993752603082049,
          -0.01832569762598917,
          -0.021491045397750937,
          -0.02448979591836735,
          -0.027321949187838403,
          -0.029987505206164097,
          -0.03248646397334444,
          -0.03481882548937942,
          -0.036984589754269055,
          -0.03898375676801333,
          -0.04081632653061225,
          -0.04248229904206581,
          -0.04398167430237401,
          -0.045314452311536864,
          -0.046480633069554356,
          -0.04748021657642649,
          -0.04831320283215326,
          -0.04897959183673469,
          -0.04947938359017076,
          -0.04981257809246148,
          -0.04997917534360683,
          -0.04997917534360683,
          -0.04981257809246148,
          -0.04947938359017076,
          -0.0489795918367347,
          -0.04831320283215327,
          -0.047480216576426496,
          -0.046480633069554356,
          -0.045314452311536864,
          -0.04398167430237401,
          -0.04248229904206581,
          -0.040816326530612256,
          -0.038983756768013335,
          -0.03698458975426906,
          -0.03481882548937943,
          -0.032486463973344454,
          -0.02998750520616411,
          -0.027321949187838413,
          -0.024489795918367356,
          -0.021491045397750944,
          -0.01832569762598919,
          -0.014993752603082064,
          -0.011495210329029584,
          -0.007830070803831746,
          -0.0039983340274885515,
          0
         ],
         "y": [
          0,
          0,
          0,
          0,
          0,
          0,
          0,
          0,
          0,
          0,
          0,
          0,
          0,
          0,
          0,
          0,
          0,
          0,
          0,
          0,
          0,
          0,
          0,
          0,
          0,
          0,
          0,
          0,
          0,
          0,
          0,
          0,
          0,
          0,
          0,
          0,
          0,
          0,
          0,
          0,
          0,
          0,
          0,
          0,
          0,
          0,
          0,
          0,
          0,
          0
         ],
         "z": [
          1,
          0.9795918367346939,
          0.9591836734693877,
          0.9387755102040817,
          0.9183673469387755,
          0.8979591836734694,
          0.8775510204081632,
          0.8571428571428572,
          0.8367346938775511,
          0.8163265306122449,
          0.7959183673469388,
          0.7755102040816326,
          0.7551020408163265,
          0.7346938775510204,
          0.7142857142857143,
          0.6938775510204083,
          0.6734693877551021,
          0.653061224489796,
          0.6326530612244898,
          0.6122448979591837,
          0.5918367346938775,
          0.5714285714285714,
          0.5510204081632654,
          0.5306122448979592,
          0.5102040816326531,
          0.4897959183673469,
          0.4693877551020409,
          0.44897959183673475,
          0.4285714285714286,
          0.40816326530612246,
          0.3877551020408164,
          0.3673469387755103,
          0.34693877551020413,
          0.326530612244898,
          0.30612244897959184,
          0.2857142857142858,
          0.26530612244897966,
          0.24489795918367352,
          0.22448979591836737,
          0.20408163265306134,
          0.1836734693877552,
          0.16326530612244905,
          0.1428571428571429,
          0.12244897959183676,
          0.10204081632653073,
          0.08163265306122458,
          0.061224489795918435,
          0.04081632653061229,
          0.020408163265306145,
          0
         ]
        },
        {
         "anchor": "tip",
         "colorscale": [
          [
           0,
           "#440154"
          ],
          [
           0.1111111111111111,
           "#482878"
          ],
          [
           0.2222222222222222,
           "#3e4989"
          ],
          [
           0.3333333333333333,
           "#31688e"
          ],
          [
           0.4444444444444444,
           "#26828e"
          ],
          [
           0.5555555555555556,
           "#1f9e89"
          ],
          [
           0.6666666666666666,
           "#35b779"
          ],
          [
           0.7777777777777778,
           "#6ece58"
          ],
          [
           0.8888888888888888,
           "#b5de2b"
          ],
          [
           1,
           "#fde725"
          ]
         ],
         "showscale": false,
         "sizemode": "absolute",
         "sizeref": 0.1,
         "type": "cone",
         "u": [
          0.021491045397750944
         ],
         "v": [
          0
         ],
         "w": [
          -0.12244897959183676
         ],
         "x": [
          0
         ],
         "y": [
          0
         ],
         "z": [
          0
         ]
        },
        {
         "hoverinfo": "text",
         "hovertext": "Chunk_id : 6",
         "line": {
          "color": "black",
          "width": 2
         },
         "mode": "lines",
         "type": "scatter3d",
         "x": [
          1,
          0.9795918367346939,
          0.9591836734693877,
          0.9387755102040817,
          0.9183673469387755,
          0.8979591836734694,
          0.8775510204081632,
          0.8571428571428572,
          0.8367346938775511,
          0.8163265306122449,
          0.7959183673469388,
          0.7755102040816326,
          0.7551020408163265,
          0.7346938775510204,
          0.7142857142857143,
          0.6938775510204083,
          0.6734693877551021,
          0.653061224489796,
          0.6326530612244898,
          0.6122448979591837,
          0.5918367346938775,
          0.5714285714285714,
          0.5510204081632654,
          0.5306122448979592,
          0.5102040816326531,
          0.4897959183673469,
          0.4693877551020409,
          0.44897959183673475,
          0.4285714285714286,
          0.40816326530612246,
          0.3877551020408164,
          0.3673469387755103,
          0.34693877551020413,
          0.326530612244898,
          0.30612244897959184,
          0.2857142857142858,
          0.26530612244897966,
          0.24489795918367352,
          0.22448979591836737,
          0.20408163265306134,
          0.1836734693877552,
          0.16326530612244905,
          0.1428571428571429,
          0.12244897959183676,
          0.10204081632653073,
          0.08163265306122458,
          0.061224489795918435,
          0.04081632653061229,
          0.020408163265306145,
          0
         ],
         "y": [
          0,
          0,
          0,
          0,
          0,
          0,
          0,
          0,
          0,
          0,
          0,
          0,
          0,
          0,
          0,
          0,
          0,
          0,
          0,
          0,
          0,
          0,
          0,
          0,
          0,
          0,
          0,
          0,
          0,
          0,
          0,
          0,
          0,
          0,
          0,
          0,
          0,
          0,
          0,
          0,
          0,
          0,
          0,
          0,
          0,
          0,
          0,
          0,
          0,
          0
         ],
         "z": [
          0,
          0.003998334027488546,
          0.007830070803831737,
          0.011495210329029573,
          0.014993752603082049,
          0.01832569762598917,
          0.021491045397750937,
          0.02448979591836735,
          0.027321949187838403,
          0.029987505206164097,
          0.03248646397334444,
          0.03481882548937942,
          0.036984589754269055,
          0.03898375676801333,
          0.04081632653061225,
          0.04248229904206581,
          0.04398167430237401,
          0.045314452311536864,
          0.046480633069554356,
          0.04748021657642649,
          0.04831320283215326,
          0.04897959183673469,
          0.04947938359017076,
          0.04981257809246148,
          0.04997917534360683,
          0.04997917534360683,
          0.04981257809246148,
          0.04947938359017076,
          0.0489795918367347,
          0.04831320283215327,
          0.047480216576426496,
          0.046480633069554356,
          0.045314452311536864,
          0.04398167430237401,
          0.04248229904206581,
          0.040816326530612256,
          0.038983756768013335,
          0.03698458975426906,
          0.03481882548937943,
          0.032486463973344454,
          0.02998750520616411,
          0.027321949187838413,
          0.024489795918367356,
          0.021491045397750944,
          0.01832569762598919,
          0.014993752603082064,
          0.011495210329029584,
          0.007830070803831746,
          0.0039983340274885515,
          0
         ]
        },
        {
         "anchor": "tip",
         "colorscale": [
          [
           0,
           "#440154"
          ],
          [
           0.1111111111111111,
           "#482878"
          ],
          [
           0.2222222222222222,
           "#3e4989"
          ],
          [
           0.3333333333333333,
           "#31688e"
          ],
          [
           0.4444444444444444,
           "#26828e"
          ],
          [
           0.5555555555555556,
           "#1f9e89"
          ],
          [
           0.6666666666666666,
           "#35b779"
          ],
          [
           0.7777777777777778,
           "#6ece58"
          ],
          [
           0.8888888888888888,
           "#b5de2b"
          ],
          [
           1,
           "#fde725"
          ]
         ],
         "showscale": false,
         "sizemode": "absolute",
         "sizeref": 0.1,
         "type": "cone",
         "u": [
          -0.12244897959183676
         ],
         "v": [
          0
         ],
         "w": [
          -0.021491045397750944
         ],
         "x": [
          0
         ],
         "y": [
          0
         ],
         "z": [
          0
         ]
        },
        {
         "hoverinfo": "text",
         "hovertext": "Chunk_id : 4",
         "line": {
          "color": "black",
          "width": 2
         },
         "mode": "lines",
         "type": "scatter3d",
         "x": [
          0,
          0,
          0,
          0,
          0,
          0,
          0,
          0,
          0,
          0,
          0,
          0,
          0,
          0,
          0,
          0,
          0,
          0,
          0,
          0,
          0,
          0,
          0,
          0,
          0,
          0,
          0,
          0,
          0,
          0,
          0,
          0,
          0,
          0,
          0,
          0,
          0,
          0,
          0,
          0,
          0,
          0,
          0,
          0,
          0,
          0,
          0,
          0,
          0,
          0
         ],
         "y": [
          0,
          0.02040816326530612,
          0.04081632653061224,
          0.061224489795918366,
          0.08163265306122448,
          0.1020408163265306,
          0.12244897959183673,
          0.14285714285714285,
          0.16326530612244897,
          0.18367346938775508,
          0.2040816326530612,
          0.22448979591836732,
          0.24489795918367346,
          0.26530612244897955,
          0.2857142857142857,
          0.3061224489795918,
          0.32653061224489793,
          0.3469387755102041,
          0.36734693877551017,
          0.3877551020408163,
          0.4081632653061224,
          0.42857142857142855,
          0.44897959183673464,
          0.4693877551020408,
          0.4897959183673469,
          0.5102040816326531,
          0.5306122448979591,
          0.5510204081632653,
          0.5714285714285714,
          0.5918367346938775,
          0.6122448979591836,
          0.6326530612244897,
          0.6530612244897959,
          0.673469387755102,
          0.6938775510204082,
          0.7142857142857142,
          0.7346938775510203,
          0.7551020408163265,
          0.7755102040816326,
          0.7959183673469387,
          0.8163265306122448,
          0.836734693877551,
          0.8571428571428571,
          0.8775510204081632,
          0.8979591836734693,
          0.9183673469387754,
          0.9387755102040816,
          0.9591836734693877,
          0.9795918367346939,
          1
         ],
         "z": [
          1,
          0.9960016659725115,
          0.9921699291961683,
          0.9885047896709704,
          0.9850062473969179,
          0.9816743023740108,
          0.9785089546022491,
          0.9755102040816326,
          0.9726780508121615,
          0.9700124947938359,
          0.9675135360266556,
          0.9651811745106206,
          0.9630154102457309,
          0.9610162432319866,
          0.9591836734693877,
          0.9575177009579342,
          0.9560183256976259,
          0.9546855476884631,
          0.9535193669304456,
          0.9525197834235735,
          0.9516867971678467,
          0.9510204081632653,
          0.9505206164098292,
          0.9501874219075385,
          0.9500208246563931,
          0.9500208246563931,
          0.9501874219075385,
          0.9505206164098292,
          0.9510204081632653,
          0.9516867971678467,
          0.9525197834235735,
          0.9535193669304456,
          0.9546855476884631,
          0.9560183256976259,
          0.9575177009579342,
          0.9591836734693877,
          0.9610162432319866,
          0.9630154102457309,
          0.9651811745106206,
          0.9675135360266556,
          0.9700124947938359,
          0.9726780508121615,
          0.9755102040816326,
          0.9785089546022491,
          0.9816743023740108,
          0.9850062473969179,
          0.9885047896709704,
          0.9921699291961682,
          0.9960016659725115,
          1
         ]
        },
        {
         "anchor": "tip",
         "colorscale": [
          [
           0,
           "#440154"
          ],
          [
           0.1111111111111111,
           "#482878"
          ],
          [
           0.2222222222222222,
           "#3e4989"
          ],
          [
           0.3333333333333333,
           "#31688e"
          ],
          [
           0.4444444444444444,
           "#26828e"
          ],
          [
           0.5555555555555556,
           "#1f9e89"
          ],
          [
           0.6666666666666666,
           "#35b779"
          ],
          [
           0.7777777777777778,
           "#6ece58"
          ],
          [
           0.8888888888888888,
           "#b5de2b"
          ],
          [
           1,
           "#fde725"
          ]
         ],
         "showscale": false,
         "sizemode": "absolute",
         "sizeref": 0.1,
         "type": "cone",
         "u": [
          0
         ],
         "v": [
          0.12244897959183676
         ],
         "w": [
          0.02149104539775093
         ],
         "x": [
          0
         ],
         "y": [
          1
         ],
         "z": [
          1
         ]
        },
        {
         "hoverinfo": "text",
         "hovertext": "Chunk_id : 3",
         "line": {
          "color": "black",
          "width": 2
         },
         "mode": "lines",
         "type": "scatter3d",
         "x": [
          1,
          0.9795918367346939,
          0.9591836734693877,
          0.9387755102040817,
          0.9183673469387755,
          0.8979591836734694,
          0.8775510204081632,
          0.8571428571428572,
          0.8367346938775511,
          0.8163265306122449,
          0.7959183673469388,
          0.7755102040816326,
          0.7551020408163265,
          0.7346938775510204,
          0.7142857142857143,
          0.6938775510204083,
          0.6734693877551021,
          0.653061224489796,
          0.6326530612244898,
          0.6122448979591837,
          0.5918367346938775,
          0.5714285714285714,
          0.5510204081632654,
          0.5306122448979592,
          0.5102040816326531,
          0.4897959183673469,
          0.4693877551020409,
          0.44897959183673475,
          0.4285714285714286,
          0.40816326530612246,
          0.3877551020408164,
          0.3673469387755103,
          0.34693877551020413,
          0.326530612244898,
          0.30612244897959184,
          0.2857142857142858,
          0.26530612244897966,
          0.24489795918367352,
          0.22448979591836737,
          0.20408163265306134,
          0.1836734693877552,
          0.16326530612244905,
          0.1428571428571429,
          0.12244897959183676,
          0.10204081632653073,
          0.08163265306122458,
          0.061224489795918435,
          0.04081632653061229,
          0.020408163265306145,
          0
         ],
         "y": [
          1,
          1,
          1,
          1,
          1,
          1,
          1,
          1,
          1,
          1,
          1,
          1,
          1,
          1,
          1,
          1,
          1,
          1,
          1,
          1,
          1,
          1,
          1,
          1,
          1,
          1,
          1,
          1,
          1,
          1,
          1,
          1,
          1,
          1,
          1,
          1,
          1,
          1,
          1,
          1,
          1,
          1,
          1,
          1,
          1,
          1,
          1,
          1,
          1,
          1
         ],
         "z": [
          0,
          0.003998334027488546,
          0.007830070803831737,
          0.011495210329029573,
          0.014993752603082049,
          0.01832569762598917,
          0.021491045397750937,
          0.02448979591836735,
          0.027321949187838403,
          0.029987505206164097,
          0.03248646397334444,
          0.03481882548937942,
          0.036984589754269055,
          0.03898375676801333,
          0.04081632653061225,
          0.04248229904206581,
          0.04398167430237401,
          0.045314452311536864,
          0.046480633069554356,
          0.04748021657642649,
          0.04831320283215326,
          0.04897959183673469,
          0.04947938359017076,
          0.04981257809246148,
          0.04997917534360683,
          0.04997917534360683,
          0.04981257809246148,
          0.04947938359017076,
          0.0489795918367347,
          0.04831320283215327,
          0.047480216576426496,
          0.046480633069554356,
          0.045314452311536864,
          0.04398167430237401,
          0.04248229904206581,
          0.040816326530612256,
          0.038983756768013335,
          0.03698458975426906,
          0.03481882548937943,
          0.032486463973344454,
          0.02998750520616411,
          0.027321949187838413,
          0.024489795918367356,
          0.021491045397750944,
          0.01832569762598919,
          0.014993752603082064,
          0.011495210329029584,
          0.007830070803831746,
          0.0039983340274885515,
          0
         ]
        },
        {
         "anchor": "tip",
         "colorscale": [
          [
           0,
           "#440154"
          ],
          [
           0.1111111111111111,
           "#482878"
          ],
          [
           0.2222222222222222,
           "#3e4989"
          ],
          [
           0.3333333333333333,
           "#31688e"
          ],
          [
           0.4444444444444444,
           "#26828e"
          ],
          [
           0.5555555555555556,
           "#1f9e89"
          ],
          [
           0.6666666666666666,
           "#35b779"
          ],
          [
           0.7777777777777778,
           "#6ece58"
          ],
          [
           0.8888888888888888,
           "#b5de2b"
          ],
          [
           1,
           "#fde725"
          ]
         ],
         "showscale": false,
         "sizemode": "absolute",
         "sizeref": 0.1,
         "type": "cone",
         "u": [
          -0.12244897959183676
         ],
         "v": [
          0
         ],
         "w": [
          -0.021491045397750944
         ],
         "x": [
          0
         ],
         "y": [
          1
         ],
         "z": [
          0
         ]
        },
        {
         "hoverinfo": "text",
         "hovertext": "Chunk_id : 4",
         "line": {
          "color": "black",
          "width": 2
         },
         "mode": "lines",
         "type": "scatter3d",
         "x": [
          0,
          0.02040816326530612,
          0.04081632653061224,
          0.061224489795918366,
          0.08163265306122448,
          0.1020408163265306,
          0.12244897959183673,
          0.14285714285714285,
          0.16326530612244897,
          0.18367346938775508,
          0.2040816326530612,
          0.22448979591836732,
          0.24489795918367346,
          0.26530612244897955,
          0.2857142857142857,
          0.3061224489795918,
          0.32653061224489793,
          0.3469387755102041,
          0.36734693877551017,
          0.3877551020408163,
          0.4081632653061224,
          0.42857142857142855,
          0.44897959183673464,
          0.4693877551020408,
          0.4897959183673469,
          0.5102040816326531,
          0.5306122448979591,
          0.5510204081632653,
          0.5714285714285714,
          0.5918367346938775,
          0.6122448979591836,
          0.6326530612244897,
          0.6530612244897959,
          0.673469387755102,
          0.6938775510204082,
          0.7142857142857142,
          0.7346938775510203,
          0.7551020408163265,
          0.7755102040816326,
          0.7959183673469387,
          0.8163265306122448,
          0.836734693877551,
          0.8571428571428571,
          0.8775510204081632,
          0.8979591836734693,
          0.9183673469387754,
          0.9387755102040816,
          0.9591836734693877,
          0.9795918367346939,
          1
         ],
         "y": [
          1,
          1,
          1,
          1,
          1,
          1,
          1,
          1,
          1,
          1,
          1,
          1,
          1,
          1,
          1,
          1,
          1,
          1,
          1,
          1,
          1,
          1,
          1,
          1,
          1,
          1,
          1,
          1,
          1,
          1,
          1,
          1,
          1,
          1,
          1,
          1,
          1,
          1,
          1,
          1,
          1,
          1,
          1,
          1,
          1,
          1,
          1,
          1,
          1,
          1
         ],
         "z": [
          0,
          -0.003998334027488546,
          -0.007830070803831737,
          -0.011495210329029573,
          -0.014993752603082049,
          -0.01832569762598917,
          -0.021491045397750937,
          -0.02448979591836735,
          -0.027321949187838403,
          -0.029987505206164097,
          -0.03248646397334444,
          -0.03481882548937942,
          -0.036984589754269055,
          -0.03898375676801333,
          -0.04081632653061225,
          -0.04248229904206581,
          -0.04398167430237401,
          -0.045314452311536864,
          -0.046480633069554356,
          -0.04748021657642649,
          -0.04831320283215326,
          -0.04897959183673469,
          -0.04947938359017076,
          -0.04981257809246148,
          -0.04997917534360683,
          -0.04997917534360683,
          -0.04981257809246148,
          -0.04947938359017076,
          -0.0489795918367347,
          -0.04831320283215327,
          -0.047480216576426496,
          -0.046480633069554356,
          -0.045314452311536864,
          -0.04398167430237401,
          -0.04248229904206581,
          -0.040816326530612256,
          -0.038983756768013335,
          -0.03698458975426906,
          -0.03481882548937943,
          -0.032486463973344454,
          -0.02998750520616411,
          -0.027321949187838413,
          -0.024489795918367356,
          -0.021491045397750944,
          -0.01832569762598919,
          -0.014993752603082064,
          -0.011495210329029584,
          -0.007830070803831746,
          -0.0039983340274885515,
          0
         ]
        },
        {
         "anchor": "tip",
         "colorscale": [
          [
           0,
           "#440154"
          ],
          [
           0.1111111111111111,
           "#482878"
          ],
          [
           0.2222222222222222,
           "#3e4989"
          ],
          [
           0.3333333333333333,
           "#31688e"
          ],
          [
           0.4444444444444444,
           "#26828e"
          ],
          [
           0.5555555555555556,
           "#1f9e89"
          ],
          [
           0.6666666666666666,
           "#35b779"
          ],
          [
           0.7777777777777778,
           "#6ece58"
          ],
          [
           0.8888888888888888,
           "#b5de2b"
          ],
          [
           1,
           "#fde725"
          ]
         ],
         "showscale": false,
         "sizemode": "absolute",
         "sizeref": 0.1,
         "type": "cone",
         "u": [
          0.12244897959183676
         ],
         "v": [
          0
         ],
         "w": [
          0.021491045397750944
         ],
         "x": [
          1
         ],
         "y": [
          1
         ],
         "z": [
          0
         ]
        },
        {
         "hoverinfo": "text",
         "hovertext": "Chunk_id : 5",
         "line": {
          "color": "black",
          "width": 2
         },
         "mode": "lines",
         "type": "scatter3d",
         "x": [
          0,
          0.02040816326530612,
          0.04081632653061224,
          0.061224489795918366,
          0.08163265306122448,
          0.1020408163265306,
          0.12244897959183673,
          0.14285714285714285,
          0.16326530612244897,
          0.18367346938775508,
          0.2040816326530612,
          0.22448979591836732,
          0.24489795918367346,
          0.26530612244897955,
          0.2857142857142857,
          0.3061224489795918,
          0.32653061224489793,
          0.3469387755102041,
          0.36734693877551017,
          0.3877551020408163,
          0.4081632653061224,
          0.42857142857142855,
          0.44897959183673464,
          0.4693877551020408,
          0.4897959183673469,
          0.5102040816326531,
          0.5306122448979591,
          0.5510204081632653,
          0.5714285714285714,
          0.5918367346938775,
          0.6122448979591836,
          0.6326530612244897,
          0.6530612244897959,
          0.673469387755102,
          0.6938775510204082,
          0.7142857142857142,
          0.7346938775510203,
          0.7551020408163265,
          0.7755102040816326,
          0.7959183673469387,
          0.8163265306122448,
          0.836734693877551,
          0.8571428571428571,
          0.8775510204081632,
          0.8979591836734693,
          0.9183673469387754,
          0.9387755102040816,
          0.9591836734693877,
          0.9795918367346939,
          1
         ],
         "y": [
          0,
          0,
          0,
          0,
          0,
          0,
          0,
          0,
          0,
          0,
          0,
          0,
          0,
          0,
          0,
          0,
          0,
          0,
          0,
          0,
          0,
          0,
          0,
          0,
          0,
          0,
          0,
          0,
          0,
          0,
          0,
          0,
          0,
          0,
          0,
          0,
          0,
          0,
          0,
          0,
          0,
          0,
          0,
          0,
          0,
          0,
          0,
          0,
          0,
          0
         ],
         "z": [
          1,
          0.9960016659725115,
          0.9921699291961683,
          0.9885047896709704,
          0.9850062473969179,
          0.9816743023740108,
          0.9785089546022491,
          0.9755102040816326,
          0.9726780508121615,
          0.9700124947938359,
          0.9675135360266556,
          0.9651811745106206,
          0.9630154102457309,
          0.9610162432319866,
          0.9591836734693877,
          0.9575177009579342,
          0.9560183256976259,
          0.9546855476884631,
          0.9535193669304456,
          0.9525197834235735,
          0.9516867971678467,
          0.9510204081632653,
          0.9505206164098292,
          0.9501874219075385,
          0.9500208246563931,
          0.9500208246563931,
          0.9501874219075385,
          0.9505206164098292,
          0.9510204081632653,
          0.9516867971678467,
          0.9525197834235735,
          0.9535193669304456,
          0.9546855476884631,
          0.9560183256976259,
          0.9575177009579342,
          0.9591836734693877,
          0.9610162432319866,
          0.9630154102457309,
          0.9651811745106206,
          0.9675135360266556,
          0.9700124947938359,
          0.9726780508121615,
          0.9755102040816326,
          0.9785089546022491,
          0.9816743023740108,
          0.9850062473969179,
          0.9885047896709704,
          0.9921699291961682,
          0.9960016659725115,
          1
         ]
        },
        {
         "anchor": "tip",
         "colorscale": [
          [
           0,
           "#440154"
          ],
          [
           0.1111111111111111,
           "#482878"
          ],
          [
           0.2222222222222222,
           "#3e4989"
          ],
          [
           0.3333333333333333,
           "#31688e"
          ],
          [
           0.4444444444444444,
           "#26828e"
          ],
          [
           0.5555555555555556,
           "#1f9e89"
          ],
          [
           0.6666666666666666,
           "#35b779"
          ],
          [
           0.7777777777777778,
           "#6ece58"
          ],
          [
           0.8888888888888888,
           "#b5de2b"
          ],
          [
           1,
           "#fde725"
          ]
         ],
         "showscale": false,
         "sizemode": "absolute",
         "sizeref": 0.1,
         "type": "cone",
         "u": [
          0.12244897959183676
         ],
         "v": [
          0
         ],
         "w": [
          0.02149104539775093
         ],
         "x": [
          1
         ],
         "y": [
          0
         ],
         "z": [
          1
         ]
        },
        {
         "hoverinfo": "text",
         "hovertext": "Chunk_id : 5",
         "line": {
          "color": "black",
          "width": 2
         },
         "mode": "lines",
         "type": "scatter3d",
         "x": [
          0,
          0.02040816326530612,
          0.04081632653061224,
          0.061224489795918366,
          0.08163265306122448,
          0.1020408163265306,
          0.12244897959183673,
          0.14285714285714285,
          0.16326530612244897,
          0.18367346938775508,
          0.2040816326530612,
          0.22448979591836732,
          0.24489795918367346,
          0.26530612244897955,
          0.2857142857142857,
          0.3061224489795918,
          0.32653061224489793,
          0.3469387755102041,
          0.36734693877551017,
          0.3877551020408163,
          0.4081632653061224,
          0.42857142857142855,
          0.44897959183673464,
          0.4693877551020408,
          0.4897959183673469,
          0.5102040816326531,
          0.5306122448979591,
          0.5510204081632653,
          0.5714285714285714,
          0.5918367346938775,
          0.6122448979591836,
          0.6326530612244897,
          0.6530612244897959,
          0.673469387755102,
          0.6938775510204082,
          0.7142857142857142,
          0.7346938775510203,
          0.7551020408163265,
          0.7755102040816326,
          0.7959183673469387,
          0.8163265306122448,
          0.836734693877551,
          0.8571428571428571,
          0.8775510204081632,
          0.8979591836734693,
          0.9183673469387754,
          0.9387755102040816,
          0.9591836734693877,
          0.9795918367346939,
          1
         ],
         "y": [
          0,
          0,
          0,
          0,
          0,
          0,
          0,
          0,
          0,
          0,
          0,
          0,
          0,
          0,
          0,
          0,
          0,
          0,
          0,
          0,
          0,
          0,
          0,
          0,
          0,
          0,
          0,
          0,
          0,
          0,
          0,
          0,
          0,
          0,
          0,
          0,
          0,
          0,
          0,
          0,
          0,
          0,
          0,
          0,
          0,
          0,
          0,
          0,
          0,
          0
         ],
         "z": [
          0,
          -0.003998334027488546,
          -0.007830070803831737,
          -0.011495210329029573,
          -0.014993752603082049,
          -0.01832569762598917,
          -0.021491045397750937,
          -0.02448979591836735,
          -0.027321949187838403,
          -0.029987505206164097,
          -0.03248646397334444,
          -0.03481882548937942,
          -0.036984589754269055,
          -0.03898375676801333,
          -0.04081632653061225,
          -0.04248229904206581,
          -0.04398167430237401,
          -0.045314452311536864,
          -0.046480633069554356,
          -0.04748021657642649,
          -0.04831320283215326,
          -0.04897959183673469,
          -0.04947938359017076,
          -0.04981257809246148,
          -0.04997917534360683,
          -0.04997917534360683,
          -0.04981257809246148,
          -0.04947938359017076,
          -0.0489795918367347,
          -0.04831320283215327,
          -0.047480216576426496,
          -0.046480633069554356,
          -0.045314452311536864,
          -0.04398167430237401,
          -0.04248229904206581,
          -0.040816326530612256,
          -0.038983756768013335,
          -0.03698458975426906,
          -0.03481882548937943,
          -0.032486463973344454,
          -0.02998750520616411,
          -0.027321949187838413,
          -0.024489795918367356,
          -0.021491045397750944,
          -0.01832569762598919,
          -0.014993752603082064,
          -0.011495210329029584,
          -0.007830070803831746,
          -0.0039983340274885515,
          0
         ]
        },
        {
         "anchor": "tip",
         "colorscale": [
          [
           0,
           "#440154"
          ],
          [
           0.1111111111111111,
           "#482878"
          ],
          [
           0.2222222222222222,
           "#3e4989"
          ],
          [
           0.3333333333333333,
           "#31688e"
          ],
          [
           0.4444444444444444,
           "#26828e"
          ],
          [
           0.5555555555555556,
           "#1f9e89"
          ],
          [
           0.6666666666666666,
           "#35b779"
          ],
          [
           0.7777777777777778,
           "#6ece58"
          ],
          [
           0.8888888888888888,
           "#b5de2b"
          ],
          [
           1,
           "#fde725"
          ]
         ],
         "showscale": false,
         "sizemode": "absolute",
         "sizeref": 0.1,
         "type": "cone",
         "u": [
          0.12244897959183676
         ],
         "v": [
          0
         ],
         "w": [
          0.021491045397750944
         ],
         "x": [
          1
         ],
         "y": [
          0
         ],
         "z": [
          0
         ]
        }
       ],
       "layout": {
        "template": {
         "data": {
          "bar": [
           {
            "error_x": {
             "color": "#2a3f5f"
            },
            "error_y": {
             "color": "#2a3f5f"
            },
            "marker": {
             "line": {
              "color": "#E5ECF6",
              "width": 0.5
             },
             "pattern": {
              "fillmode": "overlay",
              "size": 10,
              "solidity": 0.2
             }
            },
            "type": "bar"
           }
          ],
          "barpolar": [
           {
            "marker": {
             "line": {
              "color": "#E5ECF6",
              "width": 0.5
             },
             "pattern": {
              "fillmode": "overlay",
              "size": 10,
              "solidity": 0.2
             }
            },
            "type": "barpolar"
           }
          ],
          "carpet": [
           {
            "aaxis": {
             "endlinecolor": "#2a3f5f",
             "gridcolor": "white",
             "linecolor": "white",
             "minorgridcolor": "white",
             "startlinecolor": "#2a3f5f"
            },
            "baxis": {
             "endlinecolor": "#2a3f5f",
             "gridcolor": "white",
             "linecolor": "white",
             "minorgridcolor": "white",
             "startlinecolor": "#2a3f5f"
            },
            "type": "carpet"
           }
          ],
          "choropleth": [
           {
            "colorbar": {
             "outlinewidth": 0,
             "ticks": ""
            },
            "type": "choropleth"
           }
          ],
          "contour": [
           {
            "colorbar": {
             "outlinewidth": 0,
             "ticks": ""
            },
            "colorscale": [
             [
              0,
              "#0d0887"
             ],
             [
              0.1111111111111111,
              "#46039f"
             ],
             [
              0.2222222222222222,
              "#7201a8"
             ],
             [
              0.3333333333333333,
              "#9c179e"
             ],
             [
              0.4444444444444444,
              "#bd3786"
             ],
             [
              0.5555555555555556,
              "#d8576b"
             ],
             [
              0.6666666666666666,
              "#ed7953"
             ],
             [
              0.7777777777777778,
              "#fb9f3a"
             ],
             [
              0.8888888888888888,
              "#fdca26"
             ],
             [
              1,
              "#f0f921"
             ]
            ],
            "type": "contour"
           }
          ],
          "contourcarpet": [
           {
            "colorbar": {
             "outlinewidth": 0,
             "ticks": ""
            },
            "type": "contourcarpet"
           }
          ],
          "heatmap": [
           {
            "colorbar": {
             "outlinewidth": 0,
             "ticks": ""
            },
            "colorscale": [
             [
              0,
              "#0d0887"
             ],
             [
              0.1111111111111111,
              "#46039f"
             ],
             [
              0.2222222222222222,
              "#7201a8"
             ],
             [
              0.3333333333333333,
              "#9c179e"
             ],
             [
              0.4444444444444444,
              "#bd3786"
             ],
             [
              0.5555555555555556,
              "#d8576b"
             ],
             [
              0.6666666666666666,
              "#ed7953"
             ],
             [
              0.7777777777777778,
              "#fb9f3a"
             ],
             [
              0.8888888888888888,
              "#fdca26"
             ],
             [
              1,
              "#f0f921"
             ]
            ],
            "type": "heatmap"
           }
          ],
          "heatmapgl": [
           {
            "colorbar": {
             "outlinewidth": 0,
             "ticks": ""
            },
            "colorscale": [
             [
              0,
              "#0d0887"
             ],
             [
              0.1111111111111111,
              "#46039f"
             ],
             [
              0.2222222222222222,
              "#7201a8"
             ],
             [
              0.3333333333333333,
              "#9c179e"
             ],
             [
              0.4444444444444444,
              "#bd3786"
             ],
             [
              0.5555555555555556,
              "#d8576b"
             ],
             [
              0.6666666666666666,
              "#ed7953"
             ],
             [
              0.7777777777777778,
              "#fb9f3a"
             ],
             [
              0.8888888888888888,
              "#fdca26"
             ],
             [
              1,
              "#f0f921"
             ]
            ],
            "type": "heatmapgl"
           }
          ],
          "histogram": [
           {
            "marker": {
             "pattern": {
              "fillmode": "overlay",
              "size": 10,
              "solidity": 0.2
             }
            },
            "type": "histogram"
           }
          ],
          "histogram2d": [
           {
            "colorbar": {
             "outlinewidth": 0,
             "ticks": ""
            },
            "colorscale": [
             [
              0,
              "#0d0887"
             ],
             [
              0.1111111111111111,
              "#46039f"
             ],
             [
              0.2222222222222222,
              "#7201a8"
             ],
             [
              0.3333333333333333,
              "#9c179e"
             ],
             [
              0.4444444444444444,
              "#bd3786"
             ],
             [
              0.5555555555555556,
              "#d8576b"
             ],
             [
              0.6666666666666666,
              "#ed7953"
             ],
             [
              0.7777777777777778,
              "#fb9f3a"
             ],
             [
              0.8888888888888888,
              "#fdca26"
             ],
             [
              1,
              "#f0f921"
             ]
            ],
            "type": "histogram2d"
           }
          ],
          "histogram2dcontour": [
           {
            "colorbar": {
             "outlinewidth": 0,
             "ticks": ""
            },
            "colorscale": [
             [
              0,
              "#0d0887"
             ],
             [
              0.1111111111111111,
              "#46039f"
             ],
             [
              0.2222222222222222,
              "#7201a8"
             ],
             [
              0.3333333333333333,
              "#9c179e"
             ],
             [
              0.4444444444444444,
              "#bd3786"
             ],
             [
              0.5555555555555556,
              "#d8576b"
             ],
             [
              0.6666666666666666,
              "#ed7953"
             ],
             [
              0.7777777777777778,
              "#fb9f3a"
             ],
             [
              0.8888888888888888,
              "#fdca26"
             ],
             [
              1,
              "#f0f921"
             ]
            ],
            "type": "histogram2dcontour"
           }
          ],
          "mesh3d": [
           {
            "colorbar": {
             "outlinewidth": 0,
             "ticks": ""
            },
            "type": "mesh3d"
           }
          ],
          "parcoords": [
           {
            "line": {
             "colorbar": {
              "outlinewidth": 0,
              "ticks": ""
             }
            },
            "type": "parcoords"
           }
          ],
          "pie": [
           {
            "automargin": true,
            "type": "pie"
           }
          ],
          "scatter": [
           {
            "fillpattern": {
             "fillmode": "overlay",
             "size": 10,
             "solidity": 0.2
            },
            "type": "scatter"
           }
          ],
          "scatter3d": [
           {
            "line": {
             "colorbar": {
              "outlinewidth": 0,
              "ticks": ""
             }
            },
            "marker": {
             "colorbar": {
              "outlinewidth": 0,
              "ticks": ""
             }
            },
            "type": "scatter3d"
           }
          ],
          "scattercarpet": [
           {
            "marker": {
             "colorbar": {
              "outlinewidth": 0,
              "ticks": ""
             }
            },
            "type": "scattercarpet"
           }
          ],
          "scattergeo": [
           {
            "marker": {
             "colorbar": {
              "outlinewidth": 0,
              "ticks": ""
             }
            },
            "type": "scattergeo"
           }
          ],
          "scattergl": [
           {
            "marker": {
             "colorbar": {
              "outlinewidth": 0,
              "ticks": ""
             }
            },
            "type": "scattergl"
           }
          ],
          "scattermapbox": [
           {
            "marker": {
             "colorbar": {
              "outlinewidth": 0,
              "ticks": ""
             }
            },
            "type": "scattermapbox"
           }
          ],
          "scatterpolar": [
           {
            "marker": {
             "colorbar": {
              "outlinewidth": 0,
              "ticks": ""
             }
            },
            "type": "scatterpolar"
           }
          ],
          "scatterpolargl": [
           {
            "marker": {
             "colorbar": {
              "outlinewidth": 0,
              "ticks": ""
             }
            },
            "type": "scatterpolargl"
           }
          ],
          "scatterternary": [
           {
            "marker": {
             "colorbar": {
              "outlinewidth": 0,
              "ticks": ""
             }
            },
            "type": "scatterternary"
           }
          ],
          "surface": [
           {
            "colorbar": {
             "outlinewidth": 0,
             "ticks": ""
            },
            "colorscale": [
             [
              0,
              "#0d0887"
             ],
             [
              0.1111111111111111,
              "#46039f"
             ],
             [
              0.2222222222222222,
              "#7201a8"
             ],
             [
              0.3333333333333333,
              "#9c179e"
             ],
             [
              0.4444444444444444,
              "#bd3786"
             ],
             [
              0.5555555555555556,
              "#d8576b"
             ],
             [
              0.6666666666666666,
              "#ed7953"
             ],
             [
              0.7777777777777778,
              "#fb9f3a"
             ],
             [
              0.8888888888888888,
              "#fdca26"
             ],
             [
              1,
              "#f0f921"
             ]
            ],
            "type": "surface"
           }
          ],
          "table": [
           {
            "cells": {
             "fill": {
              "color": "#EBF0F8"
             },
             "line": {
              "color": "white"
             }
            },
            "header": {
             "fill": {
              "color": "#C8D4E3"
             },
             "line": {
              "color": "white"
             }
            },
            "type": "table"
           }
          ]
         },
         "layout": {
          "annotationdefaults": {
           "arrowcolor": "#2a3f5f",
           "arrowhead": 0,
           "arrowwidth": 1
          },
          "autotypenumbers": "strict",
          "coloraxis": {
           "colorbar": {
            "outlinewidth": 0,
            "ticks": ""
           }
          },
          "colorscale": {
           "diverging": [
            [
             0,
             "#8e0152"
            ],
            [
             0.1,
             "#c51b7d"
            ],
            [
             0.2,
             "#de77ae"
            ],
            [
             0.3,
             "#f1b6da"
            ],
            [
             0.4,
             "#fde0ef"
            ],
            [
             0.5,
             "#f7f7f7"
            ],
            [
             0.6,
             "#e6f5d0"
            ],
            [
             0.7,
             "#b8e186"
            ],
            [
             0.8,
             "#7fbc41"
            ],
            [
             0.9,
             "#4d9221"
            ],
            [
             1,
             "#276419"
            ]
           ],
           "sequential": [
            [
             0,
             "#0d0887"
            ],
            [
             0.1111111111111111,
             "#46039f"
            ],
            [
             0.2222222222222222,
             "#7201a8"
            ],
            [
             0.3333333333333333,
             "#9c179e"
            ],
            [
             0.4444444444444444,
             "#bd3786"
            ],
            [
             0.5555555555555556,
             "#d8576b"
            ],
            [
             0.6666666666666666,
             "#ed7953"
            ],
            [
             0.7777777777777778,
             "#fb9f3a"
            ],
            [
             0.8888888888888888,
             "#fdca26"
            ],
            [
             1,
             "#f0f921"
            ]
           ],
           "sequentialminus": [
            [
             0,
             "#0d0887"
            ],
            [
             0.1111111111111111,
             "#46039f"
            ],
            [
             0.2222222222222222,
             "#7201a8"
            ],
            [
             0.3333333333333333,
             "#9c179e"
            ],
            [
             0.4444444444444444,
             "#bd3786"
            ],
            [
             0.5555555555555556,
             "#d8576b"
            ],
            [
             0.6666666666666666,
             "#ed7953"
            ],
            [
             0.7777777777777778,
             "#fb9f3a"
            ],
            [
             0.8888888888888888,
             "#fdca26"
            ],
            [
             1,
             "#f0f921"
            ]
           ]
          },
          "colorway": [
           "#636efa",
           "#EF553B",
           "#00cc96",
           "#ab63fa",
           "#FFA15A",
           "#19d3f3",
           "#FF6692",
           "#B6E880",
           "#FF97FF",
           "#FECB52"
          ],
          "font": {
           "color": "#2a3f5f"
          },
          "geo": {
           "bgcolor": "white",
           "lakecolor": "white",
           "landcolor": "#E5ECF6",
           "showlakes": true,
           "showland": true,
           "subunitcolor": "white"
          },
          "hoverlabel": {
           "align": "left"
          },
          "hovermode": "closest",
          "mapbox": {
           "style": "light"
          },
          "paper_bgcolor": "white",
          "plot_bgcolor": "#E5ECF6",
          "polar": {
           "angularaxis": {
            "gridcolor": "white",
            "linecolor": "white",
            "ticks": ""
           },
           "bgcolor": "#E5ECF6",
           "radialaxis": {
            "gridcolor": "white",
            "linecolor": "white",
            "ticks": ""
           }
          },
          "scene": {
           "xaxis": {
            "backgroundcolor": "#E5ECF6",
            "gridcolor": "white",
            "gridwidth": 2,
            "linecolor": "white",
            "showbackground": true,
            "ticks": "",
            "zerolinecolor": "white"
           },
           "yaxis": {
            "backgroundcolor": "#E5ECF6",
            "gridcolor": "white",
            "gridwidth": 2,
            "linecolor": "white",
            "showbackground": true,
            "ticks": "",
            "zerolinecolor": "white"
           },
           "zaxis": {
            "backgroundcolor": "#E5ECF6",
            "gridcolor": "white",
            "gridwidth": 2,
            "linecolor": "white",
            "showbackground": true,
            "ticks": "",
            "zerolinecolor": "white"
           }
          },
          "shapedefaults": {
           "line": {
            "color": "#2a3f5f"
           }
          },
          "ternary": {
           "aaxis": {
            "gridcolor": "white",
            "linecolor": "white",
            "ticks": ""
           },
           "baxis": {
            "gridcolor": "white",
            "linecolor": "white",
            "ticks": ""
           },
           "bgcolor": "#E5ECF6",
           "caxis": {
            "gridcolor": "white",
            "linecolor": "white",
            "ticks": ""
           }
          },
          "title": {
           "x": 0.05
          },
          "xaxis": {
           "automargin": true,
           "gridcolor": "white",
           "linecolor": "white",
           "ticks": "",
           "title": {
            "standoff": 15
           },
           "zerolinecolor": "white",
           "zerolinewidth": 2
          },
          "yaxis": {
           "automargin": true,
           "gridcolor": "white",
           "linecolor": "white",
           "ticks": "",
           "title": {
            "standoff": 15
           },
           "zerolinecolor": "white",
           "zerolinewidth": 2
          }
         }
        },
        "title": {
         "text": "Time step = 1"
        }
       }
      },
      "text/html": [
       "<div>                            <div id=\"cc7f7600-02b2-4f4a-9c4e-546ce1fa21cc\" class=\"plotly-graph-div\" style=\"height:525px; width:100%;\"></div>            <script type=\"text/javascript\">                require([\"plotly\"], function(Plotly) {                    window.PLOTLYENV=window.PLOTLYENV || {};                                    if (document.getElementById(\"cc7f7600-02b2-4f4a-9c4e-546ce1fa21cc\")) {                    Plotly.newPlot(                        \"cc7f7600-02b2-4f4a-9c4e-546ce1fa21cc\",                        [{\"hoverinfo\":\"text\",\"hovertext\":[\"gpu : 0\",\"gpu : 1\",\"gpu : 2\",\"gpu : 3\",\"gpu : 4\",\"gpu : 5\",\"gpu : 6\",\"gpu : 7\"],\"marker\":{\"color\":\"blue\",\"size\":12},\"mode\":\"markers\",\"x\":[0,0,1,1,0,0,1,1],\"y\":[0,1,0,1,0,1,0,1],\"z\":[0,0,0,0,1,1,1,1],\"type\":\"scatter3d\"},{\"hoverinfo\":\"text\",\"hovertext\":\"Chunk_id : 1\",\"line\":{\"color\":\"black\",\"width\":2},\"mode\":\"lines\",\"x\":[0.0,0.003998334027488546,0.007830070803831737,0.011495210329029573,0.014993752603082049,0.01832569762598917,0.021491045397750937,0.02448979591836735,0.027321949187838403,0.029987505206164097,0.03248646397334444,0.03481882548937942,0.036984589754269055,0.03898375676801333,0.04081632653061225,0.04248229904206581,0.04398167430237401,0.045314452311536864,0.046480633069554356,0.04748021657642649,0.04831320283215326,0.04897959183673469,0.04947938359017076,0.04981257809246148,0.04997917534360683,0.04997917534360683,0.04981257809246148,0.04947938359017076,0.0489795918367347,0.04831320283215327,0.047480216576426496,0.046480633069554356,0.045314452311536864,0.04398167430237401,0.04248229904206581,0.040816326530612256,0.038983756768013335,0.03698458975426906,0.03481882548937943,0.032486463973344454,0.02998750520616411,0.027321949187838413,0.024489795918367356,0.021491045397750944,0.01832569762598919,0.014993752603082064,0.011495210329029584,0.007830070803831746,0.0039983340274885515,0.0],\"y\":[1.0,1.0,1.0,1.0,1.0,1.0,1.0,1.0,1.0,1.0,1.0,1.0,1.0,1.0,1.0,1.0,1.0,1.0,1.0,1.0,1.0,1.0,1.0,1.0,1.0,1.0,1.0,1.0,1.0,1.0,1.0,1.0,1.0,1.0,1.0,1.0,1.0,1.0,1.0,1.0,1.0,1.0,1.0,1.0,1.0,1.0,1.0,1.0,1.0,1.0],\"z\":[0.0,0.02040816326530612,0.04081632653061224,0.061224489795918366,0.08163265306122448,0.1020408163265306,0.12244897959183673,0.14285714285714285,0.16326530612244897,0.18367346938775508,0.2040816326530612,0.22448979591836732,0.24489795918367346,0.26530612244897955,0.2857142857142857,0.3061224489795918,0.32653061224489793,0.3469387755102041,0.36734693877551017,0.3877551020408163,0.4081632653061224,0.42857142857142855,0.44897959183673464,0.4693877551020408,0.4897959183673469,0.5102040816326531,0.5306122448979591,0.5510204081632653,0.5714285714285714,0.5918367346938775,0.6122448979591836,0.6326530612244897,0.6530612244897959,0.673469387755102,0.6938775510204082,0.7142857142857142,0.7346938775510203,0.7551020408163265,0.7755102040816326,0.7959183673469387,0.8163265306122448,0.836734693877551,0.8571428571428571,0.8775510204081632,0.8979591836734693,0.9183673469387754,0.9387755102040816,0.9591836734693877,0.9795918367346939,1.0],\"type\":\"scatter3d\"},{\"anchor\":\"tip\",\"colorscale\":[[0.0,\"#440154\"],[0.1111111111111111,\"#482878\"],[0.2222222222222222,\"#3e4989\"],[0.3333333333333333,\"#31688e\"],[0.4444444444444444,\"#26828e\"],[0.5555555555555556,\"#1f9e89\"],[0.6666666666666666,\"#35b779\"],[0.7777777777777778,\"#6ece58\"],[0.8888888888888888,\"#b5de2b\"],[1.0,\"#fde725\"]],\"showscale\":false,\"sizemode\":\"absolute\",\"sizeref\":0.1,\"u\":[-0.021491045397750944],\"v\":[0.0],\"w\":[0.12244897959183676],\"x\":[0],\"y\":[1],\"z\":[1],\"type\":\"cone\"},{\"hoverinfo\":\"text\",\"hovertext\":\"Chunk_id : 6\",\"line\":{\"color\":\"black\",\"width\":2},\"mode\":\"lines\",\"x\":[1.0,1.0,1.0,1.0,1.0,1.0,1.0,1.0,1.0,1.0,1.0,1.0,1.0,1.0,1.0,1.0,1.0,1.0,1.0,1.0,1.0,1.0,1.0,1.0,1.0,1.0,1.0,1.0,1.0,1.0,1.0,1.0,1.0,1.0,1.0,1.0,1.0,1.0,1.0,1.0,1.0,1.0,1.0,1.0,1.0,1.0,1.0,1.0,1.0,1.0],\"y\":[0.0,0.02040816326530612,0.04081632653061224,0.061224489795918366,0.08163265306122448,0.1020408163265306,0.12244897959183673,0.14285714285714285,0.16326530612244897,0.18367346938775508,0.2040816326530612,0.22448979591836732,0.24489795918367346,0.26530612244897955,0.2857142857142857,0.3061224489795918,0.32653061224489793,0.3469387755102041,0.36734693877551017,0.3877551020408163,0.4081632653061224,0.42857142857142855,0.44897959183673464,0.4693877551020408,0.4897959183673469,0.5102040816326531,0.5306122448979591,0.5510204081632653,0.5714285714285714,0.5918367346938775,0.6122448979591836,0.6326530612244897,0.6530612244897959,0.673469387755102,0.6938775510204082,0.7142857142857142,0.7346938775510203,0.7551020408163265,0.7755102040816326,0.7959183673469387,0.8163265306122448,0.836734693877551,0.8571428571428571,0.8775510204081632,0.8979591836734693,0.9183673469387754,0.9387755102040816,0.9591836734693877,0.9795918367346939,1.0],\"z\":[1.0,1.0039983340274885,1.0078300708038317,1.0114952103290296,1.0149937526030821,1.0183256976259891,1.021491045397751,1.0244897959183674,1.0273219491878385,1.0299875052061642,1.0324864639733444,1.0348188254893795,1.036984589754269,1.0389837567680134,1.0408163265306123,1.042482299042066,1.043981674302374,1.045314452311537,1.0464806330695544,1.0474802165764265,1.0483132028321533,1.0489795918367348,1.0494793835901708,1.0498125780924614,1.049979175343607,1.049979175343607,1.0498125780924614,1.0494793835901708,1.0489795918367348,1.0483132028321533,1.0474802165764265,1.0464806330695544,1.045314452311537,1.043981674302374,1.042482299042066,1.0408163265306123,1.0389837567680134,1.036984589754269,1.0348188254893795,1.0324864639733444,1.0299875052061642,1.0273219491878385,1.0244897959183674,1.021491045397751,1.0183256976259891,1.0149937526030821,1.0114952103290296,1.0078300708038317,1.0039983340274885,1.0],\"type\":\"scatter3d\"},{\"anchor\":\"tip\",\"colorscale\":[[0.0,\"#440154\"],[0.1111111111111111,\"#482878\"],[0.2222222222222222,\"#3e4989\"],[0.3333333333333333,\"#31688e\"],[0.4444444444444444,\"#26828e\"],[0.5555555555555556,\"#1f9e89\"],[0.6666666666666666,\"#35b779\"],[0.7777777777777778,\"#6ece58\"],[0.8888888888888888,\"#b5de2b\"],[1.0,\"#fde725\"]],\"showscale\":false,\"sizemode\":\"absolute\",\"sizeref\":0.1,\"u\":[0.0],\"v\":[0.12244897959183676],\"w\":[-0.02149104539775104],\"x\":[1],\"y\":[1],\"z\":[1],\"type\":\"cone\"},{\"hoverinfo\":\"text\",\"hovertext\":\"Chunk_id : 13\",\"line\":{\"color\":\"black\",\"width\":2},\"mode\":\"lines\",\"x\":[1.0,1.0,1.0,1.0,1.0,1.0,1.0,1.0,1.0,1.0,1.0,1.0,1.0,1.0,1.0,1.0,1.0,1.0,1.0,1.0,1.0,1.0,1.0,1.0,1.0,1.0,1.0,1.0,1.0,1.0,1.0,1.0,1.0,1.0,1.0,1.0,1.0,1.0,1.0,1.0,1.0,1.0,1.0,1.0,1.0,1.0,1.0,1.0,1.0,1.0],\"y\":[1.0,0.9795918367346939,0.9591836734693877,0.9387755102040817,0.9183673469387755,0.8979591836734694,0.8775510204081632,0.8571428571428572,0.8367346938775511,0.8163265306122449,0.7959183673469388,0.7755102040816326,0.7551020408163265,0.7346938775510204,0.7142857142857143,0.6938775510204083,0.6734693877551021,0.653061224489796,0.6326530612244898,0.6122448979591837,0.5918367346938775,0.5714285714285714,0.5510204081632654,0.5306122448979592,0.5102040816326531,0.4897959183673469,0.4693877551020409,0.44897959183673475,0.4285714285714286,0.40816326530612246,0.3877551020408164,0.3673469387755103,0.34693877551020413,0.326530612244898,0.30612244897959184,0.2857142857142858,0.26530612244897966,0.24489795918367352,0.22448979591836737,0.20408163265306134,0.1836734693877552,0.16326530612244905,0.1428571428571429,0.12244897959183676,0.10204081632653073,0.08163265306122458,0.061224489795918435,0.04081632653061229,0.020408163265306145,0.0],\"z\":[1.0,0.9960016659725115,0.9921699291961683,0.9885047896709704,0.9850062473969179,0.9816743023740108,0.9785089546022491,0.9755102040816326,0.9726780508121615,0.9700124947938359,0.9675135360266556,0.9651811745106206,0.9630154102457309,0.9610162432319866,0.9591836734693877,0.9575177009579342,0.9560183256976259,0.9546855476884631,0.9535193669304456,0.9525197834235735,0.9516867971678467,0.9510204081632653,0.9505206164098292,0.9501874219075385,0.9500208246563931,0.9500208246563931,0.9501874219075385,0.9505206164098292,0.9510204081632653,0.9516867971678467,0.9525197834235735,0.9535193669304456,0.9546855476884631,0.9560183256976259,0.9575177009579342,0.9591836734693877,0.9610162432319866,0.9630154102457309,0.9651811745106206,0.9675135360266556,0.9700124947938359,0.9726780508121615,0.9755102040816326,0.9785089546022491,0.9816743023740108,0.9850062473969179,0.9885047896709704,0.9921699291961682,0.9960016659725115,1.0],\"type\":\"scatter3d\"},{\"anchor\":\"tip\",\"colorscale\":[[0.0,\"#440154\"],[0.1111111111111111,\"#482878\"],[0.2222222222222222,\"#3e4989\"],[0.3333333333333333,\"#31688e\"],[0.4444444444444444,\"#26828e\"],[0.5555555555555556,\"#1f9e89\"],[0.6666666666666666,\"#35b779\"],[0.7777777777777778,\"#6ece58\"],[0.8888888888888888,\"#b5de2b\"],[1.0,\"#fde725\"]],\"showscale\":false,\"sizemode\":\"absolute\",\"sizeref\":0.1,\"u\":[0.0],\"v\":[-0.12244897959183676],\"w\":[0.02149104539775093],\"x\":[1],\"y\":[0],\"z\":[1],\"type\":\"cone\"},{\"hoverinfo\":\"text\",\"hovertext\":\"Chunk_id : 14\",\"line\":{\"color\":\"black\",\"width\":2},\"mode\":\"lines\",\"x\":[1.0,0.9795918367346939,0.9591836734693877,0.9387755102040817,0.9183673469387755,0.8979591836734694,0.8775510204081632,0.8571428571428572,0.8367346938775511,0.8163265306122449,0.7959183673469388,0.7755102040816326,0.7551020408163265,0.7346938775510204,0.7142857142857143,0.6938775510204083,0.6734693877551021,0.653061224489796,0.6326530612244898,0.6122448979591837,0.5918367346938775,0.5714285714285714,0.5510204081632654,0.5306122448979592,0.5102040816326531,0.4897959183673469,0.4693877551020409,0.44897959183673475,0.4285714285714286,0.40816326530612246,0.3877551020408164,0.3673469387755103,0.34693877551020413,0.326530612244898,0.30612244897959184,0.2857142857142858,0.26530612244897966,0.24489795918367352,0.22448979591836737,0.20408163265306134,0.1836734693877552,0.16326530612244905,0.1428571428571429,0.12244897959183676,0.10204081632653073,0.08163265306122458,0.061224489795918435,0.04081632653061229,0.020408163265306145,0.0],\"y\":[1.0,1.0,1.0,1.0,1.0,1.0,1.0,1.0,1.0,1.0,1.0,1.0,1.0,1.0,1.0,1.0,1.0,1.0,1.0,1.0,1.0,1.0,1.0,1.0,1.0,1.0,1.0,1.0,1.0,1.0,1.0,1.0,1.0,1.0,1.0,1.0,1.0,1.0,1.0,1.0,1.0,1.0,1.0,1.0,1.0,1.0,1.0,1.0,1.0,1.0],\"z\":[1.0,1.0039983340274885,1.0078300708038317,1.0114952103290296,1.0149937526030821,1.0183256976259891,1.021491045397751,1.0244897959183674,1.0273219491878385,1.0299875052061642,1.0324864639733444,1.0348188254893795,1.036984589754269,1.0389837567680134,1.0408163265306123,1.042482299042066,1.043981674302374,1.045314452311537,1.0464806330695544,1.0474802165764265,1.0483132028321533,1.0489795918367348,1.0494793835901708,1.0498125780924614,1.049979175343607,1.049979175343607,1.0498125780924614,1.0494793835901708,1.0489795918367348,1.0483132028321533,1.0474802165764265,1.0464806330695544,1.045314452311537,1.043981674302374,1.042482299042066,1.0408163265306123,1.0389837567680134,1.036984589754269,1.0348188254893795,1.0324864639733444,1.0299875052061642,1.0273219491878385,1.0244897959183674,1.021491045397751,1.0183256976259891,1.0149937526030821,1.0114952103290296,1.0078300708038317,1.0039983340274885,1.0],\"type\":\"scatter3d\"},{\"anchor\":\"tip\",\"colorscale\":[[0.0,\"#440154\"],[0.1111111111111111,\"#482878\"],[0.2222222222222222,\"#3e4989\"],[0.3333333333333333,\"#31688e\"],[0.4444444444444444,\"#26828e\"],[0.5555555555555556,\"#1f9e89\"],[0.6666666666666666,\"#35b779\"],[0.7777777777777778,\"#6ece58\"],[0.8888888888888888,\"#b5de2b\"],[1.0,\"#fde725\"]],\"showscale\":false,\"sizemode\":\"absolute\",\"sizeref\":0.1,\"u\":[-0.12244897959183676],\"v\":[0.0],\"w\":[-0.02149104539775104],\"x\":[0],\"y\":[1],\"z\":[1],\"type\":\"cone\"},{\"hoverinfo\":\"text\",\"hovertext\":\"Chunk_id : 1\",\"line\":{\"color\":\"black\",\"width\":2},\"mode\":\"lines\",\"x\":[0.0,0.0,0.0,0.0,0.0,0.0,0.0,0.0,0.0,0.0,0.0,0.0,0.0,0.0,0.0,0.0,0.0,0.0,0.0,0.0,0.0,0.0,0.0,0.0,0.0,0.0,0.0,0.0,0.0,0.0,0.0,0.0,0.0,0.0,0.0,0.0,0.0,0.0,0.0,0.0,0.0,0.0,0.0,0.0,0.0,0.0,0.0,0.0,0.0,0.0],\"y\":[1.0,0.9795918367346939,0.9591836734693877,0.9387755102040817,0.9183673469387755,0.8979591836734694,0.8775510204081632,0.8571428571428572,0.8367346938775511,0.8163265306122449,0.7959183673469388,0.7755102040816326,0.7551020408163265,0.7346938775510204,0.7142857142857143,0.6938775510204083,0.6734693877551021,0.653061224489796,0.6326530612244898,0.6122448979591837,0.5918367346938775,0.5714285714285714,0.5510204081632654,0.5306122448979592,0.5102040816326531,0.4897959183673469,0.4693877551020409,0.44897959183673475,0.4285714285714286,0.40816326530612246,0.3877551020408164,0.3673469387755103,0.34693877551020413,0.326530612244898,0.30612244897959184,0.2857142857142858,0.26530612244897966,0.24489795918367352,0.22448979591836737,0.20408163265306134,0.1836734693877552,0.16326530612244905,0.1428571428571429,0.12244897959183676,0.10204081632653073,0.08163265306122458,0.061224489795918435,0.04081632653061229,0.020408163265306145,0.0],\"z\":[0.0,0.003998334027488546,0.007830070803831737,0.011495210329029573,0.014993752603082049,0.01832569762598917,0.021491045397750937,0.02448979591836735,0.027321949187838403,0.029987505206164097,0.03248646397334444,0.03481882548937942,0.036984589754269055,0.03898375676801333,0.04081632653061225,0.04248229904206581,0.04398167430237401,0.045314452311536864,0.046480633069554356,0.04748021657642649,0.04831320283215326,0.04897959183673469,0.04947938359017076,0.04981257809246148,0.04997917534360683,0.04997917534360683,0.04981257809246148,0.04947938359017076,0.0489795918367347,0.04831320283215327,0.047480216576426496,0.046480633069554356,0.045314452311536864,0.04398167430237401,0.04248229904206581,0.040816326530612256,0.038983756768013335,0.03698458975426906,0.03481882548937943,0.032486463973344454,0.02998750520616411,0.027321949187838413,0.024489795918367356,0.021491045397750944,0.01832569762598919,0.014993752603082064,0.011495210329029584,0.007830070803831746,0.0039983340274885515,0.0],\"type\":\"scatter3d\"},{\"anchor\":\"tip\",\"colorscale\":[[0.0,\"#440154\"],[0.1111111111111111,\"#482878\"],[0.2222222222222222,\"#3e4989\"],[0.3333333333333333,\"#31688e\"],[0.4444444444444444,\"#26828e\"],[0.5555555555555556,\"#1f9e89\"],[0.6666666666666666,\"#35b779\"],[0.7777777777777778,\"#6ece58\"],[0.8888888888888888,\"#b5de2b\"],[1.0,\"#fde725\"]],\"showscale\":false,\"sizemode\":\"absolute\",\"sizeref\":0.1,\"u\":[0.0],\"v\":[-0.12244897959183676],\"w\":[-0.021491045397750944],\"x\":[0],\"y\":[0],\"z\":[0],\"type\":\"cone\"},{\"hoverinfo\":\"text\",\"hovertext\":\"Chunk_id : 12\",\"line\":{\"color\":\"black\",\"width\":2},\"mode\":\"lines\",\"x\":[0.0,0.02040816326530612,0.04081632653061224,0.061224489795918366,0.08163265306122448,0.1020408163265306,0.12244897959183673,0.14285714285714285,0.16326530612244897,0.18367346938775508,0.2040816326530612,0.22448979591836732,0.24489795918367346,0.26530612244897955,0.2857142857142857,0.3061224489795918,0.32653061224489793,0.3469387755102041,0.36734693877551017,0.3877551020408163,0.4081632653061224,0.42857142857142855,0.44897959183673464,0.4693877551020408,0.4897959183673469,0.5102040816326531,0.5306122448979591,0.5510204081632653,0.5714285714285714,0.5918367346938775,0.6122448979591836,0.6326530612244897,0.6530612244897959,0.673469387755102,0.6938775510204082,0.7142857142857142,0.7346938775510203,0.7551020408163265,0.7755102040816326,0.7959183673469387,0.8163265306122448,0.836734693877551,0.8571428571428571,0.8775510204081632,0.8979591836734693,0.9183673469387754,0.9387755102040816,0.9591836734693877,0.9795918367346939,1.0],\"y\":[1.0,1.0,1.0,1.0,1.0,1.0,1.0,1.0,1.0,1.0,1.0,1.0,1.0,1.0,1.0,1.0,1.0,1.0,1.0,1.0,1.0,1.0,1.0,1.0,1.0,1.0,1.0,1.0,1.0,1.0,1.0,1.0,1.0,1.0,1.0,1.0,1.0,1.0,1.0,1.0,1.0,1.0,1.0,1.0,1.0,1.0,1.0,1.0,1.0,1.0],\"z\":[1.0,0.9960016659725115,0.9921699291961683,0.9885047896709704,0.9850062473969179,0.9816743023740108,0.9785089546022491,0.9755102040816326,0.9726780508121615,0.9700124947938359,0.9675135360266556,0.9651811745106206,0.9630154102457309,0.9610162432319866,0.9591836734693877,0.9575177009579342,0.9560183256976259,0.9546855476884631,0.9535193669304456,0.9525197834235735,0.9516867971678467,0.9510204081632653,0.9505206164098292,0.9501874219075385,0.9500208246563931,0.9500208246563931,0.9501874219075385,0.9505206164098292,0.9510204081632653,0.9516867971678467,0.9525197834235735,0.9535193669304456,0.9546855476884631,0.9560183256976259,0.9575177009579342,0.9591836734693877,0.9610162432319866,0.9630154102457309,0.9651811745106206,0.9675135360266556,0.9700124947938359,0.9726780508121615,0.9755102040816326,0.9785089546022491,0.9816743023740108,0.9850062473969179,0.9885047896709704,0.9921699291961682,0.9960016659725115,1.0],\"type\":\"scatter3d\"},{\"anchor\":\"tip\",\"colorscale\":[[0.0,\"#440154\"],[0.1111111111111111,\"#482878\"],[0.2222222222222222,\"#3e4989\"],[0.3333333333333333,\"#31688e\"],[0.4444444444444444,\"#26828e\"],[0.5555555555555556,\"#1f9e89\"],[0.6666666666666666,\"#35b779\"],[0.7777777777777778,\"#6ece58\"],[0.8888888888888888,\"#b5de2b\"],[1.0,\"#fde725\"]],\"showscale\":false,\"sizemode\":\"absolute\",\"sizeref\":0.1,\"u\":[0.12244897959183676],\"v\":[0.0],\"w\":[0.02149104539775093],\"x\":[1],\"y\":[1],\"z\":[1],\"type\":\"cone\"},{\"hoverinfo\":\"text\",\"hovertext\":\"Chunk_id : 12\",\"line\":{\"color\":\"black\",\"width\":2},\"mode\":\"lines\",\"x\":[1.0,1.0039983340274885,1.0078300708038317,1.0114952103290296,1.0149937526030821,1.0183256976259891,1.021491045397751,1.0244897959183674,1.0273219491878385,1.0299875052061642,1.0324864639733444,1.0348188254893795,1.036984589754269,1.0389837567680134,1.0408163265306123,1.042482299042066,1.043981674302374,1.045314452311537,1.0464806330695544,1.0474802165764265,1.0483132028321533,1.0489795918367348,1.0494793835901708,1.0498125780924614,1.049979175343607,1.049979175343607,1.0498125780924614,1.0494793835901708,1.0489795918367348,1.0483132028321533,1.0474802165764265,1.0464806330695544,1.045314452311537,1.043981674302374,1.042482299042066,1.0408163265306123,1.0389837567680134,1.036984589754269,1.0348188254893795,1.0324864639733444,1.0299875052061642,1.0273219491878385,1.0244897959183674,1.021491045397751,1.0183256976259891,1.0149937526030821,1.0114952103290296,1.0078300708038317,1.0039983340274885,1.0],\"y\":[0.0,0.0,0.0,0.0,0.0,0.0,0.0,0.0,0.0,0.0,0.0,0.0,0.0,0.0,0.0,0.0,0.0,0.0,0.0,0.0,0.0,0.0,0.0,0.0,0.0,0.0,0.0,0.0,0.0,0.0,0.0,0.0,0.0,0.0,0.0,0.0,0.0,0.0,0.0,0.0,0.0,0.0,0.0,0.0,0.0,0.0,0.0,0.0,0.0,0.0],\"z\":[1.0,0.9795918367346939,0.9591836734693877,0.9387755102040817,0.9183673469387755,0.8979591836734694,0.8775510204081632,0.8571428571428572,0.8367346938775511,0.8163265306122449,0.7959183673469388,0.7755102040816326,0.7551020408163265,0.7346938775510204,0.7142857142857143,0.6938775510204083,0.6734693877551021,0.653061224489796,0.6326530612244898,0.6122448979591837,0.5918367346938775,0.5714285714285714,0.5510204081632654,0.5306122448979592,0.5102040816326531,0.4897959183673469,0.4693877551020409,0.44897959183673475,0.4285714285714286,0.40816326530612246,0.3877551020408164,0.3673469387755103,0.34693877551020413,0.326530612244898,0.30612244897959184,0.2857142857142858,0.26530612244897966,0.24489795918367352,0.22448979591836737,0.20408163265306134,0.1836734693877552,0.16326530612244905,0.1428571428571429,0.12244897959183676,0.10204081632653073,0.08163265306122458,0.061224489795918435,0.04081632653061229,0.020408163265306145,0.0],\"type\":\"scatter3d\"},{\"anchor\":\"tip\",\"colorscale\":[[0.0,\"#440154\"],[0.1111111111111111,\"#482878\"],[0.2222222222222222,\"#3e4989\"],[0.3333333333333333,\"#31688e\"],[0.4444444444444444,\"#26828e\"],[0.5555555555555556,\"#1f9e89\"],[0.6666666666666666,\"#35b779\"],[0.7777777777777778,\"#6ece58\"],[0.8888888888888888,\"#b5de2b\"],[1.0,\"#fde725\"]],\"showscale\":false,\"sizemode\":\"absolute\",\"sizeref\":0.1,\"u\":[-0.02149104539775104],\"v\":[0.0],\"w\":[-0.12244897959183676],\"x\":[1],\"y\":[0],\"z\":[0],\"type\":\"cone\"},{\"hoverinfo\":\"text\",\"hovertext\":\"Chunk_id : 1\",\"line\":{\"color\":\"black\",\"width\":2},\"mode\":\"lines\",\"x\":[0.0,0.003998334027488546,0.007830070803831737,0.011495210329029573,0.014993752603082049,0.01832569762598917,0.021491045397750937,0.02448979591836735,0.027321949187838403,0.029987505206164097,0.03248646397334444,0.03481882548937942,0.036984589754269055,0.03898375676801333,0.04081632653061225,0.04248229904206581,0.04398167430237401,0.045314452311536864,0.046480633069554356,0.04748021657642649,0.04831320283215326,0.04897959183673469,0.04947938359017076,0.04981257809246148,0.04997917534360683,0.04997917534360683,0.04981257809246148,0.04947938359017076,0.0489795918367347,0.04831320283215327,0.047480216576426496,0.046480633069554356,0.045314452311536864,0.04398167430237401,0.04248229904206581,0.040816326530612256,0.038983756768013335,0.03698458975426906,0.03481882548937943,0.032486463973344454,0.02998750520616411,0.027321949187838413,0.024489795918367356,0.021491045397750944,0.01832569762598919,0.014993752603082064,0.011495210329029584,0.007830070803831746,0.0039983340274885515,0.0],\"y\":[0.0,0.0,0.0,0.0,0.0,0.0,0.0,0.0,0.0,0.0,0.0,0.0,0.0,0.0,0.0,0.0,0.0,0.0,0.0,0.0,0.0,0.0,0.0,0.0,0.0,0.0,0.0,0.0,0.0,0.0,0.0,0.0,0.0,0.0,0.0,0.0,0.0,0.0,0.0,0.0,0.0,0.0,0.0,0.0,0.0,0.0,0.0,0.0,0.0,0.0],\"z\":[0.0,0.02040816326530612,0.04081632653061224,0.061224489795918366,0.08163265306122448,0.1020408163265306,0.12244897959183673,0.14285714285714285,0.16326530612244897,0.18367346938775508,0.2040816326530612,0.22448979591836732,0.24489795918367346,0.26530612244897955,0.2857142857142857,0.3061224489795918,0.32653061224489793,0.3469387755102041,0.36734693877551017,0.3877551020408163,0.4081632653061224,0.42857142857142855,0.44897959183673464,0.4693877551020408,0.4897959183673469,0.5102040816326531,0.5306122448979591,0.5510204081632653,0.5714285714285714,0.5918367346938775,0.6122448979591836,0.6326530612244897,0.6530612244897959,0.673469387755102,0.6938775510204082,0.7142857142857142,0.7346938775510203,0.7551020408163265,0.7755102040816326,0.7959183673469387,0.8163265306122448,0.836734693877551,0.8571428571428571,0.8775510204081632,0.8979591836734693,0.9183673469387754,0.9387755102040816,0.9591836734693877,0.9795918367346939,1.0],\"type\":\"scatter3d\"},{\"anchor\":\"tip\",\"colorscale\":[[0.0,\"#440154\"],[0.1111111111111111,\"#482878\"],[0.2222222222222222,\"#3e4989\"],[0.3333333333333333,\"#31688e\"],[0.4444444444444444,\"#26828e\"],[0.5555555555555556,\"#1f9e89\"],[0.6666666666666666,\"#35b779\"],[0.7777777777777778,\"#6ece58\"],[0.8888888888888888,\"#b5de2b\"],[1.0,\"#fde725\"]],\"showscale\":false,\"sizemode\":\"absolute\",\"sizeref\":0.1,\"u\":[-0.021491045397750944],\"v\":[0.0],\"w\":[0.12244897959183676],\"x\":[0],\"y\":[0],\"z\":[1],\"type\":\"cone\"},{\"hoverinfo\":\"text\",\"hovertext\":\"Chunk_id : 6\",\"line\":{\"color\":\"black\",\"width\":2},\"mode\":\"lines\",\"x\":[1.0,1.0,1.0,1.0,1.0,1.0,1.0,1.0,1.0,1.0,1.0,1.0,1.0,1.0,1.0,1.0,1.0,1.0,1.0,1.0,1.0,1.0,1.0,1.0,1.0,1.0,1.0,1.0,1.0,1.0,1.0,1.0,1.0,1.0,1.0,1.0,1.0,1.0,1.0,1.0,1.0,1.0,1.0,1.0,1.0,1.0,1.0,1.0,1.0,1.0],\"y\":[0.0,0.02040816326530612,0.04081632653061224,0.061224489795918366,0.08163265306122448,0.1020408163265306,0.12244897959183673,0.14285714285714285,0.16326530612244897,0.18367346938775508,0.2040816326530612,0.22448979591836732,0.24489795918367346,0.26530612244897955,0.2857142857142857,0.3061224489795918,0.32653061224489793,0.3469387755102041,0.36734693877551017,0.3877551020408163,0.4081632653061224,0.42857142857142855,0.44897959183673464,0.4693877551020408,0.4897959183673469,0.5102040816326531,0.5306122448979591,0.5510204081632653,0.5714285714285714,0.5918367346938775,0.6122448979591836,0.6326530612244897,0.6530612244897959,0.673469387755102,0.6938775510204082,0.7142857142857142,0.7346938775510203,0.7551020408163265,0.7755102040816326,0.7959183673469387,0.8163265306122448,0.836734693877551,0.8571428571428571,0.8775510204081632,0.8979591836734693,0.9183673469387754,0.9387755102040816,0.9591836734693877,0.9795918367346939,1.0],\"z\":[0.0,0.003998334027488546,0.007830070803831737,0.011495210329029573,0.014993752603082049,0.01832569762598917,0.021491045397750937,0.02448979591836735,0.027321949187838403,0.029987505206164097,0.03248646397334444,0.03481882548937942,0.036984589754269055,0.03898375676801333,0.04081632653061225,0.04248229904206581,0.04398167430237401,0.045314452311536864,0.046480633069554356,0.04748021657642649,0.04831320283215326,0.04897959183673469,0.04947938359017076,0.04981257809246148,0.04997917534360683,0.04997917534360683,0.04981257809246148,0.04947938359017076,0.0489795918367347,0.04831320283215327,0.047480216576426496,0.046480633069554356,0.045314452311536864,0.04398167430237401,0.04248229904206581,0.040816326530612256,0.038983756768013335,0.03698458975426906,0.03481882548937943,0.032486463973344454,0.02998750520616411,0.027321949187838413,0.024489795918367356,0.021491045397750944,0.01832569762598919,0.014993752603082064,0.011495210329029584,0.007830070803831746,0.0039983340274885515,0.0],\"type\":\"scatter3d\"},{\"anchor\":\"tip\",\"colorscale\":[[0.0,\"#440154\"],[0.1111111111111111,\"#482878\"],[0.2222222222222222,\"#3e4989\"],[0.3333333333333333,\"#31688e\"],[0.4444444444444444,\"#26828e\"],[0.5555555555555556,\"#1f9e89\"],[0.6666666666666666,\"#35b779\"],[0.7777777777777778,\"#6ece58\"],[0.8888888888888888,\"#b5de2b\"],[1.0,\"#fde725\"]],\"showscale\":false,\"sizemode\":\"absolute\",\"sizeref\":0.1,\"u\":[0.0],\"v\":[0.12244897959183676],\"w\":[-0.021491045397750944],\"x\":[1],\"y\":[1],\"z\":[0],\"type\":\"cone\"},{\"hoverinfo\":\"text\",\"hovertext\":\"Chunk_id : 7\",\"line\":{\"color\":\"black\",\"width\":2},\"mode\":\"lines\",\"x\":[1.0,1.0039983340274885,1.0078300708038317,1.0114952103290296,1.0149937526030821,1.0183256976259891,1.021491045397751,1.0244897959183674,1.0273219491878385,1.0299875052061642,1.0324864639733444,1.0348188254893795,1.036984589754269,1.0389837567680134,1.0408163265306123,1.042482299042066,1.043981674302374,1.045314452311537,1.0464806330695544,1.0474802165764265,1.0483132028321533,1.0489795918367348,1.0494793835901708,1.0498125780924614,1.049979175343607,1.049979175343607,1.0498125780924614,1.0494793835901708,1.0489795918367348,1.0483132028321533,1.0474802165764265,1.0464806330695544,1.045314452311537,1.043981674302374,1.042482299042066,1.0408163265306123,1.0389837567680134,1.036984589754269,1.0348188254893795,1.0324864639733444,1.0299875052061642,1.0273219491878385,1.0244897959183674,1.021491045397751,1.0183256976259891,1.0149937526030821,1.0114952103290296,1.0078300708038317,1.0039983340274885,1.0],\"y\":[1.0,1.0,1.0,1.0,1.0,1.0,1.0,1.0,1.0,1.0,1.0,1.0,1.0,1.0,1.0,1.0,1.0,1.0,1.0,1.0,1.0,1.0,1.0,1.0,1.0,1.0,1.0,1.0,1.0,1.0,1.0,1.0,1.0,1.0,1.0,1.0,1.0,1.0,1.0,1.0,1.0,1.0,1.0,1.0,1.0,1.0,1.0,1.0,1.0,1.0],\"z\":[1.0,0.9795918367346939,0.9591836734693877,0.9387755102040817,0.9183673469387755,0.8979591836734694,0.8775510204081632,0.8571428571428572,0.8367346938775511,0.8163265306122449,0.7959183673469388,0.7755102040816326,0.7551020408163265,0.7346938775510204,0.7142857142857143,0.6938775510204083,0.6734693877551021,0.653061224489796,0.6326530612244898,0.6122448979591837,0.5918367346938775,0.5714285714285714,0.5510204081632654,0.5306122448979592,0.5102040816326531,0.4897959183673469,0.4693877551020409,0.44897959183673475,0.4285714285714286,0.40816326530612246,0.3877551020408164,0.3673469387755103,0.34693877551020413,0.326530612244898,0.30612244897959184,0.2857142857142858,0.26530612244897966,0.24489795918367352,0.22448979591836737,0.20408163265306134,0.1836734693877552,0.16326530612244905,0.1428571428571429,0.12244897959183676,0.10204081632653073,0.08163265306122458,0.061224489795918435,0.04081632653061229,0.020408163265306145,0.0],\"type\":\"scatter3d\"},{\"anchor\":\"tip\",\"colorscale\":[[0.0,\"#440154\"],[0.1111111111111111,\"#482878\"],[0.2222222222222222,\"#3e4989\"],[0.3333333333333333,\"#31688e\"],[0.4444444444444444,\"#26828e\"],[0.5555555555555556,\"#1f9e89\"],[0.6666666666666666,\"#35b779\"],[0.7777777777777778,\"#6ece58\"],[0.8888888888888888,\"#b5de2b\"],[1.0,\"#fde725\"]],\"showscale\":false,\"sizemode\":\"absolute\",\"sizeref\":0.1,\"u\":[-0.02149104539775104],\"v\":[0.0],\"w\":[-0.12244897959183676],\"x\":[1],\"y\":[1],\"z\":[0],\"type\":\"cone\"},{\"hoverinfo\":\"text\",\"hovertext\":\"Chunk_id : 13\",\"line\":{\"color\":\"black\",\"width\":2},\"mode\":\"lines\",\"x\":[0.0,0.0,0.0,0.0,0.0,0.0,0.0,0.0,0.0,0.0,0.0,0.0,0.0,0.0,0.0,0.0,0.0,0.0,0.0,0.0,0.0,0.0,0.0,0.0,0.0,0.0,0.0,0.0,0.0,0.0,0.0,0.0,0.0,0.0,0.0,0.0,0.0,0.0,0.0,0.0,0.0,0.0,0.0,0.0,0.0,0.0,0.0,0.0,0.0,0.0],\"y\":[1.0,0.9795918367346939,0.9591836734693877,0.9387755102040817,0.9183673469387755,0.8979591836734694,0.8775510204081632,0.8571428571428572,0.8367346938775511,0.8163265306122449,0.7959183673469388,0.7755102040816326,0.7551020408163265,0.7346938775510204,0.7142857142857143,0.6938775510204083,0.6734693877551021,0.653061224489796,0.6326530612244898,0.6122448979591837,0.5918367346938775,0.5714285714285714,0.5510204081632654,0.5306122448979592,0.5102040816326531,0.4897959183673469,0.4693877551020409,0.44897959183673475,0.4285714285714286,0.40816326530612246,0.3877551020408164,0.3673469387755103,0.34693877551020413,0.326530612244898,0.30612244897959184,0.2857142857142858,0.26530612244897966,0.24489795918367352,0.22448979591836737,0.20408163265306134,0.1836734693877552,0.16326530612244905,0.1428571428571429,0.12244897959183676,0.10204081632653073,0.08163265306122458,0.061224489795918435,0.04081632653061229,0.020408163265306145,0.0],\"z\":[1.0,1.0039983340274885,1.0078300708038317,1.0114952103290296,1.0149937526030821,1.0183256976259891,1.021491045397751,1.0244897959183674,1.0273219491878385,1.0299875052061642,1.0324864639733444,1.0348188254893795,1.036984589754269,1.0389837567680134,1.0408163265306123,1.042482299042066,1.043981674302374,1.045314452311537,1.0464806330695544,1.0474802165764265,1.0483132028321533,1.0489795918367348,1.0494793835901708,1.0498125780924614,1.049979175343607,1.049979175343607,1.0498125780924614,1.0494793835901708,1.0489795918367348,1.0483132028321533,1.0474802165764265,1.0464806330695544,1.045314452311537,1.043981674302374,1.042482299042066,1.0408163265306123,1.0389837567680134,1.036984589754269,1.0348188254893795,1.0324864639733444,1.0299875052061642,1.0273219491878385,1.0244897959183674,1.021491045397751,1.0183256976259891,1.0149937526030821,1.0114952103290296,1.0078300708038317,1.0039983340274885,1.0],\"type\":\"scatter3d\"},{\"anchor\":\"tip\",\"colorscale\":[[0.0,\"#440154\"],[0.1111111111111111,\"#482878\"],[0.2222222222222222,\"#3e4989\"],[0.3333333333333333,\"#31688e\"],[0.4444444444444444,\"#26828e\"],[0.5555555555555556,\"#1f9e89\"],[0.6666666666666666,\"#35b779\"],[0.7777777777777778,\"#6ece58\"],[0.8888888888888888,\"#b5de2b\"],[1.0,\"#fde725\"]],\"showscale\":false,\"sizemode\":\"absolute\",\"sizeref\":0.1,\"u\":[0.0],\"v\":[-0.12244897959183676],\"w\":[-0.02149104539775104],\"x\":[0],\"y\":[0],\"z\":[1],\"type\":\"cone\"},{\"hoverinfo\":\"text\",\"hovertext\":\"Chunk_id : 2\",\"line\":{\"color\":\"black\",\"width\":2},\"mode\":\"lines\",\"x\":[0.0,0.0,0.0,0.0,0.0,0.0,0.0,0.0,0.0,0.0,0.0,0.0,0.0,0.0,0.0,0.0,0.0,0.0,0.0,0.0,0.0,0.0,0.0,0.0,0.0,0.0,0.0,0.0,0.0,0.0,0.0,0.0,0.0,0.0,0.0,0.0,0.0,0.0,0.0,0.0,0.0,0.0,0.0,0.0,0.0,0.0,0.0,0.0,0.0,0.0],\"y\":[0.0,0.02040816326530612,0.04081632653061224,0.061224489795918366,0.08163265306122448,0.1020408163265306,0.12244897959183673,0.14285714285714285,0.16326530612244897,0.18367346938775508,0.2040816326530612,0.22448979591836732,0.24489795918367346,0.26530612244897955,0.2857142857142857,0.3061224489795918,0.32653061224489793,0.3469387755102041,0.36734693877551017,0.3877551020408163,0.4081632653061224,0.42857142857142855,0.44897959183673464,0.4693877551020408,0.4897959183673469,0.5102040816326531,0.5306122448979591,0.5510204081632653,0.5714285714285714,0.5918367346938775,0.6122448979591836,0.6326530612244897,0.6530612244897959,0.673469387755102,0.6938775510204082,0.7142857142857142,0.7346938775510203,0.7551020408163265,0.7755102040816326,0.7959183673469387,0.8163265306122448,0.836734693877551,0.8571428571428571,0.8775510204081632,0.8979591836734693,0.9183673469387754,0.9387755102040816,0.9591836734693877,0.9795918367346939,1.0],\"z\":[0.0,-0.003998334027488546,-0.007830070803831737,-0.011495210329029573,-0.014993752603082049,-0.01832569762598917,-0.021491045397750937,-0.02448979591836735,-0.027321949187838403,-0.029987505206164097,-0.03248646397334444,-0.03481882548937942,-0.036984589754269055,-0.03898375676801333,-0.04081632653061225,-0.04248229904206581,-0.04398167430237401,-0.045314452311536864,-0.046480633069554356,-0.04748021657642649,-0.04831320283215326,-0.04897959183673469,-0.04947938359017076,-0.04981257809246148,-0.04997917534360683,-0.04997917534360683,-0.04981257809246148,-0.04947938359017076,-0.0489795918367347,-0.04831320283215327,-0.047480216576426496,-0.046480633069554356,-0.045314452311536864,-0.04398167430237401,-0.04248229904206581,-0.040816326530612256,-0.038983756768013335,-0.03698458975426906,-0.03481882548937943,-0.032486463973344454,-0.02998750520616411,-0.027321949187838413,-0.024489795918367356,-0.021491045397750944,-0.01832569762598919,-0.014993752603082064,-0.011495210329029584,-0.007830070803831746,-0.0039983340274885515,0.0],\"type\":\"scatter3d\"},{\"anchor\":\"tip\",\"colorscale\":[[0.0,\"#440154\"],[0.1111111111111111,\"#482878\"],[0.2222222222222222,\"#3e4989\"],[0.3333333333333333,\"#31688e\"],[0.4444444444444444,\"#26828e\"],[0.5555555555555556,\"#1f9e89\"],[0.6666666666666666,\"#35b779\"],[0.7777777777777778,\"#6ece58\"],[0.8888888888888888,\"#b5de2b\"],[1.0,\"#fde725\"]],\"showscale\":false,\"sizemode\":\"absolute\",\"sizeref\":0.1,\"u\":[0.0],\"v\":[0.12244897959183676],\"w\":[0.021491045397750944],\"x\":[0],\"y\":[1],\"z\":[0],\"type\":\"cone\"},{\"hoverinfo\":\"text\",\"hovertext\":\"Chunk_id : 11\",\"line\":{\"color\":\"black\",\"width\":2},\"mode\":\"lines\",\"x\":[1.0,0.9960016659725115,0.9921699291961683,0.9885047896709704,0.9850062473969179,0.9816743023740108,0.9785089546022491,0.9755102040816326,0.9726780508121615,0.9700124947938359,0.9675135360266556,0.9651811745106206,0.9630154102457309,0.9610162432319866,0.9591836734693877,0.9575177009579342,0.9560183256976259,0.9546855476884631,0.9535193669304456,0.9525197834235735,0.9516867971678467,0.9510204081632653,0.9505206164098292,0.9501874219075385,0.9500208246563931,0.9500208246563931,0.9501874219075385,0.9505206164098292,0.9510204081632653,0.9516867971678467,0.9525197834235735,0.9535193669304456,0.9546855476884631,0.9560183256976259,0.9575177009579342,0.9591836734693877,0.9610162432319866,0.9630154102457309,0.9651811745106206,0.9675135360266556,0.9700124947938359,0.9726780508121615,0.9755102040816326,0.9785089546022491,0.9816743023740108,0.9850062473969179,0.9885047896709704,0.9921699291961682,0.9960016659725115,1.0],\"y\":[1.0,1.0,1.0,1.0,1.0,1.0,1.0,1.0,1.0,1.0,1.0,1.0,1.0,1.0,1.0,1.0,1.0,1.0,1.0,1.0,1.0,1.0,1.0,1.0,1.0,1.0,1.0,1.0,1.0,1.0,1.0,1.0,1.0,1.0,1.0,1.0,1.0,1.0,1.0,1.0,1.0,1.0,1.0,1.0,1.0,1.0,1.0,1.0,1.0,1.0],\"z\":[0.0,0.02040816326530612,0.04081632653061224,0.061224489795918366,0.08163265306122448,0.1020408163265306,0.12244897959183673,0.14285714285714285,0.16326530612244897,0.18367346938775508,0.2040816326530612,0.22448979591836732,0.24489795918367346,0.26530612244897955,0.2857142857142857,0.3061224489795918,0.32653061224489793,0.3469387755102041,0.36734693877551017,0.3877551020408163,0.4081632653061224,0.42857142857142855,0.44897959183673464,0.4693877551020408,0.4897959183673469,0.5102040816326531,0.5306122448979591,0.5510204081632653,0.5714285714285714,0.5918367346938775,0.6122448979591836,0.6326530612244897,0.6530612244897959,0.673469387755102,0.6938775510204082,0.7142857142857142,0.7346938775510203,0.7551020408163265,0.7755102040816326,0.7959183673469387,0.8163265306122448,0.836734693877551,0.8571428571428571,0.8775510204081632,0.8979591836734693,0.9183673469387754,0.9387755102040816,0.9591836734693877,0.9795918367346939,1.0],\"type\":\"scatter3d\"},{\"anchor\":\"tip\",\"colorscale\":[[0.0,\"#440154\"],[0.1111111111111111,\"#482878\"],[0.2222222222222222,\"#3e4989\"],[0.3333333333333333,\"#31688e\"],[0.4444444444444444,\"#26828e\"],[0.5555555555555556,\"#1f9e89\"],[0.6666666666666666,\"#35b779\"],[0.7777777777777778,\"#6ece58\"],[0.8888888888888888,\"#b5de2b\"],[1.0,\"#fde725\"]],\"showscale\":false,\"sizemode\":\"absolute\",\"sizeref\":0.1,\"u\":[0.02149104539775093],\"v\":[0.0],\"w\":[0.12244897959183676],\"x\":[1],\"y\":[1],\"z\":[1],\"type\":\"cone\"},{\"hoverinfo\":\"text\",\"hovertext\":\"Chunk_id : 3\",\"line\":{\"color\":\"black\",\"width\":2},\"mode\":\"lines\",\"x\":[1.0,1.0,1.0,1.0,1.0,1.0,1.0,1.0,1.0,1.0,1.0,1.0,1.0,1.0,1.0,1.0,1.0,1.0,1.0,1.0,1.0,1.0,1.0,1.0,1.0,1.0,1.0,1.0,1.0,1.0,1.0,1.0,1.0,1.0,1.0,1.0,1.0,1.0,1.0,1.0,1.0,1.0,1.0,1.0,1.0,1.0,1.0,1.0,1.0,1.0],\"y\":[1.0,0.9795918367346939,0.9591836734693877,0.9387755102040817,0.9183673469387755,0.8979591836734694,0.8775510204081632,0.8571428571428572,0.8367346938775511,0.8163265306122449,0.7959183673469388,0.7755102040816326,0.7551020408163265,0.7346938775510204,0.7142857142857143,0.6938775510204083,0.6734693877551021,0.653061224489796,0.6326530612244898,0.6122448979591837,0.5918367346938775,0.5714285714285714,0.5510204081632654,0.5306122448979592,0.5102040816326531,0.4897959183673469,0.4693877551020409,0.44897959183673475,0.4285714285714286,0.40816326530612246,0.3877551020408164,0.3673469387755103,0.34693877551020413,0.326530612244898,0.30612244897959184,0.2857142857142858,0.26530612244897966,0.24489795918367352,0.22448979591836737,0.20408163265306134,0.1836734693877552,0.16326530612244905,0.1428571428571429,0.12244897959183676,0.10204081632653073,0.08163265306122458,0.061224489795918435,0.04081632653061229,0.020408163265306145,0.0],\"z\":[0.0,-0.003998334027488546,-0.007830070803831737,-0.011495210329029573,-0.014993752603082049,-0.01832569762598917,-0.021491045397750937,-0.02448979591836735,-0.027321949187838403,-0.029987505206164097,-0.03248646397334444,-0.03481882548937942,-0.036984589754269055,-0.03898375676801333,-0.04081632653061225,-0.04248229904206581,-0.04398167430237401,-0.045314452311536864,-0.046480633069554356,-0.04748021657642649,-0.04831320283215326,-0.04897959183673469,-0.04947938359017076,-0.04981257809246148,-0.04997917534360683,-0.04997917534360683,-0.04981257809246148,-0.04947938359017076,-0.0489795918367347,-0.04831320283215327,-0.047480216576426496,-0.046480633069554356,-0.045314452311536864,-0.04398167430237401,-0.04248229904206581,-0.040816326530612256,-0.038983756768013335,-0.03698458975426906,-0.03481882548937943,-0.032486463973344454,-0.02998750520616411,-0.027321949187838413,-0.024489795918367356,-0.021491045397750944,-0.01832569762598919,-0.014993752603082064,-0.011495210329029584,-0.007830070803831746,-0.0039983340274885515,0.0],\"type\":\"scatter3d\"},{\"anchor\":\"tip\",\"colorscale\":[[0.0,\"#440154\"],[0.1111111111111111,\"#482878\"],[0.2222222222222222,\"#3e4989\"],[0.3333333333333333,\"#31688e\"],[0.4444444444444444,\"#26828e\"],[0.5555555555555556,\"#1f9e89\"],[0.6666666666666666,\"#35b779\"],[0.7777777777777778,\"#6ece58\"],[0.8888888888888888,\"#b5de2b\"],[1.0,\"#fde725\"]],\"showscale\":false,\"sizemode\":\"absolute\",\"sizeref\":0.1,\"u\":[0.0],\"v\":[-0.12244897959183676],\"w\":[0.021491045397750944],\"x\":[1],\"y\":[0],\"z\":[0],\"type\":\"cone\"},{\"hoverinfo\":\"text\",\"hovertext\":\"Chunk_id : 10\",\"line\":{\"color\":\"black\",\"width\":2},\"mode\":\"lines\",\"x\":[1.0,0.9960016659725115,0.9921699291961683,0.9885047896709704,0.9850062473969179,0.9816743023740108,0.9785089546022491,0.9755102040816326,0.9726780508121615,0.9700124947938359,0.9675135360266556,0.9651811745106206,0.9630154102457309,0.9610162432319866,0.9591836734693877,0.9575177009579342,0.9560183256976259,0.9546855476884631,0.9535193669304456,0.9525197834235735,0.9516867971678467,0.9510204081632653,0.9505206164098292,0.9501874219075385,0.9500208246563931,0.9500208246563931,0.9501874219075385,0.9505206164098292,0.9510204081632653,0.9516867971678467,0.9525197834235735,0.9535193669304456,0.9546855476884631,0.9560183256976259,0.9575177009579342,0.9591836734693877,0.9610162432319866,0.9630154102457309,0.9651811745106206,0.9675135360266556,0.9700124947938359,0.9726780508121615,0.9755102040816326,0.9785089546022491,0.9816743023740108,0.9850062473969179,0.9885047896709704,0.9921699291961682,0.9960016659725115,1.0],\"y\":[0.0,0.0,0.0,0.0,0.0,0.0,0.0,0.0,0.0,0.0,0.0,0.0,0.0,0.0,0.0,0.0,0.0,0.0,0.0,0.0,0.0,0.0,0.0,0.0,0.0,0.0,0.0,0.0,0.0,0.0,0.0,0.0,0.0,0.0,0.0,0.0,0.0,0.0,0.0,0.0,0.0,0.0,0.0,0.0,0.0,0.0,0.0,0.0,0.0,0.0],\"z\":[0.0,0.02040816326530612,0.04081632653061224,0.061224489795918366,0.08163265306122448,0.1020408163265306,0.12244897959183673,0.14285714285714285,0.16326530612244897,0.18367346938775508,0.2040816326530612,0.22448979591836732,0.24489795918367346,0.26530612244897955,0.2857142857142857,0.3061224489795918,0.32653061224489793,0.3469387755102041,0.36734693877551017,0.3877551020408163,0.4081632653061224,0.42857142857142855,0.44897959183673464,0.4693877551020408,0.4897959183673469,0.5102040816326531,0.5306122448979591,0.5510204081632653,0.5714285714285714,0.5918367346938775,0.6122448979591836,0.6326530612244897,0.6530612244897959,0.673469387755102,0.6938775510204082,0.7142857142857142,0.7346938775510203,0.7551020408163265,0.7755102040816326,0.7959183673469387,0.8163265306122448,0.836734693877551,0.8571428571428571,0.8775510204081632,0.8979591836734693,0.9183673469387754,0.9387755102040816,0.9591836734693877,0.9795918367346939,1.0],\"type\":\"scatter3d\"},{\"anchor\":\"tip\",\"colorscale\":[[0.0,\"#440154\"],[0.1111111111111111,\"#482878\"],[0.2222222222222222,\"#3e4989\"],[0.3333333333333333,\"#31688e\"],[0.4444444444444444,\"#26828e\"],[0.5555555555555556,\"#1f9e89\"],[0.6666666666666666,\"#35b779\"],[0.7777777777777778,\"#6ece58\"],[0.8888888888888888,\"#b5de2b\"],[1.0,\"#fde725\"]],\"showscale\":false,\"sizemode\":\"absolute\",\"sizeref\":0.1,\"u\":[0.02149104539775093],\"v\":[0.0],\"w\":[0.12244897959183676],\"x\":[1],\"y\":[0],\"z\":[1],\"type\":\"cone\"},{\"hoverinfo\":\"text\",\"hovertext\":\"Chunk_id : 2\",\"line\":{\"color\":\"black\",\"width\":2},\"mode\":\"lines\",\"x\":[1.0,0.9795918367346939,0.9591836734693877,0.9387755102040817,0.9183673469387755,0.8979591836734694,0.8775510204081632,0.8571428571428572,0.8367346938775511,0.8163265306122449,0.7959183673469388,0.7755102040816326,0.7551020408163265,0.7346938775510204,0.7142857142857143,0.6938775510204083,0.6734693877551021,0.653061224489796,0.6326530612244898,0.6122448979591837,0.5918367346938775,0.5714285714285714,0.5510204081632654,0.5306122448979592,0.5102040816326531,0.4897959183673469,0.4693877551020409,0.44897959183673475,0.4285714285714286,0.40816326530612246,0.3877551020408164,0.3673469387755103,0.34693877551020413,0.326530612244898,0.30612244897959184,0.2857142857142858,0.26530612244897966,0.24489795918367352,0.22448979591836737,0.20408163265306134,0.1836734693877552,0.16326530612244905,0.1428571428571429,0.12244897959183676,0.10204081632653073,0.08163265306122458,0.061224489795918435,0.04081632653061229,0.020408163265306145,0.0],\"y\":[0.0,0.0,0.0,0.0,0.0,0.0,0.0,0.0,0.0,0.0,0.0,0.0,0.0,0.0,0.0,0.0,0.0,0.0,0.0,0.0,0.0,0.0,0.0,0.0,0.0,0.0,0.0,0.0,0.0,0.0,0.0,0.0,0.0,0.0,0.0,0.0,0.0,0.0,0.0,0.0,0.0,0.0,0.0,0.0,0.0,0.0,0.0,0.0,0.0,0.0],\"z\":[1.0,1.0039983340274885,1.0078300708038317,1.0114952103290296,1.0149937526030821,1.0183256976259891,1.021491045397751,1.0244897959183674,1.0273219491878385,1.0299875052061642,1.0324864639733444,1.0348188254893795,1.036984589754269,1.0389837567680134,1.0408163265306123,1.042482299042066,1.043981674302374,1.045314452311537,1.0464806330695544,1.0474802165764265,1.0483132028321533,1.0489795918367348,1.0494793835901708,1.0498125780924614,1.049979175343607,1.049979175343607,1.0498125780924614,1.0494793835901708,1.0489795918367348,1.0483132028321533,1.0474802165764265,1.0464806330695544,1.045314452311537,1.043981674302374,1.042482299042066,1.0408163265306123,1.0389837567680134,1.036984589754269,1.0348188254893795,1.0324864639733444,1.0299875052061642,1.0273219491878385,1.0244897959183674,1.021491045397751,1.0183256976259891,1.0149937526030821,1.0114952103290296,1.0078300708038317,1.0039983340274885,1.0],\"type\":\"scatter3d\"},{\"anchor\":\"tip\",\"colorscale\":[[0.0,\"#440154\"],[0.1111111111111111,\"#482878\"],[0.2222222222222222,\"#3e4989\"],[0.3333333333333333,\"#31688e\"],[0.4444444444444444,\"#26828e\"],[0.5555555555555556,\"#1f9e89\"],[0.6666666666666666,\"#35b779\"],[0.7777777777777778,\"#6ece58\"],[0.8888888888888888,\"#b5de2b\"],[1.0,\"#fde725\"]],\"showscale\":false,\"sizemode\":\"absolute\",\"sizeref\":0.1,\"u\":[-0.12244897959183676],\"v\":[0.0],\"w\":[-0.02149104539775104],\"x\":[0],\"y\":[0],\"z\":[1],\"type\":\"cone\"},{\"hoverinfo\":\"text\",\"hovertext\":\"Chunk_id : 7\",\"line\":{\"color\":\"black\",\"width\":2},\"mode\":\"lines\",\"x\":[0.0,-0.003998334027488546,-0.007830070803831737,-0.011495210329029573,-0.014993752603082049,-0.01832569762598917,-0.021491045397750937,-0.02448979591836735,-0.027321949187838403,-0.029987505206164097,-0.03248646397334444,-0.03481882548937942,-0.036984589754269055,-0.03898375676801333,-0.04081632653061225,-0.04248229904206581,-0.04398167430237401,-0.045314452311536864,-0.046480633069554356,-0.04748021657642649,-0.04831320283215326,-0.04897959183673469,-0.04947938359017076,-0.04981257809246148,-0.04997917534360683,-0.04997917534360683,-0.04981257809246148,-0.04947938359017076,-0.0489795918367347,-0.04831320283215327,-0.047480216576426496,-0.046480633069554356,-0.045314452311536864,-0.04398167430237401,-0.04248229904206581,-0.040816326530612256,-0.038983756768013335,-0.03698458975426906,-0.03481882548937943,-0.032486463973344454,-0.02998750520616411,-0.027321949187838413,-0.024489795918367356,-0.021491045397750944,-0.01832569762598919,-0.014993752603082064,-0.011495210329029584,-0.007830070803831746,-0.0039983340274885515,0.0],\"y\":[1.0,1.0,1.0,1.0,1.0,1.0,1.0,1.0,1.0,1.0,1.0,1.0,1.0,1.0,1.0,1.0,1.0,1.0,1.0,1.0,1.0,1.0,1.0,1.0,1.0,1.0,1.0,1.0,1.0,1.0,1.0,1.0,1.0,1.0,1.0,1.0,1.0,1.0,1.0,1.0,1.0,1.0,1.0,1.0,1.0,1.0,1.0,1.0,1.0,1.0],\"z\":[1.0,0.9795918367346939,0.9591836734693877,0.9387755102040817,0.9183673469387755,0.8979591836734694,0.8775510204081632,0.8571428571428572,0.8367346938775511,0.8163265306122449,0.7959183673469388,0.7755102040816326,0.7551020408163265,0.7346938775510204,0.7142857142857143,0.6938775510204083,0.6734693877551021,0.653061224489796,0.6326530612244898,0.6122448979591837,0.5918367346938775,0.5714285714285714,0.5510204081632654,0.5306122448979592,0.5102040816326531,0.4897959183673469,0.4693877551020409,0.44897959183673475,0.4285714285714286,0.40816326530612246,0.3877551020408164,0.3673469387755103,0.34693877551020413,0.326530612244898,0.30612244897959184,0.2857142857142858,0.26530612244897966,0.24489795918367352,0.22448979591836737,0.20408163265306134,0.1836734693877552,0.16326530612244905,0.1428571428571429,0.12244897959183676,0.10204081632653073,0.08163265306122458,0.061224489795918435,0.04081632653061229,0.020408163265306145,0.0],\"type\":\"scatter3d\"},{\"anchor\":\"tip\",\"colorscale\":[[0.0,\"#440154\"],[0.1111111111111111,\"#482878\"],[0.2222222222222222,\"#3e4989\"],[0.3333333333333333,\"#31688e\"],[0.4444444444444444,\"#26828e\"],[0.5555555555555556,\"#1f9e89\"],[0.6666666666666666,\"#35b779\"],[0.7777777777777778,\"#6ece58\"],[0.8888888888888888,\"#b5de2b\"],[1.0,\"#fde725\"]],\"showscale\":false,\"sizemode\":\"absolute\",\"sizeref\":0.1,\"u\":[0.021491045397750944],\"v\":[0.0],\"w\":[-0.12244897959183676],\"x\":[0],\"y\":[1],\"z\":[0],\"type\":\"cone\"},{\"hoverinfo\":\"text\",\"hovertext\":\"Chunk_id : 5\",\"line\":{\"color\":\"black\",\"width\":2},\"mode\":\"lines\",\"x\":[0.0,-0.003998334027488546,-0.007830070803831737,-0.011495210329029573,-0.014993752603082049,-0.01832569762598917,-0.021491045397750937,-0.02448979591836735,-0.027321949187838403,-0.029987505206164097,-0.03248646397334444,-0.03481882548937942,-0.036984589754269055,-0.03898375676801333,-0.04081632653061225,-0.04248229904206581,-0.04398167430237401,-0.045314452311536864,-0.046480633069554356,-0.04748021657642649,-0.04831320283215326,-0.04897959183673469,-0.04947938359017076,-0.04981257809246148,-0.04997917534360683,-0.04997917534360683,-0.04981257809246148,-0.04947938359017076,-0.0489795918367347,-0.04831320283215327,-0.047480216576426496,-0.046480633069554356,-0.045314452311536864,-0.04398167430237401,-0.04248229904206581,-0.040816326530612256,-0.038983756768013335,-0.03698458975426906,-0.03481882548937943,-0.032486463973344454,-0.02998750520616411,-0.027321949187838413,-0.024489795918367356,-0.021491045397750944,-0.01832569762598919,-0.014993752603082064,-0.011495210329029584,-0.007830070803831746,-0.0039983340274885515,0.0],\"y\":[0.0,0.0,0.0,0.0,0.0,0.0,0.0,0.0,0.0,0.0,0.0,0.0,0.0,0.0,0.0,0.0,0.0,0.0,0.0,0.0,0.0,0.0,0.0,0.0,0.0,0.0,0.0,0.0,0.0,0.0,0.0,0.0,0.0,0.0,0.0,0.0,0.0,0.0,0.0,0.0,0.0,0.0,0.0,0.0,0.0,0.0,0.0,0.0,0.0,0.0],\"z\":[1.0,0.9795918367346939,0.9591836734693877,0.9387755102040817,0.9183673469387755,0.8979591836734694,0.8775510204081632,0.8571428571428572,0.8367346938775511,0.8163265306122449,0.7959183673469388,0.7755102040816326,0.7551020408163265,0.7346938775510204,0.7142857142857143,0.6938775510204083,0.6734693877551021,0.653061224489796,0.6326530612244898,0.6122448979591837,0.5918367346938775,0.5714285714285714,0.5510204081632654,0.5306122448979592,0.5102040816326531,0.4897959183673469,0.4693877551020409,0.44897959183673475,0.4285714285714286,0.40816326530612246,0.3877551020408164,0.3673469387755103,0.34693877551020413,0.326530612244898,0.30612244897959184,0.2857142857142858,0.26530612244897966,0.24489795918367352,0.22448979591836737,0.20408163265306134,0.1836734693877552,0.16326530612244905,0.1428571428571429,0.12244897959183676,0.10204081632653073,0.08163265306122458,0.061224489795918435,0.04081632653061229,0.020408163265306145,0.0],\"type\":\"scatter3d\"},{\"anchor\":\"tip\",\"colorscale\":[[0.0,\"#440154\"],[0.1111111111111111,\"#482878\"],[0.2222222222222222,\"#3e4989\"],[0.3333333333333333,\"#31688e\"],[0.4444444444444444,\"#26828e\"],[0.5555555555555556,\"#1f9e89\"],[0.6666666666666666,\"#35b779\"],[0.7777777777777778,\"#6ece58\"],[0.8888888888888888,\"#b5de2b\"],[1.0,\"#fde725\"]],\"showscale\":false,\"sizemode\":\"absolute\",\"sizeref\":0.1,\"u\":[0.021491045397750944],\"v\":[0.0],\"w\":[-0.12244897959183676],\"x\":[0],\"y\":[0],\"z\":[0],\"type\":\"cone\"},{\"hoverinfo\":\"text\",\"hovertext\":\"Chunk_id : 6\",\"line\":{\"color\":\"black\",\"width\":2},\"mode\":\"lines\",\"x\":[1.0,0.9795918367346939,0.9591836734693877,0.9387755102040817,0.9183673469387755,0.8979591836734694,0.8775510204081632,0.8571428571428572,0.8367346938775511,0.8163265306122449,0.7959183673469388,0.7755102040816326,0.7551020408163265,0.7346938775510204,0.7142857142857143,0.6938775510204083,0.6734693877551021,0.653061224489796,0.6326530612244898,0.6122448979591837,0.5918367346938775,0.5714285714285714,0.5510204081632654,0.5306122448979592,0.5102040816326531,0.4897959183673469,0.4693877551020409,0.44897959183673475,0.4285714285714286,0.40816326530612246,0.3877551020408164,0.3673469387755103,0.34693877551020413,0.326530612244898,0.30612244897959184,0.2857142857142858,0.26530612244897966,0.24489795918367352,0.22448979591836737,0.20408163265306134,0.1836734693877552,0.16326530612244905,0.1428571428571429,0.12244897959183676,0.10204081632653073,0.08163265306122458,0.061224489795918435,0.04081632653061229,0.020408163265306145,0.0],\"y\":[0.0,0.0,0.0,0.0,0.0,0.0,0.0,0.0,0.0,0.0,0.0,0.0,0.0,0.0,0.0,0.0,0.0,0.0,0.0,0.0,0.0,0.0,0.0,0.0,0.0,0.0,0.0,0.0,0.0,0.0,0.0,0.0,0.0,0.0,0.0,0.0,0.0,0.0,0.0,0.0,0.0,0.0,0.0,0.0,0.0,0.0,0.0,0.0,0.0,0.0],\"z\":[0.0,0.003998334027488546,0.007830070803831737,0.011495210329029573,0.014993752603082049,0.01832569762598917,0.021491045397750937,0.02448979591836735,0.027321949187838403,0.029987505206164097,0.03248646397334444,0.03481882548937942,0.036984589754269055,0.03898375676801333,0.04081632653061225,0.04248229904206581,0.04398167430237401,0.045314452311536864,0.046480633069554356,0.04748021657642649,0.04831320283215326,0.04897959183673469,0.04947938359017076,0.04981257809246148,0.04997917534360683,0.04997917534360683,0.04981257809246148,0.04947938359017076,0.0489795918367347,0.04831320283215327,0.047480216576426496,0.046480633069554356,0.045314452311536864,0.04398167430237401,0.04248229904206581,0.040816326530612256,0.038983756768013335,0.03698458975426906,0.03481882548937943,0.032486463973344454,0.02998750520616411,0.027321949187838413,0.024489795918367356,0.021491045397750944,0.01832569762598919,0.014993752603082064,0.011495210329029584,0.007830070803831746,0.0039983340274885515,0.0],\"type\":\"scatter3d\"},{\"anchor\":\"tip\",\"colorscale\":[[0.0,\"#440154\"],[0.1111111111111111,\"#482878\"],[0.2222222222222222,\"#3e4989\"],[0.3333333333333333,\"#31688e\"],[0.4444444444444444,\"#26828e\"],[0.5555555555555556,\"#1f9e89\"],[0.6666666666666666,\"#35b779\"],[0.7777777777777778,\"#6ece58\"],[0.8888888888888888,\"#b5de2b\"],[1.0,\"#fde725\"]],\"showscale\":false,\"sizemode\":\"absolute\",\"sizeref\":0.1,\"u\":[-0.12244897959183676],\"v\":[0.0],\"w\":[-0.021491045397750944],\"x\":[0],\"y\":[0],\"z\":[0],\"type\":\"cone\"},{\"hoverinfo\":\"text\",\"hovertext\":\"Chunk_id : 4\",\"line\":{\"color\":\"black\",\"width\":2},\"mode\":\"lines\",\"x\":[0.0,0.0,0.0,0.0,0.0,0.0,0.0,0.0,0.0,0.0,0.0,0.0,0.0,0.0,0.0,0.0,0.0,0.0,0.0,0.0,0.0,0.0,0.0,0.0,0.0,0.0,0.0,0.0,0.0,0.0,0.0,0.0,0.0,0.0,0.0,0.0,0.0,0.0,0.0,0.0,0.0,0.0,0.0,0.0,0.0,0.0,0.0,0.0,0.0,0.0],\"y\":[0.0,0.02040816326530612,0.04081632653061224,0.061224489795918366,0.08163265306122448,0.1020408163265306,0.12244897959183673,0.14285714285714285,0.16326530612244897,0.18367346938775508,0.2040816326530612,0.22448979591836732,0.24489795918367346,0.26530612244897955,0.2857142857142857,0.3061224489795918,0.32653061224489793,0.3469387755102041,0.36734693877551017,0.3877551020408163,0.4081632653061224,0.42857142857142855,0.44897959183673464,0.4693877551020408,0.4897959183673469,0.5102040816326531,0.5306122448979591,0.5510204081632653,0.5714285714285714,0.5918367346938775,0.6122448979591836,0.6326530612244897,0.6530612244897959,0.673469387755102,0.6938775510204082,0.7142857142857142,0.7346938775510203,0.7551020408163265,0.7755102040816326,0.7959183673469387,0.8163265306122448,0.836734693877551,0.8571428571428571,0.8775510204081632,0.8979591836734693,0.9183673469387754,0.9387755102040816,0.9591836734693877,0.9795918367346939,1.0],\"z\":[1.0,0.9960016659725115,0.9921699291961683,0.9885047896709704,0.9850062473969179,0.9816743023740108,0.9785089546022491,0.9755102040816326,0.9726780508121615,0.9700124947938359,0.9675135360266556,0.9651811745106206,0.9630154102457309,0.9610162432319866,0.9591836734693877,0.9575177009579342,0.9560183256976259,0.9546855476884631,0.9535193669304456,0.9525197834235735,0.9516867971678467,0.9510204081632653,0.9505206164098292,0.9501874219075385,0.9500208246563931,0.9500208246563931,0.9501874219075385,0.9505206164098292,0.9510204081632653,0.9516867971678467,0.9525197834235735,0.9535193669304456,0.9546855476884631,0.9560183256976259,0.9575177009579342,0.9591836734693877,0.9610162432319866,0.9630154102457309,0.9651811745106206,0.9675135360266556,0.9700124947938359,0.9726780508121615,0.9755102040816326,0.9785089546022491,0.9816743023740108,0.9850062473969179,0.9885047896709704,0.9921699291961682,0.9960016659725115,1.0],\"type\":\"scatter3d\"},{\"anchor\":\"tip\",\"colorscale\":[[0.0,\"#440154\"],[0.1111111111111111,\"#482878\"],[0.2222222222222222,\"#3e4989\"],[0.3333333333333333,\"#31688e\"],[0.4444444444444444,\"#26828e\"],[0.5555555555555556,\"#1f9e89\"],[0.6666666666666666,\"#35b779\"],[0.7777777777777778,\"#6ece58\"],[0.8888888888888888,\"#b5de2b\"],[1.0,\"#fde725\"]],\"showscale\":false,\"sizemode\":\"absolute\",\"sizeref\":0.1,\"u\":[0.0],\"v\":[0.12244897959183676],\"w\":[0.02149104539775093],\"x\":[0],\"y\":[1],\"z\":[1],\"type\":\"cone\"},{\"hoverinfo\":\"text\",\"hovertext\":\"Chunk_id : 3\",\"line\":{\"color\":\"black\",\"width\":2},\"mode\":\"lines\",\"x\":[1.0,0.9795918367346939,0.9591836734693877,0.9387755102040817,0.9183673469387755,0.8979591836734694,0.8775510204081632,0.8571428571428572,0.8367346938775511,0.8163265306122449,0.7959183673469388,0.7755102040816326,0.7551020408163265,0.7346938775510204,0.7142857142857143,0.6938775510204083,0.6734693877551021,0.653061224489796,0.6326530612244898,0.6122448979591837,0.5918367346938775,0.5714285714285714,0.5510204081632654,0.5306122448979592,0.5102040816326531,0.4897959183673469,0.4693877551020409,0.44897959183673475,0.4285714285714286,0.40816326530612246,0.3877551020408164,0.3673469387755103,0.34693877551020413,0.326530612244898,0.30612244897959184,0.2857142857142858,0.26530612244897966,0.24489795918367352,0.22448979591836737,0.20408163265306134,0.1836734693877552,0.16326530612244905,0.1428571428571429,0.12244897959183676,0.10204081632653073,0.08163265306122458,0.061224489795918435,0.04081632653061229,0.020408163265306145,0.0],\"y\":[1.0,1.0,1.0,1.0,1.0,1.0,1.0,1.0,1.0,1.0,1.0,1.0,1.0,1.0,1.0,1.0,1.0,1.0,1.0,1.0,1.0,1.0,1.0,1.0,1.0,1.0,1.0,1.0,1.0,1.0,1.0,1.0,1.0,1.0,1.0,1.0,1.0,1.0,1.0,1.0,1.0,1.0,1.0,1.0,1.0,1.0,1.0,1.0,1.0,1.0],\"z\":[0.0,0.003998334027488546,0.007830070803831737,0.011495210329029573,0.014993752603082049,0.01832569762598917,0.021491045397750937,0.02448979591836735,0.027321949187838403,0.029987505206164097,0.03248646397334444,0.03481882548937942,0.036984589754269055,0.03898375676801333,0.04081632653061225,0.04248229904206581,0.04398167430237401,0.045314452311536864,0.046480633069554356,0.04748021657642649,0.04831320283215326,0.04897959183673469,0.04947938359017076,0.04981257809246148,0.04997917534360683,0.04997917534360683,0.04981257809246148,0.04947938359017076,0.0489795918367347,0.04831320283215327,0.047480216576426496,0.046480633069554356,0.045314452311536864,0.04398167430237401,0.04248229904206581,0.040816326530612256,0.038983756768013335,0.03698458975426906,0.03481882548937943,0.032486463973344454,0.02998750520616411,0.027321949187838413,0.024489795918367356,0.021491045397750944,0.01832569762598919,0.014993752603082064,0.011495210329029584,0.007830070803831746,0.0039983340274885515,0.0],\"type\":\"scatter3d\"},{\"anchor\":\"tip\",\"colorscale\":[[0.0,\"#440154\"],[0.1111111111111111,\"#482878\"],[0.2222222222222222,\"#3e4989\"],[0.3333333333333333,\"#31688e\"],[0.4444444444444444,\"#26828e\"],[0.5555555555555556,\"#1f9e89\"],[0.6666666666666666,\"#35b779\"],[0.7777777777777778,\"#6ece58\"],[0.8888888888888888,\"#b5de2b\"],[1.0,\"#fde725\"]],\"showscale\":false,\"sizemode\":\"absolute\",\"sizeref\":0.1,\"u\":[-0.12244897959183676],\"v\":[0.0],\"w\":[-0.021491045397750944],\"x\":[0],\"y\":[1],\"z\":[0],\"type\":\"cone\"},{\"hoverinfo\":\"text\",\"hovertext\":\"Chunk_id : 4\",\"line\":{\"color\":\"black\",\"width\":2},\"mode\":\"lines\",\"x\":[0.0,0.02040816326530612,0.04081632653061224,0.061224489795918366,0.08163265306122448,0.1020408163265306,0.12244897959183673,0.14285714285714285,0.16326530612244897,0.18367346938775508,0.2040816326530612,0.22448979591836732,0.24489795918367346,0.26530612244897955,0.2857142857142857,0.3061224489795918,0.32653061224489793,0.3469387755102041,0.36734693877551017,0.3877551020408163,0.4081632653061224,0.42857142857142855,0.44897959183673464,0.4693877551020408,0.4897959183673469,0.5102040816326531,0.5306122448979591,0.5510204081632653,0.5714285714285714,0.5918367346938775,0.6122448979591836,0.6326530612244897,0.6530612244897959,0.673469387755102,0.6938775510204082,0.7142857142857142,0.7346938775510203,0.7551020408163265,0.7755102040816326,0.7959183673469387,0.8163265306122448,0.836734693877551,0.8571428571428571,0.8775510204081632,0.8979591836734693,0.9183673469387754,0.9387755102040816,0.9591836734693877,0.9795918367346939,1.0],\"y\":[1.0,1.0,1.0,1.0,1.0,1.0,1.0,1.0,1.0,1.0,1.0,1.0,1.0,1.0,1.0,1.0,1.0,1.0,1.0,1.0,1.0,1.0,1.0,1.0,1.0,1.0,1.0,1.0,1.0,1.0,1.0,1.0,1.0,1.0,1.0,1.0,1.0,1.0,1.0,1.0,1.0,1.0,1.0,1.0,1.0,1.0,1.0,1.0,1.0,1.0],\"z\":[0.0,-0.003998334027488546,-0.007830070803831737,-0.011495210329029573,-0.014993752603082049,-0.01832569762598917,-0.021491045397750937,-0.02448979591836735,-0.027321949187838403,-0.029987505206164097,-0.03248646397334444,-0.03481882548937942,-0.036984589754269055,-0.03898375676801333,-0.04081632653061225,-0.04248229904206581,-0.04398167430237401,-0.045314452311536864,-0.046480633069554356,-0.04748021657642649,-0.04831320283215326,-0.04897959183673469,-0.04947938359017076,-0.04981257809246148,-0.04997917534360683,-0.04997917534360683,-0.04981257809246148,-0.04947938359017076,-0.0489795918367347,-0.04831320283215327,-0.047480216576426496,-0.046480633069554356,-0.045314452311536864,-0.04398167430237401,-0.04248229904206581,-0.040816326530612256,-0.038983756768013335,-0.03698458975426906,-0.03481882548937943,-0.032486463973344454,-0.02998750520616411,-0.027321949187838413,-0.024489795918367356,-0.021491045397750944,-0.01832569762598919,-0.014993752603082064,-0.011495210329029584,-0.007830070803831746,-0.0039983340274885515,0.0],\"type\":\"scatter3d\"},{\"anchor\":\"tip\",\"colorscale\":[[0.0,\"#440154\"],[0.1111111111111111,\"#482878\"],[0.2222222222222222,\"#3e4989\"],[0.3333333333333333,\"#31688e\"],[0.4444444444444444,\"#26828e\"],[0.5555555555555556,\"#1f9e89\"],[0.6666666666666666,\"#35b779\"],[0.7777777777777778,\"#6ece58\"],[0.8888888888888888,\"#b5de2b\"],[1.0,\"#fde725\"]],\"showscale\":false,\"sizemode\":\"absolute\",\"sizeref\":0.1,\"u\":[0.12244897959183676],\"v\":[0.0],\"w\":[0.021491045397750944],\"x\":[1],\"y\":[1],\"z\":[0],\"type\":\"cone\"},{\"hoverinfo\":\"text\",\"hovertext\":\"Chunk_id : 5\",\"line\":{\"color\":\"black\",\"width\":2},\"mode\":\"lines\",\"x\":[0.0,0.02040816326530612,0.04081632653061224,0.061224489795918366,0.08163265306122448,0.1020408163265306,0.12244897959183673,0.14285714285714285,0.16326530612244897,0.18367346938775508,0.2040816326530612,0.22448979591836732,0.24489795918367346,0.26530612244897955,0.2857142857142857,0.3061224489795918,0.32653061224489793,0.3469387755102041,0.36734693877551017,0.3877551020408163,0.4081632653061224,0.42857142857142855,0.44897959183673464,0.4693877551020408,0.4897959183673469,0.5102040816326531,0.5306122448979591,0.5510204081632653,0.5714285714285714,0.5918367346938775,0.6122448979591836,0.6326530612244897,0.6530612244897959,0.673469387755102,0.6938775510204082,0.7142857142857142,0.7346938775510203,0.7551020408163265,0.7755102040816326,0.7959183673469387,0.8163265306122448,0.836734693877551,0.8571428571428571,0.8775510204081632,0.8979591836734693,0.9183673469387754,0.9387755102040816,0.9591836734693877,0.9795918367346939,1.0],\"y\":[0.0,0.0,0.0,0.0,0.0,0.0,0.0,0.0,0.0,0.0,0.0,0.0,0.0,0.0,0.0,0.0,0.0,0.0,0.0,0.0,0.0,0.0,0.0,0.0,0.0,0.0,0.0,0.0,0.0,0.0,0.0,0.0,0.0,0.0,0.0,0.0,0.0,0.0,0.0,0.0,0.0,0.0,0.0,0.0,0.0,0.0,0.0,0.0,0.0,0.0],\"z\":[1.0,0.9960016659725115,0.9921699291961683,0.9885047896709704,0.9850062473969179,0.9816743023740108,0.9785089546022491,0.9755102040816326,0.9726780508121615,0.9700124947938359,0.9675135360266556,0.9651811745106206,0.9630154102457309,0.9610162432319866,0.9591836734693877,0.9575177009579342,0.9560183256976259,0.9546855476884631,0.9535193669304456,0.9525197834235735,0.9516867971678467,0.9510204081632653,0.9505206164098292,0.9501874219075385,0.9500208246563931,0.9500208246563931,0.9501874219075385,0.9505206164098292,0.9510204081632653,0.9516867971678467,0.9525197834235735,0.9535193669304456,0.9546855476884631,0.9560183256976259,0.9575177009579342,0.9591836734693877,0.9610162432319866,0.9630154102457309,0.9651811745106206,0.9675135360266556,0.9700124947938359,0.9726780508121615,0.9755102040816326,0.9785089546022491,0.9816743023740108,0.9850062473969179,0.9885047896709704,0.9921699291961682,0.9960016659725115,1.0],\"type\":\"scatter3d\"},{\"anchor\":\"tip\",\"colorscale\":[[0.0,\"#440154\"],[0.1111111111111111,\"#482878\"],[0.2222222222222222,\"#3e4989\"],[0.3333333333333333,\"#31688e\"],[0.4444444444444444,\"#26828e\"],[0.5555555555555556,\"#1f9e89\"],[0.6666666666666666,\"#35b779\"],[0.7777777777777778,\"#6ece58\"],[0.8888888888888888,\"#b5de2b\"],[1.0,\"#fde725\"]],\"showscale\":false,\"sizemode\":\"absolute\",\"sizeref\":0.1,\"u\":[0.12244897959183676],\"v\":[0.0],\"w\":[0.02149104539775093],\"x\":[1],\"y\":[0],\"z\":[1],\"type\":\"cone\"},{\"hoverinfo\":\"text\",\"hovertext\":\"Chunk_id : 5\",\"line\":{\"color\":\"black\",\"width\":2},\"mode\":\"lines\",\"x\":[0.0,0.02040816326530612,0.04081632653061224,0.061224489795918366,0.08163265306122448,0.1020408163265306,0.12244897959183673,0.14285714285714285,0.16326530612244897,0.18367346938775508,0.2040816326530612,0.22448979591836732,0.24489795918367346,0.26530612244897955,0.2857142857142857,0.3061224489795918,0.32653061224489793,0.3469387755102041,0.36734693877551017,0.3877551020408163,0.4081632653061224,0.42857142857142855,0.44897959183673464,0.4693877551020408,0.4897959183673469,0.5102040816326531,0.5306122448979591,0.5510204081632653,0.5714285714285714,0.5918367346938775,0.6122448979591836,0.6326530612244897,0.6530612244897959,0.673469387755102,0.6938775510204082,0.7142857142857142,0.7346938775510203,0.7551020408163265,0.7755102040816326,0.7959183673469387,0.8163265306122448,0.836734693877551,0.8571428571428571,0.8775510204081632,0.8979591836734693,0.9183673469387754,0.9387755102040816,0.9591836734693877,0.9795918367346939,1.0],\"y\":[0.0,0.0,0.0,0.0,0.0,0.0,0.0,0.0,0.0,0.0,0.0,0.0,0.0,0.0,0.0,0.0,0.0,0.0,0.0,0.0,0.0,0.0,0.0,0.0,0.0,0.0,0.0,0.0,0.0,0.0,0.0,0.0,0.0,0.0,0.0,0.0,0.0,0.0,0.0,0.0,0.0,0.0,0.0,0.0,0.0,0.0,0.0,0.0,0.0,0.0],\"z\":[0.0,-0.003998334027488546,-0.007830070803831737,-0.011495210329029573,-0.014993752603082049,-0.01832569762598917,-0.021491045397750937,-0.02448979591836735,-0.027321949187838403,-0.029987505206164097,-0.03248646397334444,-0.03481882548937942,-0.036984589754269055,-0.03898375676801333,-0.04081632653061225,-0.04248229904206581,-0.04398167430237401,-0.045314452311536864,-0.046480633069554356,-0.04748021657642649,-0.04831320283215326,-0.04897959183673469,-0.04947938359017076,-0.04981257809246148,-0.04997917534360683,-0.04997917534360683,-0.04981257809246148,-0.04947938359017076,-0.0489795918367347,-0.04831320283215327,-0.047480216576426496,-0.046480633069554356,-0.045314452311536864,-0.04398167430237401,-0.04248229904206581,-0.040816326530612256,-0.038983756768013335,-0.03698458975426906,-0.03481882548937943,-0.032486463973344454,-0.02998750520616411,-0.027321949187838413,-0.024489795918367356,-0.021491045397750944,-0.01832569762598919,-0.014993752603082064,-0.011495210329029584,-0.007830070803831746,-0.0039983340274885515,0.0],\"type\":\"scatter3d\"},{\"anchor\":\"tip\",\"colorscale\":[[0.0,\"#440154\"],[0.1111111111111111,\"#482878\"],[0.2222222222222222,\"#3e4989\"],[0.3333333333333333,\"#31688e\"],[0.4444444444444444,\"#26828e\"],[0.5555555555555556,\"#1f9e89\"],[0.6666666666666666,\"#35b779\"],[0.7777777777777778,\"#6ece58\"],[0.8888888888888888,\"#b5de2b\"],[1.0,\"#fde725\"]],\"showscale\":false,\"sizemode\":\"absolute\",\"sizeref\":0.1,\"u\":[0.12244897959183676],\"v\":[0.0],\"w\":[0.021491045397750944],\"x\":[1],\"y\":[0],\"z\":[0],\"type\":\"cone\"}],                        {\"title\":{\"text\":\"Time step = 1\"},\"template\":{\"data\":{\"histogram2dcontour\":[{\"type\":\"histogram2dcontour\",\"colorbar\":{\"outlinewidth\":0,\"ticks\":\"\"},\"colorscale\":[[0.0,\"#0d0887\"],[0.1111111111111111,\"#46039f\"],[0.2222222222222222,\"#7201a8\"],[0.3333333333333333,\"#9c179e\"],[0.4444444444444444,\"#bd3786\"],[0.5555555555555556,\"#d8576b\"],[0.6666666666666666,\"#ed7953\"],[0.7777777777777778,\"#fb9f3a\"],[0.8888888888888888,\"#fdca26\"],[1.0,\"#f0f921\"]]}],\"choropleth\":[{\"type\":\"choropleth\",\"colorbar\":{\"outlinewidth\":0,\"ticks\":\"\"}}],\"histogram2d\":[{\"type\":\"histogram2d\",\"colorbar\":{\"outlinewidth\":0,\"ticks\":\"\"},\"colorscale\":[[0.0,\"#0d0887\"],[0.1111111111111111,\"#46039f\"],[0.2222222222222222,\"#7201a8\"],[0.3333333333333333,\"#9c179e\"],[0.4444444444444444,\"#bd3786\"],[0.5555555555555556,\"#d8576b\"],[0.6666666666666666,\"#ed7953\"],[0.7777777777777778,\"#fb9f3a\"],[0.8888888888888888,\"#fdca26\"],[1.0,\"#f0f921\"]]}],\"heatmap\":[{\"type\":\"heatmap\",\"colorbar\":{\"outlinewidth\":0,\"ticks\":\"\"},\"colorscale\":[[0.0,\"#0d0887\"],[0.1111111111111111,\"#46039f\"],[0.2222222222222222,\"#7201a8\"],[0.3333333333333333,\"#9c179e\"],[0.4444444444444444,\"#bd3786\"],[0.5555555555555556,\"#d8576b\"],[0.6666666666666666,\"#ed7953\"],[0.7777777777777778,\"#fb9f3a\"],[0.8888888888888888,\"#fdca26\"],[1.0,\"#f0f921\"]]}],\"heatmapgl\":[{\"type\":\"heatmapgl\",\"colorbar\":{\"outlinewidth\":0,\"ticks\":\"\"},\"colorscale\":[[0.0,\"#0d0887\"],[0.1111111111111111,\"#46039f\"],[0.2222222222222222,\"#7201a8\"],[0.3333333333333333,\"#9c179e\"],[0.4444444444444444,\"#bd3786\"],[0.5555555555555556,\"#d8576b\"],[0.6666666666666666,\"#ed7953\"],[0.7777777777777778,\"#fb9f3a\"],[0.8888888888888888,\"#fdca26\"],[1.0,\"#f0f921\"]]}],\"contourcarpet\":[{\"type\":\"contourcarpet\",\"colorbar\":{\"outlinewidth\":0,\"ticks\":\"\"}}],\"contour\":[{\"type\":\"contour\",\"colorbar\":{\"outlinewidth\":0,\"ticks\":\"\"},\"colorscale\":[[0.0,\"#0d0887\"],[0.1111111111111111,\"#46039f\"],[0.2222222222222222,\"#7201a8\"],[0.3333333333333333,\"#9c179e\"],[0.4444444444444444,\"#bd3786\"],[0.5555555555555556,\"#d8576b\"],[0.6666666666666666,\"#ed7953\"],[0.7777777777777778,\"#fb9f3a\"],[0.8888888888888888,\"#fdca26\"],[1.0,\"#f0f921\"]]}],\"surface\":[{\"type\":\"surface\",\"colorbar\":{\"outlinewidth\":0,\"ticks\":\"\"},\"colorscale\":[[0.0,\"#0d0887\"],[0.1111111111111111,\"#46039f\"],[0.2222222222222222,\"#7201a8\"],[0.3333333333333333,\"#9c179e\"],[0.4444444444444444,\"#bd3786\"],[0.5555555555555556,\"#d8576b\"],[0.6666666666666666,\"#ed7953\"],[0.7777777777777778,\"#fb9f3a\"],[0.8888888888888888,\"#fdca26\"],[1.0,\"#f0f921\"]]}],\"mesh3d\":[{\"type\":\"mesh3d\",\"colorbar\":{\"outlinewidth\":0,\"ticks\":\"\"}}],\"scatter\":[{\"fillpattern\":{\"fillmode\":\"overlay\",\"size\":10,\"solidity\":0.2},\"type\":\"scatter\"}],\"parcoords\":[{\"type\":\"parcoords\",\"line\":{\"colorbar\":{\"outlinewidth\":0,\"ticks\":\"\"}}}],\"scatterpolargl\":[{\"type\":\"scatterpolargl\",\"marker\":{\"colorbar\":{\"outlinewidth\":0,\"ticks\":\"\"}}}],\"bar\":[{\"error_x\":{\"color\":\"#2a3f5f\"},\"error_y\":{\"color\":\"#2a3f5f\"},\"marker\":{\"line\":{\"color\":\"#E5ECF6\",\"width\":0.5},\"pattern\":{\"fillmode\":\"overlay\",\"size\":10,\"solidity\":0.2}},\"type\":\"bar\"}],\"scattergeo\":[{\"type\":\"scattergeo\",\"marker\":{\"colorbar\":{\"outlinewidth\":0,\"ticks\":\"\"}}}],\"scatterpolar\":[{\"type\":\"scatterpolar\",\"marker\":{\"colorbar\":{\"outlinewidth\":0,\"ticks\":\"\"}}}],\"histogram\":[{\"marker\":{\"pattern\":{\"fillmode\":\"overlay\",\"size\":10,\"solidity\":0.2}},\"type\":\"histogram\"}],\"scattergl\":[{\"type\":\"scattergl\",\"marker\":{\"colorbar\":{\"outlinewidth\":0,\"ticks\":\"\"}}}],\"scatter3d\":[{\"type\":\"scatter3d\",\"line\":{\"colorbar\":{\"outlinewidth\":0,\"ticks\":\"\"}},\"marker\":{\"colorbar\":{\"outlinewidth\":0,\"ticks\":\"\"}}}],\"scattermapbox\":[{\"type\":\"scattermapbox\",\"marker\":{\"colorbar\":{\"outlinewidth\":0,\"ticks\":\"\"}}}],\"scatterternary\":[{\"type\":\"scatterternary\",\"marker\":{\"colorbar\":{\"outlinewidth\":0,\"ticks\":\"\"}}}],\"scattercarpet\":[{\"type\":\"scattercarpet\",\"marker\":{\"colorbar\":{\"outlinewidth\":0,\"ticks\":\"\"}}}],\"carpet\":[{\"aaxis\":{\"endlinecolor\":\"#2a3f5f\",\"gridcolor\":\"white\",\"linecolor\":\"white\",\"minorgridcolor\":\"white\",\"startlinecolor\":\"#2a3f5f\"},\"baxis\":{\"endlinecolor\":\"#2a3f5f\",\"gridcolor\":\"white\",\"linecolor\":\"white\",\"minorgridcolor\":\"white\",\"startlinecolor\":\"#2a3f5f\"},\"type\":\"carpet\"}],\"table\":[{\"cells\":{\"fill\":{\"color\":\"#EBF0F8\"},\"line\":{\"color\":\"white\"}},\"header\":{\"fill\":{\"color\":\"#C8D4E3\"},\"line\":{\"color\":\"white\"}},\"type\":\"table\"}],\"barpolar\":[{\"marker\":{\"line\":{\"color\":\"#E5ECF6\",\"width\":0.5},\"pattern\":{\"fillmode\":\"overlay\",\"size\":10,\"solidity\":0.2}},\"type\":\"barpolar\"}],\"pie\":[{\"automargin\":true,\"type\":\"pie\"}]},\"layout\":{\"autotypenumbers\":\"strict\",\"colorway\":[\"#636efa\",\"#EF553B\",\"#00cc96\",\"#ab63fa\",\"#FFA15A\",\"#19d3f3\",\"#FF6692\",\"#B6E880\",\"#FF97FF\",\"#FECB52\"],\"font\":{\"color\":\"#2a3f5f\"},\"hovermode\":\"closest\",\"hoverlabel\":{\"align\":\"left\"},\"paper_bgcolor\":\"white\",\"plot_bgcolor\":\"#E5ECF6\",\"polar\":{\"bgcolor\":\"#E5ECF6\",\"angularaxis\":{\"gridcolor\":\"white\",\"linecolor\":\"white\",\"ticks\":\"\"},\"radialaxis\":{\"gridcolor\":\"white\",\"linecolor\":\"white\",\"ticks\":\"\"}},\"ternary\":{\"bgcolor\":\"#E5ECF6\",\"aaxis\":{\"gridcolor\":\"white\",\"linecolor\":\"white\",\"ticks\":\"\"},\"baxis\":{\"gridcolor\":\"white\",\"linecolor\":\"white\",\"ticks\":\"\"},\"caxis\":{\"gridcolor\":\"white\",\"linecolor\":\"white\",\"ticks\":\"\"}},\"coloraxis\":{\"colorbar\":{\"outlinewidth\":0,\"ticks\":\"\"}},\"colorscale\":{\"sequential\":[[0.0,\"#0d0887\"],[0.1111111111111111,\"#46039f\"],[0.2222222222222222,\"#7201a8\"],[0.3333333333333333,\"#9c179e\"],[0.4444444444444444,\"#bd3786\"],[0.5555555555555556,\"#d8576b\"],[0.6666666666666666,\"#ed7953\"],[0.7777777777777778,\"#fb9f3a\"],[0.8888888888888888,\"#fdca26\"],[1.0,\"#f0f921\"]],\"sequentialminus\":[[0.0,\"#0d0887\"],[0.1111111111111111,\"#46039f\"],[0.2222222222222222,\"#7201a8\"],[0.3333333333333333,\"#9c179e\"],[0.4444444444444444,\"#bd3786\"],[0.5555555555555556,\"#d8576b\"],[0.6666666666666666,\"#ed7953\"],[0.7777777777777778,\"#fb9f3a\"],[0.8888888888888888,\"#fdca26\"],[1.0,\"#f0f921\"]],\"diverging\":[[0,\"#8e0152\"],[0.1,\"#c51b7d\"],[0.2,\"#de77ae\"],[0.3,\"#f1b6da\"],[0.4,\"#fde0ef\"],[0.5,\"#f7f7f7\"],[0.6,\"#e6f5d0\"],[0.7,\"#b8e186\"],[0.8,\"#7fbc41\"],[0.9,\"#4d9221\"],[1,\"#276419\"]]},\"xaxis\":{\"gridcolor\":\"white\",\"linecolor\":\"white\",\"ticks\":\"\",\"title\":{\"standoff\":15},\"zerolinecolor\":\"white\",\"automargin\":true,\"zerolinewidth\":2},\"yaxis\":{\"gridcolor\":\"white\",\"linecolor\":\"white\",\"ticks\":\"\",\"title\":{\"standoff\":15},\"zerolinecolor\":\"white\",\"automargin\":true,\"zerolinewidth\":2},\"scene\":{\"xaxis\":{\"backgroundcolor\":\"#E5ECF6\",\"gridcolor\":\"white\",\"linecolor\":\"white\",\"showbackground\":true,\"ticks\":\"\",\"zerolinecolor\":\"white\",\"gridwidth\":2},\"yaxis\":{\"backgroundcolor\":\"#E5ECF6\",\"gridcolor\":\"white\",\"linecolor\":\"white\",\"showbackground\":true,\"ticks\":\"\",\"zerolinecolor\":\"white\",\"gridwidth\":2},\"zaxis\":{\"backgroundcolor\":\"#E5ECF6\",\"gridcolor\":\"white\",\"linecolor\":\"white\",\"showbackground\":true,\"ticks\":\"\",\"zerolinecolor\":\"white\",\"gridwidth\":2}},\"shapedefaults\":{\"line\":{\"color\":\"#2a3f5f\"}},\"annotationdefaults\":{\"arrowcolor\":\"#2a3f5f\",\"arrowhead\":0,\"arrowwidth\":1},\"geo\":{\"bgcolor\":\"white\",\"landcolor\":\"#E5ECF6\",\"subunitcolor\":\"white\",\"showland\":true,\"showlakes\":true,\"lakecolor\":\"white\"},\"title\":{\"x\":0.05},\"mapbox\":{\"style\":\"light\"}}}},                        {\"responsive\": true}                    ).then(function(){\n",
       "                            \n",
       "var gd = document.getElementById('cc7f7600-02b2-4f4a-9c4e-546ce1fa21cc');\n",
       "var x = new MutationObserver(function (mutations, observer) {{\n",
       "        var display = window.getComputedStyle(gd).display;\n",
       "        if (!display || display === 'none') {{\n",
       "            console.log([gd, 'removed!']);\n",
       "            Plotly.purge(gd);\n",
       "            observer.disconnect();\n",
       "        }}\n",
       "}});\n",
       "\n",
       "// Listen for the removal of the full notebook cells\n",
       "var notebookContainer = gd.closest('#notebook-container');\n",
       "if (notebookContainer) {{\n",
       "    x.observe(notebookContainer, {childList: true});\n",
       "}}\n",
       "\n",
       "// Listen for the clearing of the current output cell\n",
       "var outputEl = gd.closest('.output');\n",
       "if (outputEl) {{\n",
       "    x.observe(outputEl, {childList: true});\n",
       "}}\n",
       "\n",
       "                        })                };                });            </script>        </div>"
      ]
     },
     "metadata": {},
     "output_type": "display_data"
    }
   ],
   "source": [
    "import plotly.graph_objects as go\n",
    "import numpy as np\n",
    "import networkx as nx\n",
    "import ipywidgets as widgets\n",
    "from IPython.display import display, clear_output\n",
    "\n",
    "length, width, depth = 2, 2, 2\n",
    "\n",
    "# Function to create the hypercube graph\n",
    "def create_hypercube():\n",
    "    G = nx.DiGraph()\n",
    "    node_number = 0\n",
    "    for k in range(depth):  \n",
    "        for i in range(length):  \n",
    "            for j in range(width):  \n",
    "                new_edge = (i, j, k)\n",
    "                G.add_node(new_edge, label=f\"gpu : {node_number}\")\n",
    "                node_number += 1\n",
    "\n",
    "                if (j + 1 < width):\n",
    "                    G.add_edge(new_edge, (i, j + 1, k))  \n",
    "                    G.add_edge((i, j + 1, k), new_edge)  \n",
    "\n",
    "            if (i + 1 < length):\n",
    "                for j in range(width):\n",
    "                    G.add_edge((i, j, k), (i + 1, j, k))  \n",
    "                    G.add_edge((i + 1, j, k), (i, j, k))  \n",
    "\n",
    "        if (k + 1 < depth):\n",
    "            for i in range(length):\n",
    "                for j in range(width):\n",
    "                    G.add_edge((i, j, k), (i, j, k + 1))  \n",
    "                    G.add_edge((i, j, k + 1), (i, j, k))  \n",
    "\n",
    "    return G\n",
    "\n",
    "def create_curve(start, end, height_factor=0.2):\n",
    "    \"\"\"Create a curved path between two points.\"\"\"\n",
    "    mid = (start + end) / 2\n",
    "  \n",
    "    # Add some height to the midpoint\n",
    "    if (start[2] == end[2]):\n",
    "        mid[2] += np.linalg.norm(end - start) * height_factor\n",
    "    else:\n",
    "        mid[0] += np.linalg.norm(end - start) * height_factor\n",
    "    \n",
    "    t = np.linspace(0, 1, 50)\n",
    "\n",
    "    curve = np.outer(1-t, start) + np.outer(t, end) + np.outer(4*t*(1-t), mid-0.5*(start+end))\n",
    "    return curve\n",
    "\n",
    "# Function to create scatter plot for nodes and edges per timestep\n",
    "def update_plot(timestep):\n",
    "    clear_output(wait=True)\n",
    "    display(prev_button, next_button)\n",
    "\n",
    "    # Initialize the graph data for timestep changes\n",
    "    G = create_hypercube()\n",
    "    nodes = np.array(G.nodes())\n",
    "\n",
    "    time_data = timestep_data[f'{timestep}']\n",
    "    \n",
    "    # Nodes scatter plot\n",
    "    scatter = go.Scatter3d(\n",
    "        x=nodes[:, 0], y=nodes[:, 1], z=nodes[:, 2],\n",
    "        mode='markers',\n",
    "        marker=dict(size=12, color='blue'),\n",
    "        hoverinfo='text',\n",
    "        hovertext=[f\"gpu : {gpu_id}\" for gpu_id in range(length * width * depth)]\n",
    "    )\n",
    "    \n",
    "    # Edges and arrows\n",
    "    edges = []\n",
    "    for gpu_id, gpu_data in time_data.items():\n",
    "        for tb_id, tb_data in gpu_data.items():\n",
    "            if (tb_data['pkt_type'] == 's'):\n",
    "                edges.append((int(gpu_id), int(tb_data['tb_gpuid_send']), int(tb_data['chunk_id'])))\n",
    "            elif (tb_data['pkt_type'] == 'r'):\n",
    "                edges.append((int(tb_data['tb_gpuid_recv']), int(gpu_id), int(tb_data['chunk_id'])))\n",
    "    \n",
    "    arrows = []\n",
    "    x = []\n",
    "    edges = list(set(edges))\n",
    "\n",
    "    for edge in edges:\n",
    "        # print(edge)\n",
    "        start_node = nodes[edge[0]]\n",
    "        end_node = nodes[edge[1]]\n",
    "        chunk_id = edge[2]\n",
    "\n",
    "        # Convert start_node and end_node to tuples for comparison\n",
    "        start_node_tuple = tuple(start_node)\n",
    "        end_node_tuple = tuple(end_node)\n",
    "        \n",
    "        \"\"\"\n",
    "            for example if an edge is ((0,0,0), (0,0,1)), it doesn't exist in x, so append it to x, and draw a curved line and \n",
    "            arrow from edge 0 to edge 1 with arrow pointing towards edge 1\n",
    "            \n",
    "            if ((0,0,1),(0,0,0)) appears, check if ((0,0,0),(0,0,1)) i.e., reverse of this exists in the list. If so remove this \n",
    "            entry from the list and draw a curved line and arrow from edge 1 to edge 0, with arrow pointing towards edge 0\n",
    "        \"\"\"\n",
    "\n",
    "        if (end_node_tuple, start_node_tuple) in x:\n",
    "            curve = create_curve(start_node, end_node, -0.05)\n",
    "            x.remove((end_node_tuple, start_node_tuple))\n",
    "        else:\n",
    "            x.append((start_node_tuple, end_node_tuple))\n",
    "            curve = create_curve(start_node, end_node, 0.05)\n",
    "\n",
    "        line = go.Scatter3d(\n",
    "            x=curve[:, 0], y=curve[:, 1], z=curve[:, 2],\n",
    "            mode='lines',\n",
    "            line=dict(color='black', width=2),\n",
    "            hoverinfo='text',\n",
    "            hovertext=f\"Chunk_id : {chunk_id}\"\n",
    "        )\n",
    "        \n",
    "        arrows.append(line)\n",
    "        tangent = curve[-1] - curve[-7]\n",
    "\n",
    "        arrow = go.Cone(\n",
    "            x=[end_node[0]], y=[end_node[1]], z=[end_node[2]],\n",
    "            u=[tangent[0]], \n",
    "            v=[tangent[1]], \n",
    "            w=[tangent[2]],\n",
    "            sizemode=\"absolute\",\n",
    "            sizeref=0.1,  # Adjust the size reference to control arrow size\n",
    "            anchor=\"tip\",\n",
    "            showscale=False,\n",
    "            colorscale=\"Viridis\"  # You can change the color as needed\n",
    "        )\n",
    "\n",
    "        arrows.append(arrow)\n",
    "        \n",
    "    # 3D Plot Layout\n",
    "    layout = go.Layout(\n",
    "        title=f\"Time step = {timestep}\"\n",
    "    )\n",
    "\n",
    "    fig = go.Figure(data=[scatter] + arrows, layout=layout)\n",
    "    fig.show()\n",
    "\n",
    "# Timestep navigation\n",
    "current_timestep = 0\n",
    "max_timestep = len(timestep_data) - 1\n",
    "\n",
    "def on_next_button_clicked(b):\n",
    "    global current_timestep\n",
    "    if current_timestep < max_timestep:\n",
    "        print(\"current_timestep : \", current_timestep)\n",
    "        current_timestep += 1\n",
    "        update_plot(current_timestep)\n",
    "\n",
    "def on_prev_button_clicked(b):\n",
    "    global current_timestep\n",
    "    if current_timestep > 0:\n",
    "        print(\"current_timestep : \", current_timestep)\n",
    "        current_timestep -= 1\n",
    "        update_plot(current_timestep)\n",
    "\n",
    "# Create Next and Previous buttons\n",
    "next_button = widgets.Button(description=\"Next\")\n",
    "prev_button = widgets.Button(description=\"Previous\")\n",
    "\n",
    "# Bind button clicks to functions\n",
    "next_button.on_click(on_next_button_clicked)\n",
    "prev_button.on_click(on_prev_button_clicked)\n",
    "\n",
    "# Display buttons and initial plot\n",
    "display(prev_button, next_button)\n",
    "update_plot(current_timestep)"
   ]
  }
 ],
 "metadata": {
  "kernelspec": {
   "display_name": "BCARS3",
   "language": "python",
   "name": "python3"
  },
  "language_info": {
   "codemirror_mode": {
    "name": "ipython",
    "version": 3
   },
   "file_extension": ".py",
   "mimetype": "text/x-python",
   "name": "python",
   "nbconvert_exporter": "python",
   "pygments_lexer": "ipython3",
   "version": "3.8.18"
  }
 },
 "nbformat": 4,
 "nbformat_minor": 2
}
