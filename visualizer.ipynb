{
 "cells": [
  {
   "cell_type": "markdown",
   "metadata": {},
   "source": [
    "## Topological Visualizations"
   ]
  },
  {
   "cell_type": "markdown",
   "metadata": {},
   "source": [
    "### Basic 3D cube visualization"
   ]
  },
  {
   "cell_type": "code",
   "execution_count": 92,
   "metadata": {},
   "outputs": [
    {
     "data": {
      "application/vnd.plotly.v1+json": {
       "config": {
        "plotlyServerURL": "https://plot.ly"
       },
       "data": [
        {
         "marker": {
          "color": "blue",
          "size": 10
         },
         "mode": "markers",
         "type": "scatter3d",
         "x": [
          0,
          1,
          0,
          0,
          1,
          0,
          1,
          1
         ],
         "y": [
          0,
          0,
          1,
          0,
          0,
          1,
          1,
          1
         ],
         "z": [
          0,
          0,
          0,
          1,
          1,
          1,
          0,
          1
         ]
        },
        {
         "line": {
          "color": "black",
          "width": 1
         },
         "mode": "lines",
         "type": "scatter3d",
         "x": [
          0,
          1
         ],
         "y": [
          0,
          0
         ],
         "z": [
          0,
          0
         ]
        },
        {
         "anchor": "tip",
         "showscale": false,
         "sizemode": "absolute",
         "sizeref": 0.2,
         "type": "cone",
         "u": [
          1
         ],
         "v": [
          0
         ],
         "w": [
          0
         ],
         "x": [
          1
         ],
         "y": [
          0
         ],
         "z": [
          0
         ]
        },
        {
         "line": {
          "color": "black",
          "width": 1
         },
         "mode": "lines",
         "type": "scatter3d",
         "x": [
          0,
          0
         ],
         "y": [
          0,
          1
         ],
         "z": [
          0,
          0
         ]
        },
        {
         "anchor": "tip",
         "showscale": false,
         "sizemode": "absolute",
         "sizeref": 0.2,
         "type": "cone",
         "u": [
          0
         ],
         "v": [
          1
         ],
         "w": [
          0
         ],
         "x": [
          0
         ],
         "y": [
          1
         ],
         "z": [
          0
         ]
        },
        {
         "line": {
          "color": "black",
          "width": 1
         },
         "mode": "lines",
         "type": "scatter3d",
         "x": [
          0,
          0
         ],
         "y": [
          0,
          0
         ],
         "z": [
          0,
          1
         ]
        },
        {
         "anchor": "tip",
         "showscale": false,
         "sizemode": "absolute",
         "sizeref": 0.2,
         "type": "cone",
         "u": [
          0
         ],
         "v": [
          0
         ],
         "w": [
          1
         ],
         "x": [
          0
         ],
         "y": [
          0
         ],
         "z": [
          1
         ]
        },
        {
         "line": {
          "color": "black",
          "width": 1
         },
         "mode": "lines",
         "type": "scatter3d",
         "x": [
          1,
          0
         ],
         "y": [
          0,
          0
         ],
         "z": [
          0,
          0
         ]
        },
        {
         "anchor": "tip",
         "showscale": false,
         "sizemode": "absolute",
         "sizeref": 0.2,
         "type": "cone",
         "u": [
          -1
         ],
         "v": [
          0
         ],
         "w": [
          0
         ],
         "x": [
          0
         ],
         "y": [
          0
         ],
         "z": [
          0
         ]
        },
        {
         "line": {
          "color": "black",
          "width": 1
         },
         "mode": "lines",
         "type": "scatter3d",
         "x": [
          1,
          1
         ],
         "y": [
          0,
          1
         ],
         "z": [
          0,
          0
         ]
        },
        {
         "anchor": "tip",
         "showscale": false,
         "sizemode": "absolute",
         "sizeref": 0.2,
         "type": "cone",
         "u": [
          0
         ],
         "v": [
          1
         ],
         "w": [
          0
         ],
         "x": [
          1
         ],
         "y": [
          1
         ],
         "z": [
          0
         ]
        },
        {
         "line": {
          "color": "black",
          "width": 1
         },
         "mode": "lines",
         "type": "scatter3d",
         "x": [
          1,
          1
         ],
         "y": [
          0,
          0
         ],
         "z": [
          0,
          1
         ]
        },
        {
         "anchor": "tip",
         "showscale": false,
         "sizemode": "absolute",
         "sizeref": 0.2,
         "type": "cone",
         "u": [
          0
         ],
         "v": [
          0
         ],
         "w": [
          1
         ],
         "x": [
          1
         ],
         "y": [
          0
         ],
         "z": [
          1
         ]
        },
        {
         "line": {
          "color": "black",
          "width": 1
         },
         "mode": "lines",
         "type": "scatter3d",
         "x": [
          0,
          0
         ],
         "y": [
          1,
          0
         ],
         "z": [
          0,
          0
         ]
        },
        {
         "anchor": "tip",
         "showscale": false,
         "sizemode": "absolute",
         "sizeref": 0.2,
         "type": "cone",
         "u": [
          0
         ],
         "v": [
          -1
         ],
         "w": [
          0
         ],
         "x": [
          0
         ],
         "y": [
          0
         ],
         "z": [
          0
         ]
        },
        {
         "line": {
          "color": "black",
          "width": 1
         },
         "mode": "lines",
         "type": "scatter3d",
         "x": [
          0,
          1
         ],
         "y": [
          1,
          1
         ],
         "z": [
          0,
          0
         ]
        },
        {
         "anchor": "tip",
         "showscale": false,
         "sizemode": "absolute",
         "sizeref": 0.2,
         "type": "cone",
         "u": [
          1
         ],
         "v": [
          0
         ],
         "w": [
          0
         ],
         "x": [
          1
         ],
         "y": [
          1
         ],
         "z": [
          0
         ]
        },
        {
         "line": {
          "color": "black",
          "width": 1
         },
         "mode": "lines",
         "type": "scatter3d",
         "x": [
          0,
          0
         ],
         "y": [
          1,
          1
         ],
         "z": [
          0,
          1
         ]
        },
        {
         "anchor": "tip",
         "showscale": false,
         "sizemode": "absolute",
         "sizeref": 0.2,
         "type": "cone",
         "u": [
          0
         ],
         "v": [
          0
         ],
         "w": [
          1
         ],
         "x": [
          0
         ],
         "y": [
          1
         ],
         "z": [
          1
         ]
        },
        {
         "line": {
          "color": "black",
          "width": 1
         },
         "mode": "lines",
         "type": "scatter3d",
         "x": [
          0,
          0
         ],
         "y": [
          0,
          0
         ],
         "z": [
          1,
          0
         ]
        },
        {
         "anchor": "tip",
         "showscale": false,
         "sizemode": "absolute",
         "sizeref": 0.2,
         "type": "cone",
         "u": [
          0
         ],
         "v": [
          0
         ],
         "w": [
          -1
         ],
         "x": [
          0
         ],
         "y": [
          0
         ],
         "z": [
          0
         ]
        },
        {
         "line": {
          "color": "black",
          "width": 1
         },
         "mode": "lines",
         "type": "scatter3d",
         "x": [
          0,
          1
         ],
         "y": [
          0,
          0
         ],
         "z": [
          1,
          1
         ]
        },
        {
         "anchor": "tip",
         "showscale": false,
         "sizemode": "absolute",
         "sizeref": 0.2,
         "type": "cone",
         "u": [
          1
         ],
         "v": [
          0
         ],
         "w": [
          0
         ],
         "x": [
          1
         ],
         "y": [
          0
         ],
         "z": [
          1
         ]
        },
        {
         "line": {
          "color": "black",
          "width": 1
         },
         "mode": "lines",
         "type": "scatter3d",
         "x": [
          0,
          0
         ],
         "y": [
          0,
          1
         ],
         "z": [
          1,
          1
         ]
        },
        {
         "anchor": "tip",
         "showscale": false,
         "sizemode": "absolute",
         "sizeref": 0.2,
         "type": "cone",
         "u": [
          0
         ],
         "v": [
          1
         ],
         "w": [
          0
         ],
         "x": [
          0
         ],
         "y": [
          1
         ],
         "z": [
          1
         ]
        },
        {
         "line": {
          "color": "black",
          "width": 1
         },
         "mode": "lines",
         "type": "scatter3d",
         "x": [
          1,
          0
         ],
         "y": [
          0,
          0
         ],
         "z": [
          1,
          1
         ]
        },
        {
         "anchor": "tip",
         "showscale": false,
         "sizemode": "absolute",
         "sizeref": 0.2,
         "type": "cone",
         "u": [
          -1
         ],
         "v": [
          0
         ],
         "w": [
          0
         ],
         "x": [
          0
         ],
         "y": [
          0
         ],
         "z": [
          1
         ]
        },
        {
         "line": {
          "color": "black",
          "width": 1
         },
         "mode": "lines",
         "type": "scatter3d",
         "x": [
          1,
          1
         ],
         "y": [
          0,
          0
         ],
         "z": [
          1,
          0
         ]
        },
        {
         "anchor": "tip",
         "showscale": false,
         "sizemode": "absolute",
         "sizeref": 0.2,
         "type": "cone",
         "u": [
          0
         ],
         "v": [
          0
         ],
         "w": [
          -1
         ],
         "x": [
          1
         ],
         "y": [
          0
         ],
         "z": [
          0
         ]
        },
        {
         "line": {
          "color": "black",
          "width": 1
         },
         "mode": "lines",
         "type": "scatter3d",
         "x": [
          1,
          1
         ],
         "y": [
          0,
          1
         ],
         "z": [
          1,
          1
         ]
        },
        {
         "anchor": "tip",
         "showscale": false,
         "sizemode": "absolute",
         "sizeref": 0.2,
         "type": "cone",
         "u": [
          0
         ],
         "v": [
          1
         ],
         "w": [
          0
         ],
         "x": [
          1
         ],
         "y": [
          1
         ],
         "z": [
          1
         ]
        },
        {
         "line": {
          "color": "black",
          "width": 1
         },
         "mode": "lines",
         "type": "scatter3d",
         "x": [
          0,
          0
         ],
         "y": [
          1,
          0
         ],
         "z": [
          1,
          1
         ]
        },
        {
         "anchor": "tip",
         "showscale": false,
         "sizemode": "absolute",
         "sizeref": 0.2,
         "type": "cone",
         "u": [
          0
         ],
         "v": [
          -1
         ],
         "w": [
          0
         ],
         "x": [
          0
         ],
         "y": [
          0
         ],
         "z": [
          1
         ]
        },
        {
         "line": {
          "color": "black",
          "width": 1
         },
         "mode": "lines",
         "type": "scatter3d",
         "x": [
          0,
          0
         ],
         "y": [
          1,
          1
         ],
         "z": [
          1,
          0
         ]
        },
        {
         "anchor": "tip",
         "showscale": false,
         "sizemode": "absolute",
         "sizeref": 0.2,
         "type": "cone",
         "u": [
          0
         ],
         "v": [
          0
         ],
         "w": [
          -1
         ],
         "x": [
          0
         ],
         "y": [
          1
         ],
         "z": [
          0
         ]
        },
        {
         "line": {
          "color": "black",
          "width": 1
         },
         "mode": "lines",
         "type": "scatter3d",
         "x": [
          0,
          1
         ],
         "y": [
          1,
          1
         ],
         "z": [
          1,
          1
         ]
        },
        {
         "anchor": "tip",
         "showscale": false,
         "sizemode": "absolute",
         "sizeref": 0.2,
         "type": "cone",
         "u": [
          1
         ],
         "v": [
          0
         ],
         "w": [
          0
         ],
         "x": [
          1
         ],
         "y": [
          1
         ],
         "z": [
          1
         ]
        },
        {
         "line": {
          "color": "black",
          "width": 1
         },
         "mode": "lines",
         "type": "scatter3d",
         "x": [
          1,
          0
         ],
         "y": [
          1,
          1
         ],
         "z": [
          0,
          0
         ]
        },
        {
         "anchor": "tip",
         "showscale": false,
         "sizemode": "absolute",
         "sizeref": 0.2,
         "type": "cone",
         "u": [
          -1
         ],
         "v": [
          0
         ],
         "w": [
          0
         ],
         "x": [
          0
         ],
         "y": [
          1
         ],
         "z": [
          0
         ]
        },
        {
         "line": {
          "color": "black",
          "width": 1
         },
         "mode": "lines",
         "type": "scatter3d",
         "x": [
          1,
          1
         ],
         "y": [
          1,
          0
         ],
         "z": [
          0,
          0
         ]
        },
        {
         "anchor": "tip",
         "showscale": false,
         "sizemode": "absolute",
         "sizeref": 0.2,
         "type": "cone",
         "u": [
          0
         ],
         "v": [
          -1
         ],
         "w": [
          0
         ],
         "x": [
          1
         ],
         "y": [
          0
         ],
         "z": [
          0
         ]
        },
        {
         "line": {
          "color": "black",
          "width": 1
         },
         "mode": "lines",
         "type": "scatter3d",
         "x": [
          1,
          1
         ],
         "y": [
          1,
          1
         ],
         "z": [
          0,
          1
         ]
        },
        {
         "anchor": "tip",
         "showscale": false,
         "sizemode": "absolute",
         "sizeref": 0.2,
         "type": "cone",
         "u": [
          0
         ],
         "v": [
          0
         ],
         "w": [
          1
         ],
         "x": [
          1
         ],
         "y": [
          1
         ],
         "z": [
          1
         ]
        },
        {
         "line": {
          "color": "black",
          "width": 1
         },
         "mode": "lines",
         "type": "scatter3d",
         "x": [
          1,
          0
         ],
         "y": [
          1,
          1
         ],
         "z": [
          1,
          1
         ]
        },
        {
         "anchor": "tip",
         "showscale": false,
         "sizemode": "absolute",
         "sizeref": 0.2,
         "type": "cone",
         "u": [
          -1
         ],
         "v": [
          0
         ],
         "w": [
          0
         ],
         "x": [
          0
         ],
         "y": [
          1
         ],
         "z": [
          1
         ]
        },
        {
         "line": {
          "color": "black",
          "width": 1
         },
         "mode": "lines",
         "type": "scatter3d",
         "x": [
          1,
          1
         ],
         "y": [
          1,
          0
         ],
         "z": [
          1,
          1
         ]
        },
        {
         "anchor": "tip",
         "showscale": false,
         "sizemode": "absolute",
         "sizeref": 0.2,
         "type": "cone",
         "u": [
          0
         ],
         "v": [
          -1
         ],
         "w": [
          0
         ],
         "x": [
          1
         ],
         "y": [
          0
         ],
         "z": [
          1
         ]
        },
        {
         "line": {
          "color": "black",
          "width": 1
         },
         "mode": "lines",
         "type": "scatter3d",
         "x": [
          1,
          1
         ],
         "y": [
          1,
          1
         ],
         "z": [
          1,
          0
         ]
        },
        {
         "anchor": "tip",
         "showscale": false,
         "sizemode": "absolute",
         "sizeref": 0.2,
         "type": "cone",
         "u": [
          0
         ],
         "v": [
          0
         ],
         "w": [
          -1
         ],
         "x": [
          1
         ],
         "y": [
          1
         ],
         "z": [
          0
         ]
        }
       ],
       "layout": {
        "scene": {
         "aspectratio": {
          "x": 1,
          "y": 1,
          "z": 1
         },
         "xaxis": {
          "range": [
           -2,
           2
          ],
          "title": {
           "text": "X"
          }
         },
         "yaxis": {
          "range": [
           -2,
           2
          ],
          "title": {
           "text": "Y"
          }
         },
         "zaxis": {
          "range": [
           -2,
           2
          ],
          "title": {
           "text": "Z"
          }
         }
        },
        "template": {
         "data": {
          "bar": [
           {
            "error_x": {
             "color": "#2a3f5f"
            },
            "error_y": {
             "color": "#2a3f5f"
            },
            "marker": {
             "line": {
              "color": "#E5ECF6",
              "width": 0.5
             },
             "pattern": {
              "fillmode": "overlay",
              "size": 10,
              "solidity": 0.2
             }
            },
            "type": "bar"
           }
          ],
          "barpolar": [
           {
            "marker": {
             "line": {
              "color": "#E5ECF6",
              "width": 0.5
             },
             "pattern": {
              "fillmode": "overlay",
              "size": 10,
              "solidity": 0.2
             }
            },
            "type": "barpolar"
           }
          ],
          "carpet": [
           {
            "aaxis": {
             "endlinecolor": "#2a3f5f",
             "gridcolor": "white",
             "linecolor": "white",
             "minorgridcolor": "white",
             "startlinecolor": "#2a3f5f"
            },
            "baxis": {
             "endlinecolor": "#2a3f5f",
             "gridcolor": "white",
             "linecolor": "white",
             "minorgridcolor": "white",
             "startlinecolor": "#2a3f5f"
            },
            "type": "carpet"
           }
          ],
          "choropleth": [
           {
            "colorbar": {
             "outlinewidth": 0,
             "ticks": ""
            },
            "type": "choropleth"
           }
          ],
          "contour": [
           {
            "colorbar": {
             "outlinewidth": 0,
             "ticks": ""
            },
            "colorscale": [
             [
              0,
              "#0d0887"
             ],
             [
              0.1111111111111111,
              "#46039f"
             ],
             [
              0.2222222222222222,
              "#7201a8"
             ],
             [
              0.3333333333333333,
              "#9c179e"
             ],
             [
              0.4444444444444444,
              "#bd3786"
             ],
             [
              0.5555555555555556,
              "#d8576b"
             ],
             [
              0.6666666666666666,
              "#ed7953"
             ],
             [
              0.7777777777777778,
              "#fb9f3a"
             ],
             [
              0.8888888888888888,
              "#fdca26"
             ],
             [
              1,
              "#f0f921"
             ]
            ],
            "type": "contour"
           }
          ],
          "contourcarpet": [
           {
            "colorbar": {
             "outlinewidth": 0,
             "ticks": ""
            },
            "type": "contourcarpet"
           }
          ],
          "heatmap": [
           {
            "colorbar": {
             "outlinewidth": 0,
             "ticks": ""
            },
            "colorscale": [
             [
              0,
              "#0d0887"
             ],
             [
              0.1111111111111111,
              "#46039f"
             ],
             [
              0.2222222222222222,
              "#7201a8"
             ],
             [
              0.3333333333333333,
              "#9c179e"
             ],
             [
              0.4444444444444444,
              "#bd3786"
             ],
             [
              0.5555555555555556,
              "#d8576b"
             ],
             [
              0.6666666666666666,
              "#ed7953"
             ],
             [
              0.7777777777777778,
              "#fb9f3a"
             ],
             [
              0.8888888888888888,
              "#fdca26"
             ],
             [
              1,
              "#f0f921"
             ]
            ],
            "type": "heatmap"
           }
          ],
          "heatmapgl": [
           {
            "colorbar": {
             "outlinewidth": 0,
             "ticks": ""
            },
            "colorscale": [
             [
              0,
              "#0d0887"
             ],
             [
              0.1111111111111111,
              "#46039f"
             ],
             [
              0.2222222222222222,
              "#7201a8"
             ],
             [
              0.3333333333333333,
              "#9c179e"
             ],
             [
              0.4444444444444444,
              "#bd3786"
             ],
             [
              0.5555555555555556,
              "#d8576b"
             ],
             [
              0.6666666666666666,
              "#ed7953"
             ],
             [
              0.7777777777777778,
              "#fb9f3a"
             ],
             [
              0.8888888888888888,
              "#fdca26"
             ],
             [
              1,
              "#f0f921"
             ]
            ],
            "type": "heatmapgl"
           }
          ],
          "histogram": [
           {
            "marker": {
             "pattern": {
              "fillmode": "overlay",
              "size": 10,
              "solidity": 0.2
             }
            },
            "type": "histogram"
           }
          ],
          "histogram2d": [
           {
            "colorbar": {
             "outlinewidth": 0,
             "ticks": ""
            },
            "colorscale": [
             [
              0,
              "#0d0887"
             ],
             [
              0.1111111111111111,
              "#46039f"
             ],
             [
              0.2222222222222222,
              "#7201a8"
             ],
             [
              0.3333333333333333,
              "#9c179e"
             ],
             [
              0.4444444444444444,
              "#bd3786"
             ],
             [
              0.5555555555555556,
              "#d8576b"
             ],
             [
              0.6666666666666666,
              "#ed7953"
             ],
             [
              0.7777777777777778,
              "#fb9f3a"
             ],
             [
              0.8888888888888888,
              "#fdca26"
             ],
             [
              1,
              "#f0f921"
             ]
            ],
            "type": "histogram2d"
           }
          ],
          "histogram2dcontour": [
           {
            "colorbar": {
             "outlinewidth": 0,
             "ticks": ""
            },
            "colorscale": [
             [
              0,
              "#0d0887"
             ],
             [
              0.1111111111111111,
              "#46039f"
             ],
             [
              0.2222222222222222,
              "#7201a8"
             ],
             [
              0.3333333333333333,
              "#9c179e"
             ],
             [
              0.4444444444444444,
              "#bd3786"
             ],
             [
              0.5555555555555556,
              "#d8576b"
             ],
             [
              0.6666666666666666,
              "#ed7953"
             ],
             [
              0.7777777777777778,
              "#fb9f3a"
             ],
             [
              0.8888888888888888,
              "#fdca26"
             ],
             [
              1,
              "#f0f921"
             ]
            ],
            "type": "histogram2dcontour"
           }
          ],
          "mesh3d": [
           {
            "colorbar": {
             "outlinewidth": 0,
             "ticks": ""
            },
            "type": "mesh3d"
           }
          ],
          "parcoords": [
           {
            "line": {
             "colorbar": {
              "outlinewidth": 0,
              "ticks": ""
             }
            },
            "type": "parcoords"
           }
          ],
          "pie": [
           {
            "automargin": true,
            "type": "pie"
           }
          ],
          "scatter": [
           {
            "fillpattern": {
             "fillmode": "overlay",
             "size": 10,
             "solidity": 0.2
            },
            "type": "scatter"
           }
          ],
          "scatter3d": [
           {
            "line": {
             "colorbar": {
              "outlinewidth": 0,
              "ticks": ""
             }
            },
            "marker": {
             "colorbar": {
              "outlinewidth": 0,
              "ticks": ""
             }
            },
            "type": "scatter3d"
           }
          ],
          "scattercarpet": [
           {
            "marker": {
             "colorbar": {
              "outlinewidth": 0,
              "ticks": ""
             }
            },
            "type": "scattercarpet"
           }
          ],
          "scattergeo": [
           {
            "marker": {
             "colorbar": {
              "outlinewidth": 0,
              "ticks": ""
             }
            },
            "type": "scattergeo"
           }
          ],
          "scattergl": [
           {
            "marker": {
             "colorbar": {
              "outlinewidth": 0,
              "ticks": ""
             }
            },
            "type": "scattergl"
           }
          ],
          "scattermapbox": [
           {
            "marker": {
             "colorbar": {
              "outlinewidth": 0,
              "ticks": ""
             }
            },
            "type": "scattermapbox"
           }
          ],
          "scatterpolar": [
           {
            "marker": {
             "colorbar": {
              "outlinewidth": 0,
              "ticks": ""
             }
            },
            "type": "scatterpolar"
           }
          ],
          "scatterpolargl": [
           {
            "marker": {
             "colorbar": {
              "outlinewidth": 0,
              "ticks": ""
             }
            },
            "type": "scatterpolargl"
           }
          ],
          "scatterternary": [
           {
            "marker": {
             "colorbar": {
              "outlinewidth": 0,
              "ticks": ""
             }
            },
            "type": "scatterternary"
           }
          ],
          "surface": [
           {
            "colorbar": {
             "outlinewidth": 0,
             "ticks": ""
            },
            "colorscale": [
             [
              0,
              "#0d0887"
             ],
             [
              0.1111111111111111,
              "#46039f"
             ],
             [
              0.2222222222222222,
              "#7201a8"
             ],
             [
              0.3333333333333333,
              "#9c179e"
             ],
             [
              0.4444444444444444,
              "#bd3786"
             ],
             [
              0.5555555555555556,
              "#d8576b"
             ],
             [
              0.6666666666666666,
              "#ed7953"
             ],
             [
              0.7777777777777778,
              "#fb9f3a"
             ],
             [
              0.8888888888888888,
              "#fdca26"
             ],
             [
              1,
              "#f0f921"
             ]
            ],
            "type": "surface"
           }
          ],
          "table": [
           {
            "cells": {
             "fill": {
              "color": "#EBF0F8"
             },
             "line": {
              "color": "white"
             }
            },
            "header": {
             "fill": {
              "color": "#C8D4E3"
             },
             "line": {
              "color": "white"
             }
            },
            "type": "table"
           }
          ]
         },
         "layout": {
          "annotationdefaults": {
           "arrowcolor": "#2a3f5f",
           "arrowhead": 0,
           "arrowwidth": 1
          },
          "autotypenumbers": "strict",
          "coloraxis": {
           "colorbar": {
            "outlinewidth": 0,
            "ticks": ""
           }
          },
          "colorscale": {
           "diverging": [
            [
             0,
             "#8e0152"
            ],
            [
             0.1,
             "#c51b7d"
            ],
            [
             0.2,
             "#de77ae"
            ],
            [
             0.3,
             "#f1b6da"
            ],
            [
             0.4,
             "#fde0ef"
            ],
            [
             0.5,
             "#f7f7f7"
            ],
            [
             0.6,
             "#e6f5d0"
            ],
            [
             0.7,
             "#b8e186"
            ],
            [
             0.8,
             "#7fbc41"
            ],
            [
             0.9,
             "#4d9221"
            ],
            [
             1,
             "#276419"
            ]
           ],
           "sequential": [
            [
             0,
             "#0d0887"
            ],
            [
             0.1111111111111111,
             "#46039f"
            ],
            [
             0.2222222222222222,
             "#7201a8"
            ],
            [
             0.3333333333333333,
             "#9c179e"
            ],
            [
             0.4444444444444444,
             "#bd3786"
            ],
            [
             0.5555555555555556,
             "#d8576b"
            ],
            [
             0.6666666666666666,
             "#ed7953"
            ],
            [
             0.7777777777777778,
             "#fb9f3a"
            ],
            [
             0.8888888888888888,
             "#fdca26"
            ],
            [
             1,
             "#f0f921"
            ]
           ],
           "sequentialminus": [
            [
             0,
             "#0d0887"
            ],
            [
             0.1111111111111111,
             "#46039f"
            ],
            [
             0.2222222222222222,
             "#7201a8"
            ],
            [
             0.3333333333333333,
             "#9c179e"
            ],
            [
             0.4444444444444444,
             "#bd3786"
            ],
            [
             0.5555555555555556,
             "#d8576b"
            ],
            [
             0.6666666666666666,
             "#ed7953"
            ],
            [
             0.7777777777777778,
             "#fb9f3a"
            ],
            [
             0.8888888888888888,
             "#fdca26"
            ],
            [
             1,
             "#f0f921"
            ]
           ]
          },
          "colorway": [
           "#636efa",
           "#EF553B",
           "#00cc96",
           "#ab63fa",
           "#FFA15A",
           "#19d3f3",
           "#FF6692",
           "#B6E880",
           "#FF97FF",
           "#FECB52"
          ],
          "font": {
           "color": "#2a3f5f"
          },
          "geo": {
           "bgcolor": "white",
           "lakecolor": "white",
           "landcolor": "#E5ECF6",
           "showlakes": true,
           "showland": true,
           "subunitcolor": "white"
          },
          "hoverlabel": {
           "align": "left"
          },
          "hovermode": "closest",
          "mapbox": {
           "style": "light"
          },
          "paper_bgcolor": "white",
          "plot_bgcolor": "#E5ECF6",
          "polar": {
           "angularaxis": {
            "gridcolor": "white",
            "linecolor": "white",
            "ticks": ""
           },
           "bgcolor": "#E5ECF6",
           "radialaxis": {
            "gridcolor": "white",
            "linecolor": "white",
            "ticks": ""
           }
          },
          "scene": {
           "xaxis": {
            "backgroundcolor": "#E5ECF6",
            "gridcolor": "white",
            "gridwidth": 2,
            "linecolor": "white",
            "showbackground": true,
            "ticks": "",
            "zerolinecolor": "white"
           },
           "yaxis": {
            "backgroundcolor": "#E5ECF6",
            "gridcolor": "white",
            "gridwidth": 2,
            "linecolor": "white",
            "showbackground": true,
            "ticks": "",
            "zerolinecolor": "white"
           },
           "zaxis": {
            "backgroundcolor": "#E5ECF6",
            "gridcolor": "white",
            "gridwidth": 2,
            "linecolor": "white",
            "showbackground": true,
            "ticks": "",
            "zerolinecolor": "white"
           }
          },
          "shapedefaults": {
           "line": {
            "color": "#2a3f5f"
           }
          },
          "ternary": {
           "aaxis": {
            "gridcolor": "white",
            "linecolor": "white",
            "ticks": ""
           },
           "baxis": {
            "gridcolor": "white",
            "linecolor": "white",
            "ticks": ""
           },
           "bgcolor": "#E5ECF6",
           "caxis": {
            "gridcolor": "white",
            "linecolor": "white",
            "ticks": ""
           }
          },
          "title": {
           "x": 0.05
          },
          "xaxis": {
           "automargin": true,
           "gridcolor": "white",
           "linecolor": "white",
           "ticks": "",
           "title": {
            "standoff": 15
           },
           "zerolinecolor": "white",
           "zerolinewidth": 2
          },
          "yaxis": {
           "automargin": true,
           "gridcolor": "white",
           "linecolor": "white",
           "ticks": "",
           "title": {
            "standoff": 15
           },
           "zerolinecolor": "white",
           "zerolinewidth": 2
          }
         }
        }
       }
      },
      "text/html": [
       "<div>                            <div id=\"efcfb436-140c-4a81-8b37-a5d78655d9ca\" class=\"plotly-graph-div\" style=\"height:525px; width:100%;\"></div>            <script type=\"text/javascript\">                require([\"plotly\"], function(Plotly) {                    window.PLOTLYENV=window.PLOTLYENV || {};                                    if (document.getElementById(\"efcfb436-140c-4a81-8b37-a5d78655d9ca\")) {                    Plotly.newPlot(                        \"efcfb436-140c-4a81-8b37-a5d78655d9ca\",                        [{\"marker\":{\"color\":\"blue\",\"size\":10},\"mode\":\"markers\",\"x\":[0,1,0,0,1,0,1,1],\"y\":[0,0,1,0,0,1,1,1],\"z\":[0,0,0,1,1,1,0,1],\"type\":\"scatter3d\"},{\"line\":{\"color\":\"black\",\"width\":1},\"mode\":\"lines\",\"x\":[0,1],\"y\":[0,0],\"z\":[0,0],\"type\":\"scatter3d\"},{\"anchor\":\"tip\",\"showscale\":false,\"sizemode\":\"absolute\",\"sizeref\":0.2,\"u\":[1],\"v\":[0],\"w\":[0],\"x\":[1],\"y\":[0],\"z\":[0],\"type\":\"cone\"},{\"line\":{\"color\":\"black\",\"width\":1},\"mode\":\"lines\",\"x\":[0,0],\"y\":[0,1],\"z\":[0,0],\"type\":\"scatter3d\"},{\"anchor\":\"tip\",\"showscale\":false,\"sizemode\":\"absolute\",\"sizeref\":0.2,\"u\":[0],\"v\":[1],\"w\":[0],\"x\":[0],\"y\":[1],\"z\":[0],\"type\":\"cone\"},{\"line\":{\"color\":\"black\",\"width\":1},\"mode\":\"lines\",\"x\":[0,0],\"y\":[0,0],\"z\":[0,1],\"type\":\"scatter3d\"},{\"anchor\":\"tip\",\"showscale\":false,\"sizemode\":\"absolute\",\"sizeref\":0.2,\"u\":[0],\"v\":[0],\"w\":[1],\"x\":[0],\"y\":[0],\"z\":[1],\"type\":\"cone\"},{\"line\":{\"color\":\"black\",\"width\":1},\"mode\":\"lines\",\"x\":[1,0],\"y\":[0,0],\"z\":[0,0],\"type\":\"scatter3d\"},{\"anchor\":\"tip\",\"showscale\":false,\"sizemode\":\"absolute\",\"sizeref\":0.2,\"u\":[-1],\"v\":[0],\"w\":[0],\"x\":[0],\"y\":[0],\"z\":[0],\"type\":\"cone\"},{\"line\":{\"color\":\"black\",\"width\":1},\"mode\":\"lines\",\"x\":[1,1],\"y\":[0,1],\"z\":[0,0],\"type\":\"scatter3d\"},{\"anchor\":\"tip\",\"showscale\":false,\"sizemode\":\"absolute\",\"sizeref\":0.2,\"u\":[0],\"v\":[1],\"w\":[0],\"x\":[1],\"y\":[1],\"z\":[0],\"type\":\"cone\"},{\"line\":{\"color\":\"black\",\"width\":1},\"mode\":\"lines\",\"x\":[1,1],\"y\":[0,0],\"z\":[0,1],\"type\":\"scatter3d\"},{\"anchor\":\"tip\",\"showscale\":false,\"sizemode\":\"absolute\",\"sizeref\":0.2,\"u\":[0],\"v\":[0],\"w\":[1],\"x\":[1],\"y\":[0],\"z\":[1],\"type\":\"cone\"},{\"line\":{\"color\":\"black\",\"width\":1},\"mode\":\"lines\",\"x\":[0,0],\"y\":[1,0],\"z\":[0,0],\"type\":\"scatter3d\"},{\"anchor\":\"tip\",\"showscale\":false,\"sizemode\":\"absolute\",\"sizeref\":0.2,\"u\":[0],\"v\":[-1],\"w\":[0],\"x\":[0],\"y\":[0],\"z\":[0],\"type\":\"cone\"},{\"line\":{\"color\":\"black\",\"width\":1},\"mode\":\"lines\",\"x\":[0,1],\"y\":[1,1],\"z\":[0,0],\"type\":\"scatter3d\"},{\"anchor\":\"tip\",\"showscale\":false,\"sizemode\":\"absolute\",\"sizeref\":0.2,\"u\":[1],\"v\":[0],\"w\":[0],\"x\":[1],\"y\":[1],\"z\":[0],\"type\":\"cone\"},{\"line\":{\"color\":\"black\",\"width\":1},\"mode\":\"lines\",\"x\":[0,0],\"y\":[1,1],\"z\":[0,1],\"type\":\"scatter3d\"},{\"anchor\":\"tip\",\"showscale\":false,\"sizemode\":\"absolute\",\"sizeref\":0.2,\"u\":[0],\"v\":[0],\"w\":[1],\"x\":[0],\"y\":[1],\"z\":[1],\"type\":\"cone\"},{\"line\":{\"color\":\"black\",\"width\":1},\"mode\":\"lines\",\"x\":[0,0],\"y\":[0,0],\"z\":[1,0],\"type\":\"scatter3d\"},{\"anchor\":\"tip\",\"showscale\":false,\"sizemode\":\"absolute\",\"sizeref\":0.2,\"u\":[0],\"v\":[0],\"w\":[-1],\"x\":[0],\"y\":[0],\"z\":[0],\"type\":\"cone\"},{\"line\":{\"color\":\"black\",\"width\":1},\"mode\":\"lines\",\"x\":[0,1],\"y\":[0,0],\"z\":[1,1],\"type\":\"scatter3d\"},{\"anchor\":\"tip\",\"showscale\":false,\"sizemode\":\"absolute\",\"sizeref\":0.2,\"u\":[1],\"v\":[0],\"w\":[0],\"x\":[1],\"y\":[0],\"z\":[1],\"type\":\"cone\"},{\"line\":{\"color\":\"black\",\"width\":1},\"mode\":\"lines\",\"x\":[0,0],\"y\":[0,1],\"z\":[1,1],\"type\":\"scatter3d\"},{\"anchor\":\"tip\",\"showscale\":false,\"sizemode\":\"absolute\",\"sizeref\":0.2,\"u\":[0],\"v\":[1],\"w\":[0],\"x\":[0],\"y\":[1],\"z\":[1],\"type\":\"cone\"},{\"line\":{\"color\":\"black\",\"width\":1},\"mode\":\"lines\",\"x\":[1,0],\"y\":[0,0],\"z\":[1,1],\"type\":\"scatter3d\"},{\"anchor\":\"tip\",\"showscale\":false,\"sizemode\":\"absolute\",\"sizeref\":0.2,\"u\":[-1],\"v\":[0],\"w\":[0],\"x\":[0],\"y\":[0],\"z\":[1],\"type\":\"cone\"},{\"line\":{\"color\":\"black\",\"width\":1},\"mode\":\"lines\",\"x\":[1,1],\"y\":[0,0],\"z\":[1,0],\"type\":\"scatter3d\"},{\"anchor\":\"tip\",\"showscale\":false,\"sizemode\":\"absolute\",\"sizeref\":0.2,\"u\":[0],\"v\":[0],\"w\":[-1],\"x\":[1],\"y\":[0],\"z\":[0],\"type\":\"cone\"},{\"line\":{\"color\":\"black\",\"width\":1},\"mode\":\"lines\",\"x\":[1,1],\"y\":[0,1],\"z\":[1,1],\"type\":\"scatter3d\"},{\"anchor\":\"tip\",\"showscale\":false,\"sizemode\":\"absolute\",\"sizeref\":0.2,\"u\":[0],\"v\":[1],\"w\":[0],\"x\":[1],\"y\":[1],\"z\":[1],\"type\":\"cone\"},{\"line\":{\"color\":\"black\",\"width\":1},\"mode\":\"lines\",\"x\":[0,0],\"y\":[1,0],\"z\":[1,1],\"type\":\"scatter3d\"},{\"anchor\":\"tip\",\"showscale\":false,\"sizemode\":\"absolute\",\"sizeref\":0.2,\"u\":[0],\"v\":[-1],\"w\":[0],\"x\":[0],\"y\":[0],\"z\":[1],\"type\":\"cone\"},{\"line\":{\"color\":\"black\",\"width\":1},\"mode\":\"lines\",\"x\":[0,0],\"y\":[1,1],\"z\":[1,0],\"type\":\"scatter3d\"},{\"anchor\":\"tip\",\"showscale\":false,\"sizemode\":\"absolute\",\"sizeref\":0.2,\"u\":[0],\"v\":[0],\"w\":[-1],\"x\":[0],\"y\":[1],\"z\":[0],\"type\":\"cone\"},{\"line\":{\"color\":\"black\",\"width\":1},\"mode\":\"lines\",\"x\":[0,1],\"y\":[1,1],\"z\":[1,1],\"type\":\"scatter3d\"},{\"anchor\":\"tip\",\"showscale\":false,\"sizemode\":\"absolute\",\"sizeref\":0.2,\"u\":[1],\"v\":[0],\"w\":[0],\"x\":[1],\"y\":[1],\"z\":[1],\"type\":\"cone\"},{\"line\":{\"color\":\"black\",\"width\":1},\"mode\":\"lines\",\"x\":[1,0],\"y\":[1,1],\"z\":[0,0],\"type\":\"scatter3d\"},{\"anchor\":\"tip\",\"showscale\":false,\"sizemode\":\"absolute\",\"sizeref\":0.2,\"u\":[-1],\"v\":[0],\"w\":[0],\"x\":[0],\"y\":[1],\"z\":[0],\"type\":\"cone\"},{\"line\":{\"color\":\"black\",\"width\":1},\"mode\":\"lines\",\"x\":[1,1],\"y\":[1,0],\"z\":[0,0],\"type\":\"scatter3d\"},{\"anchor\":\"tip\",\"showscale\":false,\"sizemode\":\"absolute\",\"sizeref\":0.2,\"u\":[0],\"v\":[-1],\"w\":[0],\"x\":[1],\"y\":[0],\"z\":[0],\"type\":\"cone\"},{\"line\":{\"color\":\"black\",\"width\":1},\"mode\":\"lines\",\"x\":[1,1],\"y\":[1,1],\"z\":[0,1],\"type\":\"scatter3d\"},{\"anchor\":\"tip\",\"showscale\":false,\"sizemode\":\"absolute\",\"sizeref\":0.2,\"u\":[0],\"v\":[0],\"w\":[1],\"x\":[1],\"y\":[1],\"z\":[1],\"type\":\"cone\"},{\"line\":{\"color\":\"black\",\"width\":1},\"mode\":\"lines\",\"x\":[1,0],\"y\":[1,1],\"z\":[1,1],\"type\":\"scatter3d\"},{\"anchor\":\"tip\",\"showscale\":false,\"sizemode\":\"absolute\",\"sizeref\":0.2,\"u\":[-1],\"v\":[0],\"w\":[0],\"x\":[0],\"y\":[1],\"z\":[1],\"type\":\"cone\"},{\"line\":{\"color\":\"black\",\"width\":1},\"mode\":\"lines\",\"x\":[1,1],\"y\":[1,0],\"z\":[1,1],\"type\":\"scatter3d\"},{\"anchor\":\"tip\",\"showscale\":false,\"sizemode\":\"absolute\",\"sizeref\":0.2,\"u\":[0],\"v\":[-1],\"w\":[0],\"x\":[1],\"y\":[0],\"z\":[1],\"type\":\"cone\"},{\"line\":{\"color\":\"black\",\"width\":1},\"mode\":\"lines\",\"x\":[1,1],\"y\":[1,1],\"z\":[1,0],\"type\":\"scatter3d\"},{\"anchor\":\"tip\",\"showscale\":false,\"sizemode\":\"absolute\",\"sizeref\":0.2,\"u\":[0],\"v\":[0],\"w\":[-1],\"x\":[1],\"y\":[1],\"z\":[0],\"type\":\"cone\"}],                        {\"scene\":{\"aspectratio\":{\"x\":1,\"y\":1,\"z\":1},\"xaxis\":{\"range\":[-2,2],\"title\":{\"text\":\"X\"}},\"yaxis\":{\"range\":[-2,2],\"title\":{\"text\":\"Y\"}},\"zaxis\":{\"range\":[-2,2],\"title\":{\"text\":\"Z\"}}},\"template\":{\"data\":{\"histogram2dcontour\":[{\"type\":\"histogram2dcontour\",\"colorbar\":{\"outlinewidth\":0,\"ticks\":\"\"},\"colorscale\":[[0.0,\"#0d0887\"],[0.1111111111111111,\"#46039f\"],[0.2222222222222222,\"#7201a8\"],[0.3333333333333333,\"#9c179e\"],[0.4444444444444444,\"#bd3786\"],[0.5555555555555556,\"#d8576b\"],[0.6666666666666666,\"#ed7953\"],[0.7777777777777778,\"#fb9f3a\"],[0.8888888888888888,\"#fdca26\"],[1.0,\"#f0f921\"]]}],\"choropleth\":[{\"type\":\"choropleth\",\"colorbar\":{\"outlinewidth\":0,\"ticks\":\"\"}}],\"histogram2d\":[{\"type\":\"histogram2d\",\"colorbar\":{\"outlinewidth\":0,\"ticks\":\"\"},\"colorscale\":[[0.0,\"#0d0887\"],[0.1111111111111111,\"#46039f\"],[0.2222222222222222,\"#7201a8\"],[0.3333333333333333,\"#9c179e\"],[0.4444444444444444,\"#bd3786\"],[0.5555555555555556,\"#d8576b\"],[0.6666666666666666,\"#ed7953\"],[0.7777777777777778,\"#fb9f3a\"],[0.8888888888888888,\"#fdca26\"],[1.0,\"#f0f921\"]]}],\"heatmap\":[{\"type\":\"heatmap\",\"colorbar\":{\"outlinewidth\":0,\"ticks\":\"\"},\"colorscale\":[[0.0,\"#0d0887\"],[0.1111111111111111,\"#46039f\"],[0.2222222222222222,\"#7201a8\"],[0.3333333333333333,\"#9c179e\"],[0.4444444444444444,\"#bd3786\"],[0.5555555555555556,\"#d8576b\"],[0.6666666666666666,\"#ed7953\"],[0.7777777777777778,\"#fb9f3a\"],[0.8888888888888888,\"#fdca26\"],[1.0,\"#f0f921\"]]}],\"heatmapgl\":[{\"type\":\"heatmapgl\",\"colorbar\":{\"outlinewidth\":0,\"ticks\":\"\"},\"colorscale\":[[0.0,\"#0d0887\"],[0.1111111111111111,\"#46039f\"],[0.2222222222222222,\"#7201a8\"],[0.3333333333333333,\"#9c179e\"],[0.4444444444444444,\"#bd3786\"],[0.5555555555555556,\"#d8576b\"],[0.6666666666666666,\"#ed7953\"],[0.7777777777777778,\"#fb9f3a\"],[0.8888888888888888,\"#fdca26\"],[1.0,\"#f0f921\"]]}],\"contourcarpet\":[{\"type\":\"contourcarpet\",\"colorbar\":{\"outlinewidth\":0,\"ticks\":\"\"}}],\"contour\":[{\"type\":\"contour\",\"colorbar\":{\"outlinewidth\":0,\"ticks\":\"\"},\"colorscale\":[[0.0,\"#0d0887\"],[0.1111111111111111,\"#46039f\"],[0.2222222222222222,\"#7201a8\"],[0.3333333333333333,\"#9c179e\"],[0.4444444444444444,\"#bd3786\"],[0.5555555555555556,\"#d8576b\"],[0.6666666666666666,\"#ed7953\"],[0.7777777777777778,\"#fb9f3a\"],[0.8888888888888888,\"#fdca26\"],[1.0,\"#f0f921\"]]}],\"surface\":[{\"type\":\"surface\",\"colorbar\":{\"outlinewidth\":0,\"ticks\":\"\"},\"colorscale\":[[0.0,\"#0d0887\"],[0.1111111111111111,\"#46039f\"],[0.2222222222222222,\"#7201a8\"],[0.3333333333333333,\"#9c179e\"],[0.4444444444444444,\"#bd3786\"],[0.5555555555555556,\"#d8576b\"],[0.6666666666666666,\"#ed7953\"],[0.7777777777777778,\"#fb9f3a\"],[0.8888888888888888,\"#fdca26\"],[1.0,\"#f0f921\"]]}],\"mesh3d\":[{\"type\":\"mesh3d\",\"colorbar\":{\"outlinewidth\":0,\"ticks\":\"\"}}],\"scatter\":[{\"fillpattern\":{\"fillmode\":\"overlay\",\"size\":10,\"solidity\":0.2},\"type\":\"scatter\"}],\"parcoords\":[{\"type\":\"parcoords\",\"line\":{\"colorbar\":{\"outlinewidth\":0,\"ticks\":\"\"}}}],\"scatterpolargl\":[{\"type\":\"scatterpolargl\",\"marker\":{\"colorbar\":{\"outlinewidth\":0,\"ticks\":\"\"}}}],\"bar\":[{\"error_x\":{\"color\":\"#2a3f5f\"},\"error_y\":{\"color\":\"#2a3f5f\"},\"marker\":{\"line\":{\"color\":\"#E5ECF6\",\"width\":0.5},\"pattern\":{\"fillmode\":\"overlay\",\"size\":10,\"solidity\":0.2}},\"type\":\"bar\"}],\"scattergeo\":[{\"type\":\"scattergeo\",\"marker\":{\"colorbar\":{\"outlinewidth\":0,\"ticks\":\"\"}}}],\"scatterpolar\":[{\"type\":\"scatterpolar\",\"marker\":{\"colorbar\":{\"outlinewidth\":0,\"ticks\":\"\"}}}],\"histogram\":[{\"marker\":{\"pattern\":{\"fillmode\":\"overlay\",\"size\":10,\"solidity\":0.2}},\"type\":\"histogram\"}],\"scattergl\":[{\"type\":\"scattergl\",\"marker\":{\"colorbar\":{\"outlinewidth\":0,\"ticks\":\"\"}}}],\"scatter3d\":[{\"type\":\"scatter3d\",\"line\":{\"colorbar\":{\"outlinewidth\":0,\"ticks\":\"\"}},\"marker\":{\"colorbar\":{\"outlinewidth\":0,\"ticks\":\"\"}}}],\"scattermapbox\":[{\"type\":\"scattermapbox\",\"marker\":{\"colorbar\":{\"outlinewidth\":0,\"ticks\":\"\"}}}],\"scatterternary\":[{\"type\":\"scatterternary\",\"marker\":{\"colorbar\":{\"outlinewidth\":0,\"ticks\":\"\"}}}],\"scattercarpet\":[{\"type\":\"scattercarpet\",\"marker\":{\"colorbar\":{\"outlinewidth\":0,\"ticks\":\"\"}}}],\"carpet\":[{\"aaxis\":{\"endlinecolor\":\"#2a3f5f\",\"gridcolor\":\"white\",\"linecolor\":\"white\",\"minorgridcolor\":\"white\",\"startlinecolor\":\"#2a3f5f\"},\"baxis\":{\"endlinecolor\":\"#2a3f5f\",\"gridcolor\":\"white\",\"linecolor\":\"white\",\"minorgridcolor\":\"white\",\"startlinecolor\":\"#2a3f5f\"},\"type\":\"carpet\"}],\"table\":[{\"cells\":{\"fill\":{\"color\":\"#EBF0F8\"},\"line\":{\"color\":\"white\"}},\"header\":{\"fill\":{\"color\":\"#C8D4E3\"},\"line\":{\"color\":\"white\"}},\"type\":\"table\"}],\"barpolar\":[{\"marker\":{\"line\":{\"color\":\"#E5ECF6\",\"width\":0.5},\"pattern\":{\"fillmode\":\"overlay\",\"size\":10,\"solidity\":0.2}},\"type\":\"barpolar\"}],\"pie\":[{\"automargin\":true,\"type\":\"pie\"}]},\"layout\":{\"autotypenumbers\":\"strict\",\"colorway\":[\"#636efa\",\"#EF553B\",\"#00cc96\",\"#ab63fa\",\"#FFA15A\",\"#19d3f3\",\"#FF6692\",\"#B6E880\",\"#FF97FF\",\"#FECB52\"],\"font\":{\"color\":\"#2a3f5f\"},\"hovermode\":\"closest\",\"hoverlabel\":{\"align\":\"left\"},\"paper_bgcolor\":\"white\",\"plot_bgcolor\":\"#E5ECF6\",\"polar\":{\"bgcolor\":\"#E5ECF6\",\"angularaxis\":{\"gridcolor\":\"white\",\"linecolor\":\"white\",\"ticks\":\"\"},\"radialaxis\":{\"gridcolor\":\"white\",\"linecolor\":\"white\",\"ticks\":\"\"}},\"ternary\":{\"bgcolor\":\"#E5ECF6\",\"aaxis\":{\"gridcolor\":\"white\",\"linecolor\":\"white\",\"ticks\":\"\"},\"baxis\":{\"gridcolor\":\"white\",\"linecolor\":\"white\",\"ticks\":\"\"},\"caxis\":{\"gridcolor\":\"white\",\"linecolor\":\"white\",\"ticks\":\"\"}},\"coloraxis\":{\"colorbar\":{\"outlinewidth\":0,\"ticks\":\"\"}},\"colorscale\":{\"sequential\":[[0.0,\"#0d0887\"],[0.1111111111111111,\"#46039f\"],[0.2222222222222222,\"#7201a8\"],[0.3333333333333333,\"#9c179e\"],[0.4444444444444444,\"#bd3786\"],[0.5555555555555556,\"#d8576b\"],[0.6666666666666666,\"#ed7953\"],[0.7777777777777778,\"#fb9f3a\"],[0.8888888888888888,\"#fdca26\"],[1.0,\"#f0f921\"]],\"sequentialminus\":[[0.0,\"#0d0887\"],[0.1111111111111111,\"#46039f\"],[0.2222222222222222,\"#7201a8\"],[0.3333333333333333,\"#9c179e\"],[0.4444444444444444,\"#bd3786\"],[0.5555555555555556,\"#d8576b\"],[0.6666666666666666,\"#ed7953\"],[0.7777777777777778,\"#fb9f3a\"],[0.8888888888888888,\"#fdca26\"],[1.0,\"#f0f921\"]],\"diverging\":[[0,\"#8e0152\"],[0.1,\"#c51b7d\"],[0.2,\"#de77ae\"],[0.3,\"#f1b6da\"],[0.4,\"#fde0ef\"],[0.5,\"#f7f7f7\"],[0.6,\"#e6f5d0\"],[0.7,\"#b8e186\"],[0.8,\"#7fbc41\"],[0.9,\"#4d9221\"],[1,\"#276419\"]]},\"xaxis\":{\"gridcolor\":\"white\",\"linecolor\":\"white\",\"ticks\":\"\",\"title\":{\"standoff\":15},\"zerolinecolor\":\"white\",\"automargin\":true,\"zerolinewidth\":2},\"yaxis\":{\"gridcolor\":\"white\",\"linecolor\":\"white\",\"ticks\":\"\",\"title\":{\"standoff\":15},\"zerolinecolor\":\"white\",\"automargin\":true,\"zerolinewidth\":2},\"scene\":{\"xaxis\":{\"backgroundcolor\":\"#E5ECF6\",\"gridcolor\":\"white\",\"linecolor\":\"white\",\"showbackground\":true,\"ticks\":\"\",\"zerolinecolor\":\"white\",\"gridwidth\":2},\"yaxis\":{\"backgroundcolor\":\"#E5ECF6\",\"gridcolor\":\"white\",\"linecolor\":\"white\",\"showbackground\":true,\"ticks\":\"\",\"zerolinecolor\":\"white\",\"gridwidth\":2},\"zaxis\":{\"backgroundcolor\":\"#E5ECF6\",\"gridcolor\":\"white\",\"linecolor\":\"white\",\"showbackground\":true,\"ticks\":\"\",\"zerolinecolor\":\"white\",\"gridwidth\":2}},\"shapedefaults\":{\"line\":{\"color\":\"#2a3f5f\"}},\"annotationdefaults\":{\"arrowcolor\":\"#2a3f5f\",\"arrowhead\":0,\"arrowwidth\":1},\"geo\":{\"bgcolor\":\"white\",\"landcolor\":\"#E5ECF6\",\"subunitcolor\":\"white\",\"showland\":true,\"showlakes\":true,\"lakecolor\":\"white\"},\"title\":{\"x\":0.05},\"mapbox\":{\"style\":\"light\"}}}},                        {\"responsive\": true}                    ).then(function(){\n",
       "                            \n",
       "var gd = document.getElementById('efcfb436-140c-4a81-8b37-a5d78655d9ca');\n",
       "var x = new MutationObserver(function (mutations, observer) {{\n",
       "        var display = window.getComputedStyle(gd).display;\n",
       "        if (!display || display === 'none') {{\n",
       "            console.log([gd, 'removed!']);\n",
       "            Plotly.purge(gd);\n",
       "            observer.disconnect();\n",
       "        }}\n",
       "}});\n",
       "\n",
       "// Listen for the removal of the full notebook cells\n",
       "var notebookContainer = gd.closest('#notebook-container');\n",
       "if (notebookContainer) {{\n",
       "    x.observe(notebookContainer, {childList: true});\n",
       "}}\n",
       "\n",
       "// Listen for the clearing of the current output cell\n",
       "var outputEl = gd.closest('.output');\n",
       "if (outputEl) {{\n",
       "    x.observe(outputEl, {childList: true});\n",
       "}}\n",
       "\n",
       "                        })                };                });            </script>        </div>"
      ]
     },
     "metadata": {},
     "output_type": "display_data"
    }
   ],
   "source": [
    "#Import libraries\n",
    "import networkx as nx\n",
    "import plotly.graph_objects as go\n",
    "import numpy as np\n",
    "from lxml import etree\n",
    "\n",
    "#Create a directed Graph object\n",
    "G = nx.DiGraph()\n",
    "\n",
    "#Define dimensions of the Hypercube\n",
    "length, width, depth = 2,2,2\n",
    "\n",
    "for i in range(length):\n",
    "    for j in range(width):\n",
    "        for k in range(depth):\n",
    "            new_edge = (i,j,k)\n",
    "            G.add_node(new_edge)\n",
    "\n",
    "            #connect horizontally\n",
    "            if (i + 1 < length):\n",
    "                G.add_edge(new_edge, (i+1,j,k)) #send\n",
    "                G.add_edge((i+1,j,k), new_edge) #receive\n",
    "            \n",
    "            #connect vertically\n",
    "            if (j + 1 < width):\n",
    "                G.add_edge((i,j+1,k), new_edge) #send\n",
    "                G.add_edge(new_edge, (i,j+1,k)) #receive\n",
    "                \n",
    "            #connect depth wise\n",
    "            if (k + 1 < depth):\n",
    "                G.add_edge((i,j,k+1), new_edge) #send\n",
    "                G.add_edge(new_edge, (i,j,k+1)) #receive\n",
    "\n",
    "#Steps for plotting onto Plotly\n",
    "\"\"\"\n",
    "    Nodes Logic\n",
    "\"\"\"\n",
    "nodes = np.array(G.nodes())\n",
    "scatter = go.Scatter3d(\n",
    "    x=nodes[:, 0], y=nodes[:, 1], z=nodes[:, 2],\n",
    "    mode='markers',\n",
    "    marker=dict(size=10, color='blue')\n",
    ")\n",
    "\n",
    "\"\"\"\n",
    "    Edge Logic\n",
    "\"\"\"\n",
    "edges = []\n",
    "node1, node2 = None, None\n",
    "for edge in G.edges():\n",
    "    for node in enumerate(G.nodes()):\n",
    "        if (node[1] == edge[0]):\n",
    "            node1 = node[0]\n",
    "        elif (node[1] == edge[1]):\n",
    "            node2 = node[0]\n",
    "    edges.append((node1, node2))\n",
    "\n",
    "\"\"\"\n",
    "    Arrow Logic\n",
    "\"\"\"\n",
    "arrows = []\n",
    "for edge in edges:\n",
    "    start_node = nodes[edge[0]]\n",
    "    end_node = nodes[edge[1]]\n",
    "\n",
    "    # Line for the arrow shaft\n",
    "    line = go.Scatter3d(\n",
    "        x=[start_node[0], end_node[0]],\n",
    "        y=[start_node[1], end_node[1]],\n",
    "        z=[start_node[2], end_node[2]],\n",
    "        mode='lines',\n",
    "        line=dict(color='black', width=1)\n",
    "    )\n",
    "    \n",
    "    # Add an arrowhead as a cone at the end of each edge\n",
    "    arrow = go.Cone(\n",
    "        x=[end_node[0]], y=[end_node[1]], z=[end_node[2]], \n",
    "        u=[end_node[0] - start_node[0]],  \n",
    "        v=[end_node[1] - start_node[1]],  \n",
    "        w=[end_node[2] - start_node[2]],  \n",
    "        sizemode=\"absolute\",\n",
    "        sizeref=0.2,  \n",
    "        anchor=\"tip\", \n",
    "        showscale=False,\n",
    "        colorbar=None,   \n",
    "        colorscale=None\n",
    "    )\n",
    "    \n",
    "    # Add both the shaft and the arrowhead to the list\n",
    "    arrows.append(line)\n",
    "    arrows.append(arrow)\n",
    "\n",
    "# Set up the layout for 3D view\n",
    "layout = go.Layout(\n",
    "    scene=dict(\n",
    "        xaxis=dict(range=[-2, 2], title='X'),\n",
    "        yaxis=dict(range=[-2, 2], title='Y'),\n",
    "        zaxis=dict(range=[-2, 2], title='Z'),\n",
    "        aspectratio=dict(x=1, y=1, z=1)\n",
    "    )\n",
    ")\n",
    "\n",
    "# Create the figure with initial frames\n",
    "fig = go.Figure(data=[scatter] + arrows, layout=layout)\n",
    "\n",
    "fig.show()"
   ]
  },
  {
   "cell_type": "markdown",
   "metadata": {},
   "source": [
    "### Parsing the XML for representing them per timestep"
   ]
  },
  {
   "cell_type": "code",
   "execution_count": 93,
   "metadata": {},
   "outputs": [],
   "source": [
    "from lxml import etree\n",
    "import networkx as nx\n",
    "import plotly.graph_objects as go\n",
    "import numpy as np\n",
    "import dash\n",
    "from dash import dcc, html\n",
    "\n",
    "timestep_data = {}\n",
    "\n",
    "tree = etree.parse('gpu_2_link_500_bw_50_chunk_1024_chunk_coll_2.xml')\n",
    "\n",
    "root = tree.getroot()\n",
    "\n",
    "for gpu in root.findall(\"gpu\"):\n",
    "    gpu_id = gpu.get(\"id\")\n",
    "    for tb in gpu.findall(\"tb\"):\n",
    "        tb_id = tb.get(\"id\") #thread block ID\n",
    "        tb_gpuid_send = tb.get(\"send\") #send threadblock ID\n",
    "        tb_gpuid_recv = tb.get(\"recv\") #Receive threadblock ID\n",
    "        for step in tb.findall(\"step\"):\n",
    "            step_id = step.get(\"s\") #step ID number\n",
    "            pkt_type = step.get(\"type\") #send or receive packet?\n",
    "            has_dep = step.get(\"has_dep\") #has dependency? A boolean\n",
    "            depid = step.get(\"depid\") #dependent thread block ID\n",
    "            deps = step.get(\"deps\") #dependent step for the corresponding thread block\n",
    "            chunk_id = step.get(\"srcoff\") #chunk id\n",
    "\n",
    "            if step_id not in timestep_data:\n",
    "                timestep_data[step_id] = {gpu_id : {tb_id : {\"pkt_type\" : pkt_type, \"tb_gpuid_send\" : tb_gpuid_send, \"tb_gpuid_recv\" :tb_gpuid_recv, \"chunk_id\" : chunk_id}}}\n",
    "            else:\n",
    "                if gpu_id not in timestep_data[step_id]:\n",
    "                    timestep_data[step_id][gpu_id] = {tb_id : {\"pkt_type\" : pkt_type, \"tb_gpuid_send\" : tb_gpuid_send, \"tb_gpuid_recv\" :tb_gpuid_recv, \"chunk_id\" : chunk_id}}\n",
    "                else:\n",
    "                    if tb_id not in timestep_data[step_id][gpu_id]:\n",
    "                        timestep_data[step_id][gpu_id][tb_id] = {\"pkt_type\" : pkt_type, \"tb_gpuid_send\" : tb_gpuid_send, \"tb_gpuid_recv\" :tb_gpuid_recv, \"chunk_id\" : chunk_id}"
   ]
  },
  {
   "cell_type": "markdown",
   "metadata": {},
   "source": [
    "### Integrating the basic 3D topological visualization with the data extracted per timestep, outputs timestep number of hypercubes."
   ]
  },
  {
   "cell_type": "code",
   "execution_count": null,
   "metadata": {},
   "outputs": [],
   "source": [
    "#Dimensions for the topology\n",
    "length, width, depth = 3,3,3\n",
    "\n",
    "\"\"\"\n",
    "    Create a hypercube for the given topological dimensions.\n",
    "\"\"\"\n",
    "def create_hypercube():\n",
    "    G = nx.DiGraph()\n",
    "    node_number = 0\n",
    "    for k in range(depth):  # First, iterate over depth\n",
    "        for i in range(length):  # Then iterate over rows\n",
    "            for j in range(width):  # Finally, iterate over columns (within a row)\n",
    "                new_edge = (i, j, k)\n",
    "                G.add_node(new_edge, label = f\"gpu : {node_number}\")\n",
    "                node_number += 1\n",
    "                \n",
    "                # Connect horizontally (within the row)\n",
    "                if (j + 1 < width):\n",
    "                    G.add_edge(new_edge, (i, j+1, k))  # send to the right\n",
    "                    G.add_edge((i, j+1, k), new_edge)  # receive from the right\n",
    "\n",
    "            # Connect vertically (to the next row in the same depth)\n",
    "            if (i + 1 < length):\n",
    "                for j in range(width):  # For each column, connect rows\n",
    "                    G.add_edge((i, j, k), (i+1, j, k))  # send to the next row\n",
    "                    G.add_edge((i+1, j, k), (i, j, k))  # receive from the next row\n",
    "\n",
    "        # After covering all rows and columns for this depth, move to the next depth layer.\n",
    "        if (k + 1 < depth):\n",
    "            for i in range(length):\n",
    "                for j in range(width):\n",
    "                    G.add_edge((i, j, k), (i, j, k+1))  # send to the next depth\n",
    "                    G.add_edge((i, j, k+1), (i, j, k))  # receive from the next depth\n",
    "\n",
    "    return G\n",
    "\n",
    "\"\"\"\n",
    "    Iterate through each timestep, and create a hypercube per timestep.\n",
    "\"\"\"\n",
    "for timestep, time_data in timestep_data.items():\n",
    "    G = create_hypercube()\n",
    "\n",
    "    #define nodes\n",
    "    nodes = np.array(G.nodes())\n",
    "    \n",
    "    #Plot all the nodes using plotly\n",
    "    scatter = go.Scatter3d(\n",
    "        x=nodes[:, 0], y=nodes[:, 1], z=nodes[:, 2],\n",
    "        mode='markers',\n",
    "        marker=dict(size=10, color='blue'),\n",
    "        hoverinfo='text',\n",
    "        hovertext=[f\"gpu : {gpu_id}\" for gpu_id in range(length * width * depth)]\n",
    "    )\n",
    "\n",
    "    #Edge logic\n",
    "    edges = []\n",
    "    for gpu_id, gpu_data in time_data.items():\n",
    "        for tb_id, tb_data in gpu_data.items():\n",
    "            if (tb_data['pkt_type'] == 's'):\n",
    "                edges.append((int(gpu_id), int(tb_data['tb_gpuid_send']), int(tb_data['chunk_id'])))\n",
    "            elif (tb_data['pkt_type'] == 'r'):\n",
    "                edges.append((int(tb_data['tb_gpuid_recv']), int(gpu_id), int(tb_data['chunk_id'])))\n",
    "\n",
    "    arrows = []\n",
    "    for edge in edges:\n",
    "        start_node = nodes[edge[0]]\n",
    "        end_node = nodes[edge[1]]\n",
    "        chunk_id = edge[2]\n",
    "\n",
    "        # Line for the arrow shaft\n",
    "        line = go.Scatter3d(\n",
    "            x=[start_node[0], end_node[0]],\n",
    "            y=[start_node[1], end_node[1]],\n",
    "            z=[start_node[2], end_node[2]],\n",
    "            mode='lines',\n",
    "            line=dict(color='red', width=2),\n",
    "            hoverinfo='text',\n",
    "            hovertext=f\"Chunk_id : {chunk_id}\"\n",
    "        )\n",
    "        \n",
    "        # Add an arrowhead as a cone at the end of each edge\n",
    "        arrow = go.Cone(\n",
    "            x=[end_node[0]], y=[end_node[1]], z=[end_node[2]], \n",
    "            u=[end_node[0] - start_node[0]],  \n",
    "            v=[end_node[1] - start_node[1]],  \n",
    "            w=[end_node[2] - start_node[2]],  \n",
    "            sizemode=\"absolute\",\n",
    "            sizeref=0.2,  \n",
    "            anchor=\"tip\", \n",
    "            showscale=False,\n",
    "            colorbar=None,   \n",
    "            colorscale=None\n",
    "        )\n",
    "        \n",
    "        # Add both the shaft and the arrowhead to the list\n",
    "        arrows.append(line)\n",
    "        arrows.append(arrow)\n",
    "\n",
    "    # Set up the layout for 3D view\n",
    "    layout = go.Layout(\n",
    "        scene=dict(\n",
    "            xaxis=dict(range=[-3, 3], title='X'),\n",
    "            yaxis=dict(range=[-3, 3], title='Y'),\n",
    "            zaxis=dict(range=[-3, 3], title='Z'),\n",
    "            aspectratio=dict(x=1, y=1, z=1)\n",
    "        )\n",
    "    )\n",
    "\n",
    "    # Create the figure with initial frames\n",
    "    fig = go.Figure(data=[scatter] + arrows, layout=layout)\n",
    "\n",
    "    fig.show()"
   ]
  },
  {
   "cell_type": "markdown",
   "metadata": {},
   "source": [
    "### Adding Next and Previous options to display the hypercube for the respective timestep."
   ]
  },
  {
   "cell_type": "code",
   "execution_count": 94,
   "metadata": {},
   "outputs": [
    {
     "data": {
      "application/vnd.jupyter.widget-view+json": {
       "model_id": "578be6347c2b4bbbb963b0b7116b7532",
       "version_major": 2,
       "version_minor": 0
      },
      "text/plain": [
       "Button(description='Previous', style=ButtonStyle())"
      ]
     },
     "metadata": {},
     "output_type": "display_data"
    },
    {
     "data": {
      "application/vnd.jupyter.widget-view+json": {
       "model_id": "a0b22f53835844b69279d2961e0515ea",
       "version_major": 2,
       "version_minor": 0
      },
      "text/plain": [
       "Button(description='Next', style=ButtonStyle())"
      ]
     },
     "metadata": {},
     "output_type": "display_data"
    },
    {
     "data": {
      "application/vnd.plotly.v1+json": {
       "config": {
        "plotlyServerURL": "https://plot.ly"
       },
       "data": [
        {
         "hoverinfo": "text",
         "hovertext": [
          "gpu : 0",
          "gpu : 1",
          "gpu : 2",
          "gpu : 3",
          "gpu : 4",
          "gpu : 5",
          "gpu : 6",
          "gpu : 7"
         ],
         "marker": {
          "color": "blue",
          "size": 10
         },
         "mode": "markers",
         "type": "scatter3d",
         "x": [
          0,
          0,
          1,
          1,
          0,
          0,
          1,
          1
         ],
         "y": [
          0,
          1,
          0,
          1,
          0,
          1,
          0,
          1
         ],
         "z": [
          0,
          0,
          0,
          0,
          1,
          1,
          1,
          1
         ]
        },
        {
         "hoverinfo": "text",
         "hovertext": "Chunk_id : 6",
         "line": {
          "color": "black",
          "width": 2
         },
         "mode": "lines",
         "type": "scatter3d",
         "x": [
          0,
          0
         ],
         "y": [
          0,
          1
         ],
         "z": [
          0,
          0
         ]
        },
        {
         "anchor": "tip",
         "showscale": false,
         "sizemode": "absolute",
         "sizeref": 0.2,
         "type": "cone",
         "u": [
          0
         ],
         "v": [
          1
         ],
         "w": [
          0
         ],
         "x": [
          0
         ],
         "y": [
          1
         ],
         "z": [
          0
         ]
        },
        {
         "hoverinfo": "text",
         "hovertext": "Chunk_id : 1",
         "line": {
          "color": "black",
          "width": 2
         },
         "mode": "lines",
         "type": "scatter3d",
         "x": [
          0,
          1
         ],
         "y": [
          0,
          0
         ],
         "z": [
          0,
          0
         ]
        },
        {
         "anchor": "tip",
         "showscale": false,
         "sizemode": "absolute",
         "sizeref": 0.2,
         "type": "cone",
         "u": [
          1
         ],
         "v": [
          0
         ],
         "w": [
          0
         ],
         "x": [
          1
         ],
         "y": [
          0
         ],
         "z": [
          0
         ]
        },
        {
         "hoverinfo": "text",
         "hovertext": "Chunk_id : 0",
         "line": {
          "color": "black",
          "width": 2
         },
         "mode": "lines",
         "type": "scatter3d",
         "x": [
          0,
          0
         ],
         "y": [
          0,
          0
         ],
         "z": [
          0,
          1
         ]
        },
        {
         "anchor": "tip",
         "showscale": false,
         "sizemode": "absolute",
         "sizeref": 0.2,
         "type": "cone",
         "u": [
          0
         ],
         "v": [
          0
         ],
         "w": [
          1
         ],
         "x": [
          0
         ],
         "y": [
          0
         ],
         "z": [
          1
         ]
        },
        {
         "hoverinfo": "text",
         "hovertext": "Chunk_id : 7",
         "line": {
          "color": "black",
          "width": 2
         },
         "mode": "lines",
         "type": "scatter3d",
         "x": [
          0,
          0
         ],
         "y": [
          1,
          0
         ],
         "z": [
          0,
          0
         ]
        },
        {
         "anchor": "tip",
         "showscale": false,
         "sizemode": "absolute",
         "sizeref": 0.2,
         "type": "cone",
         "u": [
          0
         ],
         "v": [
          -1
         ],
         "w": [
          0
         ],
         "x": [
          0
         ],
         "y": [
          0
         ],
         "z": [
          0
         ]
        },
        {
         "hoverinfo": "text",
         "hovertext": "Chunk_id : 3",
         "line": {
          "color": "black",
          "width": 2
         },
         "mode": "lines",
         "type": "scatter3d",
         "x": [
          1,
          0
         ],
         "y": [
          0,
          0
         ],
         "z": [
          0,
          0
         ]
        },
        {
         "anchor": "tip",
         "showscale": false,
         "sizemode": "absolute",
         "sizeref": 0.2,
         "type": "cone",
         "u": [
          -1
         ],
         "v": [
          0
         ],
         "w": [
          0
         ],
         "x": [
          0
         ],
         "y": [
          0
         ],
         "z": [
          0
         ]
        },
        {
         "hoverinfo": "text",
         "hovertext": "Chunk_id : 14",
         "line": {
          "color": "black",
          "width": 2
         },
         "mode": "lines",
         "type": "scatter3d",
         "x": [
          0,
          0
         ],
         "y": [
          0,
          0
         ],
         "z": [
          1,
          0
         ]
        },
        {
         "anchor": "tip",
         "showscale": false,
         "sizemode": "absolute",
         "sizeref": 0.2,
         "type": "cone",
         "u": [
          0
         ],
         "v": [
          0
         ],
         "w": [
          -1
         ],
         "x": [
          0
         ],
         "y": [
          0
         ],
         "z": [
          0
         ]
        },
        {
         "hoverinfo": "text",
         "hovertext": "Chunk_id : 7",
         "line": {
          "color": "black",
          "width": 2
         },
         "mode": "lines",
         "type": "scatter3d",
         "x": [
          0,
          0
         ],
         "y": [
          1,
          0
         ],
         "z": [
          0,
          0
         ]
        },
        {
         "anchor": "tip",
         "showscale": false,
         "sizemode": "absolute",
         "sizeref": 0.2,
         "type": "cone",
         "u": [
          0
         ],
         "v": [
          -1
         ],
         "w": [
          0
         ],
         "x": [
          0
         ],
         "y": [
          0
         ],
         "z": [
          0
         ]
        },
        {
         "hoverinfo": "text",
         "hovertext": "Chunk_id : 1",
         "line": {
          "color": "black",
          "width": 2
         },
         "mode": "lines",
         "type": "scatter3d",
         "x": [
          0,
          1
         ],
         "y": [
          1,
          1
         ],
         "z": [
          0,
          0
         ]
        },
        {
         "anchor": "tip",
         "showscale": false,
         "sizemode": "absolute",
         "sizeref": 0.2,
         "type": "cone",
         "u": [
          1
         ],
         "v": [
          0
         ],
         "w": [
          0
         ],
         "x": [
          1
         ],
         "y": [
          1
         ],
         "z": [
          0
         ]
        },
        {
         "hoverinfo": "text",
         "hovertext": "Chunk_id : 8",
         "line": {
          "color": "black",
          "width": 2
         },
         "mode": "lines",
         "type": "scatter3d",
         "x": [
          0,
          0
         ],
         "y": [
          1,
          1
         ],
         "z": [
          0,
          1
         ]
        },
        {
         "anchor": "tip",
         "showscale": false,
         "sizemode": "absolute",
         "sizeref": 0.2,
         "type": "cone",
         "u": [
          0
         ],
         "v": [
          0
         ],
         "w": [
          1
         ],
         "x": [
          0
         ],
         "y": [
          1
         ],
         "z": [
          1
         ]
        },
        {
         "hoverinfo": "text",
         "hovertext": "Chunk_id : 6",
         "line": {
          "color": "black",
          "width": 2
         },
         "mode": "lines",
         "type": "scatter3d",
         "x": [
          0,
          0
         ],
         "y": [
          0,
          1
         ],
         "z": [
          0,
          0
         ]
        },
        {
         "anchor": "tip",
         "showscale": false,
         "sizemode": "absolute",
         "sizeref": 0.2,
         "type": "cone",
         "u": [
          0
         ],
         "v": [
          1
         ],
         "w": [
          0
         ],
         "x": [
          0
         ],
         "y": [
          1
         ],
         "z": [
          0
         ]
        },
        {
         "hoverinfo": "text",
         "hovertext": "Chunk_id : 15",
         "line": {
          "color": "black",
          "width": 2
         },
         "mode": "lines",
         "type": "scatter3d",
         "x": [
          1,
          0
         ],
         "y": [
          1,
          1
         ],
         "z": [
          0,
          0
         ]
        },
        {
         "anchor": "tip",
         "showscale": false,
         "sizemode": "absolute",
         "sizeref": 0.2,
         "type": "cone",
         "u": [
          -1
         ],
         "v": [
          0
         ],
         "w": [
          0
         ],
         "x": [
          0
         ],
         "y": [
          1
         ],
         "z": [
          0
         ]
        },
        {
         "hoverinfo": "text",
         "hovertext": "Chunk_id : 14",
         "line": {
          "color": "black",
          "width": 2
         },
         "mode": "lines",
         "type": "scatter3d",
         "x": [
          0,
          0
         ],
         "y": [
          1,
          1
         ],
         "z": [
          1,
          0
         ]
        },
        {
         "anchor": "tip",
         "showscale": false,
         "sizemode": "absolute",
         "sizeref": 0.2,
         "type": "cone",
         "u": [
          0
         ],
         "v": [
          0
         ],
         "w": [
          -1
         ],
         "x": [
          0
         ],
         "y": [
          1
         ],
         "z": [
          0
         ]
        },
        {
         "hoverinfo": "text",
         "hovertext": "Chunk_id : 3",
         "line": {
          "color": "black",
          "width": 2
         },
         "mode": "lines",
         "type": "scatter3d",
         "x": [
          1,
          0
         ],
         "y": [
          0,
          0
         ],
         "z": [
          0,
          0
         ]
        },
        {
         "anchor": "tip",
         "showscale": false,
         "sizemode": "absolute",
         "sizeref": 0.2,
         "type": "cone",
         "u": [
          -1
         ],
         "v": [
          0
         ],
         "w": [
          0
         ],
         "x": [
          0
         ],
         "y": [
          0
         ],
         "z": [
          0
         ]
        },
        {
         "hoverinfo": "text",
         "hovertext": "Chunk_id : 2",
         "line": {
          "color": "black",
          "width": 2
         },
         "mode": "lines",
         "type": "scatter3d",
         "x": [
          1,
          1
         ],
         "y": [
          0,
          1
         ],
         "z": [
          0,
          0
         ]
        },
        {
         "anchor": "tip",
         "showscale": false,
         "sizemode": "absolute",
         "sizeref": 0.2,
         "type": "cone",
         "u": [
          0
         ],
         "v": [
          1
         ],
         "w": [
          0
         ],
         "x": [
          1
         ],
         "y": [
          1
         ],
         "z": [
          0
         ]
        },
        {
         "hoverinfo": "text",
         "hovertext": "Chunk_id : 8",
         "line": {
          "color": "black",
          "width": 2
         },
         "mode": "lines",
         "type": "scatter3d",
         "x": [
          1,
          1
         ],
         "y": [
          0,
          0
         ],
         "z": [
          0,
          1
         ]
        },
        {
         "anchor": "tip",
         "showscale": false,
         "sizemode": "absolute",
         "sizeref": 0.2,
         "type": "cone",
         "u": [
          0
         ],
         "v": [
          0
         ],
         "w": [
          1
         ],
         "x": [
          1
         ],
         "y": [
          0
         ],
         "z": [
          1
         ]
        },
        {
         "hoverinfo": "text",
         "hovertext": "Chunk_id : 1",
         "line": {
          "color": "black",
          "width": 2
         },
         "mode": "lines",
         "type": "scatter3d",
         "x": [
          0,
          1
         ],
         "y": [
          0,
          0
         ],
         "z": [
          0,
          0
         ]
        },
        {
         "anchor": "tip",
         "showscale": false,
         "sizemode": "absolute",
         "sizeref": 0.2,
         "type": "cone",
         "u": [
          1
         ],
         "v": [
          0
         ],
         "w": [
          0
         ],
         "x": [
          1
         ],
         "y": [
          0
         ],
         "z": [
          0
         ]
        },
        {
         "hoverinfo": "text",
         "hovertext": "Chunk_id : 3",
         "line": {
          "color": "black",
          "width": 2
         },
         "mode": "lines",
         "type": "scatter3d",
         "x": [
          1,
          1
         ],
         "y": [
          1,
          0
         ],
         "z": [
          0,
          0
         ]
        },
        {
         "anchor": "tip",
         "showscale": false,
         "sizemode": "absolute",
         "sizeref": 0.2,
         "type": "cone",
         "u": [
          0
         ],
         "v": [
          -1
         ],
         "w": [
          0
         ],
         "x": [
          1
         ],
         "y": [
          0
         ],
         "z": [
          0
         ]
        },
        {
         "hoverinfo": "text",
         "hovertext": "Chunk_id : 13",
         "line": {
          "color": "black",
          "width": 2
         },
         "mode": "lines",
         "type": "scatter3d",
         "x": [
          1,
          1
         ],
         "y": [
          0,
          0
         ],
         "z": [
          1,
          0
         ]
        },
        {
         "anchor": "tip",
         "showscale": false,
         "sizemode": "absolute",
         "sizeref": 0.2,
         "type": "cone",
         "u": [
          0
         ],
         "v": [
          0
         ],
         "w": [
          -1
         ],
         "x": [
          1
         ],
         "y": [
          0
         ],
         "z": [
          0
         ]
        },
        {
         "hoverinfo": "text",
         "hovertext": "Chunk_id : 15",
         "line": {
          "color": "black",
          "width": 2
         },
         "mode": "lines",
         "type": "scatter3d",
         "x": [
          1,
          0
         ],
         "y": [
          1,
          1
         ],
         "z": [
          0,
          0
         ]
        },
        {
         "anchor": "tip",
         "showscale": false,
         "sizemode": "absolute",
         "sizeref": 0.2,
         "type": "cone",
         "u": [
          -1
         ],
         "v": [
          0
         ],
         "w": [
          0
         ],
         "x": [
          0
         ],
         "y": [
          1
         ],
         "z": [
          0
         ]
        },
        {
         "hoverinfo": "text",
         "hovertext": "Chunk_id : 3",
         "line": {
          "color": "black",
          "width": 2
         },
         "mode": "lines",
         "type": "scatter3d",
         "x": [
          1,
          1
         ],
         "y": [
          1,
          0
         ],
         "z": [
          0,
          0
         ]
        },
        {
         "anchor": "tip",
         "showscale": false,
         "sizemode": "absolute",
         "sizeref": 0.2,
         "type": "cone",
         "u": [
          0
         ],
         "v": [
          -1
         ],
         "w": [
          0
         ],
         "x": [
          1
         ],
         "y": [
          0
         ],
         "z": [
          0
         ]
        },
        {
         "hoverinfo": "text",
         "hovertext": "Chunk_id : 9",
         "line": {
          "color": "black",
          "width": 2
         },
         "mode": "lines",
         "type": "scatter3d",
         "x": [
          1,
          1
         ],
         "y": [
          1,
          1
         ],
         "z": [
          0,
          1
         ]
        },
        {
         "anchor": "tip",
         "showscale": false,
         "sizemode": "absolute",
         "sizeref": 0.2,
         "type": "cone",
         "u": [
          0
         ],
         "v": [
          0
         ],
         "w": [
          1
         ],
         "x": [
          1
         ],
         "y": [
          1
         ],
         "z": [
          1
         ]
        },
        {
         "hoverinfo": "text",
         "hovertext": "Chunk_id : 1",
         "line": {
          "color": "black",
          "width": 2
         },
         "mode": "lines",
         "type": "scatter3d",
         "x": [
          0,
          1
         ],
         "y": [
          1,
          1
         ],
         "z": [
          0,
          0
         ]
        },
        {
         "anchor": "tip",
         "showscale": false,
         "sizemode": "absolute",
         "sizeref": 0.2,
         "type": "cone",
         "u": [
          1
         ],
         "v": [
          0
         ],
         "w": [
          0
         ],
         "x": [
          1
         ],
         "y": [
          1
         ],
         "z": [
          0
         ]
        },
        {
         "hoverinfo": "text",
         "hovertext": "Chunk_id : 2",
         "line": {
          "color": "black",
          "width": 2
         },
         "mode": "lines",
         "type": "scatter3d",
         "x": [
          1,
          1
         ],
         "y": [
          0,
          1
         ],
         "z": [
          0,
          0
         ]
        },
        {
         "anchor": "tip",
         "showscale": false,
         "sizemode": "absolute",
         "sizeref": 0.2,
         "type": "cone",
         "u": [
          0
         ],
         "v": [
          1
         ],
         "w": [
          0
         ],
         "x": [
          1
         ],
         "y": [
          1
         ],
         "z": [
          0
         ]
        },
        {
         "hoverinfo": "text",
         "hovertext": "Chunk_id : 14",
         "line": {
          "color": "black",
          "width": 2
         },
         "mode": "lines",
         "type": "scatter3d",
         "x": [
          1,
          1
         ],
         "y": [
          1,
          1
         ],
         "z": [
          1,
          0
         ]
        },
        {
         "anchor": "tip",
         "showscale": false,
         "sizemode": "absolute",
         "sizeref": 0.2,
         "type": "cone",
         "u": [
          0
         ],
         "v": [
          0
         ],
         "w": [
          -1
         ],
         "x": [
          1
         ],
         "y": [
          1
         ],
         "z": [
          0
         ]
        },
        {
         "hoverinfo": "text",
         "hovertext": "Chunk_id : 14",
         "line": {
          "color": "black",
          "width": 2
         },
         "mode": "lines",
         "type": "scatter3d",
         "x": [
          0,
          0
         ],
         "y": [
          0,
          0
         ],
         "z": [
          1,
          0
         ]
        },
        {
         "anchor": "tip",
         "showscale": false,
         "sizemode": "absolute",
         "sizeref": 0.2,
         "type": "cone",
         "u": [
          0
         ],
         "v": [
          0
         ],
         "w": [
          -1
         ],
         "x": [
          0
         ],
         "y": [
          0
         ],
         "z": [
          0
         ]
        },
        {
         "hoverinfo": "text",
         "hovertext": "Chunk_id : 2",
         "line": {
          "color": "black",
          "width": 2
         },
         "mode": "lines",
         "type": "scatter3d",
         "x": [
          0,
          0
         ],
         "y": [
          0,
          1
         ],
         "z": [
          1,
          1
         ]
        },
        {
         "anchor": "tip",
         "showscale": false,
         "sizemode": "absolute",
         "sizeref": 0.2,
         "type": "cone",
         "u": [
          0
         ],
         "v": [
          1
         ],
         "w": [
          0
         ],
         "x": [
          0
         ],
         "y": [
          1
         ],
         "z": [
          1
         ]
        },
        {
         "hoverinfo": "text",
         "hovertext": "Chunk_id : 4",
         "line": {
          "color": "black",
          "width": 2
         },
         "mode": "lines",
         "type": "scatter3d",
         "x": [
          0,
          1
         ],
         "y": [
          0,
          0
         ],
         "z": [
          1,
          1
         ]
        },
        {
         "anchor": "tip",
         "showscale": false,
         "sizemode": "absolute",
         "sizeref": 0.2,
         "type": "cone",
         "u": [
          1
         ],
         "v": [
          0
         ],
         "w": [
          0
         ],
         "x": [
          1
         ],
         "y": [
          0
         ],
         "z": [
          1
         ]
        },
        {
         "hoverinfo": "text",
         "hovertext": "Chunk_id : 0",
         "line": {
          "color": "black",
          "width": 2
         },
         "mode": "lines",
         "type": "scatter3d",
         "x": [
          0,
          0
         ],
         "y": [
          0,
          0
         ],
         "z": [
          0,
          1
         ]
        },
        {
         "anchor": "tip",
         "showscale": false,
         "sizemode": "absolute",
         "sizeref": 0.2,
         "type": "cone",
         "u": [
          0
         ],
         "v": [
          0
         ],
         "w": [
          1
         ],
         "x": [
          0
         ],
         "y": [
          0
         ],
         "z": [
          1
         ]
        },
        {
         "hoverinfo": "text",
         "hovertext": "Chunk_id : 7",
         "line": {
          "color": "black",
          "width": 2
         },
         "mode": "lines",
         "type": "scatter3d",
         "x": [
          0,
          0
         ],
         "y": [
          1,
          0
         ],
         "z": [
          1,
          1
         ]
        },
        {
         "anchor": "tip",
         "showscale": false,
         "sizemode": "absolute",
         "sizeref": 0.2,
         "type": "cone",
         "u": [
          0
         ],
         "v": [
          -1
         ],
         "w": [
          0
         ],
         "x": [
          0
         ],
         "y": [
          0
         ],
         "z": [
          1
         ]
        },
        {
         "hoverinfo": "text",
         "hovertext": "Chunk_id : 15",
         "line": {
          "color": "black",
          "width": 2
         },
         "mode": "lines",
         "type": "scatter3d",
         "x": [
          1,
          0
         ],
         "y": [
          0,
          0
         ],
         "z": [
          1,
          1
         ]
        },
        {
         "anchor": "tip",
         "showscale": false,
         "sizemode": "absolute",
         "sizeref": 0.2,
         "type": "cone",
         "u": [
          -1
         ],
         "v": [
          0
         ],
         "w": [
          0
         ],
         "x": [
          0
         ],
         "y": [
          0
         ],
         "z": [
          1
         ]
        },
        {
         "hoverinfo": "text",
         "hovertext": "Chunk_id : 14",
         "line": {
          "color": "black",
          "width": 2
         },
         "mode": "lines",
         "type": "scatter3d",
         "x": [
          0,
          0
         ],
         "y": [
          1,
          1
         ],
         "z": [
          1,
          0
         ]
        },
        {
         "anchor": "tip",
         "showscale": false,
         "sizemode": "absolute",
         "sizeref": 0.2,
         "type": "cone",
         "u": [
          0
         ],
         "v": [
          0
         ],
         "w": [
          -1
         ],
         "x": [
          0
         ],
         "y": [
          1
         ],
         "z": [
          0
         ]
        },
        {
         "hoverinfo": "text",
         "hovertext": "Chunk_id : 7",
         "line": {
          "color": "black",
          "width": 2
         },
         "mode": "lines",
         "type": "scatter3d",
         "x": [
          0,
          0
         ],
         "y": [
          1,
          0
         ],
         "z": [
          1,
          1
         ]
        },
        {
         "anchor": "tip",
         "showscale": false,
         "sizemode": "absolute",
         "sizeref": 0.2,
         "type": "cone",
         "u": [
          0
         ],
         "v": [
          -1
         ],
         "w": [
          0
         ],
         "x": [
          0
         ],
         "y": [
          0
         ],
         "z": [
          1
         ]
        },
        {
         "hoverinfo": "text",
         "hovertext": "Chunk_id : 4",
         "line": {
          "color": "black",
          "width": 2
         },
         "mode": "lines",
         "type": "scatter3d",
         "x": [
          0,
          1
         ],
         "y": [
          1,
          1
         ],
         "z": [
          1,
          1
         ]
        },
        {
         "anchor": "tip",
         "showscale": false,
         "sizemode": "absolute",
         "sizeref": 0.2,
         "type": "cone",
         "u": [
          1
         ],
         "v": [
          0
         ],
         "w": [
          0
         ],
         "x": [
          1
         ],
         "y": [
          1
         ],
         "z": [
          1
         ]
        },
        {
         "hoverinfo": "text",
         "hovertext": "Chunk_id : 8",
         "line": {
          "color": "black",
          "width": 2
         },
         "mode": "lines",
         "type": "scatter3d",
         "x": [
          0,
          0
         ],
         "y": [
          1,
          1
         ],
         "z": [
          0,
          1
         ]
        },
        {
         "anchor": "tip",
         "showscale": false,
         "sizemode": "absolute",
         "sizeref": 0.2,
         "type": "cone",
         "u": [
          0
         ],
         "v": [
          0
         ],
         "w": [
          1
         ],
         "x": [
          0
         ],
         "y": [
          1
         ],
         "z": [
          1
         ]
        },
        {
         "hoverinfo": "text",
         "hovertext": "Chunk_id : 2",
         "line": {
          "color": "black",
          "width": 2
         },
         "mode": "lines",
         "type": "scatter3d",
         "x": [
          0,
          0
         ],
         "y": [
          0,
          1
         ],
         "z": [
          1,
          1
         ]
        },
        {
         "anchor": "tip",
         "showscale": false,
         "sizemode": "absolute",
         "sizeref": 0.2,
         "type": "cone",
         "u": [
          0
         ],
         "v": [
          1
         ],
         "w": [
          0
         ],
         "x": [
          0
         ],
         "y": [
          1
         ],
         "z": [
          1
         ]
        },
        {
         "hoverinfo": "text",
         "hovertext": "Chunk_id : 6",
         "line": {
          "color": "black",
          "width": 2
         },
         "mode": "lines",
         "type": "scatter3d",
         "x": [
          1,
          0
         ],
         "y": [
          1,
          1
         ],
         "z": [
          1,
          1
         ]
        },
        {
         "anchor": "tip",
         "showscale": false,
         "sizemode": "absolute",
         "sizeref": 0.2,
         "type": "cone",
         "u": [
          -1
         ],
         "v": [
          0
         ],
         "w": [
          0
         ],
         "x": [
          0
         ],
         "y": [
          1
         ],
         "z": [
          1
         ]
        },
        {
         "hoverinfo": "text",
         "hovertext": "Chunk_id : 13",
         "line": {
          "color": "black",
          "width": 2
         },
         "mode": "lines",
         "type": "scatter3d",
         "x": [
          1,
          1
         ],
         "y": [
          0,
          0
         ],
         "z": [
          1,
          0
         ]
        },
        {
         "anchor": "tip",
         "showscale": false,
         "sizemode": "absolute",
         "sizeref": 0.2,
         "type": "cone",
         "u": [
          0
         ],
         "v": [
          0
         ],
         "w": [
          -1
         ],
         "x": [
          1
         ],
         "y": [
          0
         ],
         "z": [
          0
         ]
        },
        {
         "hoverinfo": "text",
         "hovertext": "Chunk_id : 15",
         "line": {
          "color": "black",
          "width": 2
         },
         "mode": "lines",
         "type": "scatter3d",
         "x": [
          1,
          0
         ],
         "y": [
          0,
          0
         ],
         "z": [
          1,
          1
         ]
        },
        {
         "anchor": "tip",
         "showscale": false,
         "sizemode": "absolute",
         "sizeref": 0.2,
         "type": "cone",
         "u": [
          -1
         ],
         "v": [
          0
         ],
         "w": [
          0
         ],
         "x": [
          0
         ],
         "y": [
          0
         ],
         "z": [
          1
         ]
        },
        {
         "hoverinfo": "text",
         "hovertext": "Chunk_id : 2",
         "line": {
          "color": "black",
          "width": 2
         },
         "mode": "lines",
         "type": "scatter3d",
         "x": [
          1,
          1
         ],
         "y": [
          0,
          1
         ],
         "z": [
          1,
          1
         ]
        },
        {
         "anchor": "tip",
         "showscale": false,
         "sizemode": "absolute",
         "sizeref": 0.2,
         "type": "cone",
         "u": [
          0
         ],
         "v": [
          1
         ],
         "w": [
          0
         ],
         "x": [
          1
         ],
         "y": [
          1
         ],
         "z": [
          1
         ]
        },
        {
         "hoverinfo": "text",
         "hovertext": "Chunk_id : 8",
         "line": {
          "color": "black",
          "width": 2
         },
         "mode": "lines",
         "type": "scatter3d",
         "x": [
          1,
          1
         ],
         "y": [
          0,
          0
         ],
         "z": [
          0,
          1
         ]
        },
        {
         "anchor": "tip",
         "showscale": false,
         "sizemode": "absolute",
         "sizeref": 0.2,
         "type": "cone",
         "u": [
          0
         ],
         "v": [
          0
         ],
         "w": [
          1
         ],
         "x": [
          1
         ],
         "y": [
          0
         ],
         "z": [
          1
         ]
        },
        {
         "hoverinfo": "text",
         "hovertext": "Chunk_id : 4",
         "line": {
          "color": "black",
          "width": 2
         },
         "mode": "lines",
         "type": "scatter3d",
         "x": [
          0,
          1
         ],
         "y": [
          0,
          0
         ],
         "z": [
          1,
          1
         ]
        },
        {
         "anchor": "tip",
         "showscale": false,
         "sizemode": "absolute",
         "sizeref": 0.2,
         "type": "cone",
         "u": [
          1
         ],
         "v": [
          0
         ],
         "w": [
          0
         ],
         "x": [
          1
         ],
         "y": [
          0
         ],
         "z": [
          1
         ]
        },
        {
         "hoverinfo": "text",
         "hovertext": "Chunk_id : 7",
         "line": {
          "color": "black",
          "width": 2
         },
         "mode": "lines",
         "type": "scatter3d",
         "x": [
          1,
          1
         ],
         "y": [
          1,
          0
         ],
         "z": [
          1,
          1
         ]
        },
        {
         "anchor": "tip",
         "showscale": false,
         "sizemode": "absolute",
         "sizeref": 0.2,
         "type": "cone",
         "u": [
          0
         ],
         "v": [
          -1
         ],
         "w": [
          0
         ],
         "x": [
          1
         ],
         "y": [
          0
         ],
         "z": [
          1
         ]
        },
        {
         "hoverinfo": "text",
         "hovertext": "Chunk_id : 14",
         "line": {
          "color": "black",
          "width": 2
         },
         "mode": "lines",
         "type": "scatter3d",
         "x": [
          1,
          1
         ],
         "y": [
          1,
          1
         ],
         "z": [
          1,
          0
         ]
        },
        {
         "anchor": "tip",
         "showscale": false,
         "sizemode": "absolute",
         "sizeref": 0.2,
         "type": "cone",
         "u": [
          0
         ],
         "v": [
          0
         ],
         "w": [
          -1
         ],
         "x": [
          1
         ],
         "y": [
          1
         ],
         "z": [
          0
         ]
        },
        {
         "hoverinfo": "text",
         "hovertext": "Chunk_id : 6",
         "line": {
          "color": "black",
          "width": 2
         },
         "mode": "lines",
         "type": "scatter3d",
         "x": [
          1,
          0
         ],
         "y": [
          1,
          1
         ],
         "z": [
          1,
          1
         ]
        },
        {
         "anchor": "tip",
         "showscale": false,
         "sizemode": "absolute",
         "sizeref": 0.2,
         "type": "cone",
         "u": [
          -1
         ],
         "v": [
          0
         ],
         "w": [
          0
         ],
         "x": [
          0
         ],
         "y": [
          1
         ],
         "z": [
          1
         ]
        },
        {
         "hoverinfo": "text",
         "hovertext": "Chunk_id : 7",
         "line": {
          "color": "black",
          "width": 2
         },
         "mode": "lines",
         "type": "scatter3d",
         "x": [
          1,
          1
         ],
         "y": [
          1,
          0
         ],
         "z": [
          1,
          1
         ]
        },
        {
         "anchor": "tip",
         "showscale": false,
         "sizemode": "absolute",
         "sizeref": 0.2,
         "type": "cone",
         "u": [
          0
         ],
         "v": [
          -1
         ],
         "w": [
          0
         ],
         "x": [
          1
         ],
         "y": [
          0
         ],
         "z": [
          1
         ]
        },
        {
         "hoverinfo": "text",
         "hovertext": "Chunk_id : 9",
         "line": {
          "color": "black",
          "width": 2
         },
         "mode": "lines",
         "type": "scatter3d",
         "x": [
          1,
          1
         ],
         "y": [
          1,
          1
         ],
         "z": [
          0,
          1
         ]
        },
        {
         "anchor": "tip",
         "showscale": false,
         "sizemode": "absolute",
         "sizeref": 0.2,
         "type": "cone",
         "u": [
          0
         ],
         "v": [
          0
         ],
         "w": [
          1
         ],
         "x": [
          1
         ],
         "y": [
          1
         ],
         "z": [
          1
         ]
        },
        {
         "hoverinfo": "text",
         "hovertext": "Chunk_id : 4",
         "line": {
          "color": "black",
          "width": 2
         },
         "mode": "lines",
         "type": "scatter3d",
         "x": [
          0,
          1
         ],
         "y": [
          1,
          1
         ],
         "z": [
          1,
          1
         ]
        },
        {
         "anchor": "tip",
         "showscale": false,
         "sizemode": "absolute",
         "sizeref": 0.2,
         "type": "cone",
         "u": [
          1
         ],
         "v": [
          0
         ],
         "w": [
          0
         ],
         "x": [
          1
         ],
         "y": [
          1
         ],
         "z": [
          1
         ]
        },
        {
         "hoverinfo": "text",
         "hovertext": "Chunk_id : 2",
         "line": {
          "color": "black",
          "width": 2
         },
         "mode": "lines",
         "type": "scatter3d",
         "x": [
          1,
          1
         ],
         "y": [
          0,
          1
         ],
         "z": [
          1,
          1
         ]
        },
        {
         "anchor": "tip",
         "showscale": false,
         "sizemode": "absolute",
         "sizeref": 0.2,
         "type": "cone",
         "u": [
          0
         ],
         "v": [
          1
         ],
         "w": [
          0
         ],
         "x": [
          1
         ],
         "y": [
          1
         ],
         "z": [
          1
         ]
        }
       ],
       "layout": {
        "scene": {
         "aspectratio": {
          "x": 1,
          "y": 1,
          "z": 1
         },
         "xaxis": {
          "range": [
           -1,
           1.5
          ],
          "title": {
           "text": "X"
          }
         },
         "yaxis": {
          "range": [
           -1,
           1.5
          ],
          "title": {
           "text": "Y"
          }
         },
         "zaxis": {
          "range": [
           -1,
           1.5
          ],
          "title": {
           "text": "Z"
          }
         }
        },
        "template": {
         "data": {
          "bar": [
           {
            "error_x": {
             "color": "#2a3f5f"
            },
            "error_y": {
             "color": "#2a3f5f"
            },
            "marker": {
             "line": {
              "color": "#E5ECF6",
              "width": 0.5
             },
             "pattern": {
              "fillmode": "overlay",
              "size": 10,
              "solidity": 0.2
             }
            },
            "type": "bar"
           }
          ],
          "barpolar": [
           {
            "marker": {
             "line": {
              "color": "#E5ECF6",
              "width": 0.5
             },
             "pattern": {
              "fillmode": "overlay",
              "size": 10,
              "solidity": 0.2
             }
            },
            "type": "barpolar"
           }
          ],
          "carpet": [
           {
            "aaxis": {
             "endlinecolor": "#2a3f5f",
             "gridcolor": "white",
             "linecolor": "white",
             "minorgridcolor": "white",
             "startlinecolor": "#2a3f5f"
            },
            "baxis": {
             "endlinecolor": "#2a3f5f",
             "gridcolor": "white",
             "linecolor": "white",
             "minorgridcolor": "white",
             "startlinecolor": "#2a3f5f"
            },
            "type": "carpet"
           }
          ],
          "choropleth": [
           {
            "colorbar": {
             "outlinewidth": 0,
             "ticks": ""
            },
            "type": "choropleth"
           }
          ],
          "contour": [
           {
            "colorbar": {
             "outlinewidth": 0,
             "ticks": ""
            },
            "colorscale": [
             [
              0,
              "#0d0887"
             ],
             [
              0.1111111111111111,
              "#46039f"
             ],
             [
              0.2222222222222222,
              "#7201a8"
             ],
             [
              0.3333333333333333,
              "#9c179e"
             ],
             [
              0.4444444444444444,
              "#bd3786"
             ],
             [
              0.5555555555555556,
              "#d8576b"
             ],
             [
              0.6666666666666666,
              "#ed7953"
             ],
             [
              0.7777777777777778,
              "#fb9f3a"
             ],
             [
              0.8888888888888888,
              "#fdca26"
             ],
             [
              1,
              "#f0f921"
             ]
            ],
            "type": "contour"
           }
          ],
          "contourcarpet": [
           {
            "colorbar": {
             "outlinewidth": 0,
             "ticks": ""
            },
            "type": "contourcarpet"
           }
          ],
          "heatmap": [
           {
            "colorbar": {
             "outlinewidth": 0,
             "ticks": ""
            },
            "colorscale": [
             [
              0,
              "#0d0887"
             ],
             [
              0.1111111111111111,
              "#46039f"
             ],
             [
              0.2222222222222222,
              "#7201a8"
             ],
             [
              0.3333333333333333,
              "#9c179e"
             ],
             [
              0.4444444444444444,
              "#bd3786"
             ],
             [
              0.5555555555555556,
              "#d8576b"
             ],
             [
              0.6666666666666666,
              "#ed7953"
             ],
             [
              0.7777777777777778,
              "#fb9f3a"
             ],
             [
              0.8888888888888888,
              "#fdca26"
             ],
             [
              1,
              "#f0f921"
             ]
            ],
            "type": "heatmap"
           }
          ],
          "heatmapgl": [
           {
            "colorbar": {
             "outlinewidth": 0,
             "ticks": ""
            },
            "colorscale": [
             [
              0,
              "#0d0887"
             ],
             [
              0.1111111111111111,
              "#46039f"
             ],
             [
              0.2222222222222222,
              "#7201a8"
             ],
             [
              0.3333333333333333,
              "#9c179e"
             ],
             [
              0.4444444444444444,
              "#bd3786"
             ],
             [
              0.5555555555555556,
              "#d8576b"
             ],
             [
              0.6666666666666666,
              "#ed7953"
             ],
             [
              0.7777777777777778,
              "#fb9f3a"
             ],
             [
              0.8888888888888888,
              "#fdca26"
             ],
             [
              1,
              "#f0f921"
             ]
            ],
            "type": "heatmapgl"
           }
          ],
          "histogram": [
           {
            "marker": {
             "pattern": {
              "fillmode": "overlay",
              "size": 10,
              "solidity": 0.2
             }
            },
            "type": "histogram"
           }
          ],
          "histogram2d": [
           {
            "colorbar": {
             "outlinewidth": 0,
             "ticks": ""
            },
            "colorscale": [
             [
              0,
              "#0d0887"
             ],
             [
              0.1111111111111111,
              "#46039f"
             ],
             [
              0.2222222222222222,
              "#7201a8"
             ],
             [
              0.3333333333333333,
              "#9c179e"
             ],
             [
              0.4444444444444444,
              "#bd3786"
             ],
             [
              0.5555555555555556,
              "#d8576b"
             ],
             [
              0.6666666666666666,
              "#ed7953"
             ],
             [
              0.7777777777777778,
              "#fb9f3a"
             ],
             [
              0.8888888888888888,
              "#fdca26"
             ],
             [
              1,
              "#f0f921"
             ]
            ],
            "type": "histogram2d"
           }
          ],
          "histogram2dcontour": [
           {
            "colorbar": {
             "outlinewidth": 0,
             "ticks": ""
            },
            "colorscale": [
             [
              0,
              "#0d0887"
             ],
             [
              0.1111111111111111,
              "#46039f"
             ],
             [
              0.2222222222222222,
              "#7201a8"
             ],
             [
              0.3333333333333333,
              "#9c179e"
             ],
             [
              0.4444444444444444,
              "#bd3786"
             ],
             [
              0.5555555555555556,
              "#d8576b"
             ],
             [
              0.6666666666666666,
              "#ed7953"
             ],
             [
              0.7777777777777778,
              "#fb9f3a"
             ],
             [
              0.8888888888888888,
              "#fdca26"
             ],
             [
              1,
              "#f0f921"
             ]
            ],
            "type": "histogram2dcontour"
           }
          ],
          "mesh3d": [
           {
            "colorbar": {
             "outlinewidth": 0,
             "ticks": ""
            },
            "type": "mesh3d"
           }
          ],
          "parcoords": [
           {
            "line": {
             "colorbar": {
              "outlinewidth": 0,
              "ticks": ""
             }
            },
            "type": "parcoords"
           }
          ],
          "pie": [
           {
            "automargin": true,
            "type": "pie"
           }
          ],
          "scatter": [
           {
            "fillpattern": {
             "fillmode": "overlay",
             "size": 10,
             "solidity": 0.2
            },
            "type": "scatter"
           }
          ],
          "scatter3d": [
           {
            "line": {
             "colorbar": {
              "outlinewidth": 0,
              "ticks": ""
             }
            },
            "marker": {
             "colorbar": {
              "outlinewidth": 0,
              "ticks": ""
             }
            },
            "type": "scatter3d"
           }
          ],
          "scattercarpet": [
           {
            "marker": {
             "colorbar": {
              "outlinewidth": 0,
              "ticks": ""
             }
            },
            "type": "scattercarpet"
           }
          ],
          "scattergeo": [
           {
            "marker": {
             "colorbar": {
              "outlinewidth": 0,
              "ticks": ""
             }
            },
            "type": "scattergeo"
           }
          ],
          "scattergl": [
           {
            "marker": {
             "colorbar": {
              "outlinewidth": 0,
              "ticks": ""
             }
            },
            "type": "scattergl"
           }
          ],
          "scattermapbox": [
           {
            "marker": {
             "colorbar": {
              "outlinewidth": 0,
              "ticks": ""
             }
            },
            "type": "scattermapbox"
           }
          ],
          "scatterpolar": [
           {
            "marker": {
             "colorbar": {
              "outlinewidth": 0,
              "ticks": ""
             }
            },
            "type": "scatterpolar"
           }
          ],
          "scatterpolargl": [
           {
            "marker": {
             "colorbar": {
              "outlinewidth": 0,
              "ticks": ""
             }
            },
            "type": "scatterpolargl"
           }
          ],
          "scatterternary": [
           {
            "marker": {
             "colorbar": {
              "outlinewidth": 0,
              "ticks": ""
             }
            },
            "type": "scatterternary"
           }
          ],
          "surface": [
           {
            "colorbar": {
             "outlinewidth": 0,
             "ticks": ""
            },
            "colorscale": [
             [
              0,
              "#0d0887"
             ],
             [
              0.1111111111111111,
              "#46039f"
             ],
             [
              0.2222222222222222,
              "#7201a8"
             ],
             [
              0.3333333333333333,
              "#9c179e"
             ],
             [
              0.4444444444444444,
              "#bd3786"
             ],
             [
              0.5555555555555556,
              "#d8576b"
             ],
             [
              0.6666666666666666,
              "#ed7953"
             ],
             [
              0.7777777777777778,
              "#fb9f3a"
             ],
             [
              0.8888888888888888,
              "#fdca26"
             ],
             [
              1,
              "#f0f921"
             ]
            ],
            "type": "surface"
           }
          ],
          "table": [
           {
            "cells": {
             "fill": {
              "color": "#EBF0F8"
             },
             "line": {
              "color": "white"
             }
            },
            "header": {
             "fill": {
              "color": "#C8D4E3"
             },
             "line": {
              "color": "white"
             }
            },
            "type": "table"
           }
          ]
         },
         "layout": {
          "annotationdefaults": {
           "arrowcolor": "#2a3f5f",
           "arrowhead": 0,
           "arrowwidth": 1
          },
          "autotypenumbers": "strict",
          "coloraxis": {
           "colorbar": {
            "outlinewidth": 0,
            "ticks": ""
           }
          },
          "colorscale": {
           "diverging": [
            [
             0,
             "#8e0152"
            ],
            [
             0.1,
             "#c51b7d"
            ],
            [
             0.2,
             "#de77ae"
            ],
            [
             0.3,
             "#f1b6da"
            ],
            [
             0.4,
             "#fde0ef"
            ],
            [
             0.5,
             "#f7f7f7"
            ],
            [
             0.6,
             "#e6f5d0"
            ],
            [
             0.7,
             "#b8e186"
            ],
            [
             0.8,
             "#7fbc41"
            ],
            [
             0.9,
             "#4d9221"
            ],
            [
             1,
             "#276419"
            ]
           ],
           "sequential": [
            [
             0,
             "#0d0887"
            ],
            [
             0.1111111111111111,
             "#46039f"
            ],
            [
             0.2222222222222222,
             "#7201a8"
            ],
            [
             0.3333333333333333,
             "#9c179e"
            ],
            [
             0.4444444444444444,
             "#bd3786"
            ],
            [
             0.5555555555555556,
             "#d8576b"
            ],
            [
             0.6666666666666666,
             "#ed7953"
            ],
            [
             0.7777777777777778,
             "#fb9f3a"
            ],
            [
             0.8888888888888888,
             "#fdca26"
            ],
            [
             1,
             "#f0f921"
            ]
           ],
           "sequentialminus": [
            [
             0,
             "#0d0887"
            ],
            [
             0.1111111111111111,
             "#46039f"
            ],
            [
             0.2222222222222222,
             "#7201a8"
            ],
            [
             0.3333333333333333,
             "#9c179e"
            ],
            [
             0.4444444444444444,
             "#bd3786"
            ],
            [
             0.5555555555555556,
             "#d8576b"
            ],
            [
             0.6666666666666666,
             "#ed7953"
            ],
            [
             0.7777777777777778,
             "#fb9f3a"
            ],
            [
             0.8888888888888888,
             "#fdca26"
            ],
            [
             1,
             "#f0f921"
            ]
           ]
          },
          "colorway": [
           "#636efa",
           "#EF553B",
           "#00cc96",
           "#ab63fa",
           "#FFA15A",
           "#19d3f3",
           "#FF6692",
           "#B6E880",
           "#FF97FF",
           "#FECB52"
          ],
          "font": {
           "color": "#2a3f5f"
          },
          "geo": {
           "bgcolor": "white",
           "lakecolor": "white",
           "landcolor": "#E5ECF6",
           "showlakes": true,
           "showland": true,
           "subunitcolor": "white"
          },
          "hoverlabel": {
           "align": "left"
          },
          "hovermode": "closest",
          "mapbox": {
           "style": "light"
          },
          "paper_bgcolor": "white",
          "plot_bgcolor": "#E5ECF6",
          "polar": {
           "angularaxis": {
            "gridcolor": "white",
            "linecolor": "white",
            "ticks": ""
           },
           "bgcolor": "#E5ECF6",
           "radialaxis": {
            "gridcolor": "white",
            "linecolor": "white",
            "ticks": ""
           }
          },
          "scene": {
           "xaxis": {
            "backgroundcolor": "#E5ECF6",
            "gridcolor": "white",
            "gridwidth": 2,
            "linecolor": "white",
            "showbackground": true,
            "ticks": "",
            "zerolinecolor": "white"
           },
           "yaxis": {
            "backgroundcolor": "#E5ECF6",
            "gridcolor": "white",
            "gridwidth": 2,
            "linecolor": "white",
            "showbackground": true,
            "ticks": "",
            "zerolinecolor": "white"
           },
           "zaxis": {
            "backgroundcolor": "#E5ECF6",
            "gridcolor": "white",
            "gridwidth": 2,
            "linecolor": "white",
            "showbackground": true,
            "ticks": "",
            "zerolinecolor": "white"
           }
          },
          "shapedefaults": {
           "line": {
            "color": "#2a3f5f"
           }
          },
          "ternary": {
           "aaxis": {
            "gridcolor": "white",
            "linecolor": "white",
            "ticks": ""
           },
           "baxis": {
            "gridcolor": "white",
            "linecolor": "white",
            "ticks": ""
           },
           "bgcolor": "#E5ECF6",
           "caxis": {
            "gridcolor": "white",
            "linecolor": "white",
            "ticks": ""
           }
          },
          "title": {
           "x": 0.05
          },
          "xaxis": {
           "automargin": true,
           "gridcolor": "white",
           "linecolor": "white",
           "ticks": "",
           "title": {
            "standoff": 15
           },
           "zerolinecolor": "white",
           "zerolinewidth": 2
          },
          "yaxis": {
           "automargin": true,
           "gridcolor": "white",
           "linecolor": "white",
           "ticks": "",
           "title": {
            "standoff": 15
           },
           "zerolinecolor": "white",
           "zerolinewidth": 2
          }
         }
        },
        "title": {
         "text": "Time step = 2"
        }
       }
      },
      "text/html": [
       "<div>                            <div id=\"79c481b0-2358-4403-8690-b06aeb48b719\" class=\"plotly-graph-div\" style=\"height:525px; width:100%;\"></div>            <script type=\"text/javascript\">                require([\"plotly\"], function(Plotly) {                    window.PLOTLYENV=window.PLOTLYENV || {};                                    if (document.getElementById(\"79c481b0-2358-4403-8690-b06aeb48b719\")) {                    Plotly.newPlot(                        \"79c481b0-2358-4403-8690-b06aeb48b719\",                        [{\"hoverinfo\":\"text\",\"hovertext\":[\"gpu : 0\",\"gpu : 1\",\"gpu : 2\",\"gpu : 3\",\"gpu : 4\",\"gpu : 5\",\"gpu : 6\",\"gpu : 7\"],\"marker\":{\"color\":\"blue\",\"size\":10},\"mode\":\"markers\",\"x\":[0,0,1,1,0,0,1,1],\"y\":[0,1,0,1,0,1,0,1],\"z\":[0,0,0,0,1,1,1,1],\"type\":\"scatter3d\"},{\"hoverinfo\":\"text\",\"hovertext\":\"Chunk_id : 6\",\"line\":{\"color\":\"black\",\"width\":2},\"mode\":\"lines\",\"x\":[0,0],\"y\":[0,1],\"z\":[0,0],\"type\":\"scatter3d\"},{\"anchor\":\"tip\",\"showscale\":false,\"sizemode\":\"absolute\",\"sizeref\":0.2,\"u\":[0],\"v\":[1],\"w\":[0],\"x\":[0],\"y\":[1],\"z\":[0],\"type\":\"cone\"},{\"hoverinfo\":\"text\",\"hovertext\":\"Chunk_id : 1\",\"line\":{\"color\":\"black\",\"width\":2},\"mode\":\"lines\",\"x\":[0,1],\"y\":[0,0],\"z\":[0,0],\"type\":\"scatter3d\"},{\"anchor\":\"tip\",\"showscale\":false,\"sizemode\":\"absolute\",\"sizeref\":0.2,\"u\":[1],\"v\":[0],\"w\":[0],\"x\":[1],\"y\":[0],\"z\":[0],\"type\":\"cone\"},{\"hoverinfo\":\"text\",\"hovertext\":\"Chunk_id : 0\",\"line\":{\"color\":\"black\",\"width\":2},\"mode\":\"lines\",\"x\":[0,0],\"y\":[0,0],\"z\":[0,1],\"type\":\"scatter3d\"},{\"anchor\":\"tip\",\"showscale\":false,\"sizemode\":\"absolute\",\"sizeref\":0.2,\"u\":[0],\"v\":[0],\"w\":[1],\"x\":[0],\"y\":[0],\"z\":[1],\"type\":\"cone\"},{\"hoverinfo\":\"text\",\"hovertext\":\"Chunk_id : 7\",\"line\":{\"color\":\"black\",\"width\":2},\"mode\":\"lines\",\"x\":[0,0],\"y\":[1,0],\"z\":[0,0],\"type\":\"scatter3d\"},{\"anchor\":\"tip\",\"showscale\":false,\"sizemode\":\"absolute\",\"sizeref\":0.2,\"u\":[0],\"v\":[-1],\"w\":[0],\"x\":[0],\"y\":[0],\"z\":[0],\"type\":\"cone\"},{\"hoverinfo\":\"text\",\"hovertext\":\"Chunk_id : 3\",\"line\":{\"color\":\"black\",\"width\":2},\"mode\":\"lines\",\"x\":[1,0],\"y\":[0,0],\"z\":[0,0],\"type\":\"scatter3d\"},{\"anchor\":\"tip\",\"showscale\":false,\"sizemode\":\"absolute\",\"sizeref\":0.2,\"u\":[-1],\"v\":[0],\"w\":[0],\"x\":[0],\"y\":[0],\"z\":[0],\"type\":\"cone\"},{\"hoverinfo\":\"text\",\"hovertext\":\"Chunk_id : 14\",\"line\":{\"color\":\"black\",\"width\":2},\"mode\":\"lines\",\"x\":[0,0],\"y\":[0,0],\"z\":[1,0],\"type\":\"scatter3d\"},{\"anchor\":\"tip\",\"showscale\":false,\"sizemode\":\"absolute\",\"sizeref\":0.2,\"u\":[0],\"v\":[0],\"w\":[-1],\"x\":[0],\"y\":[0],\"z\":[0],\"type\":\"cone\"},{\"hoverinfo\":\"text\",\"hovertext\":\"Chunk_id : 7\",\"line\":{\"color\":\"black\",\"width\":2},\"mode\":\"lines\",\"x\":[0,0],\"y\":[1,0],\"z\":[0,0],\"type\":\"scatter3d\"},{\"anchor\":\"tip\",\"showscale\":false,\"sizemode\":\"absolute\",\"sizeref\":0.2,\"u\":[0],\"v\":[-1],\"w\":[0],\"x\":[0],\"y\":[0],\"z\":[0],\"type\":\"cone\"},{\"hoverinfo\":\"text\",\"hovertext\":\"Chunk_id : 1\",\"line\":{\"color\":\"black\",\"width\":2},\"mode\":\"lines\",\"x\":[0,1],\"y\":[1,1],\"z\":[0,0],\"type\":\"scatter3d\"},{\"anchor\":\"tip\",\"showscale\":false,\"sizemode\":\"absolute\",\"sizeref\":0.2,\"u\":[1],\"v\":[0],\"w\":[0],\"x\":[1],\"y\":[1],\"z\":[0],\"type\":\"cone\"},{\"hoverinfo\":\"text\",\"hovertext\":\"Chunk_id : 8\",\"line\":{\"color\":\"black\",\"width\":2},\"mode\":\"lines\",\"x\":[0,0],\"y\":[1,1],\"z\":[0,1],\"type\":\"scatter3d\"},{\"anchor\":\"tip\",\"showscale\":false,\"sizemode\":\"absolute\",\"sizeref\":0.2,\"u\":[0],\"v\":[0],\"w\":[1],\"x\":[0],\"y\":[1],\"z\":[1],\"type\":\"cone\"},{\"hoverinfo\":\"text\",\"hovertext\":\"Chunk_id : 6\",\"line\":{\"color\":\"black\",\"width\":2},\"mode\":\"lines\",\"x\":[0,0],\"y\":[0,1],\"z\":[0,0],\"type\":\"scatter3d\"},{\"anchor\":\"tip\",\"showscale\":false,\"sizemode\":\"absolute\",\"sizeref\":0.2,\"u\":[0],\"v\":[1],\"w\":[0],\"x\":[0],\"y\":[1],\"z\":[0],\"type\":\"cone\"},{\"hoverinfo\":\"text\",\"hovertext\":\"Chunk_id : 15\",\"line\":{\"color\":\"black\",\"width\":2},\"mode\":\"lines\",\"x\":[1,0],\"y\":[1,1],\"z\":[0,0],\"type\":\"scatter3d\"},{\"anchor\":\"tip\",\"showscale\":false,\"sizemode\":\"absolute\",\"sizeref\":0.2,\"u\":[-1],\"v\":[0],\"w\":[0],\"x\":[0],\"y\":[1],\"z\":[0],\"type\":\"cone\"},{\"hoverinfo\":\"text\",\"hovertext\":\"Chunk_id : 14\",\"line\":{\"color\":\"black\",\"width\":2},\"mode\":\"lines\",\"x\":[0,0],\"y\":[1,1],\"z\":[1,0],\"type\":\"scatter3d\"},{\"anchor\":\"tip\",\"showscale\":false,\"sizemode\":\"absolute\",\"sizeref\":0.2,\"u\":[0],\"v\":[0],\"w\":[-1],\"x\":[0],\"y\":[1],\"z\":[0],\"type\":\"cone\"},{\"hoverinfo\":\"text\",\"hovertext\":\"Chunk_id : 3\",\"line\":{\"color\":\"black\",\"width\":2},\"mode\":\"lines\",\"x\":[1,0],\"y\":[0,0],\"z\":[0,0],\"type\":\"scatter3d\"},{\"anchor\":\"tip\",\"showscale\":false,\"sizemode\":\"absolute\",\"sizeref\":0.2,\"u\":[-1],\"v\":[0],\"w\":[0],\"x\":[0],\"y\":[0],\"z\":[0],\"type\":\"cone\"},{\"hoverinfo\":\"text\",\"hovertext\":\"Chunk_id : 2\",\"line\":{\"color\":\"black\",\"width\":2},\"mode\":\"lines\",\"x\":[1,1],\"y\":[0,1],\"z\":[0,0],\"type\":\"scatter3d\"},{\"anchor\":\"tip\",\"showscale\":false,\"sizemode\":\"absolute\",\"sizeref\":0.2,\"u\":[0],\"v\":[1],\"w\":[0],\"x\":[1],\"y\":[1],\"z\":[0],\"type\":\"cone\"},{\"hoverinfo\":\"text\",\"hovertext\":\"Chunk_id : 8\",\"line\":{\"color\":\"black\",\"width\":2},\"mode\":\"lines\",\"x\":[1,1],\"y\":[0,0],\"z\":[0,1],\"type\":\"scatter3d\"},{\"anchor\":\"tip\",\"showscale\":false,\"sizemode\":\"absolute\",\"sizeref\":0.2,\"u\":[0],\"v\":[0],\"w\":[1],\"x\":[1],\"y\":[0],\"z\":[1],\"type\":\"cone\"},{\"hoverinfo\":\"text\",\"hovertext\":\"Chunk_id : 1\",\"line\":{\"color\":\"black\",\"width\":2},\"mode\":\"lines\",\"x\":[0,1],\"y\":[0,0],\"z\":[0,0],\"type\":\"scatter3d\"},{\"anchor\":\"tip\",\"showscale\":false,\"sizemode\":\"absolute\",\"sizeref\":0.2,\"u\":[1],\"v\":[0],\"w\":[0],\"x\":[1],\"y\":[0],\"z\":[0],\"type\":\"cone\"},{\"hoverinfo\":\"text\",\"hovertext\":\"Chunk_id : 3\",\"line\":{\"color\":\"black\",\"width\":2},\"mode\":\"lines\",\"x\":[1,1],\"y\":[1,0],\"z\":[0,0],\"type\":\"scatter3d\"},{\"anchor\":\"tip\",\"showscale\":false,\"sizemode\":\"absolute\",\"sizeref\":0.2,\"u\":[0],\"v\":[-1],\"w\":[0],\"x\":[1],\"y\":[0],\"z\":[0],\"type\":\"cone\"},{\"hoverinfo\":\"text\",\"hovertext\":\"Chunk_id : 13\",\"line\":{\"color\":\"black\",\"width\":2},\"mode\":\"lines\",\"x\":[1,1],\"y\":[0,0],\"z\":[1,0],\"type\":\"scatter3d\"},{\"anchor\":\"tip\",\"showscale\":false,\"sizemode\":\"absolute\",\"sizeref\":0.2,\"u\":[0],\"v\":[0],\"w\":[-1],\"x\":[1],\"y\":[0],\"z\":[0],\"type\":\"cone\"},{\"hoverinfo\":\"text\",\"hovertext\":\"Chunk_id : 15\",\"line\":{\"color\":\"black\",\"width\":2},\"mode\":\"lines\",\"x\":[1,0],\"y\":[1,1],\"z\":[0,0],\"type\":\"scatter3d\"},{\"anchor\":\"tip\",\"showscale\":false,\"sizemode\":\"absolute\",\"sizeref\":0.2,\"u\":[-1],\"v\":[0],\"w\":[0],\"x\":[0],\"y\":[1],\"z\":[0],\"type\":\"cone\"},{\"hoverinfo\":\"text\",\"hovertext\":\"Chunk_id : 3\",\"line\":{\"color\":\"black\",\"width\":2},\"mode\":\"lines\",\"x\":[1,1],\"y\":[1,0],\"z\":[0,0],\"type\":\"scatter3d\"},{\"anchor\":\"tip\",\"showscale\":false,\"sizemode\":\"absolute\",\"sizeref\":0.2,\"u\":[0],\"v\":[-1],\"w\":[0],\"x\":[1],\"y\":[0],\"z\":[0],\"type\":\"cone\"},{\"hoverinfo\":\"text\",\"hovertext\":\"Chunk_id : 9\",\"line\":{\"color\":\"black\",\"width\":2},\"mode\":\"lines\",\"x\":[1,1],\"y\":[1,1],\"z\":[0,1],\"type\":\"scatter3d\"},{\"anchor\":\"tip\",\"showscale\":false,\"sizemode\":\"absolute\",\"sizeref\":0.2,\"u\":[0],\"v\":[0],\"w\":[1],\"x\":[1],\"y\":[1],\"z\":[1],\"type\":\"cone\"},{\"hoverinfo\":\"text\",\"hovertext\":\"Chunk_id : 1\",\"line\":{\"color\":\"black\",\"width\":2},\"mode\":\"lines\",\"x\":[0,1],\"y\":[1,1],\"z\":[0,0],\"type\":\"scatter3d\"},{\"anchor\":\"tip\",\"showscale\":false,\"sizemode\":\"absolute\",\"sizeref\":0.2,\"u\":[1],\"v\":[0],\"w\":[0],\"x\":[1],\"y\":[1],\"z\":[0],\"type\":\"cone\"},{\"hoverinfo\":\"text\",\"hovertext\":\"Chunk_id : 2\",\"line\":{\"color\":\"black\",\"width\":2},\"mode\":\"lines\",\"x\":[1,1],\"y\":[0,1],\"z\":[0,0],\"type\":\"scatter3d\"},{\"anchor\":\"tip\",\"showscale\":false,\"sizemode\":\"absolute\",\"sizeref\":0.2,\"u\":[0],\"v\":[1],\"w\":[0],\"x\":[1],\"y\":[1],\"z\":[0],\"type\":\"cone\"},{\"hoverinfo\":\"text\",\"hovertext\":\"Chunk_id : 14\",\"line\":{\"color\":\"black\",\"width\":2},\"mode\":\"lines\",\"x\":[1,1],\"y\":[1,1],\"z\":[1,0],\"type\":\"scatter3d\"},{\"anchor\":\"tip\",\"showscale\":false,\"sizemode\":\"absolute\",\"sizeref\":0.2,\"u\":[0],\"v\":[0],\"w\":[-1],\"x\":[1],\"y\":[1],\"z\":[0],\"type\":\"cone\"},{\"hoverinfo\":\"text\",\"hovertext\":\"Chunk_id : 14\",\"line\":{\"color\":\"black\",\"width\":2},\"mode\":\"lines\",\"x\":[0,0],\"y\":[0,0],\"z\":[1,0],\"type\":\"scatter3d\"},{\"anchor\":\"tip\",\"showscale\":false,\"sizemode\":\"absolute\",\"sizeref\":0.2,\"u\":[0],\"v\":[0],\"w\":[-1],\"x\":[0],\"y\":[0],\"z\":[0],\"type\":\"cone\"},{\"hoverinfo\":\"text\",\"hovertext\":\"Chunk_id : 2\",\"line\":{\"color\":\"black\",\"width\":2},\"mode\":\"lines\",\"x\":[0,0],\"y\":[0,1],\"z\":[1,1],\"type\":\"scatter3d\"},{\"anchor\":\"tip\",\"showscale\":false,\"sizemode\":\"absolute\",\"sizeref\":0.2,\"u\":[0],\"v\":[1],\"w\":[0],\"x\":[0],\"y\":[1],\"z\":[1],\"type\":\"cone\"},{\"hoverinfo\":\"text\",\"hovertext\":\"Chunk_id : 4\",\"line\":{\"color\":\"black\",\"width\":2},\"mode\":\"lines\",\"x\":[0,1],\"y\":[0,0],\"z\":[1,1],\"type\":\"scatter3d\"},{\"anchor\":\"tip\",\"showscale\":false,\"sizemode\":\"absolute\",\"sizeref\":0.2,\"u\":[1],\"v\":[0],\"w\":[0],\"x\":[1],\"y\":[0],\"z\":[1],\"type\":\"cone\"},{\"hoverinfo\":\"text\",\"hovertext\":\"Chunk_id : 0\",\"line\":{\"color\":\"black\",\"width\":2},\"mode\":\"lines\",\"x\":[0,0],\"y\":[0,0],\"z\":[0,1],\"type\":\"scatter3d\"},{\"anchor\":\"tip\",\"showscale\":false,\"sizemode\":\"absolute\",\"sizeref\":0.2,\"u\":[0],\"v\":[0],\"w\":[1],\"x\":[0],\"y\":[0],\"z\":[1],\"type\":\"cone\"},{\"hoverinfo\":\"text\",\"hovertext\":\"Chunk_id : 7\",\"line\":{\"color\":\"black\",\"width\":2},\"mode\":\"lines\",\"x\":[0,0],\"y\":[1,0],\"z\":[1,1],\"type\":\"scatter3d\"},{\"anchor\":\"tip\",\"showscale\":false,\"sizemode\":\"absolute\",\"sizeref\":0.2,\"u\":[0],\"v\":[-1],\"w\":[0],\"x\":[0],\"y\":[0],\"z\":[1],\"type\":\"cone\"},{\"hoverinfo\":\"text\",\"hovertext\":\"Chunk_id : 15\",\"line\":{\"color\":\"black\",\"width\":2},\"mode\":\"lines\",\"x\":[1,0],\"y\":[0,0],\"z\":[1,1],\"type\":\"scatter3d\"},{\"anchor\":\"tip\",\"showscale\":false,\"sizemode\":\"absolute\",\"sizeref\":0.2,\"u\":[-1],\"v\":[0],\"w\":[0],\"x\":[0],\"y\":[0],\"z\":[1],\"type\":\"cone\"},{\"hoverinfo\":\"text\",\"hovertext\":\"Chunk_id : 14\",\"line\":{\"color\":\"black\",\"width\":2},\"mode\":\"lines\",\"x\":[0,0],\"y\":[1,1],\"z\":[1,0],\"type\":\"scatter3d\"},{\"anchor\":\"tip\",\"showscale\":false,\"sizemode\":\"absolute\",\"sizeref\":0.2,\"u\":[0],\"v\":[0],\"w\":[-1],\"x\":[0],\"y\":[1],\"z\":[0],\"type\":\"cone\"},{\"hoverinfo\":\"text\",\"hovertext\":\"Chunk_id : 7\",\"line\":{\"color\":\"black\",\"width\":2},\"mode\":\"lines\",\"x\":[0,0],\"y\":[1,0],\"z\":[1,1],\"type\":\"scatter3d\"},{\"anchor\":\"tip\",\"showscale\":false,\"sizemode\":\"absolute\",\"sizeref\":0.2,\"u\":[0],\"v\":[-1],\"w\":[0],\"x\":[0],\"y\":[0],\"z\":[1],\"type\":\"cone\"},{\"hoverinfo\":\"text\",\"hovertext\":\"Chunk_id : 4\",\"line\":{\"color\":\"black\",\"width\":2},\"mode\":\"lines\",\"x\":[0,1],\"y\":[1,1],\"z\":[1,1],\"type\":\"scatter3d\"},{\"anchor\":\"tip\",\"showscale\":false,\"sizemode\":\"absolute\",\"sizeref\":0.2,\"u\":[1],\"v\":[0],\"w\":[0],\"x\":[1],\"y\":[1],\"z\":[1],\"type\":\"cone\"},{\"hoverinfo\":\"text\",\"hovertext\":\"Chunk_id : 8\",\"line\":{\"color\":\"black\",\"width\":2},\"mode\":\"lines\",\"x\":[0,0],\"y\":[1,1],\"z\":[0,1],\"type\":\"scatter3d\"},{\"anchor\":\"tip\",\"showscale\":false,\"sizemode\":\"absolute\",\"sizeref\":0.2,\"u\":[0],\"v\":[0],\"w\":[1],\"x\":[0],\"y\":[1],\"z\":[1],\"type\":\"cone\"},{\"hoverinfo\":\"text\",\"hovertext\":\"Chunk_id : 2\",\"line\":{\"color\":\"black\",\"width\":2},\"mode\":\"lines\",\"x\":[0,0],\"y\":[0,1],\"z\":[1,1],\"type\":\"scatter3d\"},{\"anchor\":\"tip\",\"showscale\":false,\"sizemode\":\"absolute\",\"sizeref\":0.2,\"u\":[0],\"v\":[1],\"w\":[0],\"x\":[0],\"y\":[1],\"z\":[1],\"type\":\"cone\"},{\"hoverinfo\":\"text\",\"hovertext\":\"Chunk_id : 6\",\"line\":{\"color\":\"black\",\"width\":2},\"mode\":\"lines\",\"x\":[1,0],\"y\":[1,1],\"z\":[1,1],\"type\":\"scatter3d\"},{\"anchor\":\"tip\",\"showscale\":false,\"sizemode\":\"absolute\",\"sizeref\":0.2,\"u\":[-1],\"v\":[0],\"w\":[0],\"x\":[0],\"y\":[1],\"z\":[1],\"type\":\"cone\"},{\"hoverinfo\":\"text\",\"hovertext\":\"Chunk_id : 13\",\"line\":{\"color\":\"black\",\"width\":2},\"mode\":\"lines\",\"x\":[1,1],\"y\":[0,0],\"z\":[1,0],\"type\":\"scatter3d\"},{\"anchor\":\"tip\",\"showscale\":false,\"sizemode\":\"absolute\",\"sizeref\":0.2,\"u\":[0],\"v\":[0],\"w\":[-1],\"x\":[1],\"y\":[0],\"z\":[0],\"type\":\"cone\"},{\"hoverinfo\":\"text\",\"hovertext\":\"Chunk_id : 15\",\"line\":{\"color\":\"black\",\"width\":2},\"mode\":\"lines\",\"x\":[1,0],\"y\":[0,0],\"z\":[1,1],\"type\":\"scatter3d\"},{\"anchor\":\"tip\",\"showscale\":false,\"sizemode\":\"absolute\",\"sizeref\":0.2,\"u\":[-1],\"v\":[0],\"w\":[0],\"x\":[0],\"y\":[0],\"z\":[1],\"type\":\"cone\"},{\"hoverinfo\":\"text\",\"hovertext\":\"Chunk_id : 2\",\"line\":{\"color\":\"black\",\"width\":2},\"mode\":\"lines\",\"x\":[1,1],\"y\":[0,1],\"z\":[1,1],\"type\":\"scatter3d\"},{\"anchor\":\"tip\",\"showscale\":false,\"sizemode\":\"absolute\",\"sizeref\":0.2,\"u\":[0],\"v\":[1],\"w\":[0],\"x\":[1],\"y\":[1],\"z\":[1],\"type\":\"cone\"},{\"hoverinfo\":\"text\",\"hovertext\":\"Chunk_id : 8\",\"line\":{\"color\":\"black\",\"width\":2},\"mode\":\"lines\",\"x\":[1,1],\"y\":[0,0],\"z\":[0,1],\"type\":\"scatter3d\"},{\"anchor\":\"tip\",\"showscale\":false,\"sizemode\":\"absolute\",\"sizeref\":0.2,\"u\":[0],\"v\":[0],\"w\":[1],\"x\":[1],\"y\":[0],\"z\":[1],\"type\":\"cone\"},{\"hoverinfo\":\"text\",\"hovertext\":\"Chunk_id : 4\",\"line\":{\"color\":\"black\",\"width\":2},\"mode\":\"lines\",\"x\":[0,1],\"y\":[0,0],\"z\":[1,1],\"type\":\"scatter3d\"},{\"anchor\":\"tip\",\"showscale\":false,\"sizemode\":\"absolute\",\"sizeref\":0.2,\"u\":[1],\"v\":[0],\"w\":[0],\"x\":[1],\"y\":[0],\"z\":[1],\"type\":\"cone\"},{\"hoverinfo\":\"text\",\"hovertext\":\"Chunk_id : 7\",\"line\":{\"color\":\"black\",\"width\":2},\"mode\":\"lines\",\"x\":[1,1],\"y\":[1,0],\"z\":[1,1],\"type\":\"scatter3d\"},{\"anchor\":\"tip\",\"showscale\":false,\"sizemode\":\"absolute\",\"sizeref\":0.2,\"u\":[0],\"v\":[-1],\"w\":[0],\"x\":[1],\"y\":[0],\"z\":[1],\"type\":\"cone\"},{\"hoverinfo\":\"text\",\"hovertext\":\"Chunk_id : 14\",\"line\":{\"color\":\"black\",\"width\":2},\"mode\":\"lines\",\"x\":[1,1],\"y\":[1,1],\"z\":[1,0],\"type\":\"scatter3d\"},{\"anchor\":\"tip\",\"showscale\":false,\"sizemode\":\"absolute\",\"sizeref\":0.2,\"u\":[0],\"v\":[0],\"w\":[-1],\"x\":[1],\"y\":[1],\"z\":[0],\"type\":\"cone\"},{\"hoverinfo\":\"text\",\"hovertext\":\"Chunk_id : 6\",\"line\":{\"color\":\"black\",\"width\":2},\"mode\":\"lines\",\"x\":[1,0],\"y\":[1,1],\"z\":[1,1],\"type\":\"scatter3d\"},{\"anchor\":\"tip\",\"showscale\":false,\"sizemode\":\"absolute\",\"sizeref\":0.2,\"u\":[-1],\"v\":[0],\"w\":[0],\"x\":[0],\"y\":[1],\"z\":[1],\"type\":\"cone\"},{\"hoverinfo\":\"text\",\"hovertext\":\"Chunk_id : 7\",\"line\":{\"color\":\"black\",\"width\":2},\"mode\":\"lines\",\"x\":[1,1],\"y\":[1,0],\"z\":[1,1],\"type\":\"scatter3d\"},{\"anchor\":\"tip\",\"showscale\":false,\"sizemode\":\"absolute\",\"sizeref\":0.2,\"u\":[0],\"v\":[-1],\"w\":[0],\"x\":[1],\"y\":[0],\"z\":[1],\"type\":\"cone\"},{\"hoverinfo\":\"text\",\"hovertext\":\"Chunk_id : 9\",\"line\":{\"color\":\"black\",\"width\":2},\"mode\":\"lines\",\"x\":[1,1],\"y\":[1,1],\"z\":[0,1],\"type\":\"scatter3d\"},{\"anchor\":\"tip\",\"showscale\":false,\"sizemode\":\"absolute\",\"sizeref\":0.2,\"u\":[0],\"v\":[0],\"w\":[1],\"x\":[1],\"y\":[1],\"z\":[1],\"type\":\"cone\"},{\"hoverinfo\":\"text\",\"hovertext\":\"Chunk_id : 4\",\"line\":{\"color\":\"black\",\"width\":2},\"mode\":\"lines\",\"x\":[0,1],\"y\":[1,1],\"z\":[1,1],\"type\":\"scatter3d\"},{\"anchor\":\"tip\",\"showscale\":false,\"sizemode\":\"absolute\",\"sizeref\":0.2,\"u\":[1],\"v\":[0],\"w\":[0],\"x\":[1],\"y\":[1],\"z\":[1],\"type\":\"cone\"},{\"hoverinfo\":\"text\",\"hovertext\":\"Chunk_id : 2\",\"line\":{\"color\":\"black\",\"width\":2},\"mode\":\"lines\",\"x\":[1,1],\"y\":[0,1],\"z\":[1,1],\"type\":\"scatter3d\"},{\"anchor\":\"tip\",\"showscale\":false,\"sizemode\":\"absolute\",\"sizeref\":0.2,\"u\":[0],\"v\":[1],\"w\":[0],\"x\":[1],\"y\":[1],\"z\":[1],\"type\":\"cone\"}],                        {\"scene\":{\"aspectratio\":{\"x\":1,\"y\":1,\"z\":1},\"xaxis\":{\"range\":[-1,1.5],\"title\":{\"text\":\"X\"}},\"yaxis\":{\"range\":[-1,1.5],\"title\":{\"text\":\"Y\"}},\"zaxis\":{\"range\":[-1,1.5],\"title\":{\"text\":\"Z\"}}},\"title\":{\"text\":\"Time step = 2\"},\"template\":{\"data\":{\"histogram2dcontour\":[{\"type\":\"histogram2dcontour\",\"colorbar\":{\"outlinewidth\":0,\"ticks\":\"\"},\"colorscale\":[[0.0,\"#0d0887\"],[0.1111111111111111,\"#46039f\"],[0.2222222222222222,\"#7201a8\"],[0.3333333333333333,\"#9c179e\"],[0.4444444444444444,\"#bd3786\"],[0.5555555555555556,\"#d8576b\"],[0.6666666666666666,\"#ed7953\"],[0.7777777777777778,\"#fb9f3a\"],[0.8888888888888888,\"#fdca26\"],[1.0,\"#f0f921\"]]}],\"choropleth\":[{\"type\":\"choropleth\",\"colorbar\":{\"outlinewidth\":0,\"ticks\":\"\"}}],\"histogram2d\":[{\"type\":\"histogram2d\",\"colorbar\":{\"outlinewidth\":0,\"ticks\":\"\"},\"colorscale\":[[0.0,\"#0d0887\"],[0.1111111111111111,\"#46039f\"],[0.2222222222222222,\"#7201a8\"],[0.3333333333333333,\"#9c179e\"],[0.4444444444444444,\"#bd3786\"],[0.5555555555555556,\"#d8576b\"],[0.6666666666666666,\"#ed7953\"],[0.7777777777777778,\"#fb9f3a\"],[0.8888888888888888,\"#fdca26\"],[1.0,\"#f0f921\"]]}],\"heatmap\":[{\"type\":\"heatmap\",\"colorbar\":{\"outlinewidth\":0,\"ticks\":\"\"},\"colorscale\":[[0.0,\"#0d0887\"],[0.1111111111111111,\"#46039f\"],[0.2222222222222222,\"#7201a8\"],[0.3333333333333333,\"#9c179e\"],[0.4444444444444444,\"#bd3786\"],[0.5555555555555556,\"#d8576b\"],[0.6666666666666666,\"#ed7953\"],[0.7777777777777778,\"#fb9f3a\"],[0.8888888888888888,\"#fdca26\"],[1.0,\"#f0f921\"]]}],\"heatmapgl\":[{\"type\":\"heatmapgl\",\"colorbar\":{\"outlinewidth\":0,\"ticks\":\"\"},\"colorscale\":[[0.0,\"#0d0887\"],[0.1111111111111111,\"#46039f\"],[0.2222222222222222,\"#7201a8\"],[0.3333333333333333,\"#9c179e\"],[0.4444444444444444,\"#bd3786\"],[0.5555555555555556,\"#d8576b\"],[0.6666666666666666,\"#ed7953\"],[0.7777777777777778,\"#fb9f3a\"],[0.8888888888888888,\"#fdca26\"],[1.0,\"#f0f921\"]]}],\"contourcarpet\":[{\"type\":\"contourcarpet\",\"colorbar\":{\"outlinewidth\":0,\"ticks\":\"\"}}],\"contour\":[{\"type\":\"contour\",\"colorbar\":{\"outlinewidth\":0,\"ticks\":\"\"},\"colorscale\":[[0.0,\"#0d0887\"],[0.1111111111111111,\"#46039f\"],[0.2222222222222222,\"#7201a8\"],[0.3333333333333333,\"#9c179e\"],[0.4444444444444444,\"#bd3786\"],[0.5555555555555556,\"#d8576b\"],[0.6666666666666666,\"#ed7953\"],[0.7777777777777778,\"#fb9f3a\"],[0.8888888888888888,\"#fdca26\"],[1.0,\"#f0f921\"]]}],\"surface\":[{\"type\":\"surface\",\"colorbar\":{\"outlinewidth\":0,\"ticks\":\"\"},\"colorscale\":[[0.0,\"#0d0887\"],[0.1111111111111111,\"#46039f\"],[0.2222222222222222,\"#7201a8\"],[0.3333333333333333,\"#9c179e\"],[0.4444444444444444,\"#bd3786\"],[0.5555555555555556,\"#d8576b\"],[0.6666666666666666,\"#ed7953\"],[0.7777777777777778,\"#fb9f3a\"],[0.8888888888888888,\"#fdca26\"],[1.0,\"#f0f921\"]]}],\"mesh3d\":[{\"type\":\"mesh3d\",\"colorbar\":{\"outlinewidth\":0,\"ticks\":\"\"}}],\"scatter\":[{\"fillpattern\":{\"fillmode\":\"overlay\",\"size\":10,\"solidity\":0.2},\"type\":\"scatter\"}],\"parcoords\":[{\"type\":\"parcoords\",\"line\":{\"colorbar\":{\"outlinewidth\":0,\"ticks\":\"\"}}}],\"scatterpolargl\":[{\"type\":\"scatterpolargl\",\"marker\":{\"colorbar\":{\"outlinewidth\":0,\"ticks\":\"\"}}}],\"bar\":[{\"error_x\":{\"color\":\"#2a3f5f\"},\"error_y\":{\"color\":\"#2a3f5f\"},\"marker\":{\"line\":{\"color\":\"#E5ECF6\",\"width\":0.5},\"pattern\":{\"fillmode\":\"overlay\",\"size\":10,\"solidity\":0.2}},\"type\":\"bar\"}],\"scattergeo\":[{\"type\":\"scattergeo\",\"marker\":{\"colorbar\":{\"outlinewidth\":0,\"ticks\":\"\"}}}],\"scatterpolar\":[{\"type\":\"scatterpolar\",\"marker\":{\"colorbar\":{\"outlinewidth\":0,\"ticks\":\"\"}}}],\"histogram\":[{\"marker\":{\"pattern\":{\"fillmode\":\"overlay\",\"size\":10,\"solidity\":0.2}},\"type\":\"histogram\"}],\"scattergl\":[{\"type\":\"scattergl\",\"marker\":{\"colorbar\":{\"outlinewidth\":0,\"ticks\":\"\"}}}],\"scatter3d\":[{\"type\":\"scatter3d\",\"line\":{\"colorbar\":{\"outlinewidth\":0,\"ticks\":\"\"}},\"marker\":{\"colorbar\":{\"outlinewidth\":0,\"ticks\":\"\"}}}],\"scattermapbox\":[{\"type\":\"scattermapbox\",\"marker\":{\"colorbar\":{\"outlinewidth\":0,\"ticks\":\"\"}}}],\"scatterternary\":[{\"type\":\"scatterternary\",\"marker\":{\"colorbar\":{\"outlinewidth\":0,\"ticks\":\"\"}}}],\"scattercarpet\":[{\"type\":\"scattercarpet\",\"marker\":{\"colorbar\":{\"outlinewidth\":0,\"ticks\":\"\"}}}],\"carpet\":[{\"aaxis\":{\"endlinecolor\":\"#2a3f5f\",\"gridcolor\":\"white\",\"linecolor\":\"white\",\"minorgridcolor\":\"white\",\"startlinecolor\":\"#2a3f5f\"},\"baxis\":{\"endlinecolor\":\"#2a3f5f\",\"gridcolor\":\"white\",\"linecolor\":\"white\",\"minorgridcolor\":\"white\",\"startlinecolor\":\"#2a3f5f\"},\"type\":\"carpet\"}],\"table\":[{\"cells\":{\"fill\":{\"color\":\"#EBF0F8\"},\"line\":{\"color\":\"white\"}},\"header\":{\"fill\":{\"color\":\"#C8D4E3\"},\"line\":{\"color\":\"white\"}},\"type\":\"table\"}],\"barpolar\":[{\"marker\":{\"line\":{\"color\":\"#E5ECF6\",\"width\":0.5},\"pattern\":{\"fillmode\":\"overlay\",\"size\":10,\"solidity\":0.2}},\"type\":\"barpolar\"}],\"pie\":[{\"automargin\":true,\"type\":\"pie\"}]},\"layout\":{\"autotypenumbers\":\"strict\",\"colorway\":[\"#636efa\",\"#EF553B\",\"#00cc96\",\"#ab63fa\",\"#FFA15A\",\"#19d3f3\",\"#FF6692\",\"#B6E880\",\"#FF97FF\",\"#FECB52\"],\"font\":{\"color\":\"#2a3f5f\"},\"hovermode\":\"closest\",\"hoverlabel\":{\"align\":\"left\"},\"paper_bgcolor\":\"white\",\"plot_bgcolor\":\"#E5ECF6\",\"polar\":{\"bgcolor\":\"#E5ECF6\",\"angularaxis\":{\"gridcolor\":\"white\",\"linecolor\":\"white\",\"ticks\":\"\"},\"radialaxis\":{\"gridcolor\":\"white\",\"linecolor\":\"white\",\"ticks\":\"\"}},\"ternary\":{\"bgcolor\":\"#E5ECF6\",\"aaxis\":{\"gridcolor\":\"white\",\"linecolor\":\"white\",\"ticks\":\"\"},\"baxis\":{\"gridcolor\":\"white\",\"linecolor\":\"white\",\"ticks\":\"\"},\"caxis\":{\"gridcolor\":\"white\",\"linecolor\":\"white\",\"ticks\":\"\"}},\"coloraxis\":{\"colorbar\":{\"outlinewidth\":0,\"ticks\":\"\"}},\"colorscale\":{\"sequential\":[[0.0,\"#0d0887\"],[0.1111111111111111,\"#46039f\"],[0.2222222222222222,\"#7201a8\"],[0.3333333333333333,\"#9c179e\"],[0.4444444444444444,\"#bd3786\"],[0.5555555555555556,\"#d8576b\"],[0.6666666666666666,\"#ed7953\"],[0.7777777777777778,\"#fb9f3a\"],[0.8888888888888888,\"#fdca26\"],[1.0,\"#f0f921\"]],\"sequentialminus\":[[0.0,\"#0d0887\"],[0.1111111111111111,\"#46039f\"],[0.2222222222222222,\"#7201a8\"],[0.3333333333333333,\"#9c179e\"],[0.4444444444444444,\"#bd3786\"],[0.5555555555555556,\"#d8576b\"],[0.6666666666666666,\"#ed7953\"],[0.7777777777777778,\"#fb9f3a\"],[0.8888888888888888,\"#fdca26\"],[1.0,\"#f0f921\"]],\"diverging\":[[0,\"#8e0152\"],[0.1,\"#c51b7d\"],[0.2,\"#de77ae\"],[0.3,\"#f1b6da\"],[0.4,\"#fde0ef\"],[0.5,\"#f7f7f7\"],[0.6,\"#e6f5d0\"],[0.7,\"#b8e186\"],[0.8,\"#7fbc41\"],[0.9,\"#4d9221\"],[1,\"#276419\"]]},\"xaxis\":{\"gridcolor\":\"white\",\"linecolor\":\"white\",\"ticks\":\"\",\"title\":{\"standoff\":15},\"zerolinecolor\":\"white\",\"automargin\":true,\"zerolinewidth\":2},\"yaxis\":{\"gridcolor\":\"white\",\"linecolor\":\"white\",\"ticks\":\"\",\"title\":{\"standoff\":15},\"zerolinecolor\":\"white\",\"automargin\":true,\"zerolinewidth\":2},\"scene\":{\"xaxis\":{\"backgroundcolor\":\"#E5ECF6\",\"gridcolor\":\"white\",\"linecolor\":\"white\",\"showbackground\":true,\"ticks\":\"\",\"zerolinecolor\":\"white\",\"gridwidth\":2},\"yaxis\":{\"backgroundcolor\":\"#E5ECF6\",\"gridcolor\":\"white\",\"linecolor\":\"white\",\"showbackground\":true,\"ticks\":\"\",\"zerolinecolor\":\"white\",\"gridwidth\":2},\"zaxis\":{\"backgroundcolor\":\"#E5ECF6\",\"gridcolor\":\"white\",\"linecolor\":\"white\",\"showbackground\":true,\"ticks\":\"\",\"zerolinecolor\":\"white\",\"gridwidth\":2}},\"shapedefaults\":{\"line\":{\"color\":\"#2a3f5f\"}},\"annotationdefaults\":{\"arrowcolor\":\"#2a3f5f\",\"arrowhead\":0,\"arrowwidth\":1},\"geo\":{\"bgcolor\":\"white\",\"landcolor\":\"#E5ECF6\",\"subunitcolor\":\"white\",\"showland\":true,\"showlakes\":true,\"lakecolor\":\"white\"},\"title\":{\"x\":0.05},\"mapbox\":{\"style\":\"light\"}}}},                        {\"responsive\": true}                    ).then(function(){\n",
       "                            \n",
       "var gd = document.getElementById('79c481b0-2358-4403-8690-b06aeb48b719');\n",
       "var x = new MutationObserver(function (mutations, observer) {{\n",
       "        var display = window.getComputedStyle(gd).display;\n",
       "        if (!display || display === 'none') {{\n",
       "            console.log([gd, 'removed!']);\n",
       "            Plotly.purge(gd);\n",
       "            observer.disconnect();\n",
       "        }}\n",
       "}});\n",
       "\n",
       "// Listen for the removal of the full notebook cells\n",
       "var notebookContainer = gd.closest('#notebook-container');\n",
       "if (notebookContainer) {{\n",
       "    x.observe(notebookContainer, {childList: true});\n",
       "}}\n",
       "\n",
       "// Listen for the clearing of the current output cell\n",
       "var outputEl = gd.closest('.output');\n",
       "if (outputEl) {{\n",
       "    x.observe(outputEl, {childList: true});\n",
       "}}\n",
       "\n",
       "                        })                };                });            </script>        </div>"
      ]
     },
     "metadata": {},
     "output_type": "display_data"
    }
   ],
   "source": [
    "import plotly.graph_objects as go\n",
    "import numpy as np\n",
    "import networkx as nx\n",
    "import ipywidgets as widgets\n",
    "from IPython.display import display, clear_output\n",
    "\n",
    "length, width, depth = 2, 2, 2\n",
    "\n",
    "# Function to create the hypercube graph\n",
    "def create_hypercube():\n",
    "    G = nx.DiGraph()\n",
    "    node_number = 0\n",
    "    for k in range(depth):  \n",
    "        for i in range(length):  \n",
    "            for j in range(width):  \n",
    "                new_edge = (i, j, k)\n",
    "                G.add_node(new_edge, label=f\"gpu : {node_number}\")\n",
    "                node_number += 1\n",
    "\n",
    "                if (j + 1 < width):\n",
    "                    G.add_edge(new_edge, (i, j + 1, k))  \n",
    "                    G.add_edge((i, j + 1, k), new_edge)  \n",
    "\n",
    "            if (i + 1 < length):\n",
    "                for j in range(width):\n",
    "                    G.add_edge((i, j, k), (i + 1, j, k))  \n",
    "                    G.add_edge((i + 1, j, k), (i, j, k))  \n",
    "\n",
    "        if (k + 1 < depth):\n",
    "            for i in range(length):\n",
    "                for j in range(width):\n",
    "                    G.add_edge((i, j, k), (i, j, k + 1))  \n",
    "                    G.add_edge((i, j, k + 1), (i, j, k))  \n",
    "\n",
    "    return G\n",
    "\n",
    "# Function to create scatter plot for nodes and edges per timestep\n",
    "def update_plot(timestep):\n",
    "    clear_output(wait=True)\n",
    "    display(prev_button, next_button)\n",
    "\n",
    "    # Initialize the graph data for timestep changes\n",
    "    G = create_hypercube()\n",
    "    nodes = np.array(G.nodes())\n",
    "\n",
    "    time_data = timestep_data[f'{timestep}']\n",
    "    \n",
    "    # Nodes scatter plot\n",
    "    scatter = go.Scatter3d(\n",
    "        x=nodes[:, 0], y=nodes[:, 1], z=nodes[:, 2],\n",
    "        mode='markers',\n",
    "        marker=dict(size=10, color='blue'),\n",
    "        hoverinfo='text',\n",
    "        hovertext=[f\"gpu : {gpu_id}\" for gpu_id in range(length * width * depth)]\n",
    "    )\n",
    "    \n",
    "    # Edges and arrows\n",
    "    edges = []\n",
    "    for gpu_id, gpu_data in time_data.items():\n",
    "        for tb_id, tb_data in gpu_data.items():\n",
    "            if (tb_data['pkt_type'] == 's'):\n",
    "                edges.append((int(gpu_id), int(tb_data['tb_gpuid_send']), int(tb_data['chunk_id'])))\n",
    "            elif (tb_data['pkt_type'] == 'r'):\n",
    "                edges.append((int(tb_data['tb_gpuid_recv']), int(gpu_id), int(tb_data['chunk_id'])))\n",
    "\n",
    "    arrows = []\n",
    "    for edge in edges:\n",
    "        start_node = nodes[edge[0]]\n",
    "        end_node = nodes[edge[1]]\n",
    "        chunk_id = edge[2]\n",
    "\n",
    "        line = go.Scatter3d(\n",
    "            x=[start_node[0], end_node[0]],\n",
    "            y=[start_node[1], end_node[1]],\n",
    "            z=[start_node[2], end_node[2]],\n",
    "            mode='lines',\n",
    "            line=dict(color='black', width=2),\n",
    "            hoverinfo='text',\n",
    "            hovertext=f\"Chunk_id : {chunk_id}\"\n",
    "        )\n",
    "        \n",
    "        arrow = go.Cone(\n",
    "            x=[end_node[0]], y=[end_node[1]], z=[end_node[2]],\n",
    "            u=[end_node[0] - start_node[0]],\n",
    "            v=[end_node[1] - start_node[1]],\n",
    "            w=[end_node[2] - start_node[2]],\n",
    "            sizemode=\"absolute\",\n",
    "            sizeref=0.2,\n",
    "            anchor=\"tip\",\n",
    "            showscale=False,\n",
    "            colorbar=None,\n",
    "            colorscale=None\n",
    "        )\n",
    "        arrows.append(line)\n",
    "        arrows.append(arrow)\n",
    "\n",
    "    # 3D Plot Layout\n",
    "    layout = go.Layout(\n",
    "        title=f\"Time step = {timestep}\",\n",
    "        scene=dict(\n",
    "            xaxis=dict(range=[-1, 1.5], title='X'),\n",
    "            yaxis=dict(range=[-1, 1.5], title='Y'),\n",
    "            zaxis=dict(range=[-1, 1.5], title='Z'),\n",
    "            aspectratio=dict(x=1, y=1, z=1)\n",
    "        )\n",
    "    )\n",
    "\n",
    "    fig = go.Figure(data=[scatter] + arrows, layout=layout)\n",
    "    fig.show()\n",
    "\n",
    "# Timestep navigation\n",
    "current_timestep = 0\n",
    "max_timestep = len(timestep_data) - 1\n",
    "\n",
    "def on_next_button_clicked(b):\n",
    "    global current_timestep\n",
    "    if current_timestep < max_timestep:\n",
    "        current_timestep += 1\n",
    "        update_plot(current_timestep)\n",
    "\n",
    "def on_prev_button_clicked(b):\n",
    "    global current_timestep\n",
    "    if current_timestep > 0:\n",
    "        current_timestep -= 1\n",
    "        update_plot(current_timestep)\n",
    "\n",
    "# Create Next and Previous buttons\n",
    "next_button = widgets.Button(description=\"Next\")\n",
    "prev_button = widgets.Button(description=\"Previous\")\n",
    "\n",
    "# Bind button clicks to functions\n",
    "next_button.on_click(on_next_button_clicked)\n",
    "prev_button.on_click(on_prev_button_clicked)\n",
    "\n",
    "# Display buttons and initial plot\n",
    "display(prev_button, next_button)\n",
    "update_plot(current_timestep)"
   ]
  }
 ],
 "metadata": {
  "kernelspec": {
   "display_name": "BCARS3",
   "language": "python",
   "name": "python3"
  },
  "language_info": {
   "codemirror_mode": {
    "name": "ipython",
    "version": 3
   },
   "file_extension": ".py",
   "mimetype": "text/x-python",
   "name": "python",
   "nbconvert_exporter": "python",
   "pygments_lexer": "ipython3",
   "version": "3.8.18"
  }
 },
 "nbformat": 4,
 "nbformat_minor": 2
}
